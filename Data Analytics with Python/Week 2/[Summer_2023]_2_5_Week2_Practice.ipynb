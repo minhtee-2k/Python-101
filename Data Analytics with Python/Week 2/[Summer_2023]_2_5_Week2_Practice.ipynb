{
  "nbformat": 4,
  "nbformat_minor": 0,
  "metadata": {
    "colab": {
      "provenance": [],
      "collapsed_sections": [
        "lvdUOxiTNn0a",
        "5W20xmy7VNl3",
        "EIlj5HVhYAzf",
        "PnhMU-AuY-fh",
        "dRXgJA52m2Hy",
        "4uzn3JCl6SdS",
        "zU67zNhF3g1x",
        "kCjioTN1_PjN",
        "pvoXrl4iQxSC",
        "wa0dSSl6RPFU",
        "UHQsI-KuU-5b",
        "DhNJOsFgbE4Z",
        "4vkq4H7-goDi",
        "9OYjYjRDkoYd"
      ],
      "toc_visible": true
    },
    "kernelspec": {
      "name": "python3",
      "display_name": "Python 3"
    }
  },
  "cells": [
    {
      "cell_type": "markdown",
      "metadata": {
        "id": "kV20HhTUDaYw"
      },
      "source": [
        "# Basic Python\n",
        "\n",
        "![](https://www.testbytes.net/wp-content/uploads/2019/06/Untitled-13-300x281.png)\n",
        "\n",
        "\n",
        "Congratulations on finishing the first part on basic Python! Now let's move on to some more basic concepts of Python to better our understanding of Python. Again, if you're a first-time coder, you may want to check out these \"[Python for Non-Programmers](https://wiki.python.org/moin/BeginnersGuide/NonProgrammers)\" learning resources.\n",
        "\n",
        "For this second session, we will revise these materials:\n",
        "\n",
        "1. Dictionaries"
      ]
    },
    {
      "cell_type": "markdown",
      "metadata": {
        "id": "IL_Vr0T5v4fv"
      },
      "source": [
        "## 1. Dictionaries\n",
        "\n",
        "![](data:image/jpeg;base64,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)\n",
        "\n",
        "Dictionaries are a built-in Python data structure for mapping **keys** to **values**.\n",
        "\n",
        "\n"
      ]
    },
    {
      "cell_type": "markdown",
      "metadata": {
        "id": "1JfM5ZwzLOIK"
      },
      "source": [
        "### 1. Syntax\n",
        "\n",
        "To define a Dictionary, we use curly braces `{}`\n"
      ]
    },
    {
      "cell_type": "code",
      "metadata": {
        "id": "pAwSQcvaYOqG"
      },
      "source": [
        "# Let's run the code cell to see how we define a dictionary in Python\n",
        "numbers = {'one':1, 'two':2, 'three':3}\n",
        "numbers"
      ],
      "execution_count": null,
      "outputs": []
    },
    {
      "cell_type": "markdown",
      "metadata": {
        "id": "dCLfL7OTY6ud"
      },
      "source": [
        "In this case `'one'`, `'two'`, and `'three'` are the **keys**, and 1, 2 and 3 are their corresponding **values**.\n",
        "\n",
        "⚠️ **NOTE**\n",
        "\n",
        "Values are accessed via square bracket syntax `[]` similar to indexing into lists and strings."
      ]
    },
    {
      "cell_type": "code",
      "metadata": {
        "id": "NVN-ajn5Y7FK"
      },
      "source": [
        "# Let's get the value that corresponds to the key 'two'\n",
        "# Your code here"
      ],
      "execution_count": null,
      "outputs": []
    },
    {
      "cell_type": "markdown",
      "metadata": {
        "id": "IR3IidV5ZecA"
      },
      "source": [
        "⚠️ **NOTE**\n",
        "\n",
        "We can use the same syntax to add another `key-value` pair"
      ]
    },
    {
      "cell_type": "code",
      "metadata": {
        "id": "RYkFYLWmZlhx"
      },
      "source": [
        "# Let's add a new key-value pair to our dictionary\n",
        "# Add four: 4 into our dictionary\n",
        "# Your code here"
      ],
      "execution_count": null,
      "outputs": []
    },
    {
      "cell_type": "markdown",
      "metadata": {
        "id": "_Sn4q_HhaWN3"
      },
      "source": [
        "⚠️ **NOTE**\n",
        "\n",
        "We can also use that same syntax to change the value of an existing key"
      ]
    },
    {
      "cell_type": "code",
      "metadata": {
        "id": "feyizBpbagWU"
      },
      "source": [
        "# Let's change the value of our key 'one' into 'Pluto'\n",
        "# Your code here\n"
      ],
      "execution_count": null,
      "outputs": []
    },
    {
      "cell_type": "markdown",
      "metadata": {
        "id": "iHGXAotBfHGl"
      },
      "source": [
        "### 2. Methods\n",
        "\n",
        "Python has a set of built-in methods that are very useful! A full list of methods with examples can be found here.\n",
        "https://www.w3schools.com/python/python_ref_dictionary.asp\n",
        "\n",
        "For example, we can access a collection of all the keys or all the values with **`dict.keys()`** and **`dict.values()`**, respectively."
      ]
    },
    {
      "cell_type": "code",
      "metadata": {
        "id": "UeXQ_Njnfo9j"
      },
      "source": [
        "car = {\n",
        "  \"brand\": \"VinFast\",\n",
        "  \"model\": \"Vf e34\",\n",
        "  \"year\": 2021\n",
        "}\n",
        "\n",
        "# Let's try to print out all the keys\n",
        "# Your code here"
      ],
      "execution_count": null,
      "outputs": []
    },
    {
      "cell_type": "code",
      "metadata": {
        "id": "-FN4fUsJgFit"
      },
      "source": [
        "# ..and all the values\n",
        "# Your code here\n"
      ],
      "execution_count": null,
      "outputs": []
    },
    {
      "cell_type": "markdown",
      "metadata": {
        "id": "FznSu_mNf9j8"
      },
      "source": [
        "`dict.items()` returns a **list** containing a **tuple** for each key value pair\n",
        "\n",
        "(In Python, an **item** refers to a `key_value` pair)"
      ]
    },
    {
      "cell_type": "code",
      "metadata": {
        "id": "cqJ0ojEXjBbm"
      },
      "source": [
        "x = car.items()\n",
        "print(x)"
      ],
      "execution_count": null,
      "outputs": []
    },
    {
      "cell_type": "markdown",
      "metadata": {
        "id": "E3raDi6tkl-P"
      },
      "source": [
        "### 1. Dictionary of synonyms\n",
        "You are given a dictionary consisting of word pairs. Every word is a synonym the other word in its pair. All the words in the dictionary are different.\n",
        "\n",
        "After the dictionary there's one more word given. Find a synonym for him.\n",
        "\n",
        "**Example input**:\n",
        "```\n",
        "3\n",
        "Hello Hi\n",
        "Bye Goodbye\n",
        "List Array\n",
        "Goodbye\n",
        "```\n",
        "\n",
        "**Output**:\n",
        "```\n",
        "Bye\n",
        "```"
      ]
    },
    {
      "cell_type": "code",
      "metadata": {
        "id": "6sBE3qg9ny8j"
      },
      "source": [
        "# YOUR CODE HERE\n"
      ],
      "execution_count": null,
      "outputs": []
    },
    {
      "cell_type": "markdown",
      "metadata": {
        "id": "f2As1O4Anx6Q"
      },
      "source": [
        "### 3. The most frequent word\n",
        "\n",
        "Given the text: the first line contains the number of lines, then given the lines of words. Print the word in the text that occurs most often. If there are many such words, print the one that is less in the alphabetical order.\n",
        "\n",
        "**Example**:\n",
        "```\n",
        "1\n",
        "apple orange banana banana orange\n",
        "```\n",
        "**Output**:\n",
        "```\n",
        "banana\n",
        "```"
      ]
    },
    {
      "cell_type": "markdown",
      "metadata": {
        "id": "FhaC9hWvn7Dx"
      },
      "source": [
        "### 2. Frequency analysis\n",
        "\n",
        "Given a number n, followed by n lines of text, print all words encountered in the text, one per line. The words should be sorted in descending order according to their number of occurrences in the text, and all words with the same frequency should be printed in lexicographical order.\n",
        "\n",
        "***Hint***. After you create a dictionary of the words and their frequencies, you would like to sort it according to the frequencies. This can be achieved if you create a list whose elements are tuples of two elements: the frequency of occurrence of a word and the word itself. For example, [(2, 'hi'), (1, 'what'), (3, 'is')]. Then the standard list sort will sort a list of tuples, with the tuples compared by the first element, and if these are equal, by the second element. This is **nearly** what is required in the problem.\n",
        "\n",
        "**Example input**:\n",
        "\n",
        "```\n",
        "9\n",
        "hi\n",
        "hi\n",
        "what is your name\n",
        "my name is bond\n",
        "james bond\n",
        "my name is damme\n",
        "van damme\n",
        "claude van damme\n",
        "jean claude van damme\n",
        "```\n",
        "\n",
        "**Output**:\n",
        "```\n",
        "damme\n",
        "is\n",
        "name\n",
        "van\n",
        "bond\n",
        "claude\n",
        "hi\n",
        "my\n",
        "james\n",
        "jean\n",
        "what\n",
        "your\n",
        "```\n"
      ]
    },
    {
      "cell_type": "code",
      "metadata": {
        "id": "B52MH_fpn6Uk"
      },
      "source": [
        "# YOUR CODE HERE\n"
      ],
      "execution_count": null,
      "outputs": []
    },
    {
      "cell_type": "markdown",
      "metadata": {
        "id": "pZ8nYmATaDMN"
      },
      "source": [
        "## While...loop\n",
        "\n",
        "With the while loop we can execute a set of statements as long as a condition is ```True```."
      ]
    },
    {
      "cell_type": "markdown",
      "metadata": {
        "id": "EpGImWRzl-UC"
      },
      "source": [
        "<img src=\"https://i.pinimg.com/474x/5a/39/38/5a393829f1825fbb3feda8efd914b2d2.jpg\" width=250>"
      ]
    },
    {
      "cell_type": "markdown",
      "metadata": {
        "id": "8GKRPEWPa1Cw"
      },
      "source": [
        "### 1. The length of the sequence\n",
        "\n",
        "Given a sequence of non-negative integers, where each number is written in a separate line.\n",
        "\n",
        "Determine the length of the sequence, where the sequence ends when the integer is equal to 0.\n",
        "\n",
        "Print the length of the sequence (not counting the integer 0). The numbers following the number 0 should be omitted."
      ]
    },
    {
      "cell_type": "code",
      "metadata": {
        "id": "M-RM_a2eawCM"
      },
      "source": [
        "# YOUR CODE HERE\n"
      ],
      "execution_count": null,
      "outputs": []
    },
    {
      "cell_type": "markdown",
      "metadata": {
        "id": "BL6epsDFaku3"
      },
      "source": [
        "### 2. Morning jog\n",
        "\n",
        "As a future athlete you just started your practice for an upcoming event. Given that on the first day you run x miles, and by the event you must be able to run y miles.\n",
        "\n",
        "Calculate the number of days required for you to finally reach the required distance for the event, if you increases your distance each day by 10% from the previous day.\n",
        "\n",
        "Print one integer representing the number of days to reach the required distance."
      ]
    },
    {
      "cell_type": "code",
      "metadata": {
        "id": "UoXp9Wq9b1Wu"
      },
      "source": [
        "# YOUR CODE HERE\n"
      ],
      "execution_count": null,
      "outputs": []
    },
    {
      "cell_type": "markdown",
      "metadata": {
        "id": "SZEmS5E7crEX"
      },
      "source": [
        "## Set\n",
        "\n",
        "A set is an **unordered** collection of items. Every set **element is unique** (no duplicates) and must be **immutable** (cannot be changed)."
      ]
    },
    {
      "cell_type": "markdown",
      "metadata": {
        "id": "P8MRKCeWdGQ2"
      },
      "source": [
        "### 1. The number of equal numbers\n",
        "Given two lists of numbers. Count how many unique numbers occur in both of them."
      ]
    },
    {
      "cell_type": "code",
      "metadata": {
        "id": "sYXfv-ISdQP1"
      },
      "source": [
        "# YOUR CODE HERE\n"
      ],
      "execution_count": null,
      "outputs": []
    },
    {
      "cell_type": "markdown",
      "metadata": {
        "id": "iODa0VxcdTUY"
      },
      "source": [
        "### 2. Has the number been encountered before\n",
        "\n",
        "Given a sequence of numbers, determine if the next number has already been encountered. For each number, print the word YES (in a separate line) if this number has already been encountered, and print NO, if it has not already been encountered.\n",
        "\n",
        "HINT: https://www.geeksforgeeks.org/set-add-python/"
      ]
    },
    {
      "cell_type": "code",
      "metadata": {
        "id": "DiKrFCSufTRi"
      },
      "source": [
        "# YOUR CODE HERE\n",
        "seen = set()\n"
      ],
      "execution_count": null,
      "outputs": []
    },
    {
      "cell_type": "markdown",
      "metadata": {
        "id": "Nae4t2r1lZdN"
      },
      "source": [
        "# The End\n",
        "\n",
        "You've finished the 2nd weekly coding exercise! Congrats!\n",
        "\n",
        "Happy Pythoning!\n",
        "\n",
        "![happy_coding.jpeg](data:image/jpeg;base64,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)"
      ]
    }
  ]
}