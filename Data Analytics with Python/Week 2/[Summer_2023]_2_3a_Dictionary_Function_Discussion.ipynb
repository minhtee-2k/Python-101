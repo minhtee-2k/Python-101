{
  "nbformat": 4,
  "nbformat_minor": 0,
  "metadata": {
    "colab": {
      "provenance": []
    },
    "kernelspec": {
      "name": "python3",
      "display_name": "Python 3"
    },
    "language_info": {
      "name": "python"
    }
  },
  "cells": [
    {
      "cell_type": "markdown",
      "metadata": {
        "id": "x23ssx_1WxUo"
      },
      "source": [
        "# Discussion 1\n",
        "\n",
        "Discuss the difference between lists and dictionaries.\n",
        "\n",
        "**Show your discussion answer on the jam board**\n",
        "\n"
      ]
    },
    {
      "cell_type": "code",
      "metadata": {
        "id": "5Kj7vPKfMx-J"
      },
      "source": [
        "L = [1,2,3,4,5]\n",
        "D = {1:'one', 2:'two'}"
      ],
      "execution_count": null,
      "outputs": []
    },
    {
      "cell_type": "code",
      "metadata": {
        "id": "scjWGA-eM3G2"
      },
      "source": [
        "L[1] = 'two'"
      ],
      "execution_count": null,
      "outputs": []
    },
    {
      "cell_type": "code",
      "metadata": {
        "colab": {
          "base_uri": "https://localhost:8080/"
        },
        "id": "DMXSXYeuNAVt",
        "outputId": "b34dfeb0-391c-4748-bcd7-42e58472758e"
      },
      "source": [
        "L"
      ],
      "execution_count": null,
      "outputs": [
        {
          "output_type": "execute_result",
          "data": {
            "text/plain": [
              "[1, 'two', 3, 4, 5]"
            ]
          },
          "metadata": {
            "tags": []
          },
          "execution_count": 4
        }
      ]
    },
    {
      "cell_type": "code",
      "metadata": {
        "id": "BsCrg55QM777"
      },
      "source": [
        "D[1] = 'two'"
      ],
      "execution_count": null,
      "outputs": []
    },
    {
      "cell_type": "code",
      "metadata": {
        "colab": {
          "base_uri": "https://localhost:8080/"
        },
        "id": "l2UG9ye5NBLi",
        "outputId": "ceda5a87-32fb-44ca-f29d-16b41571ad49"
      },
      "source": [
        "D"
      ],
      "execution_count": null,
      "outputs": [
        {
          "output_type": "execute_result",
          "data": {
            "text/plain": [
              "{1: 'two', 2: 'two'}"
            ]
          },
          "metadata": {
            "tags": []
          },
          "execution_count": 5
        }
      ]
    },
    {
      "cell_type": "markdown",
      "metadata": {
        "id": "h_38TcJeQt-Z"
      },
      "source": [
        "# Discussion 2\n",
        "\n",
        "Given the following list:\n",
        "\n",
        "```\n",
        "dish = [['Meditaranean', 'paella'], ['Italian', 'pizza'], ['USA','hamburgers'], ['China', 'dumplings'], ['British', \"fish'n'chips\"]]\n",
        "```\n",
        "\n",
        "\n",
        "And this following dictionary:\n",
        "\n",
        "```\n",
        "dish = {'Meditaranean': 'paella', 'Italian': 'pizza', 'USA': 'hamburgers', 'China': 'dumplings', 'British': \"fish'n'chips\"}\n",
        "```"
      ]
    },
    {
      "cell_type": "markdown",
      "metadata": {
        "id": "pmCY-MJvVPf4"
      },
      "source": [
        "If I were to ask you what country `hamburgers` belong to, which do you think would get the answer quicker, list or dictionary?"
      ]
    },
    {
      "cell_type": "markdown",
      "metadata": {
        "id": "GEpP7eFyWrla"
      },
      "source": [
        "**Show your answer here**"
      ]
    },
    {
      "cell_type": "code",
      "metadata": {
        "id": "NRARizhlLV-H"
      },
      "source": [],
      "execution_count": null,
      "outputs": []
    },
    {
      "cell_type": "markdown",
      "metadata": {
        "id": "Hz142kkndc0u"
      },
      "source": [
        "# Discussion 3\n",
        "\n",
        "Let's review some of our dictionary basic syntax.\n",
        "\n",
        "1. Create a dictionary:\n",
        "\n",
        "```\n",
        "dish = {'Meditaranean': 'paella', 'Italian': 'pizza', 'USA': 'hamburgers', 'China': 'dumplings', 'British': \"fish'n'chips\"}\n",
        "\n",
        "```\n",
        "\n",
        "2. What is the food that is associated with _Italian_? To be more precise, access the value of the key `Italian`.\n",
        "\n",
        "3. Kibbeh is the national food of Meditaranean instead of paella. Can you change the value belong to the key `Meditaranean` from `paella` to `kibbeh`?\n",
        "\n",
        "4. Let's add another country - food pair into our `dish` dictionary: Korean - Kimchi.\n",
        "\n",
        "5. Get all the countries in your dictionary.\n",
        "6. Get all the dishes in your dictionary.\n",
        "7. Can you check if we have Japan in our dictionary?"
      ]
    },
    {
      "cell_type": "code",
      "metadata": {
        "id": "p2RAND_UhXwg"
      },
      "source": [
        "# Your code here\n",
        "dish = {'Meditaranean': 'paella', 'Italian': 'pizza', 'USA': 'hamburgers', 'China': 'dumplings', 'British': \"fish'n'chips\"}\n"
      ],
      "execution_count": null,
      "outputs": []
    },
    {
      "cell_type": "code",
      "metadata": {
        "id": "GARo7kSUT7ZD"
      },
      "source": [
        "dish['Meditaranean'] = 'kibbeh'"
      ],
      "execution_count": null,
      "outputs": []
    },
    {
      "cell_type": "code",
      "metadata": {
        "colab": {
          "base_uri": "https://localhost:8080/"
        },
        "id": "nSKBASiaUIKl",
        "outputId": "2284f4c3-7bb5-4100-adbd-0be9381af4ba"
      },
      "source": [
        "dish"
      ],
      "execution_count": null,
      "outputs": [
        {
          "output_type": "execute_result",
          "data": {
            "text/plain": [
              "{'British': \"fish'n'chips\",\n",
              " 'China': 'dumplings',\n",
              " 'Italian': 'pizza',\n",
              " 'Meditaranean': 'kibbeh',\n",
              " 'USA': 'hamburgers'}"
            ]
          },
          "metadata": {
            "tags": []
          },
          "execution_count": 8
        }
      ]
    },
    {
      "cell_type": "code",
      "metadata": {
        "id": "C_PAfK5RUVdN"
      },
      "source": [
        "dish['Korean'] = 'kimchi'"
      ],
      "execution_count": null,
      "outputs": []
    },
    {
      "cell_type": "code",
      "metadata": {
        "colab": {
          "base_uri": "https://localhost:8080/"
        },
        "id": "0Mh4NsQZUh0l",
        "outputId": "b4fe1c18-7d8e-40b9-b05a-5ed9b36836f0"
      },
      "source": [
        "dish"
      ],
      "execution_count": null,
      "outputs": [
        {
          "output_type": "execute_result",
          "data": {
            "text/plain": [
              "{'British': \"fish'n'chips\",\n",
              " 'China': 'dumplings',\n",
              " 'Italian': 'pizza',\n",
              " 'Korean': 'kimchi',\n",
              " 'Meditaranean': 'kibbeh',\n",
              " 'USA': 'hamburgers'}"
            ]
          },
          "metadata": {
            "tags": []
          },
          "execution_count": 10
        }
      ]
    },
    {
      "cell_type": "markdown",
      "metadata": {
        "id": "kOjOeRlxhZ0Z"
      },
      "source": [
        "# Discussion 4\n",
        "\n",
        "Discuss the what's the difference between using `print` and `return` in our defined function.\n",
        "\n",
        "**Show example to explain the difference**"
      ]
    },
    {
      "cell_type": "code",
      "metadata": {
        "colab": {
          "base_uri": "https://localhost:8080/"
        },
        "id": "AmMP4LNkZ-I4",
        "outputId": "565d8d3f-6d7c-4a22-da30-54f7d73b13da"
      },
      "source": [
        "print(\"hello\")"
      ],
      "execution_count": null,
      "outputs": [
        {
          "output_type": "stream",
          "text": [
            "hello\n"
          ],
          "name": "stdout"
        }
      ]
    },
    {
      "cell_type": "code",
      "metadata": {
        "colab": {
          "base_uri": "https://localhost:8080/"
        },
        "id": "-kd0_oVaaC3-",
        "outputId": "8083420f-41d3-4886-86d5-19cd540eb2fa"
      },
      "source": [
        "len(\"hello\")"
      ],
      "execution_count": null,
      "outputs": [
        {
          "output_type": "execute_result",
          "data": {
            "text/plain": [
              "5"
            ]
          },
          "metadata": {
            "tags": []
          },
          "execution_count": 12
        }
      ]
    },
    {
      "cell_type": "code",
      "metadata": {
        "id": "ce7XWEpIa09h"
      },
      "source": [
        "d = total(3,5) = c"
      ],
      "execution_count": null,
      "outputs": []
    },
    {
      "cell_type": "code",
      "metadata": {
        "colab": {
          "base_uri": "https://localhost:8080/"
        },
        "id": "oipv1ESsb6Cs",
        "outputId": "79aef0f4-6d65-4ea0-89b0-fd0a3cbc13a2"
      },
      "source": [
        "print(d)"
      ],
      "execution_count": null,
      "outputs": [
        {
          "output_type": "stream",
          "text": [
            "8\n"
          ],
          "name": "stdout"
        }
      ]
    },
    {
      "cell_type": "code",
      "metadata": {
        "id": "0W4zBEjDhmMh"
      },
      "source": [
        "# Your code here\n",
        "def total(a,b):\n",
        "  c = a + b\n",
        "  return c"
      ],
      "execution_count": null,
      "outputs": []
    },
    {
      "cell_type": "code",
      "metadata": {
        "id": "nA19KBQFbLhC"
      },
      "source": [
        "def count(a,b):\n",
        "  c = a + b\n",
        "\n",
        "  print(c)"
      ],
      "execution_count": null,
      "outputs": []
    },
    {
      "cell_type": "code",
      "metadata": {
        "colab": {
          "base_uri": "https://localhost:8080/"
        },
        "id": "FJ_IxmoFbkmM",
        "outputId": "ef704f40-ae5d-4d18-c051-81cc6526eaa0"
      },
      "source": [
        "e = count(3,5)"
      ],
      "execution_count": null,
      "outputs": [
        {
          "output_type": "stream",
          "text": [
            "8\n"
          ],
          "name": "stdout"
        }
      ]
    },
    {
      "cell_type": "code",
      "metadata": {
        "colab": {
          "base_uri": "https://localhost:8080/"
        },
        "id": "tzJZ-AoabxjM",
        "outputId": "6e432926-f8ab-4052-e54f-8b3f0ca6113c"
      },
      "source": [
        "print(e)"
      ],
      "execution_count": null,
      "outputs": [
        {
          "output_type": "stream",
          "text": [
            "None\n"
          ],
          "name": "stdout"
        }
      ]
    },
    {
      "cell_type": "code",
      "metadata": {
        "id": "J35jzdw5cBo2"
      },
      "source": [],
      "execution_count": null,
      "outputs": []
    }
  ]
}