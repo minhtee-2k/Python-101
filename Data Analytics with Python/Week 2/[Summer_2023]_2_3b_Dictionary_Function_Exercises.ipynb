{
  "nbformat": 4,
  "nbformat_minor": 0,
  "metadata": {
    "colab": {
      "provenance": [],
      "collapsed_sections": [
        "rP2caq_Ahhem",
        "N8nHHFYfhhe9",
        "r-zC_3bzYF-N",
        "k-dwWzcnYF-Y",
        "VyQBjjI-Z3E0",
        "XU8avcVWZ3E2",
        "IZTQN2Y8WKj1",
        "7_HVTcfMWKkK",
        "PsyxnpaeW_Nn",
        "27aBwfP2W_Nx",
        "XI1NDQmjT7Ok",
        "RooFPugvT7Os",
        "XkI-wzeiTtcc",
        "M-FutkhqoBP5",
        "I3xTIqv9oBP-",
        "gPaBDZgfTBnJ",
        "xgeGIqHPNvxu"
      ]
    },
    "kernelspec": {
      "name": "python3",
      "display_name": "Python 3"
    },
    "language_info": {
      "name": "python"
    }
  },
  "cells": [
    {
      "cell_type": "markdown",
      "metadata": {
        "id": "YUAh-tR3KwPf"
      },
      "source": [
        "# **PYTHON - Dictionary & Function**\n",
        "\n",
        "\n",
        "<img src=\"https://i.redd.it/a2n75ff2gvk41.jpg\" width=300>\n",
        "\n",
        "\n"
      ]
    },
    {
      "cell_type": "markdown",
      "metadata": {
        "id": "rP2caq_Ahhem"
      },
      "source": [
        "#### Question 0\n",
        "\n",
        "\n"
      ]
    },
    {
      "cell_type": "code",
      "source": [
        "def calculate_tax(N,status):\n",
        "\n",
        "  if status == 'part-time':\n",
        "    return N*0.1\n",
        "\n",
        "  else :\n",
        "    if N <= 10000000 :\n",
        "      return 0\n",
        "    elif N <= 15000000 :\n",
        "      return N*0.05\n",
        "    elif N <= 20000000 :\n",
        "      return N*0.15\n",
        "    elif N <= 30000000 :\n",
        "      return N*0.2\n",
        "    else :\n",
        "      return N*0.35\n",
        "\n",
        "calculate_tax(27000000,'full-time')\n"
      ],
      "metadata": {
        "colab": {
          "base_uri": "https://localhost:8080/"
        },
        "id": "OV5bfszFNmfn",
        "outputId": "4b7c5364-3545-499d-dfb7-770aed1370a2"
      },
      "execution_count": null,
      "outputs": [
        {
          "output_type": "execute_result",
          "data": {
            "text/plain": [
              "5400000.0"
            ]
          },
          "metadata": {},
          "execution_count": 3
        }
      ]
    },
    {
      "cell_type": "markdown",
      "metadata": {
        "id": "tJvvZV8lhhe9"
      },
      "source": [
        "Write a simple function (**calculate_tax**) take N as a salary (VND) as an input to return the amount of tax you need to pay. The tax rules are different according to your employment status (\"full-time\" or \"part-time\")\n",
        "\n",
        "Tax rules:\n",
        "- part-time: 10% of the total salary\n",
        "- full-time:\n",
        "  - **<= 10 million**: 0% (no tax)\n",
        "  - **10 million < salary <= 15 million**: tax is 5% of the total salary\n",
        "  - **15 million < salary <= 20 million**: tax is 15% of the total salary\n",
        "  - **25 million < salary <= 30 million**: tax is 20% of the total salary\n",
        "  - **salary > 30 million**: tax is 35% of the total salary"
      ]
    },
    {
      "cell_type": "markdown",
      "metadata": {
        "id": "N8nHHFYfhhe9"
      },
      "source": [
        "\n",
        "\n",
        "  \n",
        "#####Example input 1\n",
        "```python\n",
        "my_salary=5000000\n",
        "employment_status=\"full-time\"\n",
        "\n",
        "tax = calculate_tax(my_salary, employment_status)\n",
        "\n",
        "print(tax)\n",
        "```\n",
        "\n",
        "#####Example output 1\n",
        "```python\n",
        "0\n",
        "```\n",
        "\n",
        "-------------\n",
        "#####Example input 2\n",
        "```python\n",
        "my_salary=5000000\n",
        "employment_status=\"part-time\"\n",
        "\n",
        "tax = calculate_tax(my_salary, employment_status)\n",
        "\n",
        "print(tax)\n",
        "```\n",
        "\n",
        "#####Example output 2\n",
        "```python\n",
        "500000\n",
        "```\n",
        "\n",
        "-------------\n",
        "#####Example input 3\n",
        "```python\n",
        "my_salary=27000000\n",
        "employment_status=\"full-time\"\n",
        "\n",
        "tax = calculate_tax(my_salary, employment_status)\n",
        "\n",
        "print(tax)\n",
        "```\n",
        "\n",
        "#####Example output 2\n",
        "```python\n",
        "5400000\n",
        "```\n",
        "\n",
        "-------------"
      ]
    },
    {
      "cell_type": "code",
      "metadata": {
        "id": "8kYDSEcMhhe-"
      },
      "source": [
        "# Your code here\n",
        "\n",
        "def calculate_tax(my_salary, employment_status):\n",
        "\n",
        "  if employment_status == 'part_time':\n",
        "    return my_salary * 0.1\n",
        "  else:\n",
        "    if my_salary <= 10000000:\n",
        "      return 0\n",
        "    elif 10000000 < my_salary <= 15000000:\n",
        "      return my_salary * 0.05\n",
        "    elif 15000000 < my_salary <= 20000000:\n",
        "      return my_salary * 0.15\n",
        "    elif 20000000 < my_salary <= 30000000:\n",
        "      return my_salary * 0.2\n",
        "    else:\n",
        "      return my_salary * 0.35\n"
      ],
      "execution_count": null,
      "outputs": []
    },
    {
      "cell_type": "markdown",
      "metadata": {
        "id": "r-zC_3bzYF-N"
      },
      "source": [
        "#### Question 1\n",
        "\n",
        "\n"
      ]
    },
    {
      "cell_type": "markdown",
      "metadata": {
        "id": "jVE22FOkYF-X"
      },
      "source": [
        "Write a function take N as an input to return a dictionary like this!"
      ]
    },
    {
      "cell_type": "markdown",
      "metadata": {
        "id": "k-dwWzcnYF-Y"
      },
      "source": [
        "\n",
        "\n",
        "  \n",
        "#####Example input 1\n",
        "```python\n",
        "N = 3\n",
        "\n",
        "new_dict = generate_dict(N)\n",
        "\n",
        "print(new_dict)\n",
        "```\n",
        "\n",
        "#####Example output 1\n",
        "```python\n",
        "{'0': 0, '1': 1, '2': 2, '3':3}\n",
        "```\n",
        "\n",
        "-------------\n",
        "#####Example input 2\n",
        "```python\n",
        "N = 5\n",
        "\n",
        "new_dict = generate_dict(N)\n",
        "\n",
        "print(new_dict)\n",
        "```\n",
        "\n",
        "#####Example output 2\n",
        "```python\n",
        "{'0': 0, '1': 1, '2': 2, '3':3, '4':4, '5':5}\n",
        "```\n",
        "\n",
        "-------------\n"
      ]
    },
    {
      "cell_type": "code",
      "metadata": {
        "id": "DlkQJUYXYF-Y",
        "colab": {
          "base_uri": "https://localhost:8080/"
        },
        "outputId": "11a0392e-b546-492a-ad71-c42934e25c0c"
      },
      "source": [
        "# Your code here\n",
        "\n",
        "my_dict={}\n",
        "\n",
        "def og_dict(N):\n",
        "  for i in range(N+1):\n",
        "    my_dict.update({str(i):i})\n",
        "  return my_dict\n",
        "\n",
        "og_dict(7)\n"
      ],
      "execution_count": null,
      "outputs": [
        {
          "output_type": "execute_result",
          "data": {
            "text/plain": [
              "{'0': 0, '1': 1, '2': 2, '3': 3, '4': 4, '5': 5, '6': 6, '7': 7}"
            ]
          },
          "metadata": {},
          "execution_count": 8
        }
      ]
    },
    {
      "cell_type": "markdown",
      "metadata": {
        "id": "VyQBjjI-Z3E0"
      },
      "source": [
        "#### Question 2\n",
        "\n",
        "\n"
      ]
    },
    {
      "cell_type": "markdown",
      "metadata": {
        "id": "VXEPmk_8Z3E2"
      },
      "source": [
        "Write a function ```create_phone_book``` take a list of names and a list of phone numbers as inputs and return a dictionary as a contact list"
      ]
    },
    {
      "cell_type": "markdown",
      "metadata": {
        "id": "XU8avcVWZ3E2"
      },
      "source": [
        "\n",
        "\n",
        "  \n",
        "#####Example input 1\n",
        "```python\n",
        "name_list = [\"Tom\", \"Ai\", \"Quan\", \"Chinh\", \"Nhan\"]\n",
        "\n",
        "phone_list = [123456, 3525234, 5463345, 234234, 756345]\n",
        "\n",
        "# you need to define create_phone_book function before calling it\n",
        "phone_book = create_phone_book(name_list, phone_list)\n",
        "\n",
        "print(phone_book)\n",
        "```\n",
        "\n",
        "#####Example output 1\n",
        "```python\n",
        "{'Tom': 123456, 'Ai': 3525234, 'Quan': 5463345, 'Chinh': 234234, 'Nhan': 756345}\n",
        "```\n",
        "\n",
        "-------------\n",
        "#####Example input 2\n",
        "```python\n",
        "name_list = [\"Hieu\", \"Nick\"]\n",
        "\n",
        "phone_list = [\"(+84)1435353\", \"(+61)54353345\"]\n",
        "\n",
        "# you need to define create_phone_book function before calling it\n",
        "phone_book = create_phone_book(name_list, phone_list)\n",
        "\n",
        "print(phone_book)\n",
        "```\n",
        "\n",
        "#####Example output 2\n",
        "```python\n",
        "{'Hieu': '(+84)1435353', 'Nick': '(+61)54353345'}\n",
        "```\n",
        "\n",
        "-------------\n"
      ]
    },
    {
      "cell_type": "code",
      "metadata": {
        "id": "G7PwyjqcZ3E3",
        "colab": {
          "base_uri": "https://localhost:8080/"
        },
        "outputId": "a44943e5-bb34-4c25-d537-151a4036e2a7"
      },
      "source": [
        "# Your code here\n",
        "name_list = [\"Tom\", \"Ai\", \"Quan\", \"Chinh\", \"Nhan\"]\n",
        "\n",
        "phone_list = [123456, 3525234, 5463345, 234234, 756345]\n",
        "\n",
        "phone_book=dict(zip(name_list,phone_list))\n",
        "\n",
        "print(phone_book)"
      ],
      "execution_count": null,
      "outputs": [
        {
          "output_type": "stream",
          "name": "stdout",
          "text": [
            "{'Tom': 123456, 'Ai': 3525234, 'Quan': 5463345, 'Chinh': 234234, 'Nhan': 756345}\n"
          ]
        }
      ]
    },
    {
      "cell_type": "markdown",
      "metadata": {
        "id": "IZTQN2Y8WKj1"
      },
      "source": [
        "#### Question 3\n"
      ]
    },
    {
      "cell_type": "markdown",
      "metadata": {
        "id": "5no4FUP_WKkK"
      },
      "source": [
        "As you know, the president of USA is elected not by direct vote, but through a two-step voting. First elections are held in each state and determine the winner of elections in that state. Thereafter, the state election is going: in this election, every state has a certain the number of votes — the number of electors from that state. In practice, all the electors from the state of voted in accordance with the results of the vote within a state.\n",
        "\n",
        "The first line contains the number of records. After that, each entry contains the name of the candidate and the number of votes they got in one of the states. Count the total results of the elections: sum the number of votes for each candidate. Print candidates in the alphabetical order.\n",
        "\n"
      ]
    },
    {
      "cell_type": "markdown",
      "metadata": {
        "id": "7_HVTcfMWKkK"
      },
      "source": [
        "\n",
        "\n",
        "  \n",
        "#####Example input 1\n",
        "```python\n",
        "5\n",
        "McCain 10\n",
        "McCain 5\n",
        "Obama 9\n",
        "Obama 8\n",
        "McCain 1\n",
        "```\n",
        "\n",
        "#####Example output 1\n",
        "```python\n",
        "McCain 16\n",
        "Obama 17\n",
        "```\n",
        "\n",
        "-------------\n",
        "\n",
        "#####Example input 2\n",
        "```python\n",
        "1\n",
        "Obama 1\n",
        "```\n",
        "\n",
        "#####Example output 2\n",
        "```python\n",
        "Obama 1\n",
        "```\n",
        "\n",
        "-------------\n",
        "\n",
        "#####Example input 3\n",
        "```python\n",
        "7\n",
        "ivan 2\n",
        "gena 1\n",
        "sergey 100000\n",
        "ivan 1\n",
        "ivan 1\n",
        "ivan 0\n",
        "gena 100\n",
        "```\n",
        "\n",
        "#####Example output 3\n",
        "```python\n",
        "gena 101\n",
        "ivan 4\n",
        "sergey 100000\n",
        "```\n",
        "\n",
        "-------------\n"
      ]
    },
    {
      "cell_type": "code",
      "metadata": {
        "id": "5uYiMUOrWKkL",
        "colab": {
          "base_uri": "https://localhost:8080/"
        },
        "outputId": "d34c4c7f-cbd8-4827-ab43-904c87988293"
      },
      "source": [
        "# Your code here\n",
        "\n",
        "can_vote=input('').split(' ')\n",
        "\n",
        "x=list(enumerate(can_vote))\n",
        "\n",
        "print(x)\n",
        "\n"
      ],
      "execution_count": null,
      "outputs": [
        {
          "output_type": "stream",
          "name": "stdout",
          "text": [
            "ivan 2 gena 1 sergey 100000 ivan 1 ivan 1 ivan 0 gena 100\n",
            "[(0, 'ivan'), (1, '2'), (2, 'gena'), (3, '1'), (4, 'sergey'), (5, '100000'), (6, 'ivan'), (7, '1'), (8, 'ivan'), (9, '1'), (10, 'ivan'), (11, '0'), (12, 'gena'), (13, '100')]\n"
          ]
        }
      ]
    },
    {
      "cell_type": "markdown",
      "metadata": {
        "id": "PsyxnpaeW_Nn"
      },
      "source": [
        "#### Question 4"
      ]
    },
    {
      "cell_type": "markdown",
      "metadata": {
        "id": "CXmG2fhYW_Nx"
      },
      "source": [
        "Given a list of countries and cities of each country. Then given the names of the cities. For each city specify the country in which it is located.\n",
        "\n"
      ]
    },
    {
      "cell_type": "markdown",
      "metadata": {
        "id": "27aBwfP2W_Nx"
      },
      "source": [
        "Ukraine Kiev Donetsk Odessa\n",
        "\n",
        "  \n",
        "#####Example input 1\n",
        "```python\n",
        "2\n",
        "USA Boston Pittsburgh Washington Seattle\n",
        "UK London Edinburgh Cardiff Belfast\n",
        "3\n",
        "Cardiff\n",
        "Seattle\n",
        "London\n",
        "```\n",
        "\n",
        "#####Example output 1\n",
        "```python\n",
        "UK\n",
        "USA\n",
        "UK\n",
        "```\n",
        "\n",
        "-------------\n",
        "\n",
        "#####Example input 2\n",
        "```python\n",
        "2\n",
        "Russia Moscow Petersburg Novgorod Kaluga\n",
        "Ukraine Kiev Donetsk Odessa\n",
        "3\n",
        "Odessa\n",
        "Moscow\n",
        "Novgorod\n",
        "```\n",
        "\n",
        "#####Example output 2\n",
        "```python\n",
        "Ukraine\n",
        "Russia\n",
        "Russia\n",
        "```\n",
        "\n",
        "-------------"
      ]
    },
    {
      "cell_type": "code",
      "source": [],
      "metadata": {
        "id": "K5mqL-eDKfIq"
      },
      "execution_count": null,
      "outputs": []
    },
    {
      "cell_type": "code",
      "metadata": {
        "id": "h-9K3jnJW_Ny",
        "colab": {
          "base_uri": "https://localhost:8080/"
        },
        "outputId": "fadbe4b2-1db2-47fe-c62b-eab90a6d8b07"
      },
      "source": [
        "# Your code here\n",
        "\n",
        "locate={}\n",
        "\n",
        "country1_city=list(input().split(' '))\n",
        "country2_city=list(input().split(' '))\n",
        "\n",
        "for i in country1_city:\n",
        "  locate[country1_city[0]]=country1_city[1:]\n",
        "\n",
        "for k in country2_city:\n",
        "  locate[country2_city[0]]=country2_city[1:]\n",
        "\n",
        "city_check=list(input().split(' '))\n",
        "\n",
        "for i in city_check:\n",
        "  if i in locate.values():\n",
        "    print(\n",
        "\n",
        "\n"
      ],
      "execution_count": null,
      "outputs": [
        {
          "name": "stdout",
          "output_type": "stream",
          "text": [
            "Russia Moscow Petersburg Novgorod Kaluga\n",
            "Ukraine Kiev Donetsk Odessa\n"
          ]
        },
        {
          "output_type": "execute_result",
          "data": {
            "text/plain": [
              "dict_items([('Russia', ['Moscow', 'Petersburg', 'Novgorod', 'Kaluga']), ('Ukraine', ['Kiev', 'Donetsk', 'Odessa'])])"
            ]
          },
          "metadata": {},
          "execution_count": 6
        }
      ]
    },
    {
      "cell_type": "code",
      "source": [
        "num_countries = int(input(\"Enter the number of countries: \"))\n",
        "countries = []\n",
        "cities = []\n",
        "\n",
        "for _ in range(num_countries):\n",
        "    country_input = input(\"Enter the country name followed by cities: \")\n",
        "    country, city_list = country_input.split(maxsplit=1)\n",
        "    countries.append(country)\n",
        "    cities.append(city_list)\n",
        "\n",
        "num_target_cities = int(input(\"Enter the number of target cities: \"))\n",
        "target_cities = []\n",
        "\n",
        "for _ in range(num_target_cities):\n",
        "    city = input(\"Enter the name of a target city: \")\n",
        "    target_cities.append(city)\n",
        "\n",
        "city_country_map = {}\n",
        "\n",
        "for i in range(len(countries)):\n",
        "    country = countries[i]\n",
        "    city_list = cities[i].split()\n",
        "\n",
        "    for city in city_list:\n",
        "        city_country_map[city] = country\n",
        "\n",
        "output = []\n",
        "\n",
        "for city in target_cities:\n",
        "  output.append(city_country_map[city])\n",
        "\n",
        "for country in output:\n",
        "  print(country)\n"
      ],
      "metadata": {
        "id": "eu0X2MkhOIWP"
      },
      "execution_count": null,
      "outputs": []
    },
    {
      "cell_type": "markdown",
      "metadata": {
        "id": "XI1NDQmjT7Ok"
      },
      "source": [
        "#### Question 5"
      ]
    },
    {
      "cell_type": "markdown",
      "metadata": {
        "id": "1ooGY2PeUbSa"
      },
      "source": [
        "The text is given in a single line. For each word of the text count the number of its occurrences before it.\n",
        "\n",
        "\n",
        "\n",
        "A word is a sequence of non-whitespace characters. Two consecutive words are separated by one or more spaces. Punctiation marks are a part of a word, by this definition."
      ]
    },
    {
      "cell_type": "markdown",
      "metadata": {
        "id": "RooFPugvT7Os"
      },
      "source": [
        "\n",
        "\n",
        "  \n",
        "#####Example input 1\n",
        "```python\n",
        "one two one tho three\n",
        "```\n",
        "\n",
        "#####Example output 1\n",
        "```python\n",
        "{'one': 2, 'tho': 1, 'three': 1, 'two': 1}\n",
        "```\n",
        "\n",
        "-------------\n",
        "\n",
        "#####Example input 2\n",
        "```python\n",
        "AA aa Aa aA\n",
        "```\n",
        "\n",
        "#####Example output 2\n",
        "```python\n",
        "{'AA': 1, 'Aa': 1, 'aA': 1, 'aa': 1}\n",
        "```\n",
        "\n",
        "-------------\n",
        "\n",
        "#####Example input 3\n",
        "```python\n",
        "To be or not to be that is the question Whether 'tis nobler in the mind to suffer\n",
        "```\n",
        "\n",
        "#####Example output 3\n",
        "```python\n",
        "{\"'tis\": 1,\n",
        " 'To': 1,\n",
        " 'Whether': 1,\n",
        " 'be': 2,\n",
        " 'in': 1,\n",
        " 'is': 1,\n",
        " 'mind': 1,\n",
        " 'nobler': 1,\n",
        " 'not': 1,\n",
        " 'or': 1,\n",
        " 'question': 1,\n",
        " 'suffer': 1,\n",
        " 'that': 1,\n",
        " 'the': 2,\n",
        " 'to': 2}\n",
        "```\n",
        "\n",
        "-------------\n",
        "\n",
        "#####Example input 4\n",
        "```python\n",
        "She sells sea shells on the sea shore; The shells that she sells are sea shells I'm sure. So if she sells sea shells on the sea shore, I'm sure that the shells are sea shore shells.\n",
        "```\n",
        "\n",
        "#####Example output 4\n",
        "```python\n",
        "{\"I'm\": 2,\n",
        " 'She': 1,\n",
        " 'So': 1,\n",
        " 'The': 1,\n",
        " 'are': 2,\n",
        " 'if': 1,\n",
        " 'on': 2,\n",
        " 'sea': 6,\n",
        " 'sells': 3,\n",
        " 'she': 2,\n",
        " 'shells': 5,\n",
        " 'shells.': 1,\n",
        " 'shore': 1,\n",
        " 'shore,': 1,\n",
        " 'shore;': 1,\n",
        " 'sure': 1,\n",
        " 'sure.': 1,\n",
        " 'that': 2,\n",
        " 'the': 3}\n",
        "```\n",
        "-------------"
      ]
    },
    {
      "cell_type": "code",
      "metadata": {
        "id": "VUVAk8wyT7Ot",
        "colab": {
          "base_uri": "https://localhost:8080/"
        },
        "outputId": "80c8a575-965d-4966-c364-1f02168e4b01"
      },
      "source": [
        "# Your code here\n",
        "\n",
        "words=input().split(' ')\n",
        "\n",
        "my_dict={}\n",
        "\n",
        "for i in words:\n",
        "  if i not in my_dict:\n",
        "    my_dict[i]=1\n",
        "  else :\n",
        "    my_dict[i] = my_dict[i] + 1\n",
        "\n",
        "for word in list(my_dict.keys()):\n",
        "  print(word,';',my_dict[word])"
      ],
      "execution_count": null,
      "outputs": [
        {
          "output_type": "stream",
          "name": "stdout",
          "text": [
            "She sells sea shells on the sea shore; The shells that she sells are sea shells I'm sure. So if she sells sea shells on the sea shore, I'm sure that the shells are sea shore shells.\n",
            "She ; 1\n",
            "sells ; 3\n",
            "sea ; 6\n",
            "shells ; 5\n",
            "on ; 2\n",
            "the ; 3\n",
            "shore; ; 1\n",
            "The ; 1\n",
            "that ; 2\n",
            "she ; 2\n",
            "are ; 2\n",
            "I'm ; 2\n",
            "sure. ; 1\n",
            "So ; 1\n",
            "if ; 1\n",
            "shore, ; 1\n",
            "sure ; 1\n",
            "shore ; 1\n",
            "shells. ; 1\n"
          ]
        }
      ]
    },
    {
      "cell_type": "markdown",
      "metadata": {
        "id": "XkI-wzeiTtcc"
      },
      "source": [
        "### Bonus Questions"
      ]
    },
    {
      "cell_type": "markdown",
      "metadata": {
        "id": "M-FutkhqoBP5"
      },
      "source": [
        "#### CHALLENGE 1"
      ]
    },
    {
      "cell_type": "markdown",
      "metadata": {
        "id": "I3xTIqv9oBP-"
      },
      "source": [
        "\n",
        "\n",
        "<img src=\"https://retailminded.com/wp-content/uploads/2015/12/Receipt-1.jpg\" width=400>\n",
        "\n",
        "- **Situation**: Imagine you are a house husband/wife, you need to do grocery shopping everyday. It takes too much time to go through paper receipts and calculate how much you spend today (expense). So you need to digitize the paper receipt into a python dictionary.\n",
        "\n",
        "- **Problem**: Write a function **add_product**:\n",
        "  - Inputs:\n",
        "    - An existing dictionary as a receipt\n",
        "    - A product name (string)\n",
        "    - A product price (number)\n",
        "    - A product weight (number)\n",
        "  - Outputs:\n",
        "    - An dictionary as a receipt with that new information of that product\n",
        "  \n",
        "#####Example input 1\n",
        "```python\n",
        "# your existing dictionary receipt\n",
        "receipt = {}\n",
        "\n",
        "# call add_product function to add a new product into your dictionary\n",
        "add_product(receipt, \"milk\", 20, 3)\n",
        "\n",
        "print(receipt)\n",
        "```\n",
        "\n",
        "#####Example output 1\n",
        "```python\n",
        "{\"milk\": {\"cost\": 20, \"weight\": 3}}\n",
        "```\n",
        "\n",
        "-------------\n",
        "\n",
        "#####Example input 2\n",
        "```python\n",
        "# your existing dictionary receipt\n",
        "receipt = {\"milk\": {\"cost\": 20, \"weight\": 3}}\n",
        "\n",
        "# call add_product function to add a new product into your dictionary\n",
        "add_product(receipt, \"rice\", 40, 2)\n",
        "\n",
        "print(receipt)\n",
        "```\n",
        "\n",
        "#####Example output 2\n",
        "```python\n",
        "{\"milk\": {\"cost\": 20, \"weight\": 3},\n",
        "\"rice\": {\"cost\": 40, \"weight\": 2}}\n",
        "```\n",
        "-------------"
      ]
    },
    {
      "cell_type": "code",
      "metadata": {
        "id": "ruaalNWJoBP_"
      },
      "source": [
        "receipt = {}\n",
        "# Your code here\n",
        "# Define your add_product function here\n",
        "\n",
        "\n",
        "# Try to call add_product function to add new product purchases into the receipt dictionary\n",
        "\n"
      ],
      "execution_count": null,
      "outputs": []
    },
    {
      "cell_type": "markdown",
      "metadata": {
        "id": "gPaBDZgfTBnJ"
      },
      "source": [
        "#### CHALLENGE 2"
      ]
    },
    {
      "cell_type": "markdown",
      "metadata": {
        "id": "xgeGIqHPNvxu"
      },
      "source": [
        "\n",
        "\n",
        "<img src=\"https://www.mcgill.ca/oss/files/oss/styles/hd/public/receipts-1372960_1920.jpg?itok=x_cLVfa9&timestamp=1582660126\" width=400>\n",
        "\n",
        "- **Situation**: Imagine you are a house husband/wife, you need to do grocery shopping everyday. It takes too much time to go through paper receipts and calculate how much you spend today (expense). Luckily, you are able to digitize the paper receipt into a python dictionary. Now you just need to calculate the total price of that dictionary.\n",
        "\n",
        "- **Problem**: Write a function **\"calculate_receipt\"** takes a receipt as a dictionary and return a dictionary of two things:\n",
        "  - 1. \"total_weight\": The total price we have paid.\n",
        "  - 2. \"total_cost\": The total weight of the products.\n",
        "\n",
        "#####Example input 1\n",
        "```python\n",
        "receipt = {\n",
        "  \"milk\": {\"weight\": 1, \"cost\": 30},\n",
        "  \"rice\": {\"weight\": 2, \"cost\": 20},\n",
        "  \"cookie\": {\"weight\": 3, \"cost\": 30},\n",
        "  \"sugar\": {\"weight\": 1, \"cost\": 40},\n",
        "}\n",
        "\n",
        "result = calculate_receipt(receipt)\n",
        "\n",
        "print(result)\n",
        "```\n",
        "\n",
        "\n",
        "#####Example output 1\n",
        "```python\n",
        "{\"total_weight\": 7, \"total_cost\": 120}\n",
        "```\n",
        "\n",
        "-------------\n",
        "\n",
        "#####Example input 2\n",
        "```python\n",
        "receipt = {\n",
        "  \"tea\": {\"weight\": 3, \"cost\": 20},\n",
        "  \"milk\": {\"weight\": 2, \"cost\": 50},\n",
        "  \"coffee\": {\"weight\": 1, \"cost\": 10}\n",
        "}\n",
        "\n",
        "result = calculate_receipt(receipt)\n",
        "\n",
        "print(result)\n",
        "```\n",
        "#####Example output 2\n",
        "```python\n",
        "{\"total_weight\": 6, \"total_cost\": 80}\n",
        "```\n",
        "-------------"
      ]
    },
    {
      "cell_type": "code",
      "metadata": {
        "id": "fGQU1Z5lPl7E"
      },
      "source": [
        "receipt = {\n",
        "  \"milk\": {\"cost\": 30, \"weight\": 1},\n",
        "  \"rice\": {\"cost\": 20, \"weight\": 2},\n",
        "  \"cookie\": {\"cost\": 30, \"weight\": 3},\n",
        "  \"sugar\": {\"cost\": 40, \"weight\": 1},\n",
        "}\n",
        "# Your code here\n"
      ],
      "execution_count": null,
      "outputs": []
    }
  ]
}