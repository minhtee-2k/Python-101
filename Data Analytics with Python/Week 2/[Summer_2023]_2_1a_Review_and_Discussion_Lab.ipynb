{
  "nbformat": 4,
  "nbformat_minor": 0,
  "metadata": {
    "colab": {
      "provenance": [],
      "collapsed_sections": [
        "37p4G7a0qh_S",
        "LgoO9YPyqvEc",
        "dRyQka2Ew3i3",
        "fAOmG33wwiRk",
        "0aVkLsbdwiRl",
        "yAqjhKqTuH4L",
        "xelTJ2qLuEkW",
        "Zj2liPeKuNjM",
        "OoXUnfRGuNje",
        "oZveZETfuOhR",
        "a4aVWXs8uOhS",
        "XiSV7C8WuO2A",
        "9eOLijzsuO2B",
        "tZhHoeP4w9N1",
        "ecE3cvwfuPGm",
        "yGa3CZv7uPGn",
        "7HWOsX3jxpr9",
        "8vA7LM30xpsJ",
        "qdb_Ccx4yWYa",
        "7BEsSwWpyWYd",
        "8GmAIr1Ayv6t",
        "dPKu1UANyv64",
        "bpoFp6Q-zdqj",
        "01AzTcc-zdqs",
        "K9Ecw77Ezdqt",
        "ctb5oon2zdqv",
        "1TpcIewpzdqw",
        "LPVhMvrNzdqx",
        "lX0-jndCzdqx",
        "zlhsTBa2zdqy",
        "LH71m7sxzdqz"
      ]
    },
    "kernelspec": {
      "name": "python3",
      "display_name": "Python 3"
    },
    "language_info": {
      "name": "python"
    }
  },
  "cells": [
    {
      "cell_type": "markdown",
      "metadata": {
        "id": "O1afMzbPpSJl"
      },
      "source": [
        "# **Python Challenges - Lab Discussion**\n",
        "\n",
        "Hello and welcome back to Python!\n",
        "\n",
        "<img src=\"https://i.imgur.com/RutDdCg.jpg\" width=400>\n",
        "\n"
      ]
    },
    {
      "cell_type": "markdown",
      "metadata": {
        "id": "bB8bfR27o5_s"
      },
      "source": [
        "In the previous session, we have learnt and practiced about:\n",
        "\n",
        "- What is variable and different data types in Python? (String vs Number)\n",
        "- Number with math operations\n",
        "- String and string slicing\n",
        "- The `print()` and `input()` function.\n",
        "- if/else condition\n",
        "- List and list slicing\n",
        "- For loop with \"in\" syntax"
      ]
    },
    {
      "cell_type": "markdown",
      "metadata": {
        "id": "37p4G7a0qh_S"
      },
      "source": [
        "# 1. REVIEW\n",
        "\n",
        "It's review time!"
      ]
    },
    {
      "cell_type": "code",
      "metadata": {
        "id": "XWwFgiA_lpg4",
        "colab": {
          "base_uri": "https://localhost:8080/"
        },
        "outputId": "934a31f8-376c-4ad2-b019-042379b11d60"
      },
      "source": [
        "# Create a list of days in week\n",
        "week = [\"Mon\", \"Tue\", 'Wed']\n",
        "# Checking length\n",
        "len(week)"
      ],
      "execution_count": null,
      "outputs": [
        {
          "output_type": "execute_result",
          "data": {
            "text/plain": [
              "3"
            ]
          },
          "metadata": {
            "tags": []
          },
          "execution_count": 1
        }
      ]
    },
    {
      "cell_type": "code",
      "metadata": {
        "id": "a6XuEJTFqlZC",
        "colab": {
          "base_uri": "https://localhost:8080/",
          "height": 35
        },
        "outputId": "b680b336-9b5c-4fe0-d038-08b5f531de62"
      },
      "source": [
        "# Indexing: Selecting an item by its index\n",
        "week[1]"
      ],
      "execution_count": null,
      "outputs": [
        {
          "output_type": "execute_result",
          "data": {
            "application/vnd.google.colaboratory.intrinsic+json": {
              "type": "string"
            },
            "text/plain": [
              "'Tue'"
            ]
          },
          "metadata": {
            "tags": []
          },
          "execution_count": 2
        }
      ]
    },
    {
      "cell_type": "code",
      "metadata": {
        "id": "r9Rvy_OEqmZn",
        "colab": {
          "base_uri": "https://localhost:8080/"
        },
        "outputId": "163273d6-174c-49d8-eaa5-8c8dd45b6f71"
      },
      "source": [
        "# Slicing: Choose a range of items by its index\n",
        "week[1:3]"
      ],
      "execution_count": null,
      "outputs": [
        {
          "output_type": "execute_result",
          "data": {
            "text/plain": [
              "['Tue', 'Wed']"
            ]
          },
          "metadata": {
            "tags": []
          },
          "execution_count": 4
        }
      ]
    },
    {
      "cell_type": "code",
      "metadata": {
        "id": "sqwZGFc4qnel"
      },
      "source": [
        "# Mutate: Change items value by its indexes\n",
        "week[1]= \"Tuesday\""
      ],
      "execution_count": null,
      "outputs": []
    },
    {
      "cell_type": "code",
      "metadata": {
        "colab": {
          "base_uri": "https://localhost:8080/"
        },
        "id": "zkdYgPgh7_82",
        "outputId": "dc688565-4396-409d-9ba5-19702ba6815c"
      },
      "source": [
        "week"
      ],
      "execution_count": null,
      "outputs": [
        {
          "output_type": "execute_result",
          "data": {
            "text/plain": [
              "['Mon', 'Tuesday', 'Wed']"
            ]
          },
          "metadata": {
            "tags": []
          },
          "execution_count": 6
        }
      ]
    },
    {
      "cell_type": "code",
      "metadata": {
        "id": "pN5zERTPqof3",
        "colab": {
          "base_uri": "https://localhost:8080/"
        },
        "outputId": "c5736da8-0b5d-4ece-9313-bd325a4b1244"
      },
      "source": [
        "# Create a list of numbers in a range\n",
        "range(4,10)"
      ],
      "execution_count": null,
      "outputs": [
        {
          "output_type": "execute_result",
          "data": {
            "text/plain": [
              "range(4, 10)"
            ]
          },
          "metadata": {
            "tags": []
          },
          "execution_count": 7
        }
      ]
    },
    {
      "cell_type": "code",
      "metadata": {
        "colab": {
          "base_uri": "https://localhost:8080/"
        },
        "id": "T57Y-6Sj8HpU",
        "outputId": "6b541963-5338-40eb-a3a4-78ce681876ae"
      },
      "source": [
        "list(range(4,10))"
      ],
      "execution_count": null,
      "outputs": [
        {
          "output_type": "execute_result",
          "data": {
            "text/plain": [
              "[4, 5, 6, 7, 8, 9]"
            ]
          },
          "metadata": {
            "tags": []
          },
          "execution_count": 8
        }
      ]
    },
    {
      "cell_type": "code",
      "metadata": {
        "id": "v5-sQv6oqpiv",
        "colab": {
          "base_uri": "https://localhost:8080/"
        },
        "outputId": "82df5afb-6bf8-4dca-ffce-70cd526b9f6f"
      },
      "source": [
        "# Concatenate 2 lists\n",
        "[\"a\",\"b\"] + [\"c\",\"d\"]"
      ],
      "execution_count": null,
      "outputs": [
        {
          "output_type": "execute_result",
          "data": {
            "text/plain": [
              "['a', 'b', 'c', 'd']"
            ]
          },
          "metadata": {
            "tags": []
          },
          "execution_count": 9
        }
      ]
    },
    {
      "cell_type": "code",
      "metadata": {
        "id": "qfwWeZLDqqkD",
        "colab": {
          "base_uri": "https://localhost:8080/"
        },
        "outputId": "f9ec45cf-85c2-4223-b8d7-dbd7080d2d84"
      },
      "source": [
        "# Append item into list\n",
        "week.append(\"Friday\")\n",
        "week"
      ],
      "execution_count": null,
      "outputs": [
        {
          "output_type": "execute_result",
          "data": {
            "text/plain": [
              "['Mon', 'Tuesday', 'Wed', 'Friday']"
            ]
          },
          "metadata": {
            "tags": []
          },
          "execution_count": 11
        }
      ]
    },
    {
      "cell_type": "code",
      "metadata": {
        "id": "VgCwp86-qsmO"
      },
      "source": [
        "# Extend the list with multiple items\n",
        "week.extend([\"Saturday\", \"Sunday\"])\n",
        "\n",
        "week"
      ],
      "execution_count": null,
      "outputs": []
    },
    {
      "cell_type": "code",
      "metadata": {
        "id": "9PaTfJVGqt2R",
        "colab": {
          "base_uri": "https://localhost:8080/"
        },
        "outputId": "5392922a-871b-4d4e-d339-454c880af199"
      },
      "source": [
        "# Test membership\n",
        "\"Sunday\" not in week"
      ],
      "execution_count": null,
      "outputs": [
        {
          "output_type": "execute_result",
          "data": {
            "text/plain": [
              "False"
            ]
          },
          "metadata": {
            "tags": []
          },
          "execution_count": 14
        }
      ]
    },
    {
      "cell_type": "code",
      "metadata": {
        "id": "8fZTMYgZq3cx",
        "colab": {
          "base_uri": "https://localhost:8080/"
        },
        "outputId": "fc9788b8-c7d0-4820-b76e-3883b8872765"
      },
      "source": [
        "# for loop in a list\n",
        "for i in week:\n",
        "  print(i)"
      ],
      "execution_count": null,
      "outputs": [
        {
          "output_type": "stream",
          "text": [
            "Mon\n",
            "Tuesday\n",
            "Wed\n",
            "Friday\n",
            "Saturday\n",
            "Sunday\n"
          ],
          "name": "stdout"
        }
      ]
    },
    {
      "cell_type": "code",
      "metadata": {
        "colab": {
          "base_uri": "https://localhost:8080/"
        },
        "id": "hst9m2LP8k7y",
        "outputId": "6ee82c7a-32fb-4257-f5b4-9ccdb99fbcd3"
      },
      "source": [
        "for i in range(len(week)):\n",
        "  print(week[i])"
      ],
      "execution_count": null,
      "outputs": [
        {
          "output_type": "stream",
          "text": [
            "Mon\n",
            "Tuesday\n",
            "Wed\n",
            "Friday\n",
            "Saturday\n",
            "Sunday\n"
          ],
          "name": "stdout"
        }
      ]
    },
    {
      "cell_type": "markdown",
      "metadata": {
        "id": "LgoO9YPyqvEc"
      },
      "source": [
        "# 2. Lab Discussion  "
      ]
    },
    {
      "cell_type": "markdown",
      "metadata": {
        "id": "dRyQka2Ew3i3"
      },
      "source": [
        "## 😄 String Challenges"
      ]
    },
    {
      "cell_type": "markdown",
      "metadata": {
        "id": "fAOmG33wwiRk"
      },
      "source": [
        "### 0. The number of words"
      ]
    },
    {
      "cell_type": "markdown",
      "metadata": {
        "id": "0aVkLsbdwiRl"
      },
      "source": [
        "####Statement\n",
        "\n",
        "\n",
        "Given a string consisting of words separated by spaces. Determine how many words it has. To solve the problem, use the method count.\n",
        "\n",
        "\n",
        "####Example input 1\n",
        "```\n",
        "Hello world\n",
        "```\n",
        "\n",
        "####Example output 1\n",
        "```\n",
        "2\n",
        "```\n",
        "\n",
        "-------------\n",
        "\n",
        "####Example input 2\n",
        "```\n",
        "Hello\n",
        "```\n",
        "####Example output 2\n",
        "```\n",
        "1\n",
        "```\n",
        "-------------\n",
        "\n",
        "####Example input 3\n",
        "```\n",
        "One two three four five\n",
        "```\n",
        "\n",
        "####Example output 3\n",
        "```\n",
        "5\n",
        "```"
      ]
    },
    {
      "cell_type": "code",
      "metadata": {
        "id": "LV1m6P7BwiRl"
      },
      "source": [
        "# Your Code Here"
      ],
      "execution_count": null,
      "outputs": []
    },
    {
      "cell_type": "markdown",
      "metadata": {
        "id": "yAqjhKqTuH4L"
      },
      "source": [
        "### 1. To swap the two words"
      ]
    },
    {
      "cell_type": "markdown",
      "metadata": {
        "id": "xelTJ2qLuEkW"
      },
      "source": [
        "####Statement\n",
        "\n",
        "\n",
        "Given a string consisting of exactly two words separated by a space. Print a new string with the first and second word positions swapped (the second word is printed first).\n",
        "\n",
        "\n",
        "####Example input 1\n",
        "```\n",
        "Hello, world!\n",
        "```\n",
        "\n",
        "####Example output 1\n",
        "```\n",
        "world! Hello,\n",
        "```\n",
        "\n",
        "-------------\n",
        "\n",
        "####Example input 2\n",
        "```\n",
        "QWERTYUIOP M\n",
        "```\n",
        "\n",
        "####Example output 2\n",
        "```\n",
        "M QWERTYUIOP\n",
        "```"
      ]
    },
    {
      "cell_type": "code",
      "metadata": {
        "id": "C5raRicJq9L9"
      },
      "source": [
        "# Your Code Here"
      ],
      "execution_count": null,
      "outputs": []
    },
    {
      "cell_type": "markdown",
      "metadata": {
        "id": "Zj2liPeKuNjM"
      },
      "source": [
        "### 2. The first and last occurrence"
      ]
    },
    {
      "cell_type": "markdown",
      "metadata": {
        "id": "OoXUnfRGuNje"
      },
      "source": [
        "####Statement\n",
        "\n",
        "\n",
        "Given a string that may or may not contain a letter of interest. Print the index location of the first and last appearance of f. If the letter f occurs only once, then output its index. If the letter f does not occur, then do not print anything.\n",
        "\n",
        "\n",
        "####Example input 1\n",
        "```\n",
        "comfort\n",
        "```\n",
        "\n",
        "####Example output 1\n",
        "```\n",
        "3\n",
        "```\n",
        "-------------\n",
        "\n",
        "####Example input 2\n",
        "```\n",
        "office\n",
        "```\n",
        "\n",
        "####Example output 2\n",
        "```\n",
        "1 2\n",
        "```\n",
        "-------------\n",
        "\n",
        "####Example input 3\n",
        "```\n",
        "hello\n",
        "```\n",
        "\n",
        "####Example output 3\n",
        "```\n",
        "None\n",
        "```\n",
        "-------------\n",
        "\n",
        "####Example input 4\n",
        "```\n",
        "afafafafafafafa\n",
        "```\n",
        "\n",
        "####Example output 4\n",
        "```\n",
        "1 13\n",
        "```"
      ]
    },
    {
      "cell_type": "code",
      "metadata": {
        "id": "SbU9hzrWuNjf"
      },
      "source": [
        "# Your Code Here"
      ],
      "execution_count": null,
      "outputs": []
    },
    {
      "cell_type": "markdown",
      "metadata": {
        "id": "oZveZETfuOhR"
      },
      "source": [
        "### 3. Reverse the fragment"
      ]
    },
    {
      "cell_type": "markdown",
      "metadata": {
        "id": "a4aVWXs8uOhS"
      },
      "source": [
        "####Statement\n",
        "\n",
        "\n",
        "Given a string in which the letter h occurs at least two times, reverse the sequence of characters enclosed between the first and last appearances.\n",
        "\n",
        "####Example input 1\n",
        "```\n",
        "In the hole in the ground there lived a hobbit\n",
        "```\n",
        "\n",
        "####Example output 1\n",
        "```\n",
        "In th a devil ereht dnuorg eht ni eloh ehobbit\n",
        "```\n",
        "-------------\n",
        "\n",
        "####Example input 2\n",
        "```\n",
        "qwertyhasdfghzxcvb\n",
        "```\n",
        "\n",
        "####Example output 2\n",
        "```\n",
        "qwertyhgfdsahzxcvb\n",
        "```\n",
        "-------------\n",
        "####Example input 3\n",
        "```\n",
        "ahcvbhs\n",
        "```\n",
        "\n",
        "####Example output 3\n",
        "```\n",
        "ahbvchs\n",
        "```"
      ]
    },
    {
      "cell_type": "code",
      "metadata": {
        "id": "ytNQj-p2uOhT"
      },
      "source": [
        "# Your Code Here"
      ],
      "execution_count": null,
      "outputs": []
    },
    {
      "cell_type": "markdown",
      "metadata": {
        "id": "XiSV7C8WuO2A"
      },
      "source": [
        "### 4. Delete every third character"
      ]
    },
    {
      "cell_type": "markdown",
      "metadata": {
        "id": "9eOLijzsuO2B"
      },
      "source": [
        "####Statement\n",
        "\n",
        "\n",
        "Given a string. Delete from it all the characters whose indices are divisible by 3.\n",
        "\n",
        "\n",
        "####Example input 1\n",
        "```\n",
        "Python\n",
        "```\n",
        "\n",
        "####Example output 1\n",
        "```\n",
        "yton\n",
        "```\n",
        "-----------------\n",
        "####Example input 2\n",
        "```\n",
        "abcdefg\n",
        "```\n",
        "\n",
        "####Example output 2\n",
        "```\n",
        "bcef\n",
        "```\n",
        "-----------------\n",
        "####Example input 3\n",
        "```\n",
        "abcdefghijk\n",
        "```\n",
        "\n",
        "####Example output 3\n",
        "```\n",
        "bcefhik\n",
        "```\n",
        "-----------------"
      ]
    },
    {
      "cell_type": "code",
      "metadata": {
        "id": "TpWn_3j0uO2B"
      },
      "source": [
        "# Your Code Here"
      ],
      "execution_count": null,
      "outputs": []
    },
    {
      "cell_type": "markdown",
      "metadata": {
        "id": "tZhHoeP4w9N1"
      },
      "source": [
        "## 😆 List Challenges"
      ]
    },
    {
      "cell_type": "markdown",
      "metadata": {
        "id": "ecE3cvwfuPGm"
      },
      "source": [
        "### 5. Even elements"
      ]
    },
    {
      "cell_type": "markdown",
      "metadata": {
        "id": "yGa3CZv7uPGn"
      },
      "source": [
        "####Statement\n",
        "\n",
        "\n",
        "Given a list of numbers, find and print all elements that are an even number. In this case use a for-loop that iterates over the list, and not over its indices!\n",
        "\n",
        "####Example input 1\n",
        "```\n",
        "1 2 2 3 3 3 4\n",
        "```\n",
        "\n",
        "####Example output 1\n",
        "```\n",
        "2 2 4\n",
        "```\n",
        "---------\n",
        "\n",
        "####Example input 2\n",
        "```\n",
        "1 1 1 1 1 1 2\n",
        "```\n",
        "\n",
        "####Example output 2\n",
        "```\n",
        "2\n",
        "```\n",
        "---------\n",
        "\n",
        "####Example input 3\n",
        "```\n",
        "44 -51 32 -60 -7 -67 62 91 26 -14\n",
        "```\n",
        "\n",
        "####Example output 3\n",
        "```\n",
        "44 32 -60 62 26 -14\n",
        "```\n",
        "---------"
      ]
    },
    {
      "cell_type": "code",
      "metadata": {
        "id": "OmlFfXRhuPGq"
      },
      "source": [
        "# Your Code Here\n"
      ],
      "execution_count": null,
      "outputs": []
    },
    {
      "cell_type": "markdown",
      "metadata": {
        "id": "7HWOsX3jxpr9"
      },
      "source": [
        "### 6. Greater than previous"
      ]
    },
    {
      "cell_type": "markdown",
      "metadata": {
        "id": "8vA7LM30xpsJ"
      },
      "source": [
        "####Statement\n",
        "\n",
        "\n",
        "Given a list of numbers, find and print all the elements that are greater than the previous element.\n",
        "\n",
        "\n",
        "####Example input 1\n",
        "```\n",
        "1 5 2 4 3\n",
        "```\n",
        "\n",
        "####Example output 1\n",
        "```\n",
        "5 4\n",
        "```\n",
        "---------\n",
        "\n",
        "####Example input 2\n",
        "```\n",
        "5 4 3 2 1\n",
        "```\n",
        "\n",
        "####Example output 2\n",
        "```\n",
        "\n",
        "```\n",
        "---------\n",
        "\n",
        "####Example input 3\n",
        "```\n",
        "-9 29 -100 64 26 73 -96 28 -92 11 -14 -86 -54 -67\n",
        "```\n",
        "\n",
        "####Example output 3\n",
        "```\n",
        "29 64 73 28 11 -54\n",
        "```\n",
        "---------"
      ]
    },
    {
      "cell_type": "code",
      "metadata": {
        "id": "pCoEf98mxpsK"
      },
      "source": [
        "# Your Code Here\n"
      ],
      "execution_count": null,
      "outputs": []
    },
    {
      "cell_type": "markdown",
      "metadata": {
        "id": "qdb_Ccx4yWYa"
      },
      "source": [
        "### 7. The largest element"
      ]
    },
    {
      "cell_type": "markdown",
      "metadata": {
        "id": "7BEsSwWpyWYd"
      },
      "source": [
        "####Statement\n",
        "\n",
        "\n",
        "Given a list of numbers. Determine the element in the list with the largest value. Print the value of the largest element and then the index number. If the highest element is not unique, print the index of the first instance.\n",
        "\n",
        "\n",
        "####Example input 1\n",
        "```\n",
        "1 2 3 2 1\n",
        "```\n",
        "\n",
        "####Example output 1\n",
        "```\n",
        "3 2\n",
        "```\n",
        "---------\n",
        "\n",
        "####Example input 2\n",
        "```\n",
        "1 2 3 4 5\n",
        "```\n",
        "\n",
        "####Example output 2\n",
        "```\n",
        "5 4\n",
        "```\n",
        "---------\n",
        "\n",
        "####Example input 3\n",
        "```\n",
        "-100 -100 -100 -100 -100\n",
        "```\n",
        "\n",
        "####Example output 3\n",
        "```\n",
        "-100 0\n",
        "```\n",
        "---------"
      ]
    },
    {
      "cell_type": "code",
      "metadata": {
        "id": "U2NwkQ8GyWYe"
      },
      "source": [
        "# Your Code Here\n"
      ],
      "execution_count": null,
      "outputs": []
    },
    {
      "cell_type": "markdown",
      "metadata": {
        "id": "8GmAIr1Ayv6t"
      },
      "source": [
        "### 8. Swap min and max"
      ]
    },
    {
      "cell_type": "markdown",
      "metadata": {
        "id": "dPKu1UANyv64"
      },
      "source": [
        "####Statement\n",
        "\n",
        "\n",
        "Given a list of unique numbers, swap the minimal and maximal elements of this list. Print the resulting list.\n",
        "\n",
        "\n",
        "####Example input 1\n",
        "```\n",
        "3 4 5 2 1\n",
        "```\n",
        "\n",
        "####Example output 1\n",
        "```\n",
        "3 4 1 2 5\n",
        "```\n",
        "---------\n",
        "\n",
        "####Example input 2\n",
        "```\n",
        "1 5 4 3 2\n",
        "```\n",
        "\n",
        "####Example output 2\n",
        "```\n",
        "5 1 4 3 2\n",
        "```\n",
        "---------\n",
        "\n",
        "####Example input 3\n",
        "```\n",
        "1 2 3 4 5 6 7 8 9 10 11 12 13 14 15 16 17 18 17 16 15 14\n",
        "```\n",
        "\n",
        "####Example output 3\n",
        "```\n",
        "18 2 3 4 5 6 7 8 9 10 11 12 13 14 15 16 17 1 17 16 15 14\n",
        "```\n",
        "---------"
      ]
    },
    {
      "cell_type": "code",
      "metadata": {
        "id": "1IoMyecuyv65",
        "colab": {
          "base_uri": "https://localhost:8080/"
        },
        "outputId": "1890de8a-cc08-48c0-8b4a-ee96e5d8714c"
      },
      "source": [
        "numbers = input(\"Enter a list of unique numbers: \")\n",
        "\n",
        "numbers = numbers.split()\n",
        "\n",
        "numbers = [int(num) for num in numbers]\n",
        "\n",
        "if not numbers:\n",
        "    print(\"Empty list!\")\n",
        "else:\n",
        "    min_index = numbers.index(min(numbers))\n",
        "    max_index = numbers.index(max(numbers))\n",
        "\n",
        "    numbers[min_index], numbers[max_index] = numbers[max_index], numbers[min_index]\n",
        "\n",
        "    print(\"Result:\", numbers)\n",
        "\n"
      ],
      "execution_count": null,
      "outputs": [
        {
          "output_type": "stream",
          "name": "stdout",
          "text": [
            "Enter a list of unique numbers: 1 2 3 4\n",
            "Result: [4, 2, 3, 1]\n"
          ]
        }
      ]
    },
    {
      "cell_type": "markdown",
      "metadata": {
        "id": "bpoFp6Q-zdqj"
      },
      "source": [
        "## 🤣 Loop Challenges"
      ]
    },
    {
      "cell_type": "markdown",
      "metadata": {
        "id": "01AzTcc-zdqs"
      },
      "source": [
        "### 9. Series"
      ]
    },
    {
      "cell_type": "markdown",
      "metadata": {
        "id": "K9Ecw77Ezdqt"
      },
      "source": [
        "####Statement\n",
        "\n",
        "\n",
        "Given two integers A and B. Print all numbers from A to B inclusively, in ascending order, if A < B, or in descending order, if A ≥ B.\n",
        "\n",
        "####Example input 1\n",
        "```\n",
        "1\n",
        "10\n",
        "```\n",
        "\n",
        "####Example output 1\n",
        "```\n",
        "1 2 3 4 5 6 7 8 9 10\n",
        "```\n",
        "---------\n",
        "\n",
        "####Example input 2\n",
        "```\n",
        "10\n",
        "1\n",
        "```\n",
        "\n",
        "####Example output 2\n",
        "```\n",
        "10 9 8 7 6 5 4 3 2 1\n",
        "```\n",
        "---------\n",
        "\n",
        "####Example input 3\n",
        "```\n",
        "12\n",
        "-5\n",
        "```\n",
        "\n",
        "####Example output 3\n",
        "```\n",
        "12 11 10 9 8 7 6 5 4 3 2 1 0 -1 -2 -3 -4 -5\n",
        "```\n",
        "---------"
      ]
    },
    {
      "cell_type": "code",
      "metadata": {
        "id": "TDO3AM_ozdqu",
        "colab": {
          "base_uri": "https://localhost:8080/"
        },
        "outputId": "ff5a022b-8eba-4ead-955d-34d5c14b4273"
      },
      "source": [
        "# Your Code Here\n",
        "\n",
        "def print_numbers(A, B):\n",
        "    if A < B:\n",
        "        for num in range(A, B+1):\n",
        "            print(num, end=' ')\n",
        "    else:\n",
        "        for num in range(A, B-1, -1):\n",
        "            print(num, end=' ')\n",
        "\n",
        "A = int(input(\"Enter the value of A: \"))\n",
        "B = int(input(\"Enter the value of B: \"))\n",
        "\n",
        "print(\"Numbers from A to B:\")\n",
        "print_numbers(A, B)\n"
      ],
      "execution_count": null,
      "outputs": [
        {
          "output_type": "stream",
          "name": "stdout",
          "text": [
            "Enter the value of A: 12\n",
            "Enter the value of B: -5\n",
            "Numbers from A to B:\n",
            "12 11 10 9 8 7 6 5 4 3 2 1 0 -1 -2 -3 -4 -5 "
          ]
        }
      ]
    },
    {
      "cell_type": "markdown",
      "metadata": {
        "id": "ctb5oon2zdqv"
      },
      "source": [
        "### 10. Sum of cubes"
      ]
    },
    {
      "cell_type": "markdown",
      "metadata": {
        "id": "1TpcIewpzdqw"
      },
      "source": [
        "####Statement\n",
        "\n",
        "\n",
        "For the given integer N calculate the following sum:\n",
        "\n",
        "$1^3+2^3+…+N^3$\n",
        "\n",
        "\n",
        "\n",
        "####Example input 1\n",
        "```\n",
        "3\n",
        "```\n",
        "\n",
        "####Example output 1\n",
        "```\n",
        "36\n",
        "```\n",
        "---------\n",
        "\n",
        "####Example input 2\n",
        "```\n",
        "4\n",
        "```\n",
        "\n",
        "####Example output 2\n",
        "```\n",
        "100\n",
        "```\n",
        "---------\n",
        "\n",
        "####Example input 3\n",
        "```\n",
        "8\n",
        "```\n",
        "\n",
        "####Example output 3\n",
        "```\n",
        "1296\n",
        "```\n",
        "---------"
      ]
    },
    {
      "cell_type": "code",
      "metadata": {
        "id": "_KTLHnNkzdqw"
      },
      "source": [
        "# Your Code Here\n"
      ],
      "execution_count": null,
      "outputs": []
    },
    {
      "cell_type": "markdown",
      "metadata": {
        "id": "LPVhMvrNzdqx"
      },
      "source": [
        "### 11. Factorial"
      ]
    },
    {
      "cell_type": "markdown",
      "metadata": {
        "id": "lX0-jndCzdqx"
      },
      "source": [
        "####Statement\n",
        "\n",
        "\n",
        "n mathematics, the factorial of an integer n, denoted by n! is the following product:\n",
        "\n",
        "$n!=1×2×…×n$\n",
        "\n",
        "For the given integer n calculate the value n!. Don't use math module in this exercise.\n",
        "\n",
        "\n",
        "####Example input 1\n",
        "```\n",
        "4\n",
        "```\n",
        "\n",
        "####Example output 1\n",
        "```\n",
        "24\n",
        "```\n",
        "---------\n",
        "\n",
        "####Example input 2\n",
        "```\n",
        "1\n",
        "```\n",
        "\n",
        "####Example output 2\n",
        "```\n",
        "1\n",
        "```\n",
        "---------\n",
        "\n",
        "####Example input 3\n",
        "```\n",
        "5\n",
        "```\n",
        "\n",
        "####Example output 3\n",
        "```\n",
        "120\n",
        "```\n",
        "---------"
      ]
    },
    {
      "cell_type": "code",
      "metadata": {
        "id": "OZ5iq5lQzdqy"
      },
      "source": [
        "# Your Code Here\n"
      ],
      "execution_count": null,
      "outputs": []
    },
    {
      "cell_type": "markdown",
      "metadata": {
        "id": "zlhsTBa2zdqy"
      },
      "source": [
        "### 12. Lost card"
      ]
    },
    {
      "cell_type": "markdown",
      "metadata": {
        "id": "LH71m7sxzdqz"
      },
      "source": [
        "####Statement\n",
        "\n",
        "\n",
        "There was a set of cards with numbers from 1 to N. One of the card is now lost. Determine the number on that lost card given the numbers for the remaining cards.\n",
        "\n",
        "Given a number N, followed by N − 1 integers - representing the numbers on the remaining cards (distinct integers in the range from 1 to N). Find and print the number on the lost card.\n",
        "\n",
        "\n",
        "####Example input 1\n",
        "```\n",
        "5\n",
        "1\n",
        "2\n",
        "3\n",
        "4\n",
        "```\n",
        "\n",
        "####Example output 1\n",
        "```\n",
        "5\n",
        "```\n",
        "---------\n",
        "\n",
        "####Example input 2\n",
        "```\n",
        "5\n",
        "3\n",
        "5\n",
        "2\n",
        "1\n",
        "```\n",
        "\n",
        "####Example output 2\n",
        "```\n",
        "4\n",
        "```\n",
        "---------\n",
        "\n",
        "####Example input 3\n",
        "```\n",
        "4\n",
        "3\n",
        "2\n",
        "4\n",
        "```\n",
        "\n",
        "####Example output 3\n",
        "```\n",
        "1\n",
        "```\n",
        "---------\n",
        "####Example input 4\n",
        "```\n",
        "10\n",
        "4\n",
        "1\n",
        "7\n",
        "8\n",
        "3\n",
        "5\n",
        "9\n",
        "10\n",
        "6\n",
        "```\n",
        "\n",
        "####Example output 4\n",
        "```\n",
        "2\n",
        "```"
      ]
    },
    {
      "cell_type": "code",
      "metadata": {
        "id": "9iCH-iTtzdqz"
      },
      "source": [
        "N = int(input())\n",
        "cards = []\n",
        "\n",
        "for _ in range(N-1):\n",
        "    card = int(input())\n",
        "    cards.append(card)\n",
        "\n",
        "missing_card = 0\n",
        "for i in range(1, N+1):\n",
        "    if i not in cards:\n",
        "        missing_card = i\n",
        "\n",
        "\n",
        "print(\"Lost card number:\", missing_card)\n"
      ],
      "execution_count": null,
      "outputs": []
    },
    {
      "cell_type": "markdown",
      "source": [
        "## When should we buy stock?\n"
      ],
      "metadata": {
        "id": "rrNwlTo5Vvlr"
      }
    },
    {
      "cell_type": "markdown",
      "source": [
        "### Statement\n",
        "\n",
        "You are given an array prices where prices[i] is the price of a given stock on the ith day.\n",
        "\n",
        "You want to maximize your profit by choosing a single day to buy one stock and choosing a different day in the future to sell that stock.\n",
        "\n",
        "Return the maximum profit you can achieve from this transaction. If you cannot achieve any profit, return 0."
      ],
      "metadata": {
        "id": "epNrp3sJWG_3"
      }
    },
    {
      "cell_type": "markdown",
      "source": [
        "#### Example 1\n",
        "\n",
        "Input: prices = [7,1,5,3,6,4]\n",
        "Output: 5\n",
        "\n",
        "Explanation: Buy on day 2 (price = 1) and sell on day 5 (price = 6), profit = 6-1 = 5.\n",
        "\n",
        "Note that buying on day 2 and selling on day 1 is not allowed because you must buy before you sell."
      ],
      "metadata": {
        "id": "5kXrH3fvWRUI"
      }
    },
    {
      "cell_type": "code",
      "source": [
        "# Your Code Here"
      ],
      "metadata": {
        "id": "IRs46Lb-WeGR"
      },
      "execution_count": null,
      "outputs": []
    }
  ]
}