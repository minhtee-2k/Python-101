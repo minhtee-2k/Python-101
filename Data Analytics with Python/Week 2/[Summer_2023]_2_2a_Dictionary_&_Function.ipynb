{
  "nbformat": 4,
  "nbformat_minor": 0,
  "metadata": {
    "colab": {
      "provenance": [],
      "collapsed_sections": [
        "KdjnKfsE2ziz",
        "M-FutkhqoBP5",
        "gPaBDZgfTBnJ"
      ]
    },
    "kernelspec": {
      "name": "python3",
      "display_name": "Python 3"
    },
    "language_info": {
      "name": "python"
    }
  },
  "cells": [
    {
      "cell_type": "markdown",
      "metadata": {
        "id": "YUAh-tR3KwPf"
      },
      "source": [
        "# **PYTHON - Dictionary & Function**\n",
        "\n",
        "\n",
        "![](https://www.houseofbots.com/images/news/4355/cover.png)\n",
        "\n",
        "In the previous session, we have learnt and practiced about:\n",
        "- **Variable**\n",
        "- **Number** with math operations\n",
        "- **String** with slicing and methods.\n",
        "- The **`print()`** and **`input()`** function.\n",
        "- Conditionals: **if/elif/else** condition.\n",
        "- Data Structure: **List** with slicing.\n",
        "- Loop: **For** loop with in syntax.\n",
        "\n",
        "In today's session, we will continue on Python with:\n",
        "- Data structures using **Dictionary**\n",
        "- **Function**\n"
      ]
    },
    {
      "cell_type": "markdown",
      "metadata": {
        "id": "erGB82YoLaMG"
      },
      "source": [
        "# 1. REVIEW"
      ]
    },
    {
      "cell_type": "code",
      "metadata": {
        "id": "6rS0dO2bU3bi",
        "colab": {
          "base_uri": "https://localhost:8080/"
        },
        "outputId": "26a6ec19-2590-4eb2-925a-1ed02d57ca63"
      },
      "source": [
        "alphabets=[]\n",
        "alphabets"
      ],
      "execution_count": null,
      "outputs": [
        {
          "output_type": "execute_result",
          "data": {
            "text/plain": [
              "[]"
            ]
          },
          "metadata": {},
          "execution_count": 2
        }
      ]
    },
    {
      "cell_type": "code",
      "metadata": {
        "id": "nIOBSJu2U-GH",
        "colab": {
          "base_uri": "https://localhost:8080/"
        },
        "outputId": "c6d423cd-9970-41a0-c6bc-f2f6ed62f7ba"
      },
      "source": [
        "alphabets = [\"b\", \"a\", \"c\"]\n",
        "alphabets"
      ],
      "execution_count": null,
      "outputs": [
        {
          "output_type": "execute_result",
          "data": {
            "text/plain": [
              "['b', 'a', 'c']"
            ]
          },
          "metadata": {},
          "execution_count": 3
        }
      ]
    },
    {
      "cell_type": "code",
      "metadata": {
        "colab": {
          "base_uri": "https://localhost:8080/",
          "height": 35
        },
        "id": "5XRfg_ldCaI8",
        "outputId": "058d5933-2827-4b5a-c9be-16a85f65d9eb"
      },
      "source": [
        "\" \".join(alphabets)"
      ],
      "execution_count": null,
      "outputs": [
        {
          "output_type": "execute_result",
          "data": {
            "application/vnd.google.colaboratory.intrinsic+json": {
              "type": "string"
            },
            "text/plain": [
              "'b a c'"
            ]
          },
          "metadata": {
            "tags": []
          },
          "execution_count": 5
        }
      ]
    },
    {
      "cell_type": "code",
      "metadata": {
        "id": "1AFdcbZgCgpi"
      },
      "source": [
        "alphabets = sorted(alphabets)"
      ],
      "execution_count": null,
      "outputs": []
    },
    {
      "cell_type": "code",
      "metadata": {
        "colab": {
          "base_uri": "https://localhost:8080/"
        },
        "id": "7g27tHCKCmOS",
        "outputId": "f7eecc6c-315f-45ce-9d43-577923637621"
      },
      "source": [
        "alphabets"
      ],
      "execution_count": null,
      "outputs": [
        {
          "output_type": "execute_result",
          "data": {
            "text/plain": [
              "['a', 'b', 'c']"
            ]
          },
          "metadata": {
            "tags": []
          },
          "execution_count": 9
        }
      ]
    },
    {
      "cell_type": "code",
      "metadata": {
        "colab": {
          "base_uri": "https://localhost:8080/"
        },
        "id": "CeThtrKgCrl-",
        "outputId": "f4a8d861-f42c-4183-b4fd-e86545a968ca"
      },
      "source": [
        "for i in alphabets:\n",
        "  print(i)"
      ],
      "execution_count": null,
      "outputs": [
        {
          "output_type": "stream",
          "text": [
            "a\n",
            "b\n",
            "c\n"
          ],
          "name": "stdout"
        }
      ]
    },
    {
      "cell_type": "code",
      "metadata": {
        "id": "edJQwWv1Cyis"
      },
      "source": [
        "alphabets.append('d')"
      ],
      "execution_count": null,
      "outputs": []
    },
    {
      "cell_type": "code",
      "metadata": {
        "colab": {
          "base_uri": "https://localhost:8080/"
        },
        "id": "nvDmEPvCC2wP",
        "outputId": "09ccc464-8b8a-422a-b48b-e7f37474cb18"
      },
      "source": [
        "alphabets"
      ],
      "execution_count": null,
      "outputs": [
        {
          "output_type": "execute_result",
          "data": {
            "text/plain": [
              "['a', 'b', 'c', 'd']"
            ]
          },
          "metadata": {
            "tags": []
          },
          "execution_count": 12
        }
      ]
    },
    {
      "cell_type": "code",
      "metadata": {
        "colab": {
          "base_uri": "https://localhost:8080/"
        },
        "id": "7V0HX25MC3_l",
        "outputId": "b95508b5-5662-4972-8764-96ab5422d4c4"
      },
      "source": [
        "alphabets.extend(['e','f'])\n",
        "alphabets"
      ],
      "execution_count": null,
      "outputs": [
        {
          "output_type": "execute_result",
          "data": {
            "text/plain": [
              "['a', 'b', 'c', 'd', 'e', 'f']"
            ]
          },
          "metadata": {
            "tags": []
          },
          "execution_count": 13
        }
      ]
    },
    {
      "cell_type": "markdown",
      "metadata": {
        "id": "RbcF_I2HAgxM"
      },
      "source": [
        "# 2. DICTIONARY (Data Structures)"
      ]
    },
    {
      "cell_type": "markdown",
      "metadata": {
        "id": "_YcGi_1eRgxO"
      },
      "source": [
        "<img src=\"https://www.rd.com/wp-content/uploads/2017/09/This-Is-How-Dictionary-Editors-Prank-Each-other-392723320-Castleski.jpg\" alt=\"drawing\" width=\"300\"/>"
      ]
    },
    {
      "cell_type": "markdown",
      "metadata": {
        "id": "MDQfL8UjRjmP"
      },
      "source": [
        "It's a very **useful data structure** in Python.\n",
        "\n",
        "A dictionary is a **collection** which contains many **pairs of keys and values**."
      ]
    },
    {
      "cell_type": "markdown",
      "metadata": {
        "id": "fm-7S2UrRm9s"
      },
      "source": [
        "**Unlike list, dictionary is super fast to search, retrieve, delete, change value using the key**."
      ]
    },
    {
      "cell_type": "markdown",
      "metadata": {
        "id": "ls5RzDPHMiFa"
      },
      "source": [
        "Dictionary is an unordered\n",
        "collection of values, created in the\n",
        "form of `{key:value}`"
      ]
    },
    {
      "cell_type": "markdown",
      "metadata": {
        "id": "wjJg6uW2RumR"
      },
      "source": [
        "### Normal Structure of Dictionary\n",
        "\n",
        "<img src=\"https://s1.o7planning.com/en/11437/images/7722025.png\" width=400>\n",
        "\n",
        "### Nested Structure of Dictionary\n",
        "\n",
        "<img src=\"https://i1.wp.com/pyblog.in/wp-content/uploads/2019/02/dictionary.png?w=750&ssl=1\" width=400>"
      ]
    },
    {
      "cell_type": "markdown",
      "metadata": {
        "id": "4GIjdIaWR5sS"
      },
      "source": [
        "## Syntax for Dictionary"
      ]
    },
    {
      "cell_type": "markdown",
      "metadata": {
        "id": "a5wI-K9aR78Y"
      },
      "source": [
        "### Initialization"
      ]
    },
    {
      "cell_type": "code",
      "metadata": {
        "id": "rsf06IkKR-3d"
      },
      "source": [
        "# Dictionary Initialization\n",
        "# Here is empty dictionary\n",
        "my_dict = {}"
      ],
      "execution_count": null,
      "outputs": []
    },
    {
      "cell_type": "code",
      "metadata": {
        "id": "3VP1gEftSzw_"
      },
      "source": [
        "# Create a dictionary:\n",
        "profile = { 'name': 'Tom',\n",
        "            'age' : 29,\n",
        "            'hair': 'black'}"
      ],
      "execution_count": null,
      "outputs": []
    },
    {
      "cell_type": "code",
      "metadata": {
        "colab": {
          "base_uri": "https://localhost:8080/"
        },
        "id": "ddGVddWREUeU",
        "outputId": "9ffb0112-ba4e-4edd-89ae-7da0ac9b1155"
      },
      "source": [
        "profile"
      ],
      "execution_count": null,
      "outputs": [
        {
          "output_type": "execute_result",
          "data": {
            "text/plain": [
              "{'name': 'Tom', 'age': 29, 'hair': 'black'}"
            ]
          },
          "metadata": {},
          "execution_count": 7
        }
      ]
    },
    {
      "cell_type": "code",
      "metadata": {
        "id": "iM8PcZzULl8U"
      },
      "source": [
        "# Create a more complex dictionary:\n",
        "profile = { 'name': 'Tom',\n",
        "            'age' : 29,\n",
        "            'hair': 'black',\n",
        "            'languages': ['Vietnamese', 'English', 'Chinese'], # list\n",
        "            'pet': {\"name\": \"kiki\",  # dictionary\n",
        "                    \"type\": \"dog\",\n",
        "                    \"age\": 2}\n",
        "           }"
      ],
      "execution_count": null,
      "outputs": []
    },
    {
      "cell_type": "code",
      "metadata": {
        "id": "0rR5Bn1VCocT",
        "colab": {
          "base_uri": "https://localhost:8080/"
        },
        "outputId": "2bc7fba4-0bf0-4c17-b6d9-fccde95c843e"
      },
      "source": [
        "profile"
      ],
      "execution_count": null,
      "outputs": [
        {
          "output_type": "execute_result",
          "data": {
            "text/plain": [
              "{'age': 29,\n",
              " 'hair': 'black',\n",
              " 'languages': ['Vietnamese', 'English', 'Chinese'],\n",
              " 'name': 'Tom',\n",
              " 'pet': {'age': 2, 'name': 'kiki', 'type': 'dog'}}"
            ]
          },
          "metadata": {
            "tags": []
          },
          "execution_count": 18
        }
      ]
    },
    {
      "cell_type": "markdown",
      "metadata": {
        "id": "efwGGEHWw0rz"
      },
      "source": [
        "**Please note**: dictionary key must be immutable"
      ]
    },
    {
      "cell_type": "markdown",
      "metadata": {
        "id": "kmyIlEmQS6sT"
      },
      "source": [
        "### Accessing Values"
      ]
    },
    {
      "cell_type": "markdown",
      "metadata": {
        "id": "yTWqNCwLTVnY"
      },
      "source": [
        "Access an element using key"
      ]
    },
    {
      "cell_type": "code",
      "metadata": {
        "id": "_PE595EGMosV",
        "colab": {
          "base_uri": "https://localhost:8080/",
          "height": 35
        },
        "outputId": "d738e5e4-152c-4d65-ed22-8ba4a9c522d3"
      },
      "source": [
        "profile['hair']"
      ],
      "execution_count": null,
      "outputs": [
        {
          "output_type": "execute_result",
          "data": {
            "application/vnd.google.colaboratory.intrinsic+json": {
              "type": "string"
            },
            "text/plain": [
              "'black'"
            ]
          },
          "metadata": {
            "tags": []
          },
          "execution_count": 19
        }
      ]
    },
    {
      "cell_type": "markdown",
      "metadata": {
        "id": "SqkB8qv9TAoA"
      },
      "source": [
        "### Changing Values/Add New Values"
      ]
    },
    {
      "cell_type": "markdown",
      "metadata": {
        "id": "j0VcY13NyDl4"
      },
      "source": [
        "If the key exists, then it would change the value of that pair"
      ]
    },
    {
      "cell_type": "code",
      "metadata": {
        "id": "DJphb2prMpfK"
      },
      "source": [
        "profile['age'] = 21"
      ],
      "execution_count": null,
      "outputs": []
    },
    {
      "cell_type": "code",
      "metadata": {
        "colab": {
          "base_uri": "https://localhost:8080/"
        },
        "id": "qu_G4QAUFs7A",
        "outputId": "6a484eaa-b937-47c0-b5c7-b5ef529b6cd5"
      },
      "source": [
        "profile"
      ],
      "execution_count": null,
      "outputs": [
        {
          "output_type": "execute_result",
          "data": {
            "text/plain": [
              "{'name': 'Tom',\n",
              " 'age': 21,\n",
              " 'hair': 'black',\n",
              " 'languages': ['Vietnamese', 'English', 'Chinese'],\n",
              " 'pet': {'name': 'kiki', 'type': 'dog', 'age': 2}}"
            ]
          },
          "metadata": {},
          "execution_count": 10
        }
      ]
    },
    {
      "cell_type": "markdown",
      "metadata": {
        "id": "AIIfe_iSyFm9"
      },
      "source": [
        "If the key does not exist, then it would add a new pair with that key:value"
      ]
    },
    {
      "cell_type": "code",
      "metadata": {
        "id": "xfeMmy34MqQE"
      },
      "source": [
        "# Adding an element into dictionary\n",
        "profile[\"hobby\"] = 'karaoke'"
      ],
      "execution_count": null,
      "outputs": []
    },
    {
      "cell_type": "code",
      "metadata": {
        "id": "9QA7T4T6GH29"
      },
      "source": [
        "# Add fav fruits as guava and cherry\n",
        "profile[\"fruit\"] = ['cherry', 'apple']"
      ],
      "execution_count": null,
      "outputs": []
    },
    {
      "cell_type": "code",
      "metadata": {
        "colab": {
          "base_uri": "https://localhost:8080/"
        },
        "id": "PNtit1V0F--0",
        "outputId": "5f23464d-bbaa-414b-feaa-8792595538a6"
      },
      "source": [
        "profile"
      ],
      "execution_count": null,
      "outputs": [
        {
          "output_type": "execute_result",
          "data": {
            "text/plain": [
              "{'name': 'Tom',\n",
              " 'age': 21,\n",
              " 'hair': 'black',\n",
              " 'languages': ['Vietnamese', 'English', 'Chinese'],\n",
              " 'pet': {'name': 'kiki', 'type': 'dog', 'age': 2},\n",
              " 'hobby': 'karaoke',\n",
              " 'fruit': ['cherry', 'apple']}"
            ]
          },
          "metadata": {},
          "execution_count": 13
        }
      ]
    },
    {
      "cell_type": "markdown",
      "metadata": {
        "id": "P6Wko7GJUAz1"
      },
      "source": [
        "###Loop through dictionary"
      ]
    },
    {
      "cell_type": "markdown",
      "metadata": {
        "id": "UPKuXG4BUDB6"
      },
      "source": [
        "Loop through the dictionary to print out keys"
      ]
    },
    {
      "cell_type": "code",
      "metadata": {
        "id": "IADpmfaLUFJh",
        "colab": {
          "base_uri": "https://localhost:8080/"
        },
        "outputId": "5a92bf37-6503-40fa-edf7-2e20c62ca0d2"
      },
      "source": [
        "for key in profile:\n",
        "  print(key)"
      ],
      "execution_count": null,
      "outputs": [
        {
          "output_type": "stream",
          "name": "stdout",
          "text": [
            "name\n",
            "age\n",
            "hair\n",
            "languages\n",
            "pet\n",
            "hobby\n",
            "fruit\n"
          ]
        }
      ]
    },
    {
      "cell_type": "markdown",
      "metadata": {
        "id": "qZUDa00WUHux"
      },
      "source": [
        "Loop through keys to get values using the keys"
      ]
    },
    {
      "cell_type": "code",
      "metadata": {
        "id": "WEoCypCeUJdI",
        "colab": {
          "base_uri": "https://localhost:8080/"
        },
        "outputId": "571393c5-2ec3-486c-b917-2c68a7860105"
      },
      "source": [
        "for k in profile:\n",
        "  print(profile[k])"
      ],
      "execution_count": null,
      "outputs": [
        {
          "output_type": "stream",
          "text": [
            "Tom\n",
            "21\n",
            "black\n",
            "['Vietnamese', 'English', 'Chinese']\n",
            "{'name': 'kiki', 'type': 'dog', 'age': 2}\n",
            "karaoke\n",
            "['cherry', 'apple']\n"
          ],
          "name": "stdout"
        }
      ]
    },
    {
      "cell_type": "code",
      "metadata": {
        "id": "5LP225bhMr5U",
        "colab": {
          "base_uri": "https://localhost:8080/"
        },
        "outputId": "fc9a16f8-6f42-4eff-82eb-ffd5cae81dde"
      },
      "source": [
        "# Return the list of all the keys\n",
        "profile.keys()"
      ],
      "execution_count": null,
      "outputs": [
        {
          "output_type": "execute_result",
          "data": {
            "text/plain": [
              "dict_keys(['name', 'age', 'hair', 'languages', 'pet', 'hobby', 'fruit'])"
            ]
          },
          "metadata": {},
          "execution_count": 16
        }
      ]
    },
    {
      "cell_type": "code",
      "metadata": {
        "colab": {
          "base_uri": "https://localhost:8080/"
        },
        "id": "702ZAOOlHgvB",
        "outputId": "080a197c-4a28-4ea2-a9c0-bdf69582710f"
      },
      "source": [
        "for i in profile:\n",
        "  print(i)"
      ],
      "execution_count": null,
      "outputs": [
        {
          "output_type": "stream",
          "name": "stdout",
          "text": [
            "name\n",
            "age\n",
            "hair\n",
            "languages\n",
            "pet\n",
            "hobby\n",
            "fruit\n"
          ]
        }
      ]
    },
    {
      "cell_type": "code",
      "metadata": {
        "id": "3OcZXe_UUYYK",
        "colab": {
          "base_uri": "https://localhost:8080/"
        },
        "outputId": "f346fbe4-f89e-41d0-b68a-92c0825baf29"
      },
      "source": [
        "for i in profile.keys():\n",
        "  print(i)"
      ],
      "execution_count": null,
      "outputs": [
        {
          "output_type": "stream",
          "name": "stdout",
          "text": [
            "name\n",
            "age\n",
            "hair\n",
            "languages\n",
            "pet\n",
            "hobby\n",
            "fruit\n"
          ]
        }
      ]
    },
    {
      "cell_type": "code",
      "metadata": {
        "id": "Cnx1R_TWYXJi",
        "colab": {
          "base_uri": "https://localhost:8080/"
        },
        "outputId": "520231bb-4a44-498f-8001-f2172d398da8"
      },
      "source": [
        "# Return the list of all values\n",
        "profile.values()"
      ],
      "execution_count": null,
      "outputs": [
        {
          "output_type": "execute_result",
          "data": {
            "text/plain": [
              "dict_values(['Tom', 21, 'black', ['Vietnamese', 'English', 'Chinese'], {'name': 'kiki', 'type': 'dog', 'age': 2}, 'karaoke', ['cherry', 'apple']])"
            ]
          },
          "metadata": {},
          "execution_count": 19
        }
      ]
    },
    {
      "cell_type": "code",
      "metadata": {
        "id": "ISI2_p5UMsph",
        "colab": {
          "base_uri": "https://localhost:8080/"
        },
        "outputId": "07e6cfbc-025f-4672-e607-0d767c2ad4ec"
      },
      "source": [
        "for x in profile.values():\n",
        "  print(x)"
      ],
      "execution_count": null,
      "outputs": [
        {
          "output_type": "stream",
          "name": "stdout",
          "text": [
            "Tom\n",
            "21\n",
            "black\n",
            "['Vietnamese', 'English', 'Chinese']\n",
            "{'name': 'kiki', 'type': 'dog', 'age': 2}\n",
            "karaoke\n",
            "['cherry', 'apple']\n"
          ]
        }
      ]
    },
    {
      "cell_type": "markdown",
      "metadata": {
        "id": "spTJeuS7Undb"
      },
      "source": [
        "###Check if key exists in dictionary"
      ]
    },
    {
      "cell_type": "markdown",
      "metadata": {
        "id": "Chpeg-jYxpRf"
      },
      "source": [
        "Checking the key exists in the dictionary is important. Otherwise, it will throw an error :("
      ]
    },
    {
      "cell_type": "code",
      "metadata": {
        "id": "ztGfUK3Pxnnm",
        "colab": {
          "base_uri": "https://localhost:8080/",
          "height": 164
        },
        "outputId": "b6bac503-f557-4f44-e149-114344603d21"
      },
      "source": [
        "profile[\"hahaha\"]"
      ],
      "execution_count": null,
      "outputs": [
        {
          "output_type": "error",
          "ename": "KeyError",
          "evalue": "ignored",
          "traceback": [
            "\u001b[0;31m---------------------------------------------------------------------------\u001b[0m",
            "\u001b[0;31mKeyError\u001b[0m                                  Traceback (most recent call last)",
            "\u001b[0;32m<ipython-input-35-eec5a8ebb681>\u001b[0m in \u001b[0;36m<module>\u001b[0;34m()\u001b[0m\n\u001b[0;32m----> 1\u001b[0;31m \u001b[0mprofile\u001b[0m\u001b[0;34m[\u001b[0m\u001b[0;34m\"hahaha\"\u001b[0m\u001b[0;34m]\u001b[0m\u001b[0;34m\u001b[0m\u001b[0;34m\u001b[0m\u001b[0m\n\u001b[0m",
            "\u001b[0;31mKeyError\u001b[0m: 'hahaha'"
          ]
        }
      ]
    },
    {
      "cell_type": "code",
      "source": [
        "profile"
      ],
      "metadata": {
        "colab": {
          "base_uri": "https://localhost:8080/"
        },
        "id": "9GXxCqiQxCKn",
        "outputId": "db71fd32-58e8-4b33-9e18-74aec062d3f9"
      },
      "execution_count": null,
      "outputs": [
        {
          "output_type": "execute_result",
          "data": {
            "text/plain": [
              "{'name': 'Tom',\n",
              " 'age': 21,\n",
              " 'hair': 'black',\n",
              " 'languages': ['Vietnamese', 'English', 'Chinese'],\n",
              " 'pet': {'name': 'kiki', 'type': 'dog', 'age': 2},\n",
              " 'hobby': 'karaoke',\n",
              " 'fruit': ['cherry', 'apple']}"
            ]
          },
          "metadata": {},
          "execution_count": 21
        }
      ]
    },
    {
      "cell_type": "markdown",
      "metadata": {
        "id": "HPvkMo2uxvfQ"
      },
      "source": [
        "You can check if a key exists in a dictionary using **\"in\"** (similarly to the way to check an element exists in a list)"
      ]
    },
    {
      "cell_type": "code",
      "metadata": {
        "id": "cbhYjRcLUnrf",
        "colab": {
          "base_uri": "https://localhost:8080/"
        },
        "outputId": "5e077685-5c21-4f3c-a44a-18761bc9ffb0"
      },
      "source": [
        "if \"hair\" in profile:\n",
        "  print(\"Key exist: \"+ profile[\"hair\"])\n",
        "else:\n",
        "  print(\"Key does not exist :( \")"
      ],
      "execution_count": null,
      "outputs": [
        {
          "output_type": "stream",
          "text": [
            "Key exist: black\n"
          ],
          "name": "stdout"
        }
      ]
    },
    {
      "cell_type": "code",
      "metadata": {
        "id": "_-V8Z-xAxbRF"
      },
      "source": [
        "# using this to check key exists before trying to access it\n"
      ],
      "execution_count": null,
      "outputs": []
    },
    {
      "cell_type": "markdown",
      "metadata": {
        "id": "0Wt6bG6pUs1A"
      },
      "source": [
        "###Check the length of dictionary"
      ]
    },
    {
      "cell_type": "markdown",
      "metadata": {
        "id": "pYTBRMtmYOBb"
      },
      "source": [
        "The length of dictionary is just the number of keys."
      ]
    },
    {
      "cell_type": "code",
      "metadata": {
        "colab": {
          "base_uri": "https://localhost:8080/"
        },
        "id": "1WmbqfUSHtJV",
        "outputId": "bb784f58-c415-48d8-ca9a-b7cbe6403839"
      },
      "source": [
        "profile"
      ],
      "execution_count": null,
      "outputs": [
        {
          "output_type": "execute_result",
          "data": {
            "text/plain": [
              "{'age': 21,\n",
              " 'fruit': ['cherry', 'apple'],\n",
              " 'hair': 'black',\n",
              " 'hobby': 'karaoke',\n",
              " 'languages': ['Vietnamese', 'English', 'Chinese'],\n",
              " 'name': 'Tom',\n",
              " 'pet': {'age': 2, 'name': 'kiki', 'type': 'dog'}}"
            ]
          },
          "metadata": {
            "tags": []
          },
          "execution_count": 40
        }
      ]
    },
    {
      "cell_type": "code",
      "metadata": {
        "id": "zbZY68ONUuHF",
        "colab": {
          "base_uri": "https://localhost:8080/"
        },
        "outputId": "e3fc9ad7-6349-48e8-cbbf-18025b4cb6b2"
      },
      "source": [
        "len(profile)"
      ],
      "execution_count": null,
      "outputs": [
        {
          "output_type": "execute_result",
          "data": {
            "text/plain": [
              "7"
            ]
          },
          "metadata": {
            "tags": []
          },
          "execution_count": 41
        }
      ]
    },
    {
      "cell_type": "markdown",
      "metadata": {
        "id": "QVdkyKkzU0Aw"
      },
      "source": [
        "### Complex nested structure of dictionary"
      ]
    },
    {
      "cell_type": "markdown",
      "metadata": {
        "id": "nRoiRsQbBHoA"
      },
      "source": [
        "Usually, there are two very common data structures of dictionary, you see in coding interviews/challenges are:\n",
        "- A List of dictionaries\n",
        "- A Dictionary of dictionaries"
      ]
    },
    {
      "cell_type": "code",
      "metadata": {
        "id": "sIpvwhthU1k-"
      },
      "source": [
        "# Imagine you have three children and here are their profiles\n",
        "child_1 = {\n",
        "  \"name\" : \"Emil\",\n",
        "  \"year\" : 2004\n",
        "}\n",
        "child_2 = {\n",
        "  \"name\" : \"Tobias\",\n",
        "  \"year\" : 2007\n",
        "}\n",
        "child_3 = {\n",
        "  \"name\" : \"Linus\",\n",
        "  \"year\" : 2011\n",
        "}"
      ],
      "execution_count": null,
      "outputs": []
    },
    {
      "cell_type": "code",
      "metadata": {
        "id": "EWFG2vU2U2_Y"
      },
      "source": [
        "# Option 1: organise this as a dictionary of dictionaries\n",
        "family_dict = {\n",
        "    \"child1\": child_1,\n",
        "    \"child2\": child_2,\n",
        "    \"child3\": child_3\n",
        "}"
      ],
      "execution_count": null,
      "outputs": []
    },
    {
      "cell_type": "code",
      "metadata": {
        "colab": {
          "base_uri": "https://localhost:8080/"
        },
        "id": "_yp1JnzjIcsj",
        "outputId": "2ca8cb1a-91e4-4aee-a0fd-db1cdee98a2c"
      },
      "source": [
        "family_dict"
      ],
      "execution_count": null,
      "outputs": [
        {
          "output_type": "execute_result",
          "data": {
            "text/plain": [
              "{'child1': {'name': 'Emil', 'year': 2004},\n",
              " 'child2': {'name': 'Tobias', 'year': 2007},\n",
              " 'child3': {'name': 'Linus', 'year': 2011}}"
            ]
          },
          "metadata": {},
          "execution_count": 24
        }
      ]
    },
    {
      "cell_type": "code",
      "metadata": {
        "id": "hjpt8sfuU4FT",
        "colab": {
          "base_uri": "https://localhost:8080/"
        },
        "outputId": "c5fca439-caf3-4c07-c233-500f8dae903f"
      },
      "source": [
        "# Option 2: organise this as a list of dictionaries\n",
        "family_list = [child_1, child_2, child_3]\n",
        "family_list"
      ],
      "execution_count": null,
      "outputs": [
        {
          "output_type": "execute_result",
          "data": {
            "text/plain": [
              "[{'name': 'Emil', 'year': 2004},\n",
              " {'name': 'Tobias', 'year': 2007},\n",
              " {'name': 'Linus', 'year': 2011}]"
            ]
          },
          "metadata": {},
          "execution_count": 25
        }
      ]
    },
    {
      "cell_type": "code",
      "source": [
        "print(family_list[0])"
      ],
      "metadata": {
        "id": "KNr5kk9JyZ2_",
        "outputId": "d4488a24-09a7-40cb-98a7-e11270def5a1",
        "colab": {
          "base_uri": "https://localhost:8080/"
        }
      },
      "execution_count": null,
      "outputs": [
        {
          "output_type": "stream",
          "name": "stdout",
          "text": [
            "{'name': 'Emil', 'year': 2004}\n"
          ]
        }
      ]
    },
    {
      "cell_type": "markdown",
      "metadata": {
        "id": "i2YzulvYtpEk"
      },
      "source": [
        "#### CHALLENGE 1"
      ]
    },
    {
      "cell_type": "code",
      "source": [
        "\n",
        "\n",
        "list_of_children={'child_1':{'name':'Shuck','year':'2000','gender':'boy'},'child_2':{'name':'My','year':'2001','gender':'girl'}\n",
        ",'child_3':{'name':'Deek','year':'2002','gender':'boy'}}\n",
        "\n",
        "print(list_of_children)\n",
        "\n",
        "name=[]\n",
        "\n",
        "for i,k in enumerate(list_of_children):\n",
        "  print(i)\n",
        "  name.append(list_of_children[k]['name'])\n",
        "  print(list_of_children[k][\"name\"])\n",
        "  print(list_of_children[k][\"year\"])\n",
        "  print(list_of_children[k][\"gender\"])\n",
        "\n",
        "print(name)"
      ],
      "metadata": {
        "colab": {
          "base_uri": "https://localhost:8080/"
        },
        "id": "urvzZRFZzP01",
        "outputId": "33324718-f036-4f05-b362-e77ce9b89de2"
      },
      "execution_count": null,
      "outputs": [
        {
          "output_type": "stream",
          "name": "stdout",
          "text": [
            "{'child_1': {'name': 'Shuck', 'year': '2000', 'gender': 'boy'}, 'child_2': {'name': 'My', 'year': '2001', 'gender': 'girl'}, 'child_3': {'name': 'Deek', 'year': '2002', 'gender': 'boy'}}\n",
            "0\n",
            "Shuck\n",
            "2000\n",
            "boy\n",
            "1\n",
            "My\n",
            "2001\n",
            "girl\n",
            "2\n",
            "Deek\n",
            "2002\n",
            "boy\n",
            "['Shuck', 'My', 'Deek']\n"
          ]
        }
      ]
    },
    {
      "cell_type": "code",
      "metadata": {
        "id": "sp0FLnv6tpEu",
        "colab": {
          "base_uri": "https://localhost:8080/"
        },
        "outputId": "a5dc506e-5747-4c19-c134-3172036ed3f0"
      },
      "source": [
        "list_of_dict = [{'name': 'Emil', 'year': 2004},\n",
        " {'name': 'Tobias', 'year': 2007},\n",
        " {'name': 'Linus', 'year': 2011}]\n",
        "\n",
        "# Your code here (loop through list of dictionaries)\n",
        "for index in range(len(list_of_dict)):\n",
        "  print(index)\n",
        "  print(list_of_dict[index][\"name\"])\n",
        "  print(list_of_dict[index][\"year\"])"
      ],
      "execution_count": null,
      "outputs": [
        {
          "output_type": "stream",
          "text": [
            "0\n",
            "Emil\n",
            "2004\n",
            "1\n",
            "Tobias\n",
            "2007\n",
            "2\n",
            "Linus\n",
            "2011\n"
          ],
          "name": "stdout"
        }
      ]
    },
    {
      "cell_type": "markdown",
      "metadata": {
        "id": "G0j-B8BMvmnZ"
      },
      "source": [
        "#### CHALLENGE 2"
      ]
    },
    {
      "cell_type": "markdown",
      "metadata": {
        "id": "ULcbHHvXvmna"
      },
      "source": [
        "\n",
        "\n",
        "<img src=\"https://i.insider.com/56e3189152bcd0320c8b5cf7?width=1100&format=jpeg&auto=webp\" width=400>\n",
        "\n",
        "- **Situation**: Imagine you are a house husband/wife, and have too many children to count and remember. So you need to write some Python code to list all information of them when you forget.\n",
        "\n",
        "- **Problem**: Write the code take a **dictionary of dictionaries** of their information and loop through and display them on the screen\n",
        "  \n",
        "#####Example input 1\n",
        "```python\n",
        "dict_of_dict = {'child1': {'name': 'Emil', 'year': 2004},\n",
        " 'child2': {'name': 'Tobias', 'year': 2007},\n",
        " 'child3': {'name': 'Linus', 'year': 2011}}\n",
        "```\n",
        "\n",
        "#####Example output 1\n",
        "```python\n",
        "child number: 0\n",
        "name:  Emil\n",
        "year:  2004\n",
        "-------------------\n",
        "child number: 1\n",
        "name:  Tobias\n",
        "year:  2007\n",
        "-------------------\n",
        "child number: 2\n",
        "name:  Linus\n",
        "year:  2011\n",
        "-------------------\n",
        "```\n"
      ]
    },
    {
      "cell_type": "code",
      "metadata": {
        "colab": {
          "base_uri": "https://localhost:8080/"
        },
        "id": "0WQJqskUSvWy",
        "outputId": "362ab907-1197-4abc-f4ae-1a7e867667fb"
      },
      "source": [
        "a = ['a','b','c','d']\n",
        "\n",
        "for count, i in enumerate(a):\n",
        "  print(i, count)"
      ],
      "execution_count": null,
      "outputs": [
        {
          "output_type": "stream",
          "text": [
            "a 0\n",
            "b 1\n",
            "c 2\n",
            "d 3\n"
          ],
          "name": "stdout"
        }
      ]
    },
    {
      "cell_type": "code",
      "metadata": {
        "colab": {
          "base_uri": "https://localhost:8080/"
        },
        "id": "ZhhEOPYtTS-W",
        "outputId": "59c7d1d7-ca6c-4d06-931b-addda79b862c"
      },
      "source": [
        "b = {\"name\": \"Tom\", \"age\": 27}\n",
        "for index, k in enumerate(b):\n",
        "  print(index)\n",
        "  print(k)"
      ],
      "execution_count": null,
      "outputs": [
        {
          "output_type": "stream",
          "text": [
            "0\n",
            "name\n",
            "1\n",
            "age\n"
          ],
          "name": "stdout"
        }
      ]
    },
    {
      "cell_type": "code",
      "metadata": {
        "id": "ap7z0Zgqvmnb",
        "colab": {
          "base_uri": "https://localhost:8080/"
        },
        "outputId": "9b64bc22-e566-42e4-ed60-8f31a90633df"
      },
      "source": [
        "dict_of_dict = {'child 1': {'name': 'Emil', 'year': 2004},\n",
        " 'child 2': {'name': 'Tobias', 'year': 2007},\n",
        " 'child 3': {'name': 'Linus', 'year': 2011}}\n",
        "\n",
        "# Your code here (loop through dictionary of dictionaries)\n",
        "for index, key in enumerate(dict_of_dict):\n",
        "  print(index)\n",
        "  print(dict_of_dict[key][\"name\"])\n",
        "  print(dict_of_dict[key][\"year\"])"
      ],
      "execution_count": null,
      "outputs": [
        {
          "output_type": "stream",
          "name": "stdout",
          "text": [
            "0\n",
            "Emil\n",
            "2004\n",
            "1\n",
            "Tobias\n",
            "2007\n",
            "2\n",
            "Linus\n",
            "2011\n"
          ]
        }
      ]
    },
    {
      "cell_type": "code",
      "source": [
        "for i in list_of_children.key() :\n",
        "  print(i)\n"
      ],
      "metadata": {
        "colab": {
          "base_uri": "https://localhost:8080/",
          "height": 186
        },
        "id": "cw1g3loX1btw",
        "outputId": "3bf29085-dbbf-40a4-878d-543067d25e56"
      },
      "execution_count": null,
      "outputs": [
        {
          "output_type": "error",
          "ename": "AttributeError",
          "evalue": "ignored",
          "traceback": [
            "\u001b[0;31m---------------------------------------------------------------------------\u001b[0m",
            "\u001b[0;31mAttributeError\u001b[0m                            Traceback (most recent call last)",
            "\u001b[0;32m<ipython-input-9-b8f83778c1d5>\u001b[0m in \u001b[0;36m<cell line: 1>\u001b[0;34m()\u001b[0m\n\u001b[0;32m----> 1\u001b[0;31m \u001b[0;32mfor\u001b[0m \u001b[0mi\u001b[0m \u001b[0;32min\u001b[0m \u001b[0mlist_of_children\u001b[0m\u001b[0;34m.\u001b[0m\u001b[0mkey\u001b[0m\u001b[0;34m(\u001b[0m\u001b[0;34m)\u001b[0m \u001b[0;34m:\u001b[0m\u001b[0;34m\u001b[0m\u001b[0;34m\u001b[0m\u001b[0m\n\u001b[0m\u001b[1;32m      2\u001b[0m   \u001b[0mprint\u001b[0m\u001b[0;34m(\u001b[0m\u001b[0mi\u001b[0m\u001b[0;34m)\u001b[0m\u001b[0;34m\u001b[0m\u001b[0;34m\u001b[0m\u001b[0m\n",
            "\u001b[0;31mAttributeError\u001b[0m: 'list' object has no attribute 'key'"
          ]
        }
      ]
    },
    {
      "cell_type": "markdown",
      "metadata": {
        "id": "KdjnKfsE2ziz"
      },
      "source": [
        "#### CHALLENGE 3"
      ]
    },
    {
      "cell_type": "markdown",
      "metadata": {
        "id": "D7aKBQJ22zi0"
      },
      "source": [
        "\n",
        "\n",
        "<img src=\"https://lh3.googleusercontent.com/proxy/VYXN7Drt5UqDZI_y_DWlGAEASfwSbd--199zd10d4mQ20CwBHUymBS3VKDpElbJwdCJ3J34-AkSave3o6kPwY19UaKsRovlDaSUC-Jwwj09tPvOw2zxWzO01oolUsa002mc0IziiwRRvuityyw2E_8E\" width=400>\n",
        "\n",
        "- **Situation**: Imagine you are a house husband/wife, and have a small money exchange shop for business. You need to build a system to exchange money from customers.\n",
        "\n",
        "- **Problem**: Write the code take a **dictionary** of money exchange information and return the correct exchange rate.\n",
        "  \n",
        "#####Example input 1\n",
        "```python\n",
        "exchange_rates = {\n",
        "\"VND2USD\": 0.000043,\n",
        "\"USD2VND\": 23080\n",
        "}\n",
        "\n",
        "my_money = \"10 USD\"\n",
        "```\n",
        "\n",
        "#####Example output 1\n",
        "```python\n",
        "\"230800 VND\"\n",
        "```\n",
        "----------------------\n",
        "#####Example input 2\n",
        "```python\n",
        "exchange_rates = {\n",
        "\"VND2USD\": 0.000043,\n",
        "\"USD2VND\": 23080\n",
        "}\n",
        "\n",
        "my_money = \"5000000 VND\"\n",
        "```\n",
        "\n",
        "#####Example output 2\n",
        "```python\n",
        "\"215 USD\"\n",
        "```"
      ]
    },
    {
      "cell_type": "code",
      "metadata": {
        "id": "52xuu17P2zi1",
        "colab": {
          "base_uri": "https://localhost:8080/"
        },
        "outputId": "2238398d-8fba-4e58-cc81-858d47edd1ea"
      },
      "source": [
        "exchange_rates = {\n",
        "\"VND2USD\": 0.000043,\n",
        "\"USD2VND\": 23080\n",
        "}\n",
        "# Your code here\n",
        "my_money = \"5000000 VND\"\n",
        "number = my_money.split()[0]\n",
        "currency = my_money.split()[1]\n",
        "if currency == \"VND\":\n",
        "  print(exchange_rates[\"VND2USD\"]*float(number), \"USD\")\n",
        "else:\n",
        "  print(exchange_rates[\"USD2VND\"]*float(number), \"VND\")"
      ],
      "execution_count": null,
      "outputs": [
        {
          "output_type": "stream",
          "text": [
            "215.0 USD\n"
          ],
          "name": "stdout"
        }
      ]
    },
    {
      "cell_type": "markdown",
      "metadata": {
        "id": "bsqgRNnMDrG7"
      },
      "source": [
        "# 3. Function"
      ]
    },
    {
      "cell_type": "markdown",
      "metadata": {
        "id": "epRL9MrwI9S-"
      },
      "source": [
        " In mathematics, a function is typically represented like this:"
      ]
    },
    {
      "cell_type": "markdown",
      "metadata": {
        "id": "ufhIkEZLIzbp"
      },
      "source": [
        "<img src=\"https://files.realpython.com/media/t.74ec5430f457.png\" width=400>"
      ]
    },
    {
      "cell_type": "markdown",
      "metadata": {
        "id": "IiVW25xyJDAw"
      },
      "source": [
        "**f** (**name of function**) is a function that operates on the inputs **x** and **y** (**parameters/arguments**). The **output** of the function is **z**."
      ]
    },
    {
      "cell_type": "markdown",
      "metadata": {
        "id": "2_o9cz07FNEb"
      },
      "source": [
        "A function in Python is:\n",
        "\n",
        "- **What**: A block of code which is organized and reusable\n",
        "- **Define**: Need to use keyword **def** and define a block of code inside function body\n",
        "- **Input**: data can be passed, as parameters/arguments, into a function\n",
        "- **Output**: it can return data as a result\n",
        "- **Usage**: call the name of the function\n",
        "\n"
      ]
    },
    {
      "cell_type": "markdown",
      "metadata": {
        "id": "HYm2SzV-KXbL"
      },
      "source": [
        "<img src=\"https://i.imgur.com/orjI3KF.png\" width=600>"
      ]
    },
    {
      "cell_type": "markdown",
      "metadata": {
        "id": "u3682yfYKrtj"
      },
      "source": [
        "Here are an example function in Python:"
      ]
    },
    {
      "cell_type": "code",
      "metadata": {
        "id": "SxJcofsaLBBN"
      },
      "source": [
        "def add(x, y):\n",
        "  print(f'arguments are {x} and {y}')\n",
        "  return x + y"
      ],
      "execution_count": null,
      "outputs": []
    },
    {
      "cell_type": "markdown",
      "metadata": {
        "id": "QIB7NAaAK6QN"
      },
      "source": [
        "<img src=\"https://i.imgur.com/IX8jkyD.png\" width=500>"
      ]
    },
    {
      "cell_type": "markdown",
      "metadata": {
        "id": "C8yn3ly5LL52"
      },
      "source": [
        "To use a function we've defined, we need to call its name and plug in the right inputs (parameters)"
      ]
    },
    {
      "cell_type": "code",
      "metadata": {
        "id": "IamCwelQD9em",
        "colab": {
          "base_uri": "https://localhost:8080/"
        },
        "outputId": "b3472081-8641-47cd-d7d3-327986c6e8ac"
      },
      "source": [
        "add(3, 7)"
      ],
      "execution_count": null,
      "outputs": [
        {
          "output_type": "stream",
          "name": "stdout",
          "text": [
            "arguments are 3 and 7\n"
          ]
        },
        {
          "output_type": "execute_result",
          "data": {
            "text/plain": [
              "10"
            ]
          },
          "metadata": {},
          "execution_count": 30
        }
      ]
    },
    {
      "cell_type": "code",
      "source": [
        "add(4, 6)"
      ],
      "metadata": {
        "colab": {
          "base_uri": "https://localhost:8080/"
        },
        "id": "84VLnfLT4dkd",
        "outputId": "e489163d-978c-44fa-ee55-45b233aa7c3f"
      },
      "execution_count": null,
      "outputs": [
        {
          "output_type": "stream",
          "name": "stdout",
          "text": [
            "arguments are 4 and 6\n"
          ]
        },
        {
          "output_type": "execute_result",
          "data": {
            "text/plain": [
              "10"
            ]
          },
          "metadata": {},
          "execution_count": 31
        }
      ]
    },
    {
      "cell_type": "markdown",
      "metadata": {
        "id": "MAHmu4WfL21m"
      },
      "source": [
        "Let's try out a few other functions"
      ]
    },
    {
      "cell_type": "code",
      "metadata": {
        "id": "tAwKud9nLo8G",
        "colab": {
          "base_uri": "https://localhost:8080/",
          "height": 35
        },
        "outputId": "831c1c6a-eeef-47af-8054-d9e85c539ba9"
      },
      "source": [
        "def greeting(name):\n",
        "  return \"hey \" + name\n",
        "\n",
        "greeting(\"Tom\")"
      ],
      "execution_count": null,
      "outputs": [
        {
          "output_type": "execute_result",
          "data": {
            "text/plain": [
              "'hey Tom'"
            ],
            "application/vnd.google.colaboratory.intrinsic+json": {
              "type": "string"
            }
          },
          "metadata": {},
          "execution_count": 13
        }
      ]
    },
    {
      "cell_type": "code",
      "metadata": {
        "id": "SdxW5l-ZMIFf",
        "colab": {
          "base_uri": "https://localhost:8080/",
          "height": 35
        },
        "outputId": "b9a53f58-e956-4cc3-84d0-86ac3396268b"
      },
      "source": [
        "def swap_string(my_string):\n",
        "  my_length = len(my_string)\n",
        "  return my_string[my_length//2:] + my_string[:my_length//2]\n",
        "\n",
        "swap_string(\"Hello\")"
      ],
      "execution_count": null,
      "outputs": [
        {
          "output_type": "execute_result",
          "data": {
            "text/plain": [
              "'lloHe'"
            ],
            "application/vnd.google.colaboratory.intrinsic+json": {
              "type": "string"
            }
          },
          "metadata": {},
          "execution_count": 33
        }
      ]
    },
    {
      "cell_type": "code",
      "metadata": {
        "id": "Dhjf_Bv8NSCJ",
        "colab": {
          "base_uri": "https://localhost:8080/"
        },
        "outputId": "0c206f15-8b43-4de1-e0a6-12b3bddb08dc"
      },
      "source": [
        "def element_exists_list(my_list, my_number):\n",
        "  if my_number in my_list:\n",
        "    return True\n",
        "  else:\n",
        "    return False\n",
        "\n",
        "element_exists_list([1,4,6,7], 3)"
      ],
      "execution_count": null,
      "outputs": [
        {
          "output_type": "execute_result",
          "data": {
            "text/plain": [
              "False"
            ]
          },
          "metadata": {},
          "execution_count": 36
        }
      ]
    },
    {
      "cell_type": "code",
      "metadata": {
        "id": "ezhT660pMe2E",
        "colab": {
          "base_uri": "https://localhost:8080/"
        },
        "outputId": "916574a4-cb53-493e-9d4c-2bf8b38359b5"
      },
      "source": [
        "def get_even_elements(my_list):\n",
        "  my_result = []\n",
        "  for i in my_list:\n",
        "    if i%2 == 0:\n",
        "      my_result.append(i)\n",
        "  return my_result\n",
        "\n",
        "get_even_elements([1,2,4,5,6,7,8,9])\n"
      ],
      "execution_count": null,
      "outputs": [
        {
          "output_type": "execute_result",
          "data": {
            "text/plain": [
              "[2, 4, 6, 8]"
            ]
          },
          "metadata": {},
          "execution_count": 37
        }
      ]
    },
    {
      "cell_type": "code",
      "metadata": {
        "id": "e6OBqjF8WHPU"
      },
      "source": [
        "def fun(x):\n",
        "  print (x*2) #do something\n",
        "\n",
        "def fo(y):\n",
        "  return y*2 #return"
      ],
      "execution_count": null,
      "outputs": []
    },
    {
      "cell_type": "code",
      "source": [
        "fun(fun(5))\n"
      ],
      "metadata": {
        "colab": {
          "base_uri": "https://localhost:8080/",
          "height": 312
        },
        "id": "8DsJ9aBb7iTE",
        "outputId": "cf406675-2985-4db8-cc4e-cb6856f91b8c"
      },
      "execution_count": null,
      "outputs": [
        {
          "output_type": "stream",
          "name": "stdout",
          "text": [
            "10\n"
          ]
        },
        {
          "output_type": "error",
          "ename": "TypeError",
          "evalue": "ignored",
          "traceback": [
            "\u001b[0;31m---------------------------------------------------------------------------\u001b[0m",
            "\u001b[0;31mTypeError\u001b[0m                                 Traceback (most recent call last)",
            "\u001b[0;32m<ipython-input-53-b167944a3eab>\u001b[0m in \u001b[0;36m<cell line: 1>\u001b[0;34m()\u001b[0m\n\u001b[0;32m----> 1\u001b[0;31m \u001b[0mfun\u001b[0m\u001b[0;34m(\u001b[0m\u001b[0mfun\u001b[0m\u001b[0;34m(\u001b[0m\u001b[0;36m5\u001b[0m\u001b[0;34m)\u001b[0m\u001b[0;34m)\u001b[0m\u001b[0;34m\u001b[0m\u001b[0;34m\u001b[0m\u001b[0m\n\u001b[0m",
            "\u001b[0;32m<ipython-input-38-5b47314896a9>\u001b[0m in \u001b[0;36mfun\u001b[0;34m(x)\u001b[0m\n\u001b[1;32m      1\u001b[0m \u001b[0;32mdef\u001b[0m \u001b[0mfun\u001b[0m\u001b[0;34m(\u001b[0m\u001b[0mx\u001b[0m\u001b[0;34m)\u001b[0m\u001b[0;34m:\u001b[0m\u001b[0;34m\u001b[0m\u001b[0;34m\u001b[0m\u001b[0m\n\u001b[0;32m----> 2\u001b[0;31m   \u001b[0mprint\u001b[0m \u001b[0;34m(\u001b[0m\u001b[0mx\u001b[0m\u001b[0;34m*\u001b[0m\u001b[0;36m2\u001b[0m\u001b[0;34m)\u001b[0m\u001b[0;34m\u001b[0m\u001b[0;34m\u001b[0m\u001b[0m\n\u001b[0m\u001b[1;32m      3\u001b[0m \u001b[0;34m\u001b[0m\u001b[0m\n\u001b[1;32m      4\u001b[0m \u001b[0;32mdef\u001b[0m \u001b[0mfo\u001b[0m\u001b[0;34m(\u001b[0m\u001b[0my\u001b[0m\u001b[0;34m)\u001b[0m\u001b[0;34m:\u001b[0m\u001b[0;34m\u001b[0m\u001b[0;34m\u001b[0m\u001b[0m\n\u001b[1;32m      5\u001b[0m   \u001b[0;32mreturn\u001b[0m \u001b[0my\u001b[0m\u001b[0;34m*\u001b[0m\u001b[0;36m2\u001b[0m\u001b[0;34m\u001b[0m\u001b[0;34m\u001b[0m\u001b[0m\n",
            "\u001b[0;31mTypeError\u001b[0m: unsupported operand type(s) for *: 'NoneType' and 'int'"
          ]
        }
      ]
    },
    {
      "cell_type": "code",
      "source": [
        "fun(fo(5))"
      ],
      "metadata": {
        "colab": {
          "base_uri": "https://localhost:8080/"
        },
        "id": "BiIS6ZNT75Ta",
        "outputId": "e07b1c94-4fbb-493b-f6b7-fdd2d1e030d5"
      },
      "execution_count": null,
      "outputs": [
        {
          "output_type": "stream",
          "name": "stdout",
          "text": [
            "20\n"
          ]
        }
      ]
    },
    {
      "cell_type": "code",
      "metadata": {
        "colab": {
          "base_uri": "https://localhost:8080/"
        },
        "id": "FowUfrwZWTEt",
        "outputId": "6b9fc886-1392-49f3-8da0-c303b3180a5a"
      },
      "source": [
        "x = fun(5)\n",
        "y = fun(5)"
      ],
      "execution_count": null,
      "outputs": [
        {
          "output_type": "stream",
          "name": "stdout",
          "text": [
            "10\n",
            "10\n"
          ]
        }
      ]
    },
    {
      "cell_type": "code",
      "source": [
        "fun(fo(5))"
      ],
      "metadata": {
        "colab": {
          "base_uri": "https://localhost:8080/"
        },
        "id": "rkJ9x57-7Ni1",
        "outputId": "061ff659-2238-42b1-d010-caf5a316736a"
      },
      "execution_count": null,
      "outputs": [
        {
          "output_type": "stream",
          "name": "stdout",
          "text": [
            "20\n"
          ]
        }
      ]
    },
    {
      "cell_type": "code",
      "metadata": {
        "colab": {
          "base_uri": "https://localhost:8080/"
        },
        "id": "m_wbKYsXWUfb",
        "outputId": "87cebc70-26ed-4134-9e6e-a650c3b91ffb"
      },
      "source": [
        "print(fo(fo(5)))"
      ],
      "execution_count": null,
      "outputs": [
        {
          "output_type": "stream",
          "name": "stdout",
          "text": [
            "20\n"
          ]
        }
      ]
    },
    {
      "cell_type": "code",
      "metadata": {
        "colab": {
          "base_uri": "https://localhost:8080/"
        },
        "id": "Tc3NCdH6XYIk",
        "outputId": "ddec7eb3-31d9-4a10-d98f-bda65a7ea29e"
      },
      "source": [
        "type(fun(3))"
      ],
      "execution_count": null,
      "outputs": [
        {
          "output_type": "stream",
          "text": [
            "6\n"
          ],
          "name": "stdout"
        },
        {
          "output_type": "execute_result",
          "data": {
            "text/plain": [
              "NoneType"
            ]
          },
          "metadata": {
            "tags": []
          },
          "execution_count": 76
        }
      ]
    },
    {
      "cell_type": "code",
      "metadata": {
        "colab": {
          "base_uri": "https://localhost:8080/"
        },
        "id": "-PGYnwHjXNOb",
        "outputId": "25f7ae79-f9fe-4b7b-d346-1a9a17d3fe13"
      },
      "source": [
        "element_exists_list([1,4,6,7], fun(3))"
      ],
      "execution_count": null,
      "outputs": [
        {
          "output_type": "stream",
          "name": "stdout",
          "text": [
            "6\n"
          ]
        },
        {
          "output_type": "execute_result",
          "data": {
            "text/plain": [
              "False"
            ]
          },
          "metadata": {},
          "execution_count": 60
        }
      ]
    },
    {
      "cell_type": "markdown",
      "metadata": {
        "id": "SkNKIDZEyc1w"
      },
      "source": [
        "## Global variable and Local variable"
      ]
    },
    {
      "cell_type": "code",
      "metadata": {
        "id": "E5gkzNkxyiE6",
        "colab": {
          "base_uri": "https://localhost:8080/"
        },
        "outputId": "7b0c9533-bc7a-4024-aca7-db9fa80d58d7"
      },
      "source": [
        "x = 10 # global variable\n",
        "\n",
        "def print_my_x():\n",
        "  return x\n",
        "\n",
        "print(print_my_x())\n",
        "print(x)"
      ],
      "execution_count": null,
      "outputs": [
        {
          "output_type": "stream",
          "name": "stdout",
          "text": [
            "10\n",
            "10\n"
          ]
        }
      ]
    },
    {
      "cell_type": "code",
      "metadata": {
        "id": "OZANIApMyzXr",
        "colab": {
          "base_uri": "https://localhost:8080/"
        },
        "outputId": "26d5ff1a-1b27-4042-94db-9a299b24991e"
      },
      "source": [
        "x = 10\n",
        "def print_my_y(y):\n",
        "  y+=5\n",
        "  return y\n",
        "\n",
        "print(print_my_y(x))\n",
        "print(y)"
      ],
      "execution_count": null,
      "outputs": [
        {
          "output_type": "stream",
          "name": "stdout",
          "text": [
            "15\n",
            "None\n"
          ]
        }
      ]
    },
    {
      "cell_type": "code",
      "metadata": {
        "colab": {
          "base_uri": "https://localhost:8080/"
        },
        "id": "ZSSwQXRnY0tF",
        "outputId": "142e6674-ab24-4f22-8882-693c2506773a"
      },
      "source": [
        "x = [10]\n",
        "def print_my_y(y):\n",
        "  y[0]+=5\n",
        "  return y\n",
        "\n",
        "print(print_my_y(x))\n",
        "print(x)"
      ],
      "execution_count": null,
      "outputs": [
        {
          "output_type": "stream",
          "name": "stdout",
          "text": [
            "[15]\n",
            "[15]\n"
          ]
        }
      ]
    },
    {
      "cell_type": "markdown",
      "metadata": {
        "id": "M-FutkhqoBP5"
      },
      "source": [
        "#### CHALLENGE 5"
      ]
    },
    {
      "cell_type": "code",
      "source": [
        "receipt={}\n",
        "\n",
        "add_product={'name':'bread',}"
      ],
      "metadata": {
        "id": "FzhFYa7WBIKS"
      },
      "execution_count": null,
      "outputs": []
    },
    {
      "cell_type": "markdown",
      "metadata": {
        "id": "I3xTIqv9oBP-"
      },
      "source": [
        "\n",
        "\n",
        "<img src=\"https://retailminded.com/wp-content/uploads/2015/12/Receipt-1.jpg\" width=400>\n",
        "\n",
        "- **Situation**: Imagine you are a house husband/wife, you need to do grocery shopping everyday. It takes too much time to go through paper receipts and calculate how much you spend today (expense). So you need to digitize the paper receipt into a python dictionary.\n",
        "\n",
        "- **Problem**: Write a function **add_product**:\n",
        "  - Inputs:\n",
        "    - An existing dictionary as a receipt\n",
        "    - A product name (string)\n",
        "    - A product price (number)\n",
        "    - A product weight (number)\n",
        "  - Outputs:\n",
        "    - An dictionary as a receipt with that new information of that product\n",
        "  \n",
        "#####Example input 1\n",
        "```python\n",
        "# your existing dictionary receipt\n",
        "receipt = {}\n",
        "\n",
        "# call add_product function to add a new product into your dictionary\n",
        "add_product(receipt, \"milk\", 20, 3)\n",
        "\n",
        "print(receipt)\n",
        "```\n",
        "\n",
        "#####Example output 1\n",
        "```python\n",
        "{\"milk\": {\"cost\": 20, \"weight\": 3}}\n",
        "```\n",
        "\n",
        "-------------\n",
        "\n",
        "#####Example input 2\n",
        "```python\n",
        "# your existing dictionary receipt\n",
        "receipt = {\"milk\": {\"cost\": 20, \"weight\": 3}}\n",
        "\n",
        "# call add_product function to add a new product into your dictionary\n",
        "add_product(receipt, \"rice\", 40, 2)\n",
        "\n",
        "print(receipt)\n",
        "```\n",
        "\n",
        "#####Example output 2\n",
        "```python\n",
        "{\"milk\": {\"cost\": 20, \"weight\": 3},\n",
        "\"rice\": {\"cost\": 40, \"weight\": 2}}\n",
        "```\n",
        "-------------"
      ]
    },
    {
      "cell_type": "code",
      "metadata": {
        "id": "ruaalNWJoBP_",
        "colab": {
          "base_uri": "https://localhost:8080/"
        },
        "outputId": "5833346c-7d89-4685-e4de-43950ac7d20c"
      },
      "source": [
        "receipt = {'milk':{'cost':40,'weight':10}}\n",
        "# Your code here\n",
        "# Define your add_product function here\n",
        "\n",
        "def add_product(name,cost,weight):\n",
        "  return receipt.update({name:{'cost':cost,'weight':weight}})\n",
        "\n",
        "add_product('bread',20,3)\n",
        "\n",
        "print(receipt)\n",
        "\n",
        "# Try to call add_product function to add new product purchases into the receipt dictionary\n",
        "\n"
      ],
      "execution_count": null,
      "outputs": [
        {
          "output_type": "stream",
          "name": "stdout",
          "text": [
            "{'milk': {'cost': 40, 'weight': 10}, 'bread': {'cost': 20, 'weight': 3}}\n"
          ]
        }
      ]
    },
    {
      "cell_type": "markdown",
      "metadata": {
        "id": "gPaBDZgfTBnJ"
      },
      "source": [
        "#### CHALLENGE 6"
      ]
    },
    {
      "cell_type": "code",
      "source": [
        "receipt = {\n",
        "  \"milk\": {\"weight\": 1, \"cost\": 30},\n",
        "  \"rice\": {\"weight\": 2, \"cost\": 20},\n",
        "  \"cookie\": {\"weight\": 3, \"cost\": 30},\n",
        "  \"sugar\": {\"weight\": 1, \"cost\": 40},\n",
        "}\n",
        "\n",
        "total_cost=0\n",
        "total_weight=0\n",
        "\n",
        "for i in receipt[key]['weight']:\n",
        "  total_weight= total_weight + i\n",
        "for k in receipt[key]['cost']:\n",
        "  total_cost=total_cost + k\n",
        "\n",
        "print(total_weight,total_cost)\n",
        "\n",
        "\n"
      ],
      "metadata": {
        "colab": {
          "base_uri": "https://localhost:8080/",
          "height": 239
        },
        "id": "2A7B0-MsVnyr",
        "outputId": "d2ded84a-72a2-4ab1-aaed-4be9bd818e95"
      },
      "execution_count": null,
      "outputs": [
        {
          "output_type": "error",
          "ename": "KeyError",
          "evalue": "ignored",
          "traceback": [
            "\u001b[0;31m---------------------------------------------------------------------------\u001b[0m",
            "\u001b[0;31mKeyError\u001b[0m                                  Traceback (most recent call last)",
            "\u001b[0;32m<ipython-input-35-8e58e55354cc>\u001b[0m in \u001b[0;36m<cell line: 11>\u001b[0;34m()\u001b[0m\n\u001b[1;32m      9\u001b[0m \u001b[0mtotal_weight\u001b[0m\u001b[0;34m=\u001b[0m\u001b[0;36m0\u001b[0m\u001b[0;34m\u001b[0m\u001b[0;34m\u001b[0m\u001b[0m\n\u001b[1;32m     10\u001b[0m \u001b[0;34m\u001b[0m\u001b[0m\n\u001b[0;32m---> 11\u001b[0;31m \u001b[0;32mfor\u001b[0m \u001b[0mi\u001b[0m \u001b[0;32min\u001b[0m \u001b[0mreceipt\u001b[0m\u001b[0;34m[\u001b[0m\u001b[0mkey\u001b[0m\u001b[0;34m]\u001b[0m\u001b[0;34m[\u001b[0m\u001b[0;34m'weight'\u001b[0m\u001b[0;34m]\u001b[0m\u001b[0;34m:\u001b[0m\u001b[0;34m\u001b[0m\u001b[0;34m\u001b[0m\u001b[0m\n\u001b[0m\u001b[1;32m     12\u001b[0m   \u001b[0mtotal_weight\u001b[0m\u001b[0;34m=\u001b[0m \u001b[0mtotal_weight\u001b[0m \u001b[0;34m+\u001b[0m \u001b[0mi\u001b[0m\u001b[0;34m\u001b[0m\u001b[0;34m\u001b[0m\u001b[0m\n\u001b[1;32m     13\u001b[0m \u001b[0;32mfor\u001b[0m \u001b[0mk\u001b[0m \u001b[0;32min\u001b[0m \u001b[0mreceipt\u001b[0m\u001b[0;34m[\u001b[0m\u001b[0mkey\u001b[0m\u001b[0;34m]\u001b[0m\u001b[0;34m[\u001b[0m\u001b[0;34m'cost'\u001b[0m\u001b[0;34m]\u001b[0m\u001b[0;34m:\u001b[0m\u001b[0;34m\u001b[0m\u001b[0;34m\u001b[0m\u001b[0m\n",
            "\u001b[0;31mKeyError\u001b[0m: 'child 3'"
          ]
        }
      ]
    },
    {
      "cell_type": "markdown",
      "metadata": {
        "id": "xgeGIqHPNvxu"
      },
      "source": [
        "\n",
        "\n",
        "<img src=\"https://www.mcgill.ca/oss/files/oss/styles/hd/public/receipts-1372960_1920.jpg?itok=x_cLVfa9&timestamp=1582660126\" width=400>\n",
        "\n",
        "- **Situation**: Imagine you are a house husband/wife, you need to do grocery shopping everyday. It takes too much time to go through paper receipts and calculate how much you spend today (expense). Luckily, you are able to digitize the paper receipt into a python dictionary. Now you just need to calculate the total price of that dictionary.\n",
        "\n",
        "- **Problem**: Write a function **\"calculate_receipt\"** takes a receipt as a dictionary and return a dictionary of two things:\n",
        "  - 1. \"total_weight\": The total price we have paid.\n",
        "  - 2. \"total_cost\": The total weight of the products.\n",
        "\n",
        "#####Example input 1\n",
        "```python\n",
        "receipt = {\n",
        "  \"milk\": {\"weight\": 1, \"cost\": 30},\n",
        "  \"rice\": {\"weight\": 2, \"cost\": 20},\n",
        "  \"cookie\": {\"weight\": 3, \"cost\": 30},\n",
        "  \"sugar\": {\"weight\": 1, \"cost\": 40},\n",
        "}\n",
        "\n",
        "result = calculate_receipt(receipt)\n",
        "\n",
        "print(result)\n",
        "```\n",
        "\n",
        "\n",
        "#####Example output 1\n",
        "```python\n",
        "{\"total_weight\": 7, \"total_cost\": 120}\n",
        "```\n",
        "\n",
        "-------------\n",
        "\n",
        "#####Example input 2\n",
        "```python\n",
        "receipt = {\n",
        "  \"tea\": {\"weight\": 3, \"cost\": 20},\n",
        "  \"milk\": {\"weight\": 2, \"cost\": 50},\n",
        "  \"coffee\": {\"weight\": 1, \"cost\": 10}\n",
        "}\n",
        "\n",
        "result = calculate_receipt(receipt)\n",
        "\n",
        "print(result)\n",
        "```\n",
        "#####Example output 2\n",
        "```python\n",
        "{\"total_weight\": 6, \"total_cost\": 80}\n",
        "```\n",
        "-------------"
      ]
    },
    {
      "cell_type": "code",
      "metadata": {
        "id": "fGQU1Z5lPl7E"
      },
      "source": [
        "receipt = {\n",
        "  \"milk\": {\"cost\": 30, \"weight\": 1},\n",
        "  \"rice\": {\"cost\": 20, \"weight\": 2},\n",
        "  \"cookie\": {\"cost\": 30, \"weight\": 3},\n",
        "  \"sugar\": {\"cost\": 40, \"weight\": 1},\n",
        "}\n",
        "# Your code here\n"
      ],
      "execution_count": null,
      "outputs": []
    }
  ]
}