{
  "nbformat": 4,
  "nbformat_minor": 0,
  "metadata": {
    "colab": {
      "provenance": [],
      "collapsed_sections": [
        "YUAh-tR3KwPf",
        "qjX2VChG5AB6",
        "TYhkrRNg5AB8",
        "B1fXMQts8iW6",
        "o-1xnO7zSPJl",
        "-zufFDXzSPJo"
      ]
    },
    "kernelspec": {
      "name": "python3",
      "display_name": "Python 3"
    },
    "language_info": {
      "name": "python"
    }
  },
  "cells": [
    {
      "cell_type": "markdown",
      "metadata": {
        "id": "YUAh-tR3KwPf"
      },
      "source": [
        "# **PYTHON - While loop, Tuple & Set**\n",
        "\n",
        "\n",
        "<img src=\"https://i.ytimg.com/vi/Ghz4YwOXtTA/maxresdefault.jpg\" width=400>\n",
        "\n",
        "In the previous session, we have learnt and practiced about:\n",
        "- **Variable**\n",
        "- **Number** with math operations\n",
        "- **String** with slicing and methods.\n",
        "- The **`print()`** and **`input()`** function.\n",
        "- Conditionals: **if/elif/else** condition.\n",
        "- Data Structure:\n",
        "  - **List**\n",
        "  - **Dictionary**\n",
        "- Loop: **For** loop with in syntax.\n",
        "\n",
        "In today's session, we will continue on Python with:\n",
        "- Data structures:\n",
        "  - **Tuple**\n",
        "  - **Set**\n",
        "- **While** loop\n",
        "- **Assert** for testing and debugging\n"
      ]
    },
    {
      "cell_type": "markdown",
      "metadata": {
        "id": "erGB82YoLaMG"
      },
      "source": [
        "# 0. REVIEW"
      ]
    },
    {
      "cell_type": "code",
      "metadata": {
        "id": "GCiMyFT55VZ8",
        "colab": {
          "base_uri": "https://localhost:8080/"
        },
        "outputId": "9b2a74bd-4c8a-48e8-aaf6-8650e299bbd7"
      },
      "source": [
        "a = {\"Tom\":27, \"Chinh\": 25}\n",
        "a"
      ],
      "execution_count": null,
      "outputs": [
        {
          "output_type": "execute_result",
          "data": {
            "text/plain": [
              "{'Chinh': 25, 'Tom': 27}"
            ]
          },
          "metadata": {
            "tags": []
          },
          "execution_count": 2
        }
      ]
    },
    {
      "cell_type": "code",
      "metadata": {
        "colab": {
          "base_uri": "https://localhost:8080/"
        },
        "id": "av5L3chBSfad",
        "outputId": "be623304-3f81-484b-a113-ac2f632c9f8a"
      },
      "source": [
        "for i in a:\n",
        "  print(\"key:\", i)\n",
        "  print(\"value\", a[i])"
      ],
      "execution_count": null,
      "outputs": [
        {
          "output_type": "stream",
          "text": [
            "key: Tom\n",
            "value 27\n",
            "key: Chinh\n",
            "value 25\n"
          ],
          "name": "stdout"
        }
      ]
    },
    {
      "cell_type": "code",
      "metadata": {
        "colab": {
          "base_uri": "https://localhost:8080/"
        },
        "id": "rKlUfVbBSpZO",
        "outputId": "a665bdc6-6295-4c2c-a53c-7ab936ca14d0"
      },
      "source": [
        "b = [1, 2, 3, 4, 5]\n",
        "b"
      ],
      "execution_count": null,
      "outputs": [
        {
          "output_type": "execute_result",
          "data": {
            "text/plain": [
              "[1, 2, 3, 4, 5]"
            ]
          },
          "metadata": {
            "tags": []
          },
          "execution_count": 5
        }
      ]
    },
    {
      "cell_type": "code",
      "metadata": {
        "colab": {
          "base_uri": "https://localhost:8080/"
        },
        "id": "Q0h9nDsQStr0",
        "outputId": "205bb193-a32a-4bdf-d544-44ba54f8524c"
      },
      "source": [
        "for index in range(len(b)):\n",
        "  print(b[index])"
      ],
      "execution_count": null,
      "outputs": [
        {
          "output_type": "stream",
          "text": [
            "1\n",
            "2\n",
            "3\n",
            "4\n",
            "5\n"
          ],
          "name": "stdout"
        }
      ]
    },
    {
      "cell_type": "markdown",
      "metadata": {
        "id": "N3E-e5-74I-b"
      },
      "source": [
        "# 1. While Loop"
      ]
    },
    {
      "cell_type": "markdown",
      "metadata": {
        "id": "3OlyfTuv4Rtp"
      },
      "source": [
        "Beside ```For``` loop, we have ```While``` loop.\n",
        "\n",
        "With the while loop we can execute a set of statements as long as a condition is ```True```."
      ]
    },
    {
      "cell_type": "markdown",
      "metadata": {
        "id": "EpGImWRzl-UC"
      },
      "source": [
        "<img src=\"https://i.pinimg.com/474x/5a/39/38/5a393829f1825fbb3feda8efd914b2d2.jpg\" width=250>"
      ]
    },
    {
      "cell_type": "markdown",
      "metadata": {
        "id": "6h-i5Ckz4YV1"
      },
      "source": [
        "**Question:** Can you guess what this function try to do? (Pop-up quiz)"
      ]
    },
    {
      "cell_type": "code",
      "metadata": {
        "id": "6rS0dO2bU3bi",
        "colab": {
          "base_uri": "https://localhost:8080/"
        },
        "outputId": "8b4c7e24-6e59-4799-e47c-4de383214969"
      },
      "source": [
        "i = 1\n",
        "while i < 6:\n",
        "  print(i)\n",
        "  i += 1"
      ],
      "execution_count": null,
      "outputs": [
        {
          "output_type": "stream",
          "text": [
            "2\n",
            "3\n",
            "4\n",
            "5\n",
            "6\n"
          ],
          "name": "stdout"
        }
      ]
    },
    {
      "cell_type": "markdown",
      "metadata": {
        "id": "5fQwCMX7h7G0"
      },
      "source": [
        "**Question:** Can you guess what situation we use ```for``` loop and what situation we use ```while``` loop?\n",
        "\n",
        "<img src=\"https://encrypted-tbn0.gstatic.com/images?q=tbn:ANd9GcSJAY2mOi0tSLhj1fP5sGJkIXpo2fl9MPb6zg&usqp=CAU\" width=250>"
      ]
    },
    {
      "cell_type": "markdown",
      "metadata": {
        "id": "IUnZFNTm4da2"
      },
      "source": [
        "Similarly to ```break``` in For loop, ```break``` in while loop break out of the loop early!\n",
        "\n",
        "**Question:** Can you guess what is the output of this code?\n"
      ]
    },
    {
      "cell_type": "code",
      "metadata": {
        "id": "3VXmwLYGLz28",
        "colab": {
          "base_uri": "https://localhost:8080/"
        },
        "outputId": "795a2bf1-2115-4795-87bb-6e85b449a07e"
      },
      "source": [
        "i = 1\n",
        "while i < 6:\n",
        "  print(i)\n",
        "  if i == 3:\n",
        "    break\n",
        "  i += 1"
      ],
      "execution_count": null,
      "outputs": [
        {
          "output_type": "stream",
          "text": [
            "1\n",
            "2\n",
            "3\n"
          ],
          "name": "stdout"
        }
      ]
    },
    {
      "cell_type": "markdown",
      "metadata": {
        "id": "TwPzucta4pJj"
      },
      "source": [
        "Similarly to ```continue``` in For loop, ```continue``` in while loop will stop the current iteration, and continue with the next!\n",
        "\n",
        "**Question:** Can you guess what is the output of this code?"
      ]
    },
    {
      "cell_type": "code",
      "metadata": {
        "id": "8wheIvM65KHU"
      },
      "source": [
        "i = 1\n",
        "while i < 6:\n",
        "  print(i)\n",
        "  if i == 3:\n",
        "    continue\n",
        "  i += 1"
      ],
      "execution_count": null,
      "outputs": []
    },
    {
      "cell_type": "markdown",
      "metadata": {
        "id": "HhTpp_DCXgTn"
      },
      "source": [
        "**Danger**: when it comes to while loop, there is a chance you will get to infinite loop (endless loop) :))\n",
        "\n",
        "<img src=\"https://i.imgflip.com/472ire.jpg\" width=200>\n",
        "<img src=\"https://lh3.googleusercontent.com/proxy/M5G9GuOGawHcOPhAJtOVyYFLNbuq3hPrEBXnI9myeTU68LCcIWL4-ZlssOJaaxjzXhllJ7ALPYTqMObf1t1Kxn0-qH5byhjqOkNffuquIrSpZIHc5POSB6Vl6zgQirZe45w7j3pPGk1hwQLklkOKRsA8gxjKp6JanAM\" width=200>\n",
        "<img src=\"https://lh3.googleusercontent.com/proxy/oZ3DYx-UqqDX1L9w4aqfd7dvS9eWbsIaCfzzSOgc3aWxMHaxNLoxQwGbpKzr0Ij8xZa_NVDlFqDy-5XPQGWfJc_TCPiN5jFNFgadacq6x2JvypbGoojxIMOXtLG9xNCn56TCsJf1Wd2QMZKE9hc3HRe3nyQGgRTziHU\" width=200>\n",
        "<img src=\"https://memegenerator.net/img/instances/63529751.jpg\" width=200>\n",
        "\n"
      ]
    },
    {
      "cell_type": "markdown",
      "metadata": {
        "id": "ydl8XdiwYUgr"
      },
      "source": [
        "**Question:** How can you write an infinite loop with ```While``` loop?"
      ]
    },
    {
      "cell_type": "code",
      "metadata": {
        "id": "UFzs7uxiYUDD"
      },
      "source": [
        "# your code here\n",
        "\n",
        "while True:\n",
        "  print(\"hello\")"
      ],
      "execution_count": null,
      "outputs": []
    },
    {
      "cell_type": "markdown",
      "metadata": {
        "id": "Zh4xUJs0jyhi"
      },
      "source": [
        "**Question:** Do we must avoid the infinite loop at all cost? Can you think of any situation we can benefit from an infinite loop?"
      ]
    },
    {
      "cell_type": "markdown",
      "metadata": {
        "id": "I0pjzXnAXXeN"
      },
      "source": [
        "Game: let user enter a number until that number is 0."
      ]
    },
    {
      "cell_type": "code",
      "metadata": {
        "id": "4CpcJJYU5-eB"
      },
      "source": [
        "# your code here\n",
        "while True:\n",
        "  i = int(input(\"Enter a number:\"))\n",
        "  if i == 0:\n",
        "    break"
      ],
      "execution_count": null,
      "outputs": []
    },
    {
      "cell_type": "code",
      "metadata": {
        "colab": {
          "base_uri": "https://localhost:8080/"
        },
        "id": "YC7HBxb6YAiG",
        "outputId": "c6a4baa4-d648-4e2c-f59a-ae9cd3b85e12"
      },
      "source": [
        "i = 2\n",
        "while i!=0:\n",
        "  i=int(input(\"Enter a number: \"))"
      ],
      "execution_count": null,
      "outputs": [
        {
          "output_type": "stream",
          "text": [
            "Enter a number: 3\n",
            "Enter a number: 6\n",
            "Enter a number: 8\n",
            "Enter a number: 4\n",
            "Enter a number: 0\n"
          ],
          "name": "stdout"
        }
      ]
    },
    {
      "cell_type": "markdown",
      "metadata": {
        "id": "xfxn_8TEEYM1"
      },
      "source": [
        "<img src=\"https://i.imgur.com/AkqvvJY.jpgjpg\" width=350>"
      ]
    },
    {
      "cell_type": "markdown",
      "metadata": {
        "id": "M2q_k0OYLb7Z"
      },
      "source": [
        "# 2. TUPLE (Data Structure)"
      ]
    },
    {
      "cell_type": "markdown",
      "metadata": {
        "id": "uxF1G6STYvGs"
      },
      "source": [
        "Tuples are sequences, just like **lists but immutable** (cannot be changed).\n",
        "\n",
        "The differences between tuples and lists are, the tuples cannot be changed unlike lists and **tuples use parentheses ( )**, whereas **lists use square brackets [ ]**.\n",
        "\n",
        "<img src=\"https://i.imgur.com/R0Wn3sS.png\" width=500>"
      ]
    },
    {
      "cell_type": "code",
      "metadata": {
        "id": "HWTZ1W8rLfUz"
      },
      "source": [
        "my_resume = ()"
      ],
      "execution_count": null,
      "outputs": []
    },
    {
      "cell_type": "code",
      "metadata": {
        "colab": {
          "base_uri": "https://localhost:8080/"
        },
        "id": "Zc5c3UfaZDRI",
        "outputId": "2e51cd05-fd1b-4c4a-c9bd-453d11575bbd"
      },
      "source": [
        "my_resume = (\"Python\", \"C++\", \"Java\")\n",
        "my_resume"
      ],
      "execution_count": null,
      "outputs": [
        {
          "output_type": "execute_result",
          "data": {
            "text/plain": [
              "('Python', 'C++', 'Java')"
            ]
          },
          "metadata": {
            "tags": []
          },
          "execution_count": 29
        }
      ]
    },
    {
      "cell_type": "code",
      "metadata": {
        "id": "qBaw1MnH5XnY",
        "colab": {
          "base_uri": "https://localhost:8080/"
        },
        "outputId": "96cbe0db-a7dc-4e56-da0a-cf1a5a068bbc"
      },
      "source": [
        "len(my_resume)"
      ],
      "execution_count": null,
      "outputs": [
        {
          "output_type": "execute_result",
          "data": {
            "text/plain": [
              "3"
            ]
          },
          "metadata": {
            "tags": []
          },
          "execution_count": 30
        }
      ]
    },
    {
      "cell_type": "code",
      "metadata": {
        "colab": {
          "base_uri": "https://localhost:8080/",
          "height": 35
        },
        "id": "Vr8o_5DoZKTk",
        "outputId": "f0d017ce-5c69-456f-dddf-c196caa4b36e"
      },
      "source": [
        "my_resume[1]"
      ],
      "execution_count": null,
      "outputs": [
        {
          "output_type": "execute_result",
          "data": {
            "application/vnd.google.colaboratory.intrinsic+json": {
              "type": "string"
            },
            "text/plain": [
              "'C++'"
            ]
          },
          "metadata": {
            "tags": []
          },
          "execution_count": 31
        }
      ]
    },
    {
      "cell_type": "code",
      "metadata": {
        "id": "Fl3rQ0NUMPDy",
        "colab": {
          "base_uri": "https://localhost:8080/"
        },
        "outputId": "58b155da-7bfc-4f85-a0f6-a39535442a58"
      },
      "source": [
        "# Create a tuple with different datatype, which is similar to list\n",
        "my_tuple = (1, \"Tom\", False)\n",
        "my_tuple"
      ],
      "execution_count": null,
      "outputs": [
        {
          "output_type": "execute_result",
          "data": {
            "text/plain": [
              "(1, 'Tom', False)"
            ]
          },
          "metadata": {
            "tags": []
          },
          "execution_count": 33
        }
      ]
    },
    {
      "cell_type": "code",
      "metadata": {
        "id": "uZhgwQ-wMQyK"
      },
      "source": [
        "# Try mutating the tuple (Is it possible?)\n",
        "my_tuple[0] = 28"
      ],
      "execution_count": null,
      "outputs": []
    },
    {
      "cell_type": "markdown",
      "metadata": {
        "id": "x7alQ3xnFCPP"
      },
      "source": [
        "There is a benefit why we want to use tuples which is to create a dictionary with tuples as keys.\n"
      ]
    },
    {
      "cell_type": "code",
      "metadata": {
        "id": "5cYASR4hRHQt",
        "colab": {
          "base_uri": "https://localhost:8080/"
        },
        "outputId": "5170da90-136a-4d21-ed43-1841c26a0865"
      },
      "source": [
        "tax_rules = {\"full-time\": \"30%\", \"part-time\": \"10%\"}\n",
        "tax_rules"
      ],
      "execution_count": null,
      "outputs": [
        {
          "output_type": "execute_result",
          "data": {
            "text/plain": [
              "{'full-time': '30%', 'part-time': '10%'}"
            ]
          },
          "metadata": {
            "tags": []
          },
          "execution_count": 36
        }
      ]
    },
    {
      "cell_type": "markdown",
      "metadata": {
        "id": "yVjVAi2ERNVG"
      },
      "source": [
        "What if we want to make our keys to be more complex to accommodate the tax rules for local Vietnamese and foreign people?\n",
        "\n",
        "What will happen if you try to use lists as keys in dictionary?"
      ]
    },
    {
      "cell_type": "code",
      "metadata": {
        "id": "gGqFGou032dq",
        "colab": {
          "base_uri": "https://localhost:8080/",
          "height": 198
        },
        "outputId": "59e4a780-a88f-4785-c780-63354475257f"
      },
      "source": [
        "tax_rules = {[\"full-time\",\"local\"]: \"30%\",\n",
        "             [\"part-time\",\"local\"]: \"10%\",\n",
        "             [\"full-time\",\"foreign\"]: \"50%\",\n",
        "             [\"part-time\",\"foreign\"]: \"40%\"}"
      ],
      "execution_count": null,
      "outputs": [
        {
          "output_type": "error",
          "ename": "TypeError",
          "evalue": "ignored",
          "traceback": [
            "\u001b[0;31m---------------------------------------------------------------------------\u001b[0m",
            "\u001b[0;31mTypeError\u001b[0m                                 Traceback (most recent call last)",
            "\u001b[0;32m<ipython-input-37-bab79898e705>\u001b[0m in \u001b[0;36m<module>\u001b[0;34m()\u001b[0m\n\u001b[1;32m      2\u001b[0m              \u001b[0;34m[\u001b[0m\u001b[0;34m\"part-time\"\u001b[0m\u001b[0;34m,\u001b[0m\u001b[0;34m\"local\"\u001b[0m\u001b[0;34m]\u001b[0m\u001b[0;34m:\u001b[0m \u001b[0;34m\"10%\"\u001b[0m\u001b[0;34m,\u001b[0m\u001b[0;34m\u001b[0m\u001b[0;34m\u001b[0m\u001b[0m\n\u001b[1;32m      3\u001b[0m              \u001b[0;34m[\u001b[0m\u001b[0;34m\"full-time\"\u001b[0m\u001b[0;34m,\u001b[0m\u001b[0;34m\"foreign\"\u001b[0m\u001b[0;34m]\u001b[0m\u001b[0;34m:\u001b[0m \u001b[0;34m\"50%\"\u001b[0m\u001b[0;34m,\u001b[0m\u001b[0;34m\u001b[0m\u001b[0;34m\u001b[0m\u001b[0m\n\u001b[0;32m----> 4\u001b[0;31m              [\"part-time\",\"foreign\"]: \"40%\"}\n\u001b[0m",
            "\u001b[0;31mTypeError\u001b[0m: unhashable type: 'list'"
          ]
        }
      ]
    },
    {
      "cell_type": "markdown",
      "metadata": {
        "id": "_FoTohZcRbOh"
      },
      "source": [
        "There is a simple solution: let's use tuples as keys so we can have a more complex dictionary key."
      ]
    },
    {
      "cell_type": "code",
      "metadata": {
        "id": "j-QEZ3uXEyIj",
        "colab": {
          "base_uri": "https://localhost:8080/"
        },
        "outputId": "52f0938e-ecd9-4ae9-9922-4e22894afe6a"
      },
      "source": [
        "tax_rules = {(\"full-time\",\"local\"): \"30%\",\n",
        "             (\"part-time\",\"local\"): \"10%\",\n",
        "             (\"full-time\",\"foreign\"): \"50%\",\n",
        "             (\"part-time\",\"foreign\"): \"40%\"}\n",
        "tax_rules"
      ],
      "execution_count": null,
      "outputs": [
        {
          "output_type": "execute_result",
          "data": {
            "text/plain": [
              "{('full-time', 'foreign'): '50%',\n",
              " ('full-time', 'local'): '30%',\n",
              " ('part-time', 'foreign'): '40%',\n",
              " ('part-time', 'local'): '10%'}"
            ]
          },
          "metadata": {
            "tags": []
          },
          "execution_count": 38
        }
      ]
    },
    {
      "cell_type": "code",
      "metadata": {
        "colab": {
          "base_uri": "https://localhost:8080/",
          "height": 35
        },
        "id": "IJsWjDr8aH2A",
        "outputId": "9cdccb35-04e1-4b82-ba27-94fc48a85248"
      },
      "source": [
        "tax_rules[('full-time', 'foreign')]"
      ],
      "execution_count": null,
      "outputs": [
        {
          "output_type": "execute_result",
          "data": {
            "application/vnd.google.colaboratory.intrinsic+json": {
              "type": "string"
            },
            "text/plain": [
              "'50%'"
            ]
          },
          "metadata": {
            "tags": []
          },
          "execution_count": 39
        }
      ]
    },
    {
      "cell_type": "markdown",
      "metadata": {
        "id": "t1FOrZEx83Nn"
      },
      "source": [
        "**Question**: Can you try to create a dictionary with keys being tuple? (Discussion)"
      ]
    },
    {
      "cell_type": "code",
      "metadata": {
        "id": "vZX3_ZWS82tI",
        "colab": {
          "base_uri": "https://localhost:8080/"
        },
        "outputId": "216b0bd4-78e0-4b06-b815-7aed4003b182"
      },
      "source": [
        "# your code here\n",
        "fashion_shop_items = {\n",
        "    (\"shirt\", \"casual\"): 3,\n",
        "    (\"short\", \"formal\"): 4,\n",
        "    (\"short\", \"semi-formal\"): 4,\n",
        "}\n",
        "fashion_shop_items"
      ],
      "execution_count": null,
      "outputs": [
        {
          "output_type": "execute_result",
          "data": {
            "text/plain": [
              "{('shirt', 'casual'): 3, ('short', 'formal'): 4, ('short', 'semi-formal'): 4}"
            ]
          },
          "metadata": {
            "tags": []
          },
          "execution_count": 41
        }
      ]
    },
    {
      "cell_type": "markdown",
      "metadata": {
        "id": "hEoIy-dBILTS"
      },
      "source": [
        "**Question**: Can you access value 20 from the following tuple? (Pop-up quiz)\n",
        "\n",
        "Hint: Very similar to list :)"
      ]
    },
    {
      "cell_type": "code",
      "metadata": {
        "id": "86gjn479IL1c",
        "colab": {
          "base_uri": "https://localhost:8080/"
        },
        "outputId": "89be98a5-7614-4515-9483-23682836a8dd"
      },
      "source": [
        "aTuple = (\"Orange\", [10, 20, 30], (5, 15, 25))\n",
        "# your code here\n",
        "aTuple[1][1]"
      ],
      "execution_count": null,
      "outputs": [
        {
          "output_type": "execute_result",
          "data": {
            "text/plain": [
              "20"
            ]
          },
          "metadata": {
            "tags": []
          },
          "execution_count": 43
        }
      ]
    },
    {
      "cell_type": "markdown",
      "metadata": {
        "id": "iueC4FpiLfk-"
      },
      "source": [
        "# 3. SET (Data Structure)"
      ]
    },
    {
      "cell_type": "markdown",
      "metadata": {
        "id": "ofc_69TDZjjr"
      },
      "source": [
        "A set is an **unordered** collection of items. Every set **element is unique** (no duplicates) and must be **immutable** (cannot be changed)."
      ]
    },
    {
      "cell_type": "code",
      "metadata": {
        "id": "HRMwhndaLkhD",
        "colab": {
          "base_uri": "https://localhost:8080/"
        },
        "outputId": "0fb8e20f-09b0-4150-cb2d-8c294cd6c1eb"
      },
      "source": [
        "# Convert a list to a set\n",
        "new_list = set(['banana', 'kiwi', 'kiwi', 'orange', 'orange', 'banana'])\n",
        "new_list"
      ],
      "execution_count": null,
      "outputs": [
        {
          "output_type": "execute_result",
          "data": {
            "text/plain": [
              "{'banana', 'kiwi', 'orange'}"
            ]
          },
          "metadata": {
            "tags": []
          },
          "execution_count": 44
        }
      ]
    },
    {
      "cell_type": "markdown",
      "metadata": {
        "id": "uLR6PA8Y5yI5"
      },
      "source": [
        "<img src=\"https://camo.githubusercontent.com/af03bcbaeed4036d4f74e2f1c009c337b3e2ee54df54f83305d0e2eb1dd3678c/68747470733a2f2f662e636c6f75642e6769746875622e636f6d2f6173736574732f37383437322f313335313234352f32303933376230342d333731662d313165332d383539652d6636383163653765643034312e706e67\" width=250>"
      ]
    },
    {
      "cell_type": "code",
      "metadata": {
        "colab": {
          "base_uri": "https://localhost:8080/"
        },
        "id": "cr-OUTyVdaba",
        "outputId": "d11411a7-241b-4327-de4d-e43466e14d87"
      },
      "source": [
        "new_list = {1, 1, 2, 3, 4, 5, 5}\n",
        "new_list"
      ],
      "execution_count": null,
      "outputs": [
        {
          "output_type": "execute_result",
          "data": {
            "text/plain": [
              "{1, 2, 3, 4, 5}"
            ]
          },
          "metadata": {
            "tags": []
          },
          "execution_count": 48
        }
      ]
    },
    {
      "cell_type": "code",
      "metadata": {
        "id": "aRm9JeLmMXRg",
        "colab": {
          "base_uri": "https://localhost:8080/"
        },
        "outputId": "e1c6a5dd-5298-4ba1-c783-1963fc61bf61"
      },
      "source": [
        "# Set Operations\n",
        "# union()\n",
        "a = {1, 2, 3, 4, 5}\n",
        "b = {4, 5, 6, 7, 8}\n",
        "\n",
        "a.union(b)"
      ],
      "execution_count": null,
      "outputs": [
        {
          "output_type": "execute_result",
          "data": {
            "text/plain": [
              "{1, 2, 3, 4, 5, 6, 7, 8}"
            ]
          },
          "metadata": {
            "tags": []
          },
          "execution_count": 45
        }
      ]
    },
    {
      "cell_type": "code",
      "metadata": {
        "colab": {
          "base_uri": "https://localhost:8080/"
        },
        "id": "EVNbWj7vdu09",
        "outputId": "cdf48d7e-3196-4b2f-83b0-172dd68c9981"
      },
      "source": [
        "b.union(a)"
      ],
      "execution_count": null,
      "outputs": [
        {
          "output_type": "execute_result",
          "data": {
            "text/plain": [
              "{1, 2, 3, 4, 5, 6, 7, 8}"
            ]
          },
          "metadata": {
            "tags": []
          },
          "execution_count": 49
        }
      ]
    },
    {
      "cell_type": "code",
      "metadata": {
        "id": "M9F8ft2qMYNf",
        "colab": {
          "base_uri": "https://localhost:8080/"
        },
        "outputId": "9a1b765f-2bc3-4f84-f6a3-56e8657c1052"
      },
      "source": [
        "# intersection()\n",
        "a.intersection(b)"
      ],
      "execution_count": null,
      "outputs": [
        {
          "output_type": "execute_result",
          "data": {
            "text/plain": [
              "{4, 5}"
            ]
          },
          "metadata": {
            "tags": []
          },
          "execution_count": 50
        }
      ]
    },
    {
      "cell_type": "code",
      "metadata": {
        "id": "VZaPLM4yMZpk",
        "colab": {
          "base_uri": "https://localhost:8080/"
        },
        "outputId": "638c845b-dfc4-401f-930d-03e4444023bf"
      },
      "source": [
        "# difference()\n",
        "a.difference(b)"
      ],
      "execution_count": null,
      "outputs": [
        {
          "output_type": "execute_result",
          "data": {
            "text/plain": [
              "{1, 2, 3}"
            ]
          },
          "metadata": {
            "tags": []
          },
          "execution_count": 51
        }
      ]
    },
    {
      "cell_type": "code",
      "metadata": {
        "id": "XtAt_jJJ6Hf4",
        "colab": {
          "base_uri": "https://localhost:8080/"
        },
        "outputId": "d612a240-f195-4bfd-fa2c-026af3e73848"
      },
      "source": [
        "b.difference(a)"
      ],
      "execution_count": null,
      "outputs": [
        {
          "output_type": "execute_result",
          "data": {
            "text/plain": [
              "{6, 7, 8}"
            ]
          },
          "metadata": {
            "tags": []
          },
          "execution_count": 52
        }
      ]
    },
    {
      "cell_type": "markdown",
      "metadata": {
        "id": "TgxdQ4Et6n1G"
      },
      "source": [
        "**Question:** Can you think of situations we should use set instead of list and dictionary?"
      ]
    },
    {
      "cell_type": "code",
      "metadata": {
        "id": "ai2xzngZ6yfa"
      },
      "source": [
        "a = [1,2,3,4,5]\n",
        "4 in a"
      ],
      "execution_count": null,
      "outputs": []
    },
    {
      "cell_type": "code",
      "metadata": {
        "id": "czin3dzfeXqp"
      },
      "source": [
        "b = {1,2,3,4,5}\n",
        "4 in b"
      ],
      "execution_count": null,
      "outputs": []
    },
    {
      "cell_type": "code",
      "metadata": {
        "colab": {
          "base_uri": "https://localhost:8080/"
        },
        "id": "RwsbZAxMefUq",
        "outputId": "72078d3f-5338-4a96-9ed6-10559439dd40"
      },
      "source": [
        "a = [1,2,4,3,5,6,7,3,3,5,4,3,4,5]\n",
        "a = set(a)\n",
        "len(a)"
      ],
      "execution_count": null,
      "outputs": [
        {
          "output_type": "execute_result",
          "data": {
            "text/plain": [
              "7"
            ]
          },
          "metadata": {
            "tags": []
          },
          "execution_count": 55
        }
      ]
    },
    {
      "cell_type": "markdown",
      "metadata": {
        "id": "MlY3cPY7EriD"
      },
      "source": [
        "# 4. Assert"
      ]
    },
    {
      "cell_type": "markdown",
      "metadata": {
        "id": "t0lE8qaySzq2"
      },
      "source": [
        "The assert keyword is used when debugging code.\n",
        "\n",
        "The assert keyword lets you test if a condition in your code returns True, if not, the program will raise an AssertionError."
      ]
    },
    {
      "cell_type": "code",
      "metadata": {
        "id": "IvZu-fizEtIO",
        "colab": {
          "base_uri": "https://localhost:8080/",
          "height": 164
        },
        "outputId": "d5fd8116-7562-4229-ff32-47028330d21f"
      },
      "source": [
        "assert (1==2)"
      ],
      "execution_count": null,
      "outputs": [
        {
          "output_type": "error",
          "ename": "AssertionError",
          "evalue": "ignored",
          "traceback": [
            "\u001b[0;31m---------------------------------------------------------------------------\u001b[0m",
            "\u001b[0;31mAssertionError\u001b[0m                            Traceback (most recent call last)",
            "\u001b[0;32m<ipython-input-56-b5ea04f4f930>\u001b[0m in \u001b[0;36m<module>\u001b[0;34m()\u001b[0m\n\u001b[0;32m----> 1\u001b[0;31m \u001b[0;32massert\u001b[0m \u001b[0;34m(\u001b[0m\u001b[0;36m1\u001b[0m\u001b[0;34m==\u001b[0m\u001b[0;36m2\u001b[0m\u001b[0;34m)\u001b[0m\u001b[0;34m\u001b[0m\u001b[0;34m\u001b[0m\u001b[0m\n\u001b[0m",
            "\u001b[0;31mAssertionError\u001b[0m: "
          ]
        }
      ]
    },
    {
      "cell_type": "code",
      "metadata": {
        "id": "4NMBe9-wS3b0"
      },
      "source": [
        "assert (2==2)"
      ],
      "execution_count": null,
      "outputs": []
    },
    {
      "cell_type": "code",
      "metadata": {
        "id": "LSa3k15YS720"
      },
      "source": [
        "assert(2+1==3)"
      ],
      "execution_count": null,
      "outputs": []
    },
    {
      "cell_type": "code",
      "metadata": {
        "id": "CQIMaN9xS9c_"
      },
      "source": [
        "assert(max([4,7,9])==5)"
      ],
      "execution_count": null,
      "outputs": []
    },
    {
      "cell_type": "markdown",
      "metadata": {
        "id": "1BrRQE_JTDaS"
      },
      "source": [
        "Hmmmm, that is interesting but ultimately, we want to use assert to create an automatic test function to test your function. Here is the example:"
      ]
    },
    {
      "cell_type": "markdown",
      "metadata": {
        "id": "d65YTpZrirqN"
      },
      "source": [
        "###Sample Module Test"
      ]
    },
    {
      "cell_type": "markdown",
      "metadata": {
        "id": "9yTNXugeTgEo"
      },
      "source": [
        "Please write a function **second_max** which takes a list of numbers as an input and return the second highest number in the list.\n",
        "\n",
        "**Public Sample Input 1**\n",
        "```python\n",
        "second_max([5,4,2,7,2,7,9,4,2,5])\n",
        "```\n",
        "**Public Sample Output 1**\n",
        "```python\n",
        "7\n",
        "```\n",
        "----------------------------\n",
        "**Public Sample Input 2**\n",
        "```python\n",
        "second_max([2,5,7,8,3,6,8,9,1,2,4])\n",
        "```\n",
        "**Public Sample Output**\n",
        "```python\n",
        "8\n",
        "```\n",
        "---------------------------\n"
      ]
    },
    {
      "cell_type": "markdown",
      "metadata": {
        "id": "TDYccHij7Pww"
      },
      "source": [
        "Can you try to figure out how to write this function second_max?"
      ]
    },
    {
      "cell_type": "code",
      "metadata": {
        "id": "aVSWRWdpTA_Y"
      },
      "source": [
        "def second_max(my_list):\n",
        "  # Your Code Here\n",
        "  my_set = list(set(my_list))\n",
        "  return sorted(my_set)[-2]"
      ],
      "execution_count": null,
      "outputs": []
    },
    {
      "cell_type": "markdown",
      "metadata": {
        "id": "jSaVqPJq65lU"
      },
      "source": [
        "You don't really need to write this testing code ever.\n",
        "\n",
        "This code here is to show you how we can write a script to automatic mark your function **second_max**.\n",
        "\n",
        "This is more important to understand how it works!"
      ]
    },
    {
      "cell_type": "code",
      "metadata": {
        "id": "e5YAe9pAUWxe",
        "colab": {
          "base_uri": "https://localhost:8080/"
        },
        "outputId": "70ead41f-e1d5-4aec-831b-d302072ea089"
      },
      "source": [
        "# Here is our public test cases\n",
        "score = 0                                   # your starting score\n",
        "test_cases= [\n",
        "             ([5,4,2,7,2,7,9,4,2,5], 7),    # test case 1\n",
        "             ([2,5,7,8,3,6,8,9,1,2,4], 8),  # test case 2\n",
        "             ([5,4,3,2,1], 4),              # test case 3\n",
        "             ([4,5,6,7], 6),                # test case 4\n",
        "             ([56,34,65,23], 56),           # test case 5\n",
        "             ([5,5,4,3,2,1], 4)            # test case 6\n",
        "             ]\n",
        "\n",
        "for test_case in test_cases:\n",
        "  try:\n",
        "    assert (second_max(test_case[0])==test_case[1])\n",
        "    print(\"You passed a test case:\", test_case[0])\n",
        "    score +=1\n",
        "  except:\n",
        "    print(\"You failed a test case:\", test_case[0])\n",
        "\n",
        "print(\"My total score is\", score, \"out of\", len(test_cases))"
      ],
      "execution_count": null,
      "outputs": [
        {
          "output_type": "stream",
          "text": [
            "You passed a test case: [5, 4, 2, 7, 2, 7, 9, 4, 2, 5]\n",
            "You passed a test case: [2, 5, 7, 8, 3, 6, 8, 9, 1, 2, 4]\n",
            "You passed a test case: [5, 4, 3, 2, 1]\n",
            "You passed a test case: [4, 5, 6, 7]\n",
            "You passed a test case: [56, 34, 65, 23]\n",
            "You passed a test case: [5, 5, 4, 3, 2, 1]\n",
            "My total score is 6 out of 6\n"
          ],
          "name": "stdout"
        }
      ]
    },
    {
      "cell_type": "markdown",
      "metadata": {
        "id": "-JtYwAvN5HVm"
      },
      "source": [
        "# Challenges"
      ]
    },
    {
      "cell_type": "markdown",
      "metadata": {
        "id": "qjX2VChG5AB6"
      },
      "source": [
        "### Challenge 1 (While Loop)"
      ]
    },
    {
      "cell_type": "markdown",
      "metadata": {
        "id": "TYhkrRNg5AB8"
      },
      "source": [
        "####Statement\n",
        "\n",
        "For a given integer N, print all the squares of integer numbers where the square is less than or equal to N, in ascending order.\n",
        "\n",
        "\n",
        "####Example input 1\n",
        "```\n",
        "50\n",
        "```\n",
        "\n",
        "####Example output 1\n",
        "```\n",
        "1 4 9 16 25 36 49\n",
        "```\n",
        "-------------------------\n",
        "####Example input 2\n",
        "```\n",
        "10\n",
        "```\n",
        "\n",
        "####Example output 2\n",
        "```\n",
        "1 4 9\n",
        "```\n",
        "-------------------------\n",
        "####Example input 3\n",
        "```\n",
        "99\n",
        "```\n",
        "\n",
        "####Example output 3\n",
        "```\n",
        "1 4 9 16 25 36 49 64 81\n",
        "```\n"
      ]
    },
    {
      "cell_type": "code",
      "metadata": {
        "id": "xpcYmOW45AB8"
      },
      "source": [
        "# Your code here\n"
      ],
      "execution_count": null,
      "outputs": []
    },
    {
      "cell_type": "markdown",
      "metadata": {
        "id": "V5Pet8Er5AB9"
      },
      "source": [
        "### Challenge 2 (While Loop)"
      ]
    },
    {
      "cell_type": "markdown",
      "metadata": {
        "id": "ebWLhEQG5AB9"
      },
      "source": [
        "####Statement\n",
        "\n",
        "Determine the average of all elements of the sequence which are inputted by the user and the sequence ends with the number 0.\n",
        "\n",
        "In other words, users can continue to enter the sequence as long as they want until they enter the number 0. Then the program should return the average of the sequence.\n",
        "\n",
        "####Example input 1\n",
        "```\n",
        "1\n",
        "7\n",
        "9\n",
        "0\n",
        "```\n",
        "\n",
        "####Example output 1\n",
        "```\n",
        "5.66666666667\n",
        "```\n",
        "-------------------------\n"
      ]
    },
    {
      "cell_type": "code",
      "metadata": {
        "id": "uVBdPvps5AB9"
      },
      "source": [
        "# Your code here\n"
      ],
      "execution_count": null,
      "outputs": []
    },
    {
      "cell_type": "markdown",
      "metadata": {
        "id": "xaKv7pHX8iWv"
      },
      "source": [
        "### Challenge 3 (Set Problem)"
      ]
    },
    {
      "cell_type": "markdown",
      "metadata": {
        "id": "B1fXMQts8iW6"
      },
      "source": [
        "####Statement\n",
        "\n",
        "Given a list of integers. Determine how many distinct numbers there are.\n",
        "\n",
        "This task can be solved in one line of code.\n",
        "\n",
        "####Example input 1\n",
        "```\n",
        "1 2 3 2 1\n",
        "```\n",
        "\n",
        "####Example output 1\n",
        "```\n",
        "3\n",
        "```\n",
        "-------------------------\n",
        "####Example input 2\n",
        "```\n",
        "1 2 3 4 5 6 7 8 9 10\n",
        "```\n",
        "\n",
        "####Example output 2\n",
        "```\n",
        "10\n",
        "```\n",
        "-------------------------\n",
        "####Example input 3\n",
        "```\n",
        "1 2 3 4 5 1 2 1 2 7 3\n",
        "```\n",
        "\n",
        "####Example output 3\n",
        "```\n",
        "6\n",
        "```\n"
      ]
    },
    {
      "cell_type": "code",
      "metadata": {
        "id": "bRU8fAOM8iW6"
      },
      "source": [
        "# Your code here\n"
      ],
      "execution_count": null,
      "outputs": []
    },
    {
      "cell_type": "markdown",
      "metadata": {
        "id": "o-1xnO7zSPJl"
      },
      "source": [
        "### Challenge 4 (Set Problem)"
      ]
    },
    {
      "cell_type": "markdown",
      "metadata": {
        "id": "-zufFDXzSPJo"
      },
      "source": [
        "####Statement\n",
        "\n",
        "Use Python Sets to figure out what is ... between two sets of numbers below?\n",
        "\n",
        "1. Same Numbers\n",
        "2. Different Numbers\n",
        "3. Numbers in Set 1 and not in Set 2\n",
        "4. Number in Set 2 and not in Set 1\n",
        "\n",
        "<img src=\"https://study.com/cimages/multimages/16/screen_shot_2017-03-28_at_8.28.58_pm.png\">\n"
      ]
    },
    {
      "cell_type": "code",
      "metadata": {
        "id": "z5QLiHpJSPJo"
      },
      "source": [
        "# Your code here\n"
      ],
      "execution_count": null,
      "outputs": []
    },
    {
      "cell_type": "markdown",
      "metadata": {
        "id": "il5M1jRWahkB"
      },
      "source": [
        "###Challenge 5 (Google Interview Question with Test Cases)\n",
        "\n"
      ]
    },
    {
      "cell_type": "markdown",
      "metadata": {
        "id": "3YztQzfCbzfQ"
      },
      "source": [
        "**Fun Fact:** This is inspired from an **real interview question** to get a job in **Google** 🤓\n",
        "\n",
        "**Question:** Given an list of numbers, return ```True``` if there's a smaller continuous 3-number sequence in the list which sums up to the given number, ```False``` otherwise.\n",
        "\n",
        "**For example**\n",
        "\n",
        "guess_sum(11, [2, 5, 2, 4, 7, 3]) --> returns ```True```,  as 5+2+4 sums to 11 (We have 4 + 7 but it is 2-number sequence).\n",
        "\n",
        "guess_sum(11, [2, 6, 4, 2, 6, 1]) --> returns ```False```. The sequence must be continuous (next to each other), so even though 4 + 6 + 1 = 11, this is not continuous.\n",
        "\n",
        "And the whole interview is only 30 minutes, so you have to figure it out quickly.\n",
        "\n",
        "**Public Sample Input 1**\n",
        "```python\n",
        "guess_sum(11, [2, 5, 2, 4, 7, 3])\n",
        "```\n",
        "**Public Sample Output 1**\n",
        "```python\n",
        "True\n",
        "```\n",
        "--------------\n",
        "**Public Sample Input 2**\n",
        "```python\n",
        "guess_sum(11, [2, 6, 4, 2, 6, 1])\n",
        "```\n",
        "**Public Sample Output 2**\n",
        "```python\n",
        "False\n",
        "```\n",
        "--------------"
      ]
    },
    {
      "cell_type": "code",
      "metadata": {
        "id": "1VbtvlTnVtwx"
      },
      "source": [
        "# Your code here (make sure we define guess_sum function)\n",
        "def guess_sum(num, my_list):\n",
        "  # Your Code Here\n",
        "\n"
      ],
      "execution_count": null,
      "outputs": []
    },
    {
      "cell_type": "code",
      "metadata": {
        "id": "z6726d6mdAUq",
        "cellView": "form"
      },
      "source": [
        "#@title Hidden Test Cases for guess_sum function (Just Run This Cell to get your score)\n",
        "score = 0\n",
        "test_cases= [\n",
        "             (11, [2, 5, 2, 4, 7, 3], True),\n",
        "             (11, [2, 6, 4, 2, 6, 1], False),\n",
        "             (3, [4, 3, 2, 1, 5, 3], False),\n",
        "             (3, [2, 6, 4, 1, 1, 1], True),\n",
        "             (10, [6, 3, 2, 7, 1, 10], True),\n",
        "             (7, [1, 3, 4, 5, 2, 7], False),\n",
        "             (7, [1, 3, 2, 2, 2, 7], True),\n",
        "             ]\n",
        "for test_case in test_cases:\n",
        "  try:\n",
        "    assert (guess_sum(test_case[0], test_case[1])==test_case[2])\n",
        "    print(\"You passed a test case:\", test_case[:2])\n",
        "    score +=1\n",
        "  except:\n",
        "    print(\"You failed a test case:\", test_case[:2])\n",
        "print(\"My total score is\", score, \"out of\", len(test_cases))\n"
      ],
      "execution_count": null,
      "outputs": []
    }
  ]
}