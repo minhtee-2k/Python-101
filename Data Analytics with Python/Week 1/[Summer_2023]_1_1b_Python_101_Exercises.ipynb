{
  "nbformat": 4,
  "nbformat_minor": 0,
  "metadata": {
    "colab": {
      "provenance": [],
      "collapsed_sections": [
        "4aJb4uMdznj_",
        "vuFadunxP-Sk",
        "qFaUGwkJ0osg",
        "GhhsdoeC7K1l",
        "CjmiKwFU7PPQ",
        "IAPOC-s2TMHL",
        "YA10Kzf4TUkX",
        "bVkc-bL70wOO",
        "CliCYKv50xfM",
        "7uCDrLwgU8jY",
        "fYYfiqrC0CGo",
        "kR-PbywL0h18",
        "_dXuguA70jNq",
        "m17GPhqxVWma",
        "dvYzRPTk2dYI",
        "VzVLfjEB2jCy",
        "zhxF_3pc1Lvu",
        "LYaoDcFE1Nte",
        "dUnst5nl1TKj",
        "7IkRYUoJ1WBN",
        "KpRDAsCnbS39",
        "BrygmHVb05Rh",
        "gDum6yAe06Xv",
        "BVRLRAmn09Xj",
        "7FR3VR7c0_h6",
        "5rLoLsLI9PYm",
        "rgAKvvoa-MHJ",
        "ET_FQ3Nk-MXm",
        "g--emvF6-uVu",
        "BNw-0Spx-1mf",
        "ltUqLl1a_M59",
        "lDrQ3rsx_PQz",
        "L8LBNfdTHQrR",
        "UBUDlJfQHWUc",
        "5x2fFuQy8c9_",
        "fGs-LHU08kF5",
        "IIYmSpZO_A6S",
        "HntWb4oV_ETL",
        "BaAMLgUR_xpJ",
        "ZV3CwojN_yS3"
      ]
    },
    "kernelspec": {
      "name": "python3",
      "display_name": "Python 3"
    }
  },
  "cells": [
    {
      "cell_type": "markdown",
      "metadata": {
        "id": "4aJb4uMdznj_"
      },
      "source": [
        "# Welcome to your notebook of Python coding problems!\n",
        "\n",
        "Here are a good number of problems for many topics in Python. Take your time to go through each section.\n",
        "\n",
        "For each question, there will be Statement which states clearly the problem description, Example Input which shows the example of expected input(s) for your program and Example output which shows the expected result for that specific input(s).\n",
        "\n"
      ]
    },
    {
      "cell_type": "markdown",
      "metadata": {
        "id": "vuFadunxP-Sk"
      },
      "source": [
        "# Part 1. Data Types"
      ]
    },
    {
      "cell_type": "markdown",
      "metadata": {
        "id": "qFaUGwkJ0osg"
      },
      "source": [
        "## 1. Numbers"
      ]
    },
    {
      "cell_type": "markdown",
      "metadata": {
        "id": "GhhsdoeC7K1l"
      },
      "source": [
        "### 1.1. Apple Sharing"
      ]
    },
    {
      "cell_type": "markdown",
      "metadata": {
        "id": "CjmiKwFU7PPQ"
      },
      "source": [
        "####Statement\n",
        "\n",
        "\n",
        "N students take K apples and distribute them among each other evenly. The remaining (the undivisible) part remains in the basket. How many apples will each single student get? How many apples will remain in the basket?\n",
        "\n",
        "The program reads the numbers N and K. It should print the two answers for the questions above.\n",
        "\n",
        "======\n",
        "\n",
        "####Example input\n",
        "```\n",
        "6\n",
        "50\n",
        "```\n",
        "======\n",
        "\n",
        "####Example output\n",
        "```\n",
        "8\n",
        "2\n",
        "```"
      ]
    },
    {
      "cell_type": "code",
      "metadata": {
        "id": "AfZ36cLO7Z7-",
        "colab": {
          "base_uri": "https://localhost:8080/"
        },
        "outputId": "201cee1e-9392-46eb-9624-e116c13597a7"
      },
      "source": [
        "# Your code here\n",
        "N=int(input('Number of students : '))\n",
        "K=int(input('Number of apples : '))\n",
        "print(int(K/N))\n",
        "print(K%N)"
      ],
      "execution_count": null,
      "outputs": [
        {
          "output_type": "stream",
          "name": "stdout",
          "text": [
            "Number of students : 6\n",
            "Number of apples : 50\n",
            "8\n",
            "2\n"
          ]
        }
      ]
    },
    {
      "cell_type": "markdown",
      "metadata": {
        "id": "IAPOC-s2TMHL"
      },
      "source": [
        "### 1.2 Car route"
      ]
    },
    {
      "cell_type": "markdown",
      "metadata": {
        "id": "YA10Kzf4TUkX"
      },
      "source": [
        "#### Statement\n",
        "\n",
        "A car can cover distance of N kilometers per day. How many days will it take to cover a route of length M kilometers? The program gets two numbers: N and M.\n",
        "\n",
        "======\n",
        "\n",
        "#### Example input\n",
        "\n",
        "```\n",
        "700\n",
        "750\n",
        "```\n",
        "\n",
        "======\n",
        "\n",
        "#### Example output\n",
        "\n",
        "```\n",
        "2\n",
        "```"
      ]
    },
    {
      "cell_type": "code",
      "metadata": {
        "id": "lGMFfSDtUbs_",
        "colab": {
          "base_uri": "https://localhost:8080/"
        },
        "outputId": "14959adf-c688-4f7f-a6c4-4461c6b5a2df"
      },
      "source": [
        "# Your code here\n",
        "N=int(input('Distance per day :'))\n",
        "M=int(input('Route length : '))\n",
        "import math\n",
        "print(math.ceil(M/N))"
      ],
      "execution_count": null,
      "outputs": [
        {
          "output_type": "stream",
          "name": "stdout",
          "text": [
            "Distance per day :700\n",
            "Route length : 750\n",
            "2\n"
          ]
        }
      ]
    },
    {
      "cell_type": "markdown",
      "metadata": {
        "id": "bVkc-bL70wOO"
      },
      "source": [
        "### 1.3. Total cost"
      ]
    },
    {
      "cell_type": "markdown",
      "metadata": {
        "id": "CliCYKv50xfM"
      },
      "source": [
        "####Statement\n",
        "\n",
        "\n",
        "A cupcake costs **A** dollars and **B** cents. Determine, how many dollars and cents should one pay for **N** cupcakes. A program gets three numbers: **A, B, N**. It should print two numbers: total cost in dollars and cents.\n",
        "\n",
        "======\n",
        "\n",
        "####Example input 1\n",
        "```\n",
        "10\n",
        "15\n",
        "2\n",
        "```\n",
        "======\n",
        "\n",
        "####Example output 1\n",
        "```\n",
        "20\n",
        "30\n",
        "```\n",
        "======\n",
        "\n",
        "####Example input 2\n",
        "```\n",
        "10\n",
        "40\n",
        "4\n",
        "```\n",
        "======\n",
        "\n",
        "####Example output 2\n",
        "```\n",
        "41\n",
        "60\n",
        "```"
      ]
    },
    {
      "cell_type": "code",
      "metadata": {
        "id": "xwaRl0HM0xzv",
        "colab": {
          "base_uri": "https://localhost:8080/"
        },
        "outputId": "db47525c-f4f3-418f-bdcb-f4f7a6159d3b"
      },
      "source": [
        "# Your code here\n",
        "A=int(input('Dollar : '))\n",
        "B=int(input('Cents : '))/100\n",
        "N=int(input('Number of cupcakes : '))\n",
        "Total_cost=(A+B)*N\n",
        "print(int(Total_cost))\n",
        "print(int((float(Total_cost)-int(Total_cost))*100))\n"
      ],
      "execution_count": null,
      "outputs": [
        {
          "output_type": "stream",
          "name": "stdout",
          "text": [
            "Dollar : 10\n",
            "Cents : 15\n",
            "Number of cupcakes : 2\n",
            "20\n",
            "30\n"
          ]
        }
      ]
    },
    {
      "cell_type": "markdown",
      "metadata": {
        "id": "7uCDrLwgU8jY"
      },
      "source": [
        "### 1.4. Sum of three numbers"
      ]
    },
    {
      "cell_type": "markdown",
      "metadata": {
        "id": "fYYfiqrC0CGo"
      },
      "source": [
        "#### Statement\n",
        "\n",
        "\n",
        "Write a program that takes three numbers and prints their sum. Every number is given on a separate line.\n",
        "\n",
        "======\n",
        "\n",
        "#### Example input\n",
        "```\n",
        "2\n",
        "3\n",
        "6\n",
        "```\n",
        "======\n",
        "\n",
        "#### Example output\n",
        "```\n",
        "11\n",
        "```"
      ]
    },
    {
      "cell_type": "code",
      "metadata": {
        "id": "p7ZSJaKPVI62",
        "colab": {
          "base_uri": "https://localhost:8080/"
        },
        "outputId": "ce757be5-ff81-4dce-9167-d748d80310c9"
      },
      "source": [
        "# Your code here\n",
        "num1=int(input('Number 1 = '))\n",
        "num2=int(input('Number 2 = '))\n",
        "num3=int(input('Number 3 = '))\n",
        "sum=num1+num2+num3\n",
        "print(sum)"
      ],
      "execution_count": null,
      "outputs": [
        {
          "output_type": "stream",
          "name": "stdout",
          "text": [
            "Number 1 = 2\n",
            "Number 2 = 3\n",
            "Number 3 = 6\n",
            "11\n"
          ]
        }
      ]
    },
    {
      "cell_type": "markdown",
      "metadata": {
        "id": "kR-PbywL0h18"
      },
      "source": [
        "### 1.5. Previous and next\n",
        "\n"
      ]
    },
    {
      "cell_type": "markdown",
      "metadata": {
        "id": "_dXuguA70jNq"
      },
      "source": [
        "#### Statement\n",
        "\n",
        "\n",
        "\n",
        "Write a program that reads an integer number and prints its previous and next numbers. See the example below.\n",
        "\n",
        "======\n",
        "\n",
        "#### Example input\n",
        "```\n",
        "179\n",
        "```\n",
        "======\n",
        "\n",
        "#### Example output\n",
        "```\n",
        "The next number for the number 179 is 180\n",
        "The previous number for the number 179 is 178\n",
        "```"
      ]
    },
    {
      "cell_type": "code",
      "metadata": {
        "id": "fEvgkyds0kxq",
        "colab": {
          "base_uri": "https://localhost:8080/"
        },
        "outputId": "364f7610-23ff-4aca-b5d6-7d130d11b0f3"
      },
      "source": [
        "# Your code here\n",
        "numOG=int(input('Your number here :'))\n",
        "print('The next number for the number ',numOG,' is ',numOG+1)\n",
        "print('The previous number for the number ',numOG,' is ',numOG-1)"
      ],
      "execution_count": null,
      "outputs": [
        {
          "output_type": "stream",
          "name": "stdout",
          "text": [
            "Your number here :179\n",
            "The next number for the number  179  is  180\n",
            "The previous number for the number  179  is  178\n"
          ]
        }
      ]
    },
    {
      "cell_type": "markdown",
      "source": [],
      "metadata": {
        "id": "S5XtTCJCZ7fn"
      }
    },
    {
      "cell_type": "markdown",
      "metadata": {
        "id": "m17GPhqxVWma"
      },
      "source": [
        "## 2. Strings"
      ]
    },
    {
      "cell_type": "markdown",
      "metadata": {
        "id": "dvYzRPTk2dYI"
      },
      "source": [
        "### 2.1. Hi person name\n",
        "\n"
      ]
    },
    {
      "cell_type": "markdown",
      "metadata": {
        "id": "VzVLfjEB2jCy"
      },
      "source": [
        "#### Statement\n",
        "\n",
        "\n",
        "Write a program that greets the person by printing the word \"Hi\" and the name of the person.\n",
        "\n",
        "======\n",
        "\n",
        "#### Example input\n",
        "```\n",
        "John\n",
        "```\n",
        "======\n",
        "\n",
        "#### Example output\n",
        "```\n",
        "Hi John\n",
        "```"
      ]
    },
    {
      "cell_type": "code",
      "metadata": {
        "id": "WZPy__5e2o6O",
        "colab": {
          "base_uri": "https://localhost:8080/"
        },
        "outputId": "2fd304dc-8386-44c9-feab-fd709395c9af"
      },
      "source": [
        "# Your code here\n",
        "name=input('Your name is : ')\n",
        "print('Hi ',name)"
      ],
      "execution_count": null,
      "outputs": [
        {
          "output_type": "stream",
          "name": "stdout",
          "text": [
            "Your name is : Phanh\n",
            "Hi  Phanh\n"
          ]
        }
      ]
    },
    {
      "cell_type": "markdown",
      "metadata": {
        "id": "zhxF_3pc1Lvu"
      },
      "source": [
        "### 2.2. Slices"
      ]
    },
    {
      "cell_type": "markdown",
      "metadata": {
        "id": "LYaoDcFE1Nte"
      },
      "source": [
        "####Statement\n",
        "\n",
        "\n",
        "\n",
        "You are given a string.\n",
        "\n",
        "1.  In the first line, print the third character of this string.\n",
        "\n",
        "2.  In the second line, print the second to last character of this string.\n",
        "\n",
        "3.  In the third line, print the first five characters of this string.\n",
        "\n",
        "4.  In the fourth line, print all but the last two characters of this string.\n",
        "\n",
        "5.  In the fifth line, print all the characters of this string with even indices (remember indexing starts at 0, so the characters are displayed starting with the first).\n",
        "\n",
        "6.  In the sixth line, print all the characters of this string with odd indices (i.e. starting with the second character in the string).\n",
        "\n",
        "7.  In the seventh line, print all the characters of the string in reverse order.\n",
        "\n",
        "8.  In the eighth line, print every second character of the string in reverse order, starting from the last one.\n",
        "\n",
        "9.  In the ninth line, print the length of the given string.\n",
        "\n",
        "======\n",
        "\n",
        "####Example input\n",
        "```\n",
        "Abrakadabra\n",
        "```\n",
        "======\n",
        "\n",
        "####Example output\n",
        "```\n",
        "r\n",
        "r\n",
        "Abrak\n",
        "Abrakadab\n",
        "Arkdba\n",
        "baaar\n",
        "arbadakarbA\n",
        "abdkrA\n",
        "11\n",
        "```"
      ]
    },
    {
      "cell_type": "code",
      "metadata": {
        "id": "MU-J020y1KMs",
        "colab": {
          "base_uri": "https://localhost:8080/"
        },
        "outputId": "ebb91c62-6e75-4e7b-fcf7-a372668b56bd"
      },
      "source": [
        "# Your Code Here\n",
        "ha='Abrakadabra'\n",
        "print(ha[2])\n",
        "print(ha[-2])\n",
        "print(ha[:5:1])\n",
        "print(ha[:len(ha)-2])\n",
        "print(ha[:len(ha):2])\n",
        "print(ha[1:len(ha):2])\n",
        "print(ha[::-1])\n",
        "print(ha[len(ha)::-2])\n",
        "#print(ha[len(ha):0:-2]) - s khum dc?\n",
        "print(len(ha))\n"
      ],
      "execution_count": null,
      "outputs": [
        {
          "output_type": "stream",
          "name": "stdout",
          "text": [
            "r\n",
            "r\n",
            "Abrak\n",
            "Abrakadab\n",
            "Arkdba\n",
            "baaar\n",
            "arbadakarbA\n",
            "abdkrA\n",
            "11\n"
          ]
        }
      ]
    },
    {
      "cell_type": "markdown",
      "metadata": {
        "id": "dUnst5nl1TKj"
      },
      "source": [
        "### 2.3. Two halves"
      ]
    },
    {
      "cell_type": "markdown",
      "metadata": {
        "id": "7IkRYUoJ1WBN"
      },
      "source": [
        "####Statement\n",
        "\n",
        "\n",
        "Given a string, cut it into two equal parts. If the length of the string is odd, leave the middle character within the first chunk, so that the first string contains one more character than the second. Now print a new string on a single row with the first and second halves swapped: second half first and the first half last.\n",
        "\n",
        "Can you solve it without using if?\n",
        "\n",
        "\n",
        "======\n",
        "\n",
        "####Example input\n",
        "```\n",
        "Qwerty\n",
        "```\n",
        "======\n",
        "\n",
        "####Example output\n",
        "```\n",
        "rtyQwe\n",
        "```"
      ]
    },
    {
      "cell_type": "code",
      "metadata": {
        "id": "wfT-zEhF1VKT",
        "colab": {
          "base_uri": "https://localhost:8080/"
        },
        "outputId": "3ab42bab-7e10-4b7c-a715-dfc0c89a8919"
      },
      "source": [
        "# Your code here\n",
        "ha=input()\n",
        "mid=int(len(ha)/2)\n",
        "if len(ha)%2==0:\n",
        "  print(ha[mid:len(ha):1]+ha[0:mid:1])\n",
        "else :\n",
        "  print(ha[(mid+1):len(ha):1]+ha[:(mid+1):1])\n"
      ],
      "execution_count": null,
      "outputs": [
        {
          "output_type": "stream",
          "name": "stdout",
          "text": [
            "Qwertyu\n",
            "tyuQwer\n"
          ]
        }
      ]
    },
    {
      "cell_type": "markdown",
      "metadata": {
        "id": "KpRDAsCnbS39"
      },
      "source": [
        "# Part 2. Conditionals"
      ]
    },
    {
      "cell_type": "markdown",
      "metadata": {
        "id": "BrygmHVb05Rh"
      },
      "source": [
        "### 1. Minimum of two numbers"
      ]
    },
    {
      "cell_type": "markdown",
      "metadata": {
        "id": "gDum6yAe06Xv"
      },
      "source": [
        "####Statement\n",
        "\n",
        "\n",
        "\n",
        "Given the two integers, print the least of them.\n",
        "\n",
        "======\n",
        "\n",
        "####Example input\n",
        "```\n",
        "3\n",
        "7\n",
        "```\n",
        "======\n",
        "\n",
        "####Example output\n",
        "```\n",
        "3\n",
        "```"
      ]
    },
    {
      "cell_type": "code",
      "metadata": {
        "id": "KiwvwlrH07tL",
        "colab": {
          "base_uri": "https://localhost:8080/"
        },
        "outputId": "e1d36d0a-d9c2-473a-c966-00f7df3f0328"
      },
      "source": [
        "a = int(input())\n",
        "b = int(input())\n",
        "# Your code here\n",
        "print(min(a,b))"
      ],
      "execution_count": null,
      "outputs": [
        {
          "output_type": "stream",
          "name": "stdout",
          "text": [
            "100\n",
            "53\n",
            "53\n"
          ]
        }
      ]
    },
    {
      "cell_type": "markdown",
      "metadata": {
        "id": "BVRLRAmn09Xj"
      },
      "source": [
        "### 2. Minimum of three numbers"
      ]
    },
    {
      "cell_type": "markdown",
      "metadata": {
        "id": "7FR3VR7c0_h6"
      },
      "source": [
        "####Statement\n",
        "\n",
        "\n",
        "Given three integers, print the least of them.\n",
        "\n",
        "======\n",
        "\n",
        "####Example input\n",
        "```\n",
        "5\n",
        "3\n",
        "7\n",
        "```\n",
        "======\n",
        "\n",
        "####Example output\n",
        "```\n",
        "3\n",
        "```"
      ]
    },
    {
      "cell_type": "code",
      "metadata": {
        "id": "M5cgfamO1BDA",
        "colab": {
          "base_uri": "https://localhost:8080/"
        },
        "outputId": "c5a54a2b-cd10-406c-c3d8-1f48276bdcaa"
      },
      "source": [
        "a = int(input())\n",
        "b = int(input())\n",
        "c = int(input())\n",
        "\n",
        "# Your code here\n",
        "print(min(a,b,c))"
      ],
      "execution_count": null,
      "outputs": [
        {
          "output_type": "stream",
          "name": "stdout",
          "text": [
            "32\n",
            "43\n",
            "35\n",
            "32\n"
          ]
        }
      ]
    },
    {
      "cell_type": "code",
      "source": [],
      "metadata": {
        "id": "uttScVDHdjeU"
      },
      "execution_count": null,
      "outputs": []
    },
    {
      "cell_type": "markdown",
      "metadata": {
        "id": "5rLoLsLI9PYm"
      },
      "source": [
        "# Part 3. Bonus Questions :)"
      ]
    },
    {
      "cell_type": "markdown",
      "metadata": {
        "id": "yBb7pAEj9QQK"
      },
      "source": [
        "These bonus questions are slightly more complicated and challenging to solve than above questions so takes your time to do them.\n",
        "\n"
      ]
    },
    {
      "cell_type": "markdown",
      "metadata": {
        "id": "rgAKvvoa-MHJ"
      },
      "source": [
        "### 0. Bonus: Leap year"
      ]
    },
    {
      "cell_type": "markdown",
      "metadata": {
        "id": "ET_FQ3Nk-MXm"
      },
      "source": [
        "####Statement\n",
        "\n",
        "\n",
        "Given the year number. You need to check if this year is a leap year. If it is, print \"LEAP\", otherwise print \"COMMON\".\n",
        "The rules in Gregorian calendar are as follows:\n",
        "\n",
        "- A year is a leap year if its number is exactly divisible by 4 and is not exactly divisible by 100\n",
        "\n",
        "- A year is always a leap year if its number is exactly divisible by 400\n",
        "\n",
        "======\n",
        "\n",
        "####Example input 1\n",
        "```\n",
        "2012\n",
        "```\n",
        "======\n",
        "\n",
        "####Example output 1\n",
        "```\n",
        "LEAP\n",
        "```\n",
        "======\n",
        "\n",
        "####Example input 2\n",
        "```\n",
        "2011\n",
        "```\n",
        "======\n",
        "\n",
        "####Example output 2\n",
        "```\n",
        "COMMON\n",
        "```"
      ]
    },
    {
      "cell_type": "code",
      "metadata": {
        "id": "4DdliVXp-Mnd",
        "colab": {
          "base_uri": "https://localhost:8080/"
        },
        "outputId": "6c5e03b5-6df7-4278-ba74-e67fcc2de8af"
      },
      "source": [
        "# Your Code Here\n",
        "\n",
        "year=int(input('Type year here : '))\n",
        "if year%400==0 :\n",
        "  print('LEAP')\n",
        "elif year%4==0 and year%100>0 :\n",
        "  print('LEAP')\n",
        "else :\n",
        "  print('COMMON')"
      ],
      "execution_count": null,
      "outputs": [
        {
          "output_type": "stream",
          "name": "stdout",
          "text": [
            "Type year here : 2023\n",
            "COMMON\n"
          ]
        }
      ]
    },
    {
      "cell_type": "markdown",
      "metadata": {
        "id": "g--emvF6-uVu"
      },
      "source": [
        "### 1. Bonus: Clock face - 1"
      ]
    },
    {
      "cell_type": "markdown",
      "metadata": {
        "id": "BNw-0Spx-1mf"
      },
      "source": [
        "####Statement\n",
        "\n",
        "\n",
        "H hours, M minutes and S seconds are passed since the midnight (0 ≤ H < 12, 0 ≤ M < 60, 0 ≤ S < 60). Determine the angle (in degrees) of the hour hand on the clock face right now.\n",
        "\n",
        "======\n",
        "\n",
        "####Example input 1\n",
        "```\n",
        "1\n",
        "0\n",
        "0\n",
        "```\n",
        "======\n",
        "\n",
        "####Example output 1\n",
        "```\n",
        "30\n",
        "```\n",
        "======\n",
        "\n",
        "####Example input 2\n",
        "```\n",
        "7\n",
        "18\n",
        "49\n",
        "```\n",
        "======\n",
        "\n",
        "####Example output 2\n",
        "```\n",
        "219.408\n",
        "```"
      ]
    },
    {
      "cell_type": "code",
      "metadata": {
        "id": "EkLg2qQN9Pr9"
      },
      "source": [
        "H = int(input())\n",
        "M = int(input())\n",
        "S = int(input())\n",
        "# Your Code Here\n",
        "\n",
        "hour= H + M/60 + S/3600\n",
        "print(hour*30)\n"
      ],
      "execution_count": null,
      "outputs": []
    },
    {
      "cell_type": "markdown",
      "metadata": {
        "id": "ltUqLl1a_M59"
      },
      "source": [
        "### 2. Bonus: Clock face - 2"
      ]
    },
    {
      "cell_type": "markdown",
      "metadata": {
        "id": "lDrQ3rsx_PQz"
      },
      "source": [
        "####Statement\n",
        "\n",
        "\n",
        "Hour hand turned by α degrees since the midnight. Determine the angle by which minute hand turned since the midnight. Input and output in this problems are floating-point numbers.\n",
        "\n",
        "======\n",
        "\n",
        "####Example input 1\n",
        "```\n",
        "190\n",
        "```\n",
        "======\n",
        "\n",
        "####Example output 1\n",
        "```\n",
        "120\n",
        "```\n",
        "======\n",
        "\n",
        "####Example input 2\n",
        "```\n",
        "15\n",
        "```\n",
        "======\n",
        "\n",
        "####Example output 2\n",
        "```\n",
        "180\n",
        "```\n",
        "======\n",
        "\n",
        "####Example input 3\n",
        "```\n",
        "300\n",
        "```\n",
        "======\n",
        "\n",
        "####Example output 3\n",
        "```\n",
        "0\n",
        "```"
      ]
    },
    {
      "cell_type": "code",
      "metadata": {
        "id": "PI-Vs6Ll_kAP"
      },
      "source": [
        "# Your Code Here\n",
        "H=int(input('Hour hand degrees are '))\n",
        "min_sec=float(H%30)\n",
        "ang_min=(6*min_sec*((60*12)/360))%360\n",
        "print(ang_min)"
      ],
      "execution_count": null,
      "outputs": []
    },
    {
      "cell_type": "markdown",
      "metadata": {
        "id": "L8LBNfdTHQrR"
      },
      "source": [
        "### 3. Bonus: Rook move"
      ]
    },
    {
      "cell_type": "markdown",
      "metadata": {
        "id": "UBUDlJfQHWUc"
      },
      "source": [
        "####Statement\n",
        "\n",
        "\n",
        "Chess rook moves horizontally or vertically. Given two different cells of the chessboard, determine whether a rook can go from the first cell to the second in one move.\n",
        "\n",
        "The program receives the input of four numbers from 1 to 8, each specifying the column and row number, first two - for the first cell, and then the last two - for the second cell. The program should output YES if a rook can go from the first cell to the second in one move, or NO otherwise.\n",
        "\n",
        "<img src=\"https://snakify.org/static/images/problems/rook_move.png\" width=600>\n",
        "\n",
        "======\n",
        "\n",
        "####Example input 1\n",
        "```\n",
        "4\n",
        "4\n",
        "5\n",
        "5\n",
        "```\n",
        "======\n",
        "\n",
        "####Example output 1\n",
        "```\n",
        "NO\n",
        "```\n",
        "======\n",
        "\n",
        "####Example input 2\n",
        "```\n",
        "1\n",
        "1\n",
        "8\n",
        "1\n",
        "```\n",
        "======\n",
        "\n",
        "####Example output 2\n",
        "```\n",
        "YES\n",
        "```\n",
        "======\n",
        "\n",
        "####Example input 3\n",
        "```\n",
        "8\n",
        "1\n",
        "1\n",
        "8\n",
        "```\n",
        "======\n",
        "\n",
        "####Example output 3\n",
        "```\n",
        "NO\n",
        "```"
      ]
    },
    {
      "cell_type": "code",
      "metadata": {
        "id": "bWDjW5vRHcwT"
      },
      "source": [
        "x1 = int(input())\n",
        "y1 = int(input())\n",
        "x2 = int(input())\n",
        "y2 = int(input())\n",
        "\n",
        "# YOUR CODE\n",
        "if x1==x2 and y1==y2:\n",
        "  print('NO')\n",
        "elif x1==x2 or y1==y2:\n",
        "  print('YES')\n",
        "else :\n",
        "  print('NO')"
      ],
      "execution_count": null,
      "outputs": []
    },
    {
      "cell_type": "markdown",
      "metadata": {
        "id": "5x2fFuQy8c9_"
      },
      "source": [
        "### 4. Bonus: Chess board - same color"
      ]
    },
    {
      "cell_type": "markdown",
      "metadata": {
        "id": "fGs-LHU08kF5"
      },
      "source": [
        "####Statement\n",
        "\n",
        "Given two cells of a chessboard. If they are painted in one color, print the word YES, and if in a different color - NO.\n",
        "\n",
        "The program receives the input of four numbers from 1 to 8, each specifying the column and row number, first two - for the first cell, and then the last two - for the second cell.\n",
        "\n",
        "<img src=\"https://snakify.org/static/images/problems/chess_board.png\" width=600>\n",
        "\n",
        "======\n",
        "\n",
        "####Example input 1\n",
        "```\n",
        "1\n",
        "1\n",
        "2\n",
        "6\n",
        "```\n",
        "======\n",
        "\n",
        "####Example output 1\n",
        "```\n",
        "YES\n",
        "```\n",
        "======\n",
        "\n",
        "####Example input 2\n",
        "\n",
        "```\n",
        "2\n",
        "3\n",
        "4\n",
        "5\n",
        "```\n",
        "\n",
        "======\n",
        "\n",
        "####Example output 2\n",
        "```\n",
        "YES\n",
        "```\n",
        "======\n",
        "\n",
        "####Example input 3\n",
        "```\n",
        "2\n",
        "3\n",
        "8\n",
        "8\n",
        "```\n",
        "======\n",
        "\n",
        "####Example output 3\n",
        "```\n",
        "NO\n",
        "```"
      ]
    },
    {
      "cell_type": "code",
      "metadata": {
        "id": "JA57047Y8-4r"
      },
      "source": [
        "# Your Code Here\n",
        "#x va y cung chan, cung le => o black / x va y chan le khac nhau => o white\n",
        "x1 = int(input())\n",
        "y1 = int(input())\n",
        "x2 = int(input())\n",
        "y2 = int(input())\n",
        "\n",
        "if ((x1+y1)%2==0 and (x2+y2)%2==1) or ((x1+y1)%2==1 and (x2+y2)%2==0):\n",
        "  print('NO')\n",
        "else:\n",
        "  print('YES')\n",
        "\n"
      ],
      "execution_count": null,
      "outputs": []
    },
    {
      "cell_type": "markdown",
      "metadata": {
        "id": "IIYmSpZO_A6S"
      },
      "source": [
        "### 5. Bonus: Knight move"
      ]
    },
    {
      "cell_type": "markdown",
      "metadata": {
        "id": "HntWb4oV_ETL"
      },
      "source": [
        "####Statement\n",
        "\n",
        "Chess knight moves like the letter L. It can move two cells horizontally and one cell vertically, or two cells vertically and one cells horizontally. Given two different cells of the chessboard, determine whether a knight can go from the first cell to the second in one move.\n",
        "\n",
        "The program receives the input of four numbers from 1 to 8, each specifying the column and row number, first two - for the first cell, and then the last two - for the second cell. The program should output YES if a knight can go from the first cell to the second in one move, or NO otherwise.\n",
        "\n",
        "<img src=\"https://snakify.org/static/images/problems/knight_move.png\" width=600>\n",
        "\n",
        "======\n",
        "\n",
        "####Example input 1\n",
        "```\n",
        "1\n",
        "1\n",
        "1\n",
        "4\n",
        "```\n",
        "======\n",
        "\n",
        "####Example output 1\n",
        "```\n",
        "NO\n",
        "```\n",
        "======\n",
        "\n",
        "####Example input 2\n",
        "\n",
        "```\n",
        "2\n",
        "4\n",
        "3\n",
        "2\n",
        "```\n",
        "\n",
        "======\n",
        "\n",
        "####Example output 2\n",
        "```\n",
        "YES\n",
        "```\n",
        "======\n",
        "\n",
        "####Example input 3\n",
        "```\n",
        "2\n",
        "8\n",
        "3\n",
        "7\n",
        "```\n",
        "======\n",
        "\n",
        "####Example output 3\n",
        "```\n",
        "NO\n",
        "```"
      ]
    },
    {
      "cell_type": "code",
      "metadata": {
        "id": "Rq9a07Km_Dxi",
        "colab": {
          "base_uri": "https://localhost:8080/"
        },
        "outputId": "81553f37-6f18-48e8-eb00-e8c1adbf6dab"
      },
      "source": [
        "# Your Code Here\n",
        "x1 = int(input())\n",
        "y1 = int(input())\n",
        "x2 = int(input())\n",
        "y2 = int(input())\n",
        "if abs(x1-x2)==2 and abs(y1-y2)==1:\n",
        "  print('YES')\n",
        "elif abs(x1-x2)==1 and abs(y1-y2)==2:\n",
        "  print('YES')\n",
        "else :\n",
        "  print('NO')\n",
        "\n"
      ],
      "execution_count": null,
      "outputs": [
        {
          "output_type": "stream",
          "name": "stdout",
          "text": [
            "2\n",
            "8\n",
            "3\n",
            "7\n",
            "NO\n"
          ]
        }
      ]
    },
    {
      "cell_type": "markdown",
      "metadata": {
        "id": "BaAMLgUR_xpJ"
      },
      "source": [
        "### 6. Bonus: Vertices of rectangle"
      ]
    },
    {
      "cell_type": "markdown",
      "metadata": {
        "id": "ZV3CwojN_yS3"
      },
      "source": [
        "####Statement\n",
        "\n",
        "Given integer coordinates of three vertices of a rectangle whose sides are parallel to the coordinate axes, find the coordinates of the fourth vertex of the rectangle. In the first test the three given vertices are (1, 4), (1, 6), (7, 4). The fourth vertex is thus (7, 6).\n",
        "\n",
        "======\n",
        "\n",
        "####Example input 1\n",
        "```\n",
        "1\n",
        "4\n",
        "1\n",
        "6\n",
        "7\n",
        "4\n",
        "```\n",
        "======\n",
        "\n",
        "####Example output 1\n",
        "```\n",
        "7\n",
        "6\n",
        "```\n",
        "======\n",
        "\n",
        "####Example input 2\n",
        "\n",
        "```\n",
        "3\n",
        "7\n",
        "3\n",
        "15\n",
        "10\n",
        "7\n",
        "```\n",
        "\n",
        "======\n",
        "\n",
        "####Example output 2\n",
        "```\n",
        "10\n",
        "15\n",
        "```\n"
      ]
    },
    {
      "cell_type": "code",
      "metadata": {
        "id": "MpA8B345_yes",
        "colab": {
          "base_uri": "https://localhost:8080/"
        },
        "outputId": "2d62e88b-330d-46fe-8369-0d8cbef04d12"
      },
      "source": [
        "# Your Code Here\n",
        "\n",
        "x1 = int(input())\n",
        "y1 = int(input())\n",
        "x2 = int(input())\n",
        "y2 = int(input())\n",
        "x3 = int(input())\n",
        "y3 = int(input())\n",
        "\n",
        "if abs(x1)==abs(x2):\n",
        "  print('(',abs(x3),',',abs(y2),')')\n",
        "else :\n",
        "    print('(',abs(x3-x1)+x2,',',abs(y3-y1)+y2,')')"
      ],
      "execution_count": null,
      "outputs": [
        {
          "output_type": "stream",
          "name": "stdout",
          "text": [
            "3\n",
            "7\n",
            "3\n",
            "15\n",
            "10\n",
            "7\n",
            "( 10 , 15 )\n"
          ]
        }
      ]
    }
  ]
}