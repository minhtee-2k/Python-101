{
  "nbformat": 4,
  "nbformat_minor": 0,
  "metadata": {
    "colab": {
      "provenance": []
    },
    "kernelspec": {
      "name": "python3",
      "display_name": "Python 3"
    }
  },
  "cells": [
    {
      "cell_type": "markdown",
      "metadata": {
        "id": "V1aqRb-jenQ5"
      },
      "source": [
        "# **PYTHON 101 - DAY 1**\n",
        "\n",
        "# Before you start: File ▸ Save a Copy in Drive\n",
        "\n",
        "<img src=\"https://files.realpython.com/media/python-basics-wide2.f73a9e9bf9b8.jpg\" width=600>\n",
        "\n",
        "Welcome to PYTHON 101. In this course, we will use **Google Colab** platform to experiment your code, build Data Analysis and Machine Learning projects in a simple way.\n",
        "\n",
        "Within this lecture, we will employ Google Colab as a ***playground*** to practice the concept, as well as, a platform to ***exercise***.\n",
        "\n",
        "Welcome aboard and happy coding!\n",
        "\n",
        "\n",
        "-----------\n",
        "\n",
        "\n",
        "\n",
        "For the first session, we will learn these materials:\n",
        "\n",
        "1. Syntax, Variables, and Literals\n",
        "3. Conditionals"
      ]
    },
    {
      "cell_type": "code",
      "source": [],
      "metadata": {
        "id": "6eKVlJef7dCH"
      },
      "execution_count": null,
      "outputs": []
    },
    {
      "cell_type": "markdown",
      "metadata": {
        "id": "iO0te86vgNG-"
      },
      "source": [
        "## Part 0. Getting to know Colab notebook\n",
        "\n",
        "If you want to know more about Colab notebook, [HERE](https://www.tutorialspoint.com/google_colab/google_colab_quick_guide.htm) is a link to a quick guide tutorial.\n"
      ]
    },
    {
      "cell_type": "code",
      "metadata": {
        "id": "3rIVQ2AiggMi",
        "colab": {
          "base_uri": "https://localhost:8080/"
        },
        "outputId": "fdb57a83-5009-47e3-b257-f04221f1954c"
      },
      "source": [
        "# Small examples of how to run a code cell\n",
        "print('Hello World!')"
      ],
      "execution_count": null,
      "outputs": [
        {
          "output_type": "stream",
          "name": "stdout",
          "text": [
            "Hello World!\n"
          ]
        }
      ]
    },
    {
      "cell_type": "code",
      "metadata": {
        "id": "0JxZ8xCpkedW"
      },
      "source": [
        "# This is an example of a comment\n",
        "# You can make it using '#' in front of the line\n",
        "# What do you think is the use of the comments?\n",
        "# Pop-up quiz"
      ],
      "execution_count": null,
      "outputs": []
    },
    {
      "cell_type": "markdown",
      "metadata": {
        "id": "Ak6RVt7yFWyq"
      },
      "source": [
        "## Part 1. Syntax, Variables, and Numbers\n",
        "\n",
        "![](data:image/jpeg;base64,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)\n",
        "\n"
      ]
    },
    {
      "cell_type": "markdown",
      "metadata": {
        "id": "nUY21rpIlbEn"
      },
      "source": [
        "\n",
        "### 1. PRINT FUNCTION\n",
        "\n",
        "Print a message on the screen.\n"
      ]
    },
    {
      "cell_type": "code",
      "metadata": {
        "id": "SFOg5fljsvPS",
        "colab": {
          "base_uri": "https://localhost:8080/"
        },
        "outputId": "9dd7c153-d5fd-4ee1-d6f3-6399653d144a"
      },
      "source": [
        "# Print the constant string: \"Hello, World!\"\n",
        "print(\"Hello, World!\")"
      ],
      "execution_count": null,
      "outputs": [
        {
          "output_type": "stream",
          "name": "stdout",
          "text": [
            "Hello, World!\n"
          ]
        }
      ]
    },
    {
      "cell_type": "markdown",
      "metadata": {
        "id": "vrtx3CkauqCD"
      },
      "source": [
        "![](data:image/jpeg;base64,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)"
      ]
    },
    {
      "cell_type": "markdown",
      "metadata": {
        "id": "blq92kU3u-kJ"
      },
      "source": [
        "### 2. CONSTANTS, VARIABLES, AND DATA TYPES\n"
      ]
    },
    {
      "cell_type": "markdown",
      "metadata": {
        "id": "tegYF-yeBxe6"
      },
      "source": [
        "#### 1. CONSTANTS\n",
        "\n",
        "A constant is a type of variable whose value cannot be changed."
      ]
    },
    {
      "cell_type": "code",
      "metadata": {
        "id": "uKTYU0rpwcgo",
        "colab": {
          "base_uri": "https://localhost:8080/"
        },
        "outputId": "6e2266b1-6de9-4da4-8862-82cd9c98cb3d"
      },
      "source": [
        "# Print the constant number 2021\n",
        "print(2021)"
      ],
      "execution_count": null,
      "outputs": [
        {
          "output_type": "stream",
          "text": [
            "2021\n"
          ],
          "name": "stdout"
        }
      ]
    },
    {
      "cell_type": "code",
      "metadata": {
        "id": "Wkv8E73Aw739",
        "colab": {
          "base_uri": "https://localhost:8080/"
        },
        "outputId": "8d65190c-8753-45b0-fd21-eae50f25d80d"
      },
      "source": [
        "# Print the string: 'We are not talented upclose'\n",
        "print('We are not talented upclose')"
      ],
      "execution_count": null,
      "outputs": [
        {
          "output_type": "stream",
          "name": "stdout",
          "text": [
            "We are not talented upclose\n"
          ]
        }
      ]
    },
    {
      "cell_type": "markdown",
      "metadata": {
        "id": "A-LB4Z0exHqA"
      },
      "source": [
        "#### 2. VARIABLES\n",
        "\n",
        "A variable is a named location used to store data in the memory."
      ]
    },
    {
      "cell_type": "code",
      "metadata": {
        "id": "sOoPh337E7kD"
      },
      "source": [
        "# Assign the pi number to a variable called pi\n",
        "piz = 3.14"
      ],
      "execution_count": null,
      "outputs": []
    },
    {
      "cell_type": "code",
      "metadata": {
        "id": "rG88KwuNF9I7",
        "colab": {
          "base_uri": "https://localhost:8080/"
        },
        "outputId": "2c27843a-1deb-49af-fcf4-694876a0ec88"
      },
      "source": [
        "# What happens when you run the code above?\n",
        "# Why can't we see anything?\n",
        "# Pop-up quiz\n",
        "print(piz)"
      ],
      "execution_count": null,
      "outputs": [
        {
          "output_type": "stream",
          "name": "stdout",
          "text": [
            "3.14\n"
          ]
        }
      ]
    },
    {
      "cell_type": "code",
      "metadata": {
        "colab": {
          "base_uri": "https://localhost:8080/",
          "height": 133
        },
        "id": "3fmSjaHgH7iP",
        "outputId": "d820319c-fe80-4802-f056-03ebb63f8481"
      },
      "source": [
        "3 = 3.14"
      ],
      "execution_count": null,
      "outputs": [
        {
          "output_type": "error",
          "ename": "SyntaxError",
          "evalue": "ignored",
          "traceback": [
            "\u001b[0;36m  File \u001b[0;32m\"<ipython-input-100-3f5164a32794>\"\u001b[0;36m, line \u001b[0;32m1\u001b[0m\n\u001b[0;31m    3 = 3.14\u001b[0m\n\u001b[0m    ^\u001b[0m\n\u001b[0;31mSyntaxError\u001b[0m\u001b[0;31m:\u001b[0m cannot assign to literal here. Maybe you meant '==' instead of '='?\n"
          ]
        }
      ]
    },
    {
      "cell_type": "code",
      "source": [
        "# Naming variable rule\n"
      ],
      "metadata": {
        "id": "-YCKCMR__6kb"
      },
      "execution_count": null,
      "outputs": []
    },
    {
      "cell_type": "code",
      "metadata": {
        "id": "Y592iza1GBxA",
        "colab": {
          "base_uri": "https://localhost:8080/"
        },
        "outputId": "3d1ca97e-aabb-4fed-d450-4e4eba84ec1f"
      },
      "source": [
        "# Assign the constant value 'Hello, World!'\n",
        "hi = 'Hello, World!'\n",
        "# Display the variable hello out\n",
        "print(hi)"
      ],
      "execution_count": null,
      "outputs": [
        {
          "output_type": "stream",
          "name": "stdout",
          "text": [
            "Hello, World!\n"
          ]
        }
      ]
    },
    {
      "cell_type": "code",
      "metadata": {
        "id": "m2IpKYoDOKZK"
      },
      "source": [
        "# Assign the constant values 3 and 4 with the corresponding variables c, d\n",
        "c, d = 3, 4"
      ],
      "execution_count": null,
      "outputs": []
    },
    {
      "cell_type": "code",
      "metadata": {
        "id": "a-w_hE_oRv2u",
        "colab": {
          "base_uri": "https://localhost:8080/"
        },
        "outputId": "26107e08-bcd3-4ce4-87b4-07a3c643fda9"
      },
      "source": [
        "print(c, d)"
      ],
      "execution_count": null,
      "outputs": [
        {
          "output_type": "stream",
          "name": "stdout",
          "text": [
            "3 4\n"
          ]
        }
      ]
    },
    {
      "cell_type": "code",
      "metadata": {
        "id": "D8fcPuI-O8yx"
      },
      "source": [
        "# Let's create a variable name 'cat_fur' that contains the value 'black'\n",
        "cat_fur = 'black'"
      ],
      "execution_count": null,
      "outputs": []
    },
    {
      "cell_type": "code",
      "metadata": {
        "id": "o3y_HCBAPUvF",
        "colab": {
          "base_uri": "https://localhost:8080/"
        },
        "outputId": "20a5970b-e0f5-45e5-b7c4-f48cc91b7a31"
      },
      "source": [
        "# Variable name is case sensitive\n",
        "# What will happen if we try to run the code below?\n",
        "# Pop-up quiz\n",
        "print(cat_fur)"
      ],
      "execution_count": null,
      "outputs": [
        {
          "output_type": "stream",
          "text": [
            "black\n"
          ],
          "name": "stdout"
        }
      ]
    },
    {
      "cell_type": "markdown",
      "metadata": {
        "id": "DGmK8Nsw18XJ"
      },
      "source": [
        "#### 3. NUMBERS\n",
        "\n",
        "Numeric data types can belong to 2 different numerical types: `int` and `float`."
      ]
    },
    {
      "cell_type": "code",
      "metadata": {
        "id": "BaIVlTzm3CmB",
        "colab": {
          "base_uri": "https://localhost:8080/"
        },
        "outputId": "c1788bdd-24e4-46ec-c750-0952a656f417"
      },
      "source": [
        "# type() will return the type of your data\n",
        "type(4)"
      ],
      "execution_count": null,
      "outputs": [
        {
          "output_type": "execute_result",
          "data": {
            "text/plain": [
              "int"
            ]
          },
          "metadata": {},
          "execution_count": 22
        }
      ]
    },
    {
      "cell_type": "code",
      "metadata": {
        "id": "aRizBO-JJ87e",
        "colab": {
          "base_uri": "https://localhost:8080/"
        },
        "outputId": "7dc8c1d4-97ef-4448-858b-23f07ed5e955"
      },
      "source": [
        "type(0.14556)"
      ],
      "execution_count": null,
      "outputs": [
        {
          "output_type": "execute_result",
          "data": {
            "text/plain": [
              "float"
            ]
          },
          "metadata": {},
          "execution_count": 23
        }
      ]
    },
    {
      "cell_type": "code",
      "metadata": {
        "id": "gtg6z7bX3rul",
        "colab": {
          "base_uri": "https://localhost:8080/"
        },
        "outputId": "833b4258-bfc0-42e7-b6cb-c56caea3f680"
      },
      "source": [
        "# int() can be used to change the type of your data\n",
        "# Convert float to int\n",
        "int(3.14)"
      ],
      "execution_count": null,
      "outputs": [
        {
          "output_type": "execute_result",
          "data": {
            "text/plain": [
              "3"
            ]
          },
          "metadata": {},
          "execution_count": 24
        }
      ]
    },
    {
      "cell_type": "code",
      "metadata": {
        "id": "ciD8EU0K4Hf9",
        "colab": {
          "base_uri": "https://localhost:8080/"
        },
        "outputId": "e3b0ce93-532a-4cea-848f-a249656afdca"
      },
      "source": [
        "# Convert int to float\n",
        "float(3)"
      ],
      "execution_count": null,
      "outputs": [
        {
          "output_type": "execute_result",
          "data": {
            "text/plain": [
              "3.0"
            ]
          },
          "metadata": {},
          "execution_count": 25
        }
      ]
    },
    {
      "cell_type": "code",
      "metadata": {
        "id": "Z7dKbG0v4m_d"
      },
      "source": [
        "# Assign the value 5 to the variable name score\n",
        "# Pop-up quiz\n",
        "ryan_score = 5"
      ],
      "execution_count": null,
      "outputs": []
    },
    {
      "cell_type": "code",
      "metadata": {
        "id": "l5T8tLD84xt4"
      },
      "source": [
        "# We can also performs variable reassignment\n",
        "# Increase score by 1\n",
        "ryan_score = ryan_score + 1\n"
      ],
      "execution_count": null,
      "outputs": []
    },
    {
      "cell_type": "code",
      "metadata": {
        "colab": {
          "base_uri": "https://localhost:8080/"
        },
        "id": "RSi40GblKQqO",
        "outputId": "414d64a9-7728-4ed8-bf8d-4885d02f44ab"
      },
      "source": [
        "print(ryan_score)"
      ],
      "execution_count": null,
      "outputs": [
        {
          "output_type": "stream",
          "name": "stdout",
          "text": [
            "6\n"
          ]
        }
      ]
    },
    {
      "cell_type": "code",
      "metadata": {
        "id": "JRyKRP7JVpWZ"
      },
      "source": [
        "# What happens if I run the cell above again?"
      ],
      "execution_count": null,
      "outputs": []
    },
    {
      "cell_type": "code",
      "metadata": {
        "colab": {
          "base_uri": "https://localhost:8080/"
        },
        "id": "b1zST4O_K9j7",
        "outputId": "2d2ba67e-6f0f-4bc6-a824-dcea9163cbf3"
      },
      "source": [
        "ryan_score * 2\n",
        "ryan_score / 2"
      ],
      "execution_count": null,
      "outputs": [
        {
          "output_type": "execute_result",
          "data": {
            "text/plain": [
              "3.0"
            ]
          },
          "metadata": {},
          "execution_count": 50
        }
      ]
    },
    {
      "cell_type": "code",
      "metadata": {
        "colab": {
          "base_uri": "https://localhost:8080/"
        },
        "id": "-wrKfawcLDbH",
        "outputId": "0a17f458-2d61-46d2-b7e0-9774691b1de0"
      },
      "source": [
        "print(ryan_score *2)\n",
        "print(ryan_score/2)"
      ],
      "execution_count": null,
      "outputs": [
        {
          "output_type": "stream",
          "name": "stdout",
          "text": [
            "12\n",
            "3.0\n"
          ]
        }
      ]
    },
    {
      "cell_type": "code",
      "metadata": {
        "colab": {
          "base_uri": "https://localhost:8080/"
        },
        "id": "VBXIiVxrK5tI",
        "outputId": "8e482ca3-cf63-4c86-809c-e800ede6819b"
      },
      "source": [
        "ryan_score * 2"
      ],
      "execution_count": null,
      "outputs": [
        {
          "output_type": "execute_result",
          "data": {
            "text/plain": [
              "12"
            ]
          },
          "metadata": {},
          "execution_count": 52
        }
      ]
    },
    {
      "cell_type": "code",
      "metadata": {
        "id": "S533CMF5g9n1",
        "colab": {
          "base_uri": "https://localhost:8080/"
        },
        "outputId": "07508fa2-0d23-4b40-9b5d-76c6a3c35370"
      },
      "source": [
        "# How about other math operations like multiplications and division?\n",
        "print(ryan_score * 2)"
      ],
      "execution_count": null,
      "outputs": [
        {
          "output_type": "stream",
          "name": "stdout",
          "text": [
            "12\n"
          ]
        }
      ]
    },
    {
      "cell_type": "code",
      "metadata": {
        "colab": {
          "base_uri": "https://localhost:8080/"
        },
        "id": "i78BFQOjKlnY",
        "outputId": "249b6acd-f5eb-46ea-9bbf-97835325eb31"
      },
      "source": [
        "print(ryan_score/2)"
      ],
      "execution_count": null,
      "outputs": [
        {
          "output_type": "stream",
          "name": "stdout",
          "text": [
            "3.0\n"
          ]
        }
      ]
    },
    {
      "cell_type": "code",
      "metadata": {
        "id": "UHQvFa8o6qh-",
        "colab": {
          "base_uri": "https://localhost:8080/"
        },
        "outputId": "ef888552-3449-4dc3-dd3d-aae054be456c"
      },
      "source": [
        "# Beside the basic mathematics operations, we can also get the remainder by using %\n",
        "# Find the remainder when divide score by 5\n",
        "ryan_score  % 5\n"
      ],
      "execution_count": null,
      "outputs": [
        {
          "output_type": "execute_result",
          "data": {
            "text/plain": [
              "1"
            ]
          },
          "metadata": {},
          "execution_count": 55
        }
      ]
    },
    {
      "cell_type": "markdown",
      "metadata": {
        "id": "fMLfC30P7kNy"
      },
      "source": [
        "#### 4. STRINGS\n",
        "\n",
        "A string literal is a sequence of characters surrounded by quotes. We can use both single, double, or triple quotes for a string."
      ]
    },
    {
      "cell_type": "code",
      "metadata": {
        "colab": {
          "base_uri": "https://localhost:8080/"
        },
        "id": "pC9gxOTfAHpN",
        "outputId": "31c52c59-78c2-4ca2-dfe3-65c1f6d680ad"
      },
      "source": [
        "print('Hello, World!')"
      ],
      "execution_count": null,
      "outputs": [
        {
          "output_type": "stream",
          "name": "stdout",
          "text": [
            "Hello, World!\n"
          ]
        }
      ]
    },
    {
      "cell_type": "code",
      "metadata": {
        "id": "oga1tu757nDS",
        "colab": {
          "base_uri": "https://localhost:8080/"
        },
        "outputId": "72b4d3bf-f177-4f6e-ae7a-1a6dadad9683"
      },
      "source": [
        "# Print out the string 'Coding is fun!'\n",
        "print(\"Coding is fun!\")"
      ],
      "execution_count": null,
      "outputs": [
        {
          "output_type": "stream",
          "name": "stdout",
          "text": [
            "Coding is fun!\n"
          ]
        }
      ]
    },
    {
      "cell_type": "code",
      "metadata": {
        "colab": {
          "base_uri": "https://localhost:8080/"
        },
        "id": "pkPr_OETAVRe",
        "outputId": "0637ee9d-2d77-4f2d-dd88-3da1177091e9"
      },
      "source": [
        "# Let's do it!\n",
        "print(\"Let's do it!\")"
      ],
      "execution_count": null,
      "outputs": [
        {
          "output_type": "stream",
          "name": "stdout",
          "text": [
            "Let's do it!\n"
          ]
        }
      ]
    },
    {
      "cell_type": "code",
      "metadata": {
        "id": "6hHl2aDCN6-y",
        "colab": {
          "base_uri": "https://localhost:8080/"
        },
        "outputId": "0b29fcbe-5949-43fa-f4f0-d1c9cdc35cad"
      },
      "source": [
        "# Triple quotes is used when you want to print out a string in different line\n",
        "print(\"\"\"Tri\n",
        "is\n",
        "fun\n",
        "\"\"\")"
      ],
      "execution_count": null,
      "outputs": [
        {
          "output_type": "stream",
          "name": "stdout",
          "text": [
            "Tri\n",
            "is\n",
            "fun\n",
            "\n"
          ]
        }
      ]
    },
    {
      "cell_type": "code",
      "metadata": {
        "id": "TC4LdYx283o5",
        "colab": {
          "base_uri": "https://localhost:8080/"
        },
        "outputId": "2ac503f6-2f97-4923-afee-1969b9837107"
      },
      "source": [
        "# Assign a new value DePauw to the variable SCHOOL\n",
        "# Pop-up quiz\n",
        "SCHOOL = 'DePauw'\n",
        "print(SCHOOL)"
      ],
      "execution_count": null,
      "outputs": [
        {
          "output_type": "stream",
          "name": "stdout",
          "text": [
            "DePauw\n"
          ]
        }
      ]
    },
    {
      "cell_type": "code",
      "metadata": {
        "id": "SYp6Mg3L9KPZ",
        "colab": {
          "base_uri": "https://localhost:8080/"
        },
        "outputId": "6e9b82d6-954d-45c6-ecc1-0b723a35cea0"
      },
      "source": [
        "# Let's check the type of the variable SCHOOL\n",
        "print(type(SCHOOL))"
      ],
      "execution_count": null,
      "outputs": [
        {
          "output_type": "stream",
          "name": "stdout",
          "text": [
            "<class 'str'>\n"
          ]
        }
      ]
    },
    {
      "cell_type": "code",
      "metadata": {
        "id": "hu2KeYuHI79w",
        "colab": {
          "base_uri": "https://localhost:8080/"
        },
        "outputId": "3086855b-a38d-43b4-b10d-626586b72e1e"
      },
      "source": [
        "# New function: len() is used to get the length of our string\n",
        "print(len(SCHOOL))"
      ],
      "execution_count": null,
      "outputs": [
        {
          "output_type": "stream",
          "name": "stdout",
          "text": [
            "6\n"
          ]
        }
      ]
    },
    {
      "cell_type": "code",
      "metadata": {
        "colab": {
          "base_uri": "https://localhost:8080/"
        },
        "id": "Hg22ev_DBgOG",
        "outputId": "8c4e189d-5a8a-405f-f750-6d637a886322"
      },
      "source": [
        "print(len(SCHOOL))"
      ],
      "execution_count": null,
      "outputs": [
        {
          "output_type": "stream",
          "name": "stdout",
          "text": [
            "6\n"
          ]
        }
      ]
    },
    {
      "cell_type": "markdown",
      "metadata": {
        "id": "has81mAR96Is"
      },
      "source": [
        "Strings are ordered sequences of character data.\n",
        "\n",
        "**Indexing** allows you to access individual characters in a string directly by using a numeric value.\n",
        "\n",
        "PYTHON starts the indexing at 0.\n",
        "\n"
      ]
    },
    {
      "cell_type": "code",
      "metadata": {
        "colab": {
          "base_uri": "https://localhost:8080/",
          "height": 35
        },
        "id": "g495uA2xx9ro",
        "outputId": "62c44815-f8df-42a3-cf54-b63fc49db32f"
      },
      "source": [
        "fruit = 'Dragonfruit'\n",
        "fruit[:7:2]\n"
      ],
      "execution_count": null,
      "outputs": [
        {
          "output_type": "execute_result",
          "data": {
            "text/plain": [
              "'Daof'"
            ],
            "application/vnd.google.colaboratory.intrinsic+json": {
              "type": "string"
            }
          },
          "metadata": {},
          "execution_count": 21
        }
      ]
    },
    {
      "cell_type": "code",
      "metadata": {
        "colab": {
          "base_uri": "https://localhost:8080/",
          "height": 35
        },
        "id": "eQfo_CLECi3K",
        "outputId": "e7825c9b-5498-49fc-ebde-6891a32797fb"
      },
      "source": [
        "SCHOOL"
      ],
      "execution_count": null,
      "outputs": [
        {
          "output_type": "execute_result",
          "data": {
            "text/plain": [
              "'DePauw'"
            ],
            "application/vnd.google.colaboratory.intrinsic+json": {
              "type": "string"
            }
          },
          "metadata": {},
          "execution_count": 19
        }
      ]
    },
    {
      "cell_type": "code",
      "metadata": {
        "id": "Q-OxH7zm9Ou6",
        "colab": {
          "base_uri": "https://localhost:8080/",
          "height": 35
        },
        "outputId": "52afe361-2197-4872-811d-908a84067b09"
      },
      "source": [
        "# Choose the 5th character\n",
        "SCHOOL[4]"
      ],
      "execution_count": null,
      "outputs": [
        {
          "output_type": "execute_result",
          "data": {
            "text/plain": [
              "'u'"
            ],
            "application/vnd.google.colaboratory.intrinsic+json": {
              "type": "string"
            }
          },
          "metadata": {},
          "execution_count": 65
        }
      ]
    },
    {
      "cell_type": "code",
      "metadata": {
        "id": "fWc_BMAKEfg0",
        "colab": {
          "base_uri": "https://localhost:8080/",
          "height": 35
        },
        "outputId": "ffe6cfc9-31c7-474d-9e38-aa42eeb05556"
      },
      "source": [
        "# Choose the 8th character\n",
        "# Pop-up quiz\n",
        "SCHOOL[5]"
      ],
      "execution_count": null,
      "outputs": [
        {
          "output_type": "execute_result",
          "data": {
            "text/plain": [
              "'w'"
            ],
            "application/vnd.google.colaboratory.intrinsic+json": {
              "type": "string"
            }
          },
          "metadata": {},
          "execution_count": 67
        }
      ]
    },
    {
      "cell_type": "code",
      "metadata": {
        "id": "nTce7UcqS0E5",
        "colab": {
          "base_uri": "https://localhost:8080/",
          "height": 35
        },
        "outputId": "facaad5f-b7c4-4a3a-f39a-febaa715efae"
      },
      "source": [
        "# Choose the last character of the string\n",
        "SCHOOL[-1]"
      ],
      "execution_count": null,
      "outputs": [
        {
          "output_type": "execute_result",
          "data": {
            "text/plain": [
              "'w'"
            ],
            "application/vnd.google.colaboratory.intrinsic+json": {
              "type": "string"
            }
          },
          "metadata": {},
          "execution_count": 68
        }
      ]
    },
    {
      "cell_type": "code",
      "metadata": {
        "id": "_ShvltxaGC0a",
        "colab": {
          "base_uri": "https://localhost:8080/",
          "height": 35
        },
        "outputId": "7481e083-5dbf-483a-a06e-6f6021a888a8"
      },
      "source": [
        "# Choose the second last character of the string\n",
        "# Pop-up quiz\n",
        "SCHOOL[-2]\n",
        "# SCHOOL[len(SCHOOL)-1]"
      ],
      "execution_count": null,
      "outputs": [
        {
          "output_type": "execute_result",
          "data": {
            "text/plain": [
              "'u'"
            ],
            "application/vnd.google.colaboratory.intrinsic+json": {
              "type": "string"
            }
          },
          "metadata": {},
          "execution_count": 69
        }
      ]
    },
    {
      "cell_type": "markdown",
      "metadata": {
        "id": "SN7BoACZd8QJ"
      },
      "source": [
        "![](https://www.learnbyexample.org/wp-content/uploads/python/Python-String-Slicing-Syntax.png)"
      ]
    },
    {
      "cell_type": "code",
      "metadata": {
        "id": "ZZ6WSgJP-oSt",
        "colab": {
          "base_uri": "https://localhost:8080/",
          "height": 35
        },
        "outputId": "c4deb525-c064-4824-bee7-40e77c21eaad"
      },
      "source": [
        "# Choose all the character before the 5th character\n",
        "SCHOOL[1:4]"
      ],
      "execution_count": null,
      "outputs": [
        {
          "output_type": "execute_result",
          "data": {
            "text/plain": [
              "'ePa'"
            ],
            "application/vnd.google.colaboratory.intrinsic+json": {
              "type": "string"
            }
          },
          "metadata": {},
          "execution_count": 72
        }
      ]
    },
    {
      "cell_type": "code",
      "metadata": {
        "colab": {
          "base_uri": "https://localhost:8080/",
          "height": 35
        },
        "id": "LG4xxnlCFVCi",
        "outputId": "57c39fef-5e85-41b5-c118-48ca6ff2bdb4"
      },
      "source": [
        "SCHOOL[0:4:1]"
      ],
      "execution_count": null,
      "outputs": [
        {
          "output_type": "execute_result",
          "data": {
            "text/plain": [
              "'DePa'"
            ],
            "application/vnd.google.colaboratory.intrinsic+json": {
              "type": "string"
            }
          },
          "metadata": {},
          "execution_count": 73
        }
      ]
    },
    {
      "cell_type": "code",
      "metadata": {
        "colab": {
          "base_uri": "https://localhost:8080/",
          "height": 35
        },
        "id": "83LJ5JAQFRU_",
        "outputId": "78e095fa-3dd4-41de-cafd-8c22e7a30cfb"
      },
      "source": [
        "SCHOOL[0:4:2]"
      ],
      "execution_count": null,
      "outputs": [
        {
          "output_type": "execute_result",
          "data": {
            "text/plain": [
              "'DP'"
            ],
            "application/vnd.google.colaboratory.intrinsic+json": {
              "type": "string"
            }
          },
          "metadata": {},
          "execution_count": 74
        }
      ]
    },
    {
      "cell_type": "code",
      "metadata": {
        "id": "rGhJcMa8_L31",
        "colab": {
          "base_uri": "https://localhost:8080/",
          "height": 35
        },
        "outputId": "cc7c82e5-49b0-4ba5-92a4-6ae20eb4a1e0"
      },
      "source": [
        "# Choose everything\n",
        "SCHOOL[:]"
      ],
      "execution_count": null,
      "outputs": [
        {
          "output_type": "execute_result",
          "data": {
            "text/plain": [
              "'DePauw'"
            ],
            "application/vnd.google.colaboratory.intrinsic+json": {
              "type": "string"
            }
          },
          "metadata": {},
          "execution_count": 75
        }
      ]
    },
    {
      "cell_type": "code",
      "metadata": {
        "id": "e5OlK_fJTL6J"
      },
      "source": [],
      "execution_count": null,
      "outputs": []
    },
    {
      "cell_type": "code",
      "metadata": {
        "id": "t79ceaqEoFOg",
        "colab": {
          "base_uri": "https://localhost:8080/",
          "height": 35
        },
        "outputId": "6a43811f-2316-4495-b16f-45f98001a607"
      },
      "source": [
        "# Choose every letters in the even index in the string\n",
        "SCHOOL[::2]"
      ],
      "execution_count": null,
      "outputs": [
        {
          "output_type": "execute_result",
          "data": {
            "text/plain": [
              "'DPu'"
            ],
            "application/vnd.google.colaboratory.intrinsic+json": {
              "type": "string"
            }
          },
          "metadata": {},
          "execution_count": 76
        }
      ]
    },
    {
      "cell_type": "code",
      "metadata": {
        "id": "LdFXQD7y_S0k",
        "colab": {
          "base_uri": "https://localhost:8080/",
          "height": 35
        },
        "outputId": "3b0185d1-7fd7-480b-cb09-54ebc9fb6520"
      },
      "source": [
        "# Choose everything but backward\n",
        "SCHOOL[::-1]"
      ],
      "execution_count": null,
      "outputs": [
        {
          "output_type": "execute_result",
          "data": {
            "text/plain": [
              "'wuaPeD'"
            ],
            "application/vnd.google.colaboratory.intrinsic+json": {
              "type": "string"
            }
          },
          "metadata": {},
          "execution_count": 77
        }
      ]
    },
    {
      "cell_type": "code",
      "metadata": {
        "id": "mZW3Oj2r-8ZG",
        "colab": {
          "base_uri": "https://localhost:8080/",
          "height": 35
        },
        "outputId": "cc1769f4-7579-44e2-c3ea-b16591cda17c"
      },
      "source": [
        "# Choose only the 'School' part\n",
        "# Pop-up quiz\n",
        "SCHOOL[5:]"
      ],
      "execution_count": null,
      "outputs": [
        {
          "output_type": "execute_result",
          "data": {
            "text/plain": [
              "'w'"
            ],
            "application/vnd.google.colaboratory.intrinsic+json": {
              "type": "string"
            }
          },
          "metadata": {},
          "execution_count": 78
        }
      ]
    },
    {
      "cell_type": "code",
      "metadata": {
        "id": "aydWuw8wHKvn"
      },
      "source": [
        "hi = 'HELLO'\n",
        "school = 'DePauw'"
      ],
      "execution_count": null,
      "outputs": []
    },
    {
      "cell_type": "code",
      "metadata": {
        "colab": {
          "base_uri": "https://localhost:8080/",
          "height": 35
        },
        "id": "m6ECMJgcHiFO",
        "outputId": "39b2d1b6-3632-4d6a-c0c5-45a79dcc075f"
      },
      "source": [
        "'HELLO'+'DePauw'"
      ],
      "execution_count": null,
      "outputs": [
        {
          "output_type": "execute_result",
          "data": {
            "text/plain": [
              "'HELLODePauw'"
            ],
            "application/vnd.google.colaboratory.intrinsic+json": {
              "type": "string"
            }
          },
          "metadata": {},
          "execution_count": 80
        }
      ]
    },
    {
      "cell_type": "code",
      "metadata": {
        "id": "RhnPL1Lg_axr",
        "colab": {
          "base_uri": "https://localhost:8080/"
        },
        "outputId": "1089446e-5724-497e-bdc3-7ae6bb976b2b"
      },
      "source": [
        "# Display the two separated strings together: 'HELLO' and 'DePauw'\n",
        "print(hi + ' ' + school)\n",
        "# What happen if we don't have the extra white spaces after HELLO?\n",
        "# Pop-up quiz"
      ],
      "execution_count": null,
      "outputs": [
        {
          "output_type": "stream",
          "name": "stdout",
          "text": [
            "HELLO DePauw\n"
          ]
        }
      ]
    },
    {
      "cell_type": "code",
      "metadata": {
        "colab": {
          "base_uri": "https://localhost:8080/"
        },
        "id": "EhTan5UsHtAA",
        "outputId": "84f8e530-c922-4eca-e0a7-e66a15bd169b"
      },
      "source": [
        "print(hi, school)"
      ],
      "execution_count": null,
      "outputs": [
        {
          "output_type": "stream",
          "name": "stdout",
          "text": [
            "HELLO DePauw\n"
          ]
        }
      ]
    },
    {
      "cell_type": "code",
      "metadata": {
        "id": "aIO37gwpAOf2",
        "colab": {
          "base_uri": "https://localhost:8080/",
          "height": 204
        },
        "outputId": "576180d4-d529-4ccf-a1a5-9b3092fc06fb"
      },
      "source": [
        "# Strings are immutable. What does it mean?\n",
        "SCHOOL\n",
        "#DePauw\n",
        "\n",
        "# Try changing the fifth character of the string SCHOOL into a 'c'\n",
        "SCHOOL[0] = 'c'"
      ],
      "execution_count": null,
      "outputs": [
        {
          "output_type": "error",
          "ename": "TypeError",
          "evalue": "ignored",
          "traceback": [
            "\u001b[0;31m---------------------------------------------------------------------------\u001b[0m",
            "\u001b[0;31mTypeError\u001b[0m                                 Traceback (most recent call last)",
            "\u001b[0;32m<ipython-input-85-c7d8ea82528a>\u001b[0m in \u001b[0;36m<cell line: 6>\u001b[0;34m()\u001b[0m\n\u001b[1;32m      4\u001b[0m \u001b[0;34m\u001b[0m\u001b[0m\n\u001b[1;32m      5\u001b[0m \u001b[0;31m# Try changing the fifth character of the string SCHOOL into a 'c'\u001b[0m\u001b[0;34m\u001b[0m\u001b[0;34m\u001b[0m\u001b[0m\n\u001b[0;32m----> 6\u001b[0;31m \u001b[0mSCHOOL\u001b[0m\u001b[0;34m[\u001b[0m\u001b[0;36m0\u001b[0m\u001b[0;34m]\u001b[0m \u001b[0;34m=\u001b[0m \u001b[0;34m'c'\u001b[0m\u001b[0;34m\u001b[0m\u001b[0;34m\u001b[0m\u001b[0m\n\u001b[0m",
            "\u001b[0;31mTypeError\u001b[0m: 'str' object does not support item assignment"
          ]
        }
      ]
    },
    {
      "cell_type": "code",
      "metadata": {
        "id": "s0FbMx4bAttK",
        "colab": {
          "base_uri": "https://localhost:8080/"
        },
        "outputId": "dbd41a7a-dcaa-4af0-8ed3-3b7b5544086b"
      },
      "source": [
        "# Like the numeral literals, string literals can also be convert to other type of data (if possible)\n",
        "a = '3.1255'\n",
        "print(a)\n",
        "print(type(a))"
      ],
      "execution_count": null,
      "outputs": [
        {
          "output_type": "stream",
          "name": "stdout",
          "text": [
            "3.1255\n",
            "<class 'str'>\n"
          ]
        }
      ]
    },
    {
      "cell_type": "code",
      "metadata": {
        "id": "QuHqGn9QsXmr",
        "colab": {
          "base_uri": "https://localhost:8080/"
        },
        "outputId": "b84c04cb-9a31-4b7d-e6ae-931812bc8ef7"
      },
      "source": [
        "b = float(a)\n",
        "print(b)"
      ],
      "execution_count": null,
      "outputs": [
        {
          "output_type": "stream",
          "name": "stdout",
          "text": [
            "3.1255\n"
          ]
        }
      ]
    },
    {
      "cell_type": "code",
      "metadata": {
        "colab": {
          "base_uri": "https://localhost:8080/"
        },
        "id": "1lgbUYd0I_dE",
        "outputId": "bbf75872-c9ca-4b89-f2cf-fd83997a044e"
      },
      "source": [
        "print(type(b))"
      ],
      "execution_count": null,
      "outputs": [
        {
          "output_type": "stream",
          "name": "stdout",
          "text": [
            "<class 'float'>\n"
          ]
        }
      ]
    },
    {
      "cell_type": "code",
      "metadata": {
        "id": "dnmiiSlQA9e5",
        "colab": {
          "base_uri": "https://localhost:8080/"
        },
        "outputId": "8c9b20e9-3e9d-416c-9bb8-aff1820bba4c"
      },
      "source": [
        "# Pop-up quiz\n",
        "a = '12'\n",
        "b = '25'\n",
        "# What is the result of the line of code below?\n",
        "print(a + b)"
      ],
      "execution_count": null,
      "outputs": [
        {
          "output_type": "stream",
          "name": "stdout",
          "text": [
            "1225\n"
          ]
        }
      ]
    },
    {
      "cell_type": "code",
      "metadata": {
        "colab": {
          "base_uri": "https://localhost:8080/"
        },
        "id": "xHQ6htC5JYJY",
        "outputId": "d57ae959-a921-4ce1-a80a-bfda28c1bcd0"
      },
      "source": [
        "print(int(a) + int(b))"
      ],
      "execution_count": null,
      "outputs": [
        {
          "output_type": "stream",
          "name": "stdout",
          "text": [
            "37\n"
          ]
        }
      ]
    },
    {
      "cell_type": "markdown",
      "metadata": {
        "id": "7SyX8-vNBQnO"
      },
      "source": [
        "#### 5. BOOLEANS\n",
        "\n",
        "A Boolean literal can have any of the two values: `True` or `False`."
      ]
    },
    {
      "cell_type": "code",
      "metadata": {
        "id": "FmJvhKyFBdXK"
      },
      "source": [
        "a = 5\n",
        "b = 6"
      ],
      "execution_count": null,
      "outputs": []
    },
    {
      "cell_type": "code",
      "metadata": {
        "id": "O3wbjnbrBfVU",
        "colab": {
          "base_uri": "https://localhost:8080/"
        },
        "outputId": "19dd3875-c770-409b-e3f0-c593aca1b1d4"
      },
      "source": [
        "# Compare a and b\n",
        "print(a > b)"
      ],
      "execution_count": null,
      "outputs": [
        {
          "output_type": "stream",
          "name": "stdout",
          "text": [
            "False\n"
          ]
        }
      ]
    },
    {
      "cell_type": "code",
      "metadata": {
        "id": "Io9p9cUQtHR_",
        "colab": {
          "base_uri": "https://localhost:8080/"
        },
        "outputId": "2bf80fdc-801d-4916-d6da-9f7b6a1f2c8b"
      },
      "source": [
        "# Is True equal to 1?\n",
        "print(True == 1)"
      ],
      "execution_count": null,
      "outputs": [
        {
          "output_type": "stream",
          "name": "stdout",
          "text": [
            "True\n"
          ]
        }
      ]
    },
    {
      "cell_type": "code",
      "metadata": {
        "colab": {
          "base_uri": "https://localhost:8080/"
        },
        "id": "9wIMoIP5Kcye",
        "outputId": "cb1acaf5-6376-430e-906c-4fcaa7d2cdd3"
      },
      "source": [
        "print(int(True))"
      ],
      "execution_count": null,
      "outputs": [
        {
          "output_type": "stream",
          "name": "stdout",
          "text": [
            "1\n"
          ]
        }
      ]
    },
    {
      "cell_type": "code",
      "metadata": {
        "id": "zJd2LcPaX--l",
        "colab": {
          "base_uri": "https://localhost:8080/"
        },
        "outputId": "909740a0-4496-4f42-a6f5-514fa558e2c1"
      },
      "source": [
        "# Is False equal to 0?\n",
        "print(False == 1)"
      ],
      "execution_count": null,
      "outputs": [
        {
          "output_type": "stream",
          "name": "stdout",
          "text": [
            "False\n"
          ]
        }
      ]
    },
    {
      "cell_type": "code",
      "metadata": {
        "id": "FYHwv8RgBjsx",
        "colab": {
          "base_uri": "https://localhost:8080/"
        },
        "outputId": "9ca944e5-c0ef-4ec5-80c1-0f85fd80323c"
      },
      "source": [
        "# Operations on booleans\n",
        "True + True + False"
      ],
      "execution_count": null,
      "outputs": [
        {
          "output_type": "execute_result",
          "data": {
            "text/plain": [
              "2"
            ]
          },
          "metadata": {},
          "execution_count": 97
        }
      ]
    },
    {
      "cell_type": "code",
      "metadata": {
        "id": "YKqTYHnoIFmq",
        "colab": {
          "base_uri": "https://localhost:8080/"
        },
        "outputId": "ccaad0ee-9f2f-4e58-f14e-85bec0ca0c52"
      },
      "source": [
        "# What do think is the result of this operations?\n",
        "# Pop-up quiz\n",
        "(True * False) + True"
      ],
      "execution_count": null,
      "outputs": [
        {
          "output_type": "execute_result",
          "data": {
            "text/plain": [
              "1"
            ]
          },
          "metadata": {},
          "execution_count": 98
        }
      ]
    },
    {
      "cell_type": "markdown",
      "metadata": {
        "id": "7mzmlbmvBsUW"
      },
      "source": [
        "### 3. INPUT() AND MORE ON PRINT()"
      ]
    },
    {
      "cell_type": "markdown",
      "metadata": {
        "id": "xgjZavweCQYR"
      },
      "source": [
        "input() function will allow user input"
      ]
    },
    {
      "cell_type": "code",
      "metadata": {
        "id": "BxEs4PT5YdQG",
        "colab": {
          "base_uri": "https://localhost:8080/"
        },
        "outputId": "6174e181-1d8f-4ae9-bce2-8e836f7a5972"
      },
      "source": [
        "print('Hello, Phuong Anh')"
      ],
      "execution_count": null,
      "outputs": [
        {
          "output_type": "stream",
          "name": "stdout",
          "text": [
            "Hello, Phuong Anh\n"
          ]
        }
      ]
    },
    {
      "cell_type": "code",
      "metadata": {
        "colab": {
          "base_uri": "https://localhost:8080/"
        },
        "id": "FNGGuI5UNPCf",
        "outputId": "b46bc9f4-a705-4897-ea94-254eabb391b7"
      },
      "source": [
        "name = input('Your name here: ')\n",
        "print('Hello', name)"
      ],
      "execution_count": null,
      "outputs": [
        {
          "output_type": "stream",
          "name": "stdout",
          "text": [
            "Your name here: Phanh\n",
            "Hello Phanh\n"
          ]
        }
      ]
    },
    {
      "cell_type": "code",
      "metadata": {
        "id": "hLJaUtEdC8zW",
        "colab": {
          "base_uri": "https://localhost:8080/"
        },
        "outputId": "50df495a-8147-4ba8-8a22-43c9bda95aea"
      },
      "source": [
        "# input() will return everything as a string\n",
        "n = int(input('Number please'))\n",
        "print(type(n))\n",
        "print(int(n) + 8)\n",
        "# Can you guess the result of the code above? Let's say the number is 7\n",
        "\n",
        "# Pop-up quiz"
      ],
      "execution_count": null,
      "outputs": [
        {
          "output_type": "stream",
          "name": "stdout",
          "text": [
            "Number please9\n",
            "<class 'int'>\n",
            "17\n"
          ]
        }
      ]
    },
    {
      "cell_type": "code",
      "metadata": {
        "id": "acS5Nj2EEKE6",
        "colab": {
          "base_uri": "https://localhost:8080/"
        },
        "outputId": "030e3bf8-0eb2-4ad7-ca9f-6fbdb13fec38"
      },
      "source": [
        "# To display a number and string together, you will have to change the number into a string type\n",
        "n = 4\n",
        "'The number I like is: ' + str(n)\n",
        "print('The number I like is:' + ' ' + str(n))\n",
        "print('The number I like is:', n)\n",
        "\n"
      ],
      "execution_count": null,
      "outputs": [
        {
          "output_type": "stream",
          "name": "stdout",
          "text": [
            "The number I like is: 4\n",
            "The number I like is: 4\n"
          ]
        }
      ]
    },
    {
      "cell_type": "code",
      "metadata": {
        "colab": {
          "base_uri": "https://localhost:8080/"
        },
        "id": "zXRrHxg0PbDB",
        "outputId": "6ce33c5d-9d4d-48d2-eaa9-22f1d94d0559"
      },
      "source": [
        "print(4)"
      ],
      "execution_count": null,
      "outputs": [
        {
          "output_type": "stream",
          "name": "stdout",
          "text": [
            "4\n"
          ]
        }
      ]
    },
    {
      "cell_type": "code",
      "metadata": {
        "colab": {
          "base_uri": "https://localhost:8080/"
        },
        "id": "VtH8S1DcPgeo",
        "outputId": "8f57457a-5041-4f60-e941-4625a98dfcc9"
      },
      "source": [
        "n = 2021\n",
        "print(n)"
      ],
      "execution_count": null,
      "outputs": [
        {
          "output_type": "stream",
          "name": "stdout",
          "text": [
            "2021\n"
          ]
        }
      ]
    },
    {
      "cell_type": "code",
      "metadata": {
        "colab": {
          "base_uri": "https://localhost:8080/"
        },
        "id": "TbM8Z_csPj6S",
        "outputId": "13ced277-2f56-485c-b8f9-a3d0b50f08e1"
      },
      "source": [
        "type(n)"
      ],
      "execution_count": null,
      "outputs": [
        {
          "output_type": "execute_result",
          "data": {
            "text/plain": [
              "int"
            ]
          },
          "metadata": {},
          "execution_count": 109
        }
      ]
    },
    {
      "cell_type": "markdown",
      "metadata": {
        "id": "8fS9eEs5Gi3e"
      },
      "source": [
        "## Part 2. Conditionals\n",
        "\n",
        "![](data:image/jpeg;base64,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)"
      ]
    },
    {
      "cell_type": "code",
      "metadata": {
        "id": "pvadxD3lGqEn",
        "colab": {
          "base_uri": "https://localhost:8080/"
        },
        "outputId": "be2440f1-1310-49ec-eea8-66ebd7bfa257"
      },
      "source": [
        "# Write a program that:\n",
        "# Let the user input the number of cats they have\n",
        "# If the number of cats is 0, message \"Cat is cute, get one!\"\n",
        "# If the number of cats is 1, message \"Lovely!\"\n",
        "# If the number of cats above 1 to under 5, message \"Happy family\"\n",
        "# From 5 and above, \"Is cat going to rule the world?\"\n",
        "\n",
        "cats = int(input('Please enter the number of cats: '))\n",
        "if cats == 0:\n",
        "  print('Cat is cute, get one!')\n",
        "elif cats == 1:\n",
        "  print('Lovely!')\n",
        "elif cats < 5:\n",
        "  print('Happy Family!')\n",
        "else:\n",
        "  print('Is cat going to rule the world?')\n",
        "\n",
        "\n",
        "\n",
        "\n",
        "\n"
      ],
      "execution_count": null,
      "outputs": [
        {
          "name": "stdout",
          "output_type": "stream",
          "text": [
            "Please enter the number of cats: 10\n"
          ]
        }
      ]
    },
    {
      "cell_type": "code",
      "metadata": {
        "id": "cYrvlLIdSLky"
      },
      "source": [
        "if cats == 0:\n",
        "  print('get one')\n",
        "else:\n",
        "  print('Yay')"
      ],
      "execution_count": null,
      "outputs": []
    },
    {
      "cell_type": "markdown",
      "metadata": {
        "id": "YsSuAtB811wv"
      },
      "source": [
        "## Discussion"
      ]
    },
    {
      "cell_type": "markdown",
      "metadata": {
        "id": "rHiZ9iTL17U9"
      },
      "source": [
        "**Question 1:**\n",
        "\n",
        "Can you figure out what this code try to do ?\n",
        "\n",
        "```python\n",
        "course_amount = 0\n",
        "\n",
        "# registered for 4 courses: fullstack web, machine learning, project management, flutter\n",
        "course_amount = course_amount + 4\n",
        "\n",
        "course_amount = course_amount - 4\n",
        "\n",
        "# what if i didn't register any course\n",
        "if course_amount > 0:\n",
        "  print(\"I registered courses!\")\n",
        "else:\n",
        "  print(\"I didn't register any courses!\")\n",
        "```"
      ]
    },
    {
      "cell_type": "markdown",
      "metadata": {
        "id": "UqTewpUR37Xv"
      },
      "source": [
        "Your answer:\n",
        "\n",
        "\n"
      ]
    },
    {
      "cell_type": "markdown",
      "metadata": {
        "id": "M3UuHJfNpB8u"
      },
      "source": [
        "**Question 2:**\n",
        "\n",
        "Given the two integers, print the maximum of them.\n",
        "\n",
        "Example input:\n",
        "```python\n",
        "3\n",
        "5\n",
        "```\n",
        "\n",
        "Example output:\n",
        "```python\n",
        "7\n",
        "```\n",
        "\n",
        "Please draw out an if diagram flow chart for this problem.\n",
        "\n",
        "Also show your Python solution for this problem too ;)"
      ]
    },
    {
      "cell_type": "markdown",
      "metadata": {
        "id": "j8RVUhPPTcyh"
      },
      "source": [
        "Your answer:\n",
        "\n",
        "\n"
      ]
    },
    {
      "cell_type": "code",
      "metadata": {
        "id": "pgWDg1_1gdOr"
      },
      "source": [],
      "execution_count": null,
      "outputs": []
    },
    {
      "cell_type": "markdown",
      "metadata": {
        "id": "VuVen646iMLu"
      },
      "source": [
        "**Question 3:**\n",
        "\n",
        "It's fun time! Can you figure out how to use *print* to print out these cute animals given the input of the user?\n",
        "\n",
        "For example:\n",
        "\n",
        "Can you please enter you want the cat or dog?\n",
        "\n",
        "Input: \"dog\"\n",
        "\n",
        "Output:\n",
        "\n",
        "```\n",
        "It's a dog!\n",
        "  __      _\n",
        "o'')}____//\n",
        " `_/      )\n",
        " (_(_/-(_/\n",
        "```\n",
        "\n",
        "Can you please enter you want the cat or dog?\n",
        "\n",
        "Input: \"cat\"\n",
        "\n",
        "Output:\n",
        "\n",
        "```\n",
        "It's a cat!\n",
        "|\\---/|\n",
        "| o_o |\n",
        " \\_^_/\n",
        "```\n",
        "\n"
      ]
    },
    {
      "cell_type": "code",
      "metadata": {
        "id": "Wj00QhuJim0m"
      },
      "source": [
        "# Your code here\n",
        "\n"
      ],
      "execution_count": null,
      "outputs": []
    }
  ]
}