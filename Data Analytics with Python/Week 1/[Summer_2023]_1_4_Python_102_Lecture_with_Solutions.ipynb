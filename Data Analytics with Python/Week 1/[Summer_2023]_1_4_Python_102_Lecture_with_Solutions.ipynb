{
  "nbformat": 4,
  "nbformat_minor": 0,
  "metadata": {
    "colab": {
      "provenance": []
    },
    "kernelspec": {
      "name": "python3",
      "display_name": "Python 3"
    }
  },
  "cells": [
    {
      "cell_type": "markdown",
      "metadata": {
        "id": "cUd9Bb-FUMtp"
      },
      "source": [
        "# **PYTHON 101 - DAY 1**\n",
        "\n",
        "# Before you start: File ▸ Save a Copy in Drive\n",
        "\n",
        "![](data:image/jpeg;base64,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)"
      ]
    },
    {
      "cell_type": "markdown",
      "metadata": {
        "id": "5BdHfEOaUg9E"
      },
      "source": [
        "Hello and Welcome back to Python!!\n",
        "\n",
        "Whew!! You have survived the first day of Python. Congratulations!!!!\n",
        "In the previous lectures, we have learned about:\n",
        "1. What is variable and different data types in Python?\n",
        "2. `print()`, `input()`, `type()`, and `len()` function\n",
        "3. if/elif/else conditions\n",
        "\n",
        "\n",
        "\n"
      ]
    },
    {
      "cell_type": "markdown",
      "metadata": {
        "id": "3eFffUO0_jg6"
      },
      "source": [
        "**Review Area**"
      ]
    },
    {
      "cell_type": "code",
      "metadata": {
        "id": "yourLVmE_a4q",
        "colab": {
          "base_uri": "https://localhost:8080/"
        },
        "outputId": "b0d6f47d-b69e-4ef9-dcc9-3ea57eb56165"
      },
      "source": [
        "# Literals (Number, String) & Print\n",
        "print(12)\n",
        "print(12.24)\n",
        "print(\"I love my dog Bu\")"
      ],
      "execution_count": null,
      "outputs": [
        {
          "output_type": "stream",
          "name": "stdout",
          "text": [
            "12\n",
            "12.24\n",
            "I love my dog Bu\n"
          ]
        }
      ]
    },
    {
      "cell_type": "code",
      "metadata": {
        "id": "2IyMNOti_pIH",
        "colab": {
          "base_uri": "https://localhost:8080/"
        },
        "outputId": "9bd0664c-576b-4765-c57f-4137ba5b61c0"
      },
      "source": [
        "# Variables\n",
        "my_integer = 12\n",
        "my_float = 12.24\n",
        "my_string = \"I love my dog\"\n",
        "print(my_integer)\n",
        "print(my_float)\n",
        "print(my_string)"
      ],
      "execution_count": null,
      "outputs": [
        {
          "output_type": "stream",
          "text": [
            "12\n",
            "12.24\n",
            "I love my dog\n"
          ],
          "name": "stdout"
        }
      ]
    },
    {
      "cell_type": "code",
      "metadata": {
        "id": "TWVTbsiP_ssr",
        "colab": {
          "base_uri": "https://localhost:8080/"
        },
        "outputId": "652637e9-7e03-401d-f210-b9291f538cdd"
      },
      "source": [
        "# Check type\n",
        "print(type(my_integer))\n",
        "print(type(my_float))\n",
        "print(type(my_string))"
      ],
      "execution_count": null,
      "outputs": [
        {
          "output_type": "stream",
          "text": [
            "<class 'int'>\n",
            "<class 'float'>\n",
            "<class 'str'>\n"
          ],
          "name": "stdout"
        }
      ]
    },
    {
      "cell_type": "code",
      "metadata": {
        "colab": {
          "base_uri": "https://localhost:8080/",
          "height": 35
        },
        "id": "99INIurRP07R",
        "outputId": "cd60eed3-c44e-40c3-d7c3-94d2173a8659"
      },
      "source": [
        "my_string"
      ],
      "execution_count": null,
      "outputs": [
        {
          "output_type": "execute_result",
          "data": {
            "application/vnd.google.colaboratory.intrinsic+json": {
              "type": "string"
            },
            "text/plain": [
              "'I love my dog'"
            ]
          },
          "metadata": {
            "tags": []
          },
          "execution_count": 6
        }
      ]
    },
    {
      "cell_type": "code",
      "metadata": {
        "colab": {
          "base_uri": "https://localhost:8080/"
        },
        "id": "WZysblDJP2SW",
        "outputId": "8016810b-32f2-4f68-ce67-4528f6abba42"
      },
      "source": [
        "len(my_string)"
      ],
      "execution_count": null,
      "outputs": [
        {
          "output_type": "execute_result",
          "data": {
            "text/plain": [
              "13"
            ]
          },
          "metadata": {
            "tags": []
          },
          "execution_count": 7
        }
      ]
    },
    {
      "cell_type": "code",
      "metadata": {
        "id": "cWd-P7L9_t-n",
        "colab": {
          "base_uri": "https://localhost:8080/"
        },
        "outputId": "d11fe4b7-b964-40f3-afe8-bd3fbd2aaa98"
      },
      "source": [
        "# Indexing: my_string[a:b:c]\n",
        "print(my_string)\n",
        "print(my_string[:])\n",
        "print(my_string[::])\n",
        "print(my_string[::2])\n",
        "print(my_string[2:])\n",
        "print(my_string[:6])\n",
        "print(my_string[2:6])\n",
        "print(my_string[2:6:2])"
      ],
      "execution_count": null,
      "outputs": [
        {
          "output_type": "stream",
          "text": [
            "I love my dog\n",
            "I love my dog\n",
            "I love my dog\n",
            "Ilv ydg\n",
            "love my dog\n",
            "I love\n",
            "love\n",
            "lv\n"
          ],
          "name": "stdout"
        }
      ]
    },
    {
      "cell_type": "code",
      "metadata": {
        "id": "jhbsGll7_1eA",
        "colab": {
          "base_uri": "https://localhost:8080/"
        },
        "outputId": "aa25144f-3793-421b-de00-06aff7493827"
      },
      "source": [
        "# Conditionals\n",
        "score = 9\n",
        "\n",
        "if score < 6:\n",
        "  print(\"failed\")\n",
        "elif 6 <= score < 8:\n",
        "  print(\"good\")\n",
        "else:\n",
        "  print(\"perfect\")"
      ],
      "execution_count": null,
      "outputs": [
        {
          "output_type": "stream",
          "text": [
            "perfect\n"
          ],
          "name": "stdout"
        }
      ]
    },
    {
      "cell_type": "markdown",
      "metadata": {
        "id": "K8SIfw2y_aR9"
      },
      "source": [
        "Now let's move on to some more basic Python.\n",
        "\n",
        "We will be going through these concepts in our lecture today:\n",
        "\n",
        "1. List\n",
        "2. For Loop"
      ]
    },
    {
      "cell_type": "markdown",
      "metadata": {
        "id": "6o4wjUwEX8g3"
      },
      "source": [
        "# Part 1. LIST\n",
        "\n",
        "\n",
        "\n"
      ]
    },
    {
      "cell_type": "markdown",
      "metadata": {
        "id": "1NEF0fH6VzIw"
      },
      "source": [
        "Let's consider the situation where we need to store a lot of values:\n",
        "\n",
        "```python\n",
        "color_1 = \"pink\"\n",
        "color_2 = \"blue\"\n",
        "color_3 = \"green\"\n",
        "...\n",
        "color_7 = \"red\"\n",
        "```"
      ]
    },
    {
      "cell_type": "markdown",
      "metadata": {
        "id": "Y4573AMmWOfn"
      },
      "source": [
        "This is slow and inefficient because we need to repeat variable assignment steps too many times and too many variable names to keep track of them.\n",
        "\n",
        "Is there any efficient and neat way to keep track of values in a collection?"
      ]
    },
    {
      "cell_type": "markdown",
      "metadata": {
        "id": "T2p3TPhQpgn4"
      },
      "source": [
        "##👩‍💻 What is list and how will we use it?"
      ]
    },
    {
      "cell_type": "markdown",
      "metadata": {
        "id": "5pPtFCZycACt"
      },
      "source": [
        "List is an ordered collection of values enclosed by square brackets **`[ ]`** and separated by comma **“,”**"
      ]
    },
    {
      "cell_type": "code",
      "metadata": {
        "id": "-l3Rxuwd-Q2S",
        "colab": {
          "base_uri": "https://localhost:8080/"
        },
        "outputId": "53c8e220-ded9-42b0-baac-ef84d3c4ecee"
      },
      "source": [
        "# empty list\n",
        "\n",
        "empty_list = []\n",
        "print(empty_list)"
      ],
      "execution_count": null,
      "outputs": [
        {
          "output_type": "stream",
          "name": "stdout",
          "text": [
            "[]\n"
          ]
        }
      ]
    },
    {
      "cell_type": "code",
      "metadata": {
        "id": "ka4ronAbTorV",
        "colab": {
          "base_uri": "https://localhost:8080/"
        },
        "outputId": "9275fe09-6cb8-4c4d-85a2-fc087e862615"
      },
      "source": [
        "# An example of a list of colors\n",
        "colors = [\"pink\", \"blue\", \"green\", \"black\", \"red\"]\n",
        "# Display the list out on to the screen\n",
        "print(colors)"
      ],
      "execution_count": null,
      "outputs": [
        {
          "output_type": "stream",
          "name": "stdout",
          "text": [
            "['pink', 'blue', 'green', 'black', 'red']\n"
          ]
        }
      ]
    },
    {
      "cell_type": "code",
      "metadata": {
        "id": "I2FXT_6UZ1J0",
        "colab": {
          "base_uri": "https://localhost:8080/"
        },
        "outputId": "3c7d87eb-3449-4a01-90f7-ee4c829298fb"
      },
      "source": [
        "# An example of a list of even numbers\n",
        "even = [0,2,4,6,8,10]\n",
        "# Display the list out on to the screen\n",
        "print(even)"
      ],
      "execution_count": null,
      "outputs": [
        {
          "output_type": "stream",
          "text": [
            "[0, 2, 4, 6, 8, 10]\n"
          ],
          "name": "stdout"
        }
      ]
    },
    {
      "cell_type": "markdown",
      "metadata": {
        "id": "4M-zoPkJZx7n"
      },
      "source": [
        "List can contain different types of values."
      ]
    },
    {
      "cell_type": "code",
      "metadata": {
        "id": "7wFT5-LYZvQx",
        "colab": {
          "base_uri": "https://localhost:8080/"
        },
        "outputId": "24832fc2-e005-4ea3-857a-6d2bbf85dbdc"
      },
      "source": [
        "# We can also have different types of values in one list\n",
        "my_list = [1, 'values', '2', 3.215]\n",
        "print(my_list)"
      ],
      "execution_count": null,
      "outputs": [
        {
          "output_type": "stream",
          "name": "stdout",
          "text": [
            "[1, 'values', '2', 3.215]\n"
          ]
        }
      ]
    },
    {
      "cell_type": "markdown",
      "metadata": {
        "id": "1x25Kc7uanc2"
      },
      "source": [
        "List is an ordered collection of values, just like string is an ordered collection of characters.\n",
        "\n",
        "So a lot of operations with list will be similar to that of string."
      ]
    },
    {
      "cell_type": "code",
      "metadata": {
        "id": "VDVuVjEzakp8",
        "colab": {
          "base_uri": "https://localhost:8080/"
        },
        "outputId": "d113c9d6-05aa-43e4-8697-4a262afc55f9"
      },
      "source": [
        "my_string = \"probe\"\n",
        "# Do you still remember how to get the length of the string?\n",
        "# Pop-up quiz\n",
        "len(my_string)"
      ],
      "execution_count": null,
      "outputs": [
        {
          "output_type": "execute_result",
          "data": {
            "text/plain": [
              "5"
            ]
          },
          "metadata": {},
          "execution_count": 5
        }
      ]
    },
    {
      "cell_type": "markdown",
      "metadata": {
        "id": "6hdNyJGscu78"
      },
      "source": [
        "len() is not the only operations from string that we can adapt.\n",
        "\n",
        "The values inside list can also be accessed by indexing.\n"
      ]
    },
    {
      "cell_type": "markdown",
      "metadata": {
        "id": "crAGzFU0eOTC"
      },
      "source": [
        "Here is the **string indexing** which we have learnt:\n",
        "\n",
        "<img src=\"https://cdn.programiz.com/sites/tutorial2program/files/python-list-index.png\" width=600>"
      ]
    },
    {
      "cell_type": "markdown",
      "metadata": {
        "id": "vQRSmBKJgwj7"
      },
      "source": [
        "The same logic is applied for list in Python!"
      ]
    },
    {
      "cell_type": "code",
      "metadata": {
        "id": "c1JHILUzbn3J",
        "colab": {
          "base_uri": "https://localhost:8080/"
        },
        "outputId": "85542b35-32f2-4de8-951c-7eaa03925c60"
      },
      "source": [
        "my_list = [1, 5.2, 96, \"FACE\", \"Python\", 8.6]\n",
        "# Can you guess how will we get the length of the list my_list?\n",
        "# Pop-up quiz\n",
        "len(my_list)"
      ],
      "execution_count": null,
      "outputs": [
        {
          "output_type": "execute_result",
          "data": {
            "text/plain": [
              "6"
            ]
          },
          "metadata": {},
          "execution_count": 6
        }
      ]
    },
    {
      "cell_type": "markdown",
      "metadata": {
        "id": "2R8_R0d3P2Ap"
      },
      "source": [
        "Here is the **list indexing** which we have learnt:\n",
        "\n",
        "<img src=\"https://i1.faceprep.in/Companies-1/lists-in-python.png\" width=600>"
      ]
    },
    {
      "cell_type": "markdown",
      "metadata": {
        "id": "LD-XOwz9idKS"
      },
      "source": [
        "Let's get back to list `colors` ."
      ]
    },
    {
      "cell_type": "code",
      "metadata": {
        "id": "LluhGf-zeTlR",
        "colab": {
          "base_uri": "https://localhost:8080/"
        },
        "outputId": "bb966aae-d2ee-43a6-e851-acf6e366ce0a"
      },
      "source": [
        "colors"
      ],
      "execution_count": null,
      "outputs": [
        {
          "output_type": "execute_result",
          "data": {
            "text/plain": [
              "['pink', 'blue', 'green', 'black', 'red']"
            ]
          },
          "metadata": {},
          "execution_count": 7
        }
      ]
    },
    {
      "cell_type": "code",
      "metadata": {
        "id": "qgrtOgvweFQF",
        "colab": {
          "base_uri": "https://localhost:8080/",
          "height": 35
        },
        "outputId": "46a07fb8-d64a-4ab1-9c3d-4af093a3a403"
      },
      "source": [
        "# Let's try to get the first color from the list colors\n",
        "colors[0]"
      ],
      "execution_count": null,
      "outputs": [
        {
          "output_type": "execute_result",
          "data": {
            "text/plain": [
              "'pink'"
            ],
            "application/vnd.google.colaboratory.intrinsic+json": {
              "type": "string"
            }
          },
          "metadata": {},
          "execution_count": 8
        }
      ]
    },
    {
      "cell_type": "code",
      "metadata": {
        "id": "RC3y1fn2en9T",
        "colab": {
          "base_uri": "https://localhost:8080/"
        },
        "outputId": "cd02f54b-5cf3-4e2c-e3b2-f7a06a0c17f3"
      },
      "source": [
        "# Can you try to get the color 'green' from the list colors?\n",
        "# Pop-up quiz\n",
        "print(colors[2])\n",
        "print(colors[-3])"
      ],
      "execution_count": null,
      "outputs": [
        {
          "output_type": "stream",
          "name": "stdout",
          "text": [
            "green\n",
            "green\n"
          ]
        }
      ]
    },
    {
      "cell_type": "code",
      "metadata": {
        "id": "lyxm02HRhf6R",
        "colab": {
          "base_uri": "https://localhost:8080/"
        },
        "outputId": "89adbfb8-2d09-48a5-b8a0-3ee7126bae03"
      },
      "source": [
        "# Can you get the last color from the list?\n",
        "# Pop-up quiz\n",
        "print(colors[-1])\n",
        "print(colors[4])"
      ],
      "execution_count": null,
      "outputs": [
        {
          "output_type": "stream",
          "text": [
            "red\n",
            "red\n"
          ],
          "name": "stdout"
        }
      ]
    },
    {
      "cell_type": "markdown",
      "metadata": {
        "id": "nIlI6bY-hyL_"
      },
      "source": [
        "Well, you can access the characters in the list that you want now right? How about if you want to get a big chunk of that list?\n",
        "\n",
        "Do you still remember string slicing? We can also perform list slicing with the same method."
      ]
    },
    {
      "cell_type": "markdown",
      "metadata": {
        "id": "7iaif8HKk8Uz"
      },
      "source": [
        "<img src=\"https://www.learnbyexample.org/wp-content/uploads/python/Python-List-Slicing-Syntax.png\" width=300>"
      ]
    },
    {
      "cell_type": "code",
      "metadata": {
        "id": "ZSkI2wCNlH_W",
        "colab": {
          "base_uri": "https://localhost:8080/"
        },
        "outputId": "c0b5d3f2-c9c8-4880-92ef-033215ff5133"
      },
      "source": [
        "colors"
      ],
      "execution_count": null,
      "outputs": [
        {
          "output_type": "execute_result",
          "data": {
            "text/plain": [
              "['pink', 'blue', 'green', 'black', 'red']"
            ]
          },
          "metadata": {
            "tags": []
          },
          "execution_count": 41
        }
      ]
    },
    {
      "cell_type": "code",
      "metadata": {
        "id": "y8qzSpZfio7G",
        "colab": {
          "base_uri": "https://localhost:8080/"
        },
        "outputId": "f47e2b4a-765b-44af-c27a-fd6b2fd138b1"
      },
      "source": [
        "# Let's try to get the first two colors from the list\n",
        "print(colors[:2])\n",
        "print(colors[-5:-3])\n",
        "\n"
      ],
      "execution_count": null,
      "outputs": [
        {
          "output_type": "stream",
          "name": "stdout",
          "text": [
            "['pink', 'blue']\n",
            "['pink', 'blue']\n"
          ]
        }
      ]
    },
    {
      "cell_type": "code",
      "metadata": {
        "id": "4EekH0_WiuNR",
        "colab": {
          "base_uri": "https://localhost:8080/"
        },
        "outputId": "9d67b4ec-0be4-4a1d-9ff3-00227e1227cc"
      },
      "source": [
        "# Can you try to get all the colors except 'pink'?\n",
        "# Pop-up quiz\n",
        "colors[1:]"
      ],
      "execution_count": null,
      "outputs": [
        {
          "output_type": "execute_result",
          "data": {
            "text/plain": [
              "['blue', 'green', 'black', 'red']"
            ]
          },
          "metadata": {},
          "execution_count": 11
        }
      ]
    },
    {
      "cell_type": "code",
      "metadata": {
        "colab": {
          "base_uri": "https://localhost:8080/"
        },
        "id": "SqI1bWm_WMXg",
        "outputId": "99bafc5b-6db6-416f-ea87-076e07e43d9e"
      },
      "source": [
        "colors[::-1]"
      ],
      "execution_count": null,
      "outputs": [
        {
          "output_type": "execute_result",
          "data": {
            "text/plain": [
              "['red', 'black', 'green', 'blue', 'pink']"
            ]
          },
          "metadata": {},
          "execution_count": 12
        }
      ]
    },
    {
      "cell_type": "markdown",
      "metadata": {
        "id": "OCG25prcjk0r"
      },
      "source": [
        "One main difference between list and string is that list is mutable and string is immutable.\n",
        "\n",
        "What does it mean?"
      ]
    },
    {
      "cell_type": "code",
      "metadata": {
        "id": "eZrloM2EjrUl",
        "colab": {
          "base_uri": "https://localhost:8080/",
          "height": 204
        },
        "outputId": "124fcfec-615b-4319-ee44-97233f65a03a"
      },
      "source": [
        "# Remember when we try to change a character of a string\n",
        "\n",
        "my_color = 'pink'\n",
        "my_color[0] = 'P'\n"
      ],
      "execution_count": null,
      "outputs": [
        {
          "output_type": "error",
          "ename": "TypeError",
          "evalue": "ignored",
          "traceback": [
            "\u001b[0;31m---------------------------------------------------------------------------\u001b[0m",
            "\u001b[0;31mTypeError\u001b[0m                                 Traceback (most recent call last)",
            "\u001b[0;32m<ipython-input-13-1bdfefb456e3>\u001b[0m in \u001b[0;36m<cell line: 4>\u001b[0;34m()\u001b[0m\n\u001b[1;32m      2\u001b[0m \u001b[0;34m\u001b[0m\u001b[0m\n\u001b[1;32m      3\u001b[0m \u001b[0mmy_color\u001b[0m \u001b[0;34m=\u001b[0m \u001b[0;34m'pink'\u001b[0m\u001b[0;34m\u001b[0m\u001b[0;34m\u001b[0m\u001b[0m\n\u001b[0;32m----> 4\u001b[0;31m \u001b[0mmy_color\u001b[0m\u001b[0;34m[\u001b[0m\u001b[0;36m0\u001b[0m\u001b[0;34m]\u001b[0m \u001b[0;34m=\u001b[0m \u001b[0;34m'P'\u001b[0m\u001b[0;34m\u001b[0m\u001b[0;34m\u001b[0m\u001b[0m\n\u001b[0m",
            "\u001b[0;31mTypeError\u001b[0m: 'str' object does not support item assignment"
          ]
        }
      ]
    },
    {
      "cell_type": "code",
      "metadata": {
        "id": "HqrJndfkmCFP",
        "colab": {
          "base_uri": "https://localhost:8080/"
        },
        "outputId": "218cc465-ecd9-45ce-e1bc-78dd1c483cd9"
      },
      "source": [
        "colors"
      ],
      "execution_count": null,
      "outputs": [
        {
          "output_type": "execute_result",
          "data": {
            "text/plain": [
              "['pink', 'blue', 'green', 'black', 'red']"
            ]
          },
          "metadata": {},
          "execution_count": 14
        }
      ]
    },
    {
      "cell_type": "code",
      "metadata": {
        "id": "oYxJFBarkEvw"
      },
      "source": [
        "# Let's try doing the same thing with list, will it give us an error again?\n",
        "colors[0] = 'yellow'"
      ],
      "execution_count": null,
      "outputs": []
    },
    {
      "cell_type": "code",
      "metadata": {
        "colab": {
          "base_uri": "https://localhost:8080/"
        },
        "id": "e4Lpwd62Wrs8",
        "outputId": "bcc4990b-4eaf-4b52-c05f-ff8fa008b507"
      },
      "source": [
        "colors"
      ],
      "execution_count": null,
      "outputs": [
        {
          "output_type": "execute_result",
          "data": {
            "text/plain": [
              "['yellow', 'blue', 'green', 'black', 'red']"
            ]
          },
          "metadata": {},
          "execution_count": 17
        }
      ]
    },
    {
      "cell_type": "code",
      "metadata": {
        "id": "X0LbArwRkLnm"
      },
      "source": [
        "# Can you change the value 'black' into 'DARK' from the list colors?\n",
        "# Pop-up quiz\n",
        "colors[3] = 'DARK'"
      ],
      "execution_count": null,
      "outputs": []
    },
    {
      "cell_type": "code",
      "metadata": {
        "colab": {
          "base_uri": "https://localhost:8080/"
        },
        "id": "JDojr_XtXDJa",
        "outputId": "c4037b1d-5b56-4377-ae0c-e79f2e34f715"
      },
      "source": [
        "colors"
      ],
      "execution_count": null,
      "outputs": [
        {
          "output_type": "execute_result",
          "data": {
            "text/plain": [
              "['yellow', 'blue', 'green', 'DARK', 'red']"
            ]
          },
          "metadata": {
            "tags": []
          },
          "execution_count": 60
        }
      ]
    },
    {
      "cell_type": "markdown",
      "metadata": {
        "id": "j3T8a5BdqOkj"
      },
      "source": [
        "Some more methods on list mutation:\n",
        "\n",
        "1. `list.append()` : add 1 item to the existing list\n",
        "2. `list.extend()` : add many items of another list to the list\n",
        "3. `list.insert(index, item)`: insert an item to the list at a defined index\n",
        "\n",
        "4. `+` : concatenate (add) two lists to create a new list\n",
        "\n",
        "5. `del list[index]`: delete one or more items by its indexes\n",
        "6. `list.remove(item)`: remove the first item with the defined value from the list"
      ]
    },
    {
      "cell_type": "code",
      "metadata": {
        "id": "9cvex64hoskF",
        "colab": {
          "base_uri": "https://localhost:8080/"
        },
        "outputId": "7da4f71d-3dfb-40e7-f734-ea0cad0ac7c6"
      },
      "source": [
        "colors = ['pink', 'blue', 'green', 'black', 'red']\n",
        "colors"
      ],
      "execution_count": null,
      "outputs": [
        {
          "output_type": "execute_result",
          "data": {
            "text/plain": [
              "['pink', 'blue', 'green', 'black', 'red']"
            ]
          },
          "metadata": {},
          "execution_count": 20
        }
      ]
    },
    {
      "cell_type": "code",
      "metadata": {
        "id": "aBCrlwACYsPo",
        "colab": {
          "base_uri": "https://localhost:8080/"
        },
        "outputId": "a8b4caf9-d3ad-4208-b9ce-d039624c2ca4"
      },
      "source": [
        "# Example of how to use append()\n",
        "colors.append('orange')\n",
        "print(colors)"
      ],
      "execution_count": null,
      "outputs": [
        {
          "output_type": "stream",
          "name": "stdout",
          "text": [
            "['pink', 'blue', 'green', 'black', 'red', 'orange']\n"
          ]
        }
      ]
    },
    {
      "cell_type": "code",
      "metadata": {
        "id": "o6Bq44IscN_U",
        "colab": {
          "base_uri": "https://localhost:8080/"
        },
        "outputId": "f5d7805a-bbb0-4762-e758-df220d91b305"
      },
      "source": [
        "# Example of how to use extend()\n",
        "colors.extend(['magenta'])\n",
        "print(colors)"
      ],
      "execution_count": null,
      "outputs": [
        {
          "output_type": "stream",
          "name": "stdout",
          "text": [
            "['pink', 'blue', 'green', 'black', 'red', 'orange', 'magenta']\n"
          ]
        }
      ]
    },
    {
      "cell_type": "code",
      "metadata": {
        "id": "-KFescrgcQoR",
        "colab": {
          "base_uri": "https://localhost:8080/"
        },
        "outputId": "07e3556d-fecd-4455-f2ed-3340497e1864"
      },
      "source": [
        "# What is the difference between append() and extend()\n",
        "# An example\n",
        "colors.append(['purple','yellow','beige'])\n",
        "colors"
      ],
      "execution_count": null,
      "outputs": [
        {
          "output_type": "execute_result",
          "data": {
            "text/plain": [
              "['pink',\n",
              " 'blue',\n",
              " 'green',\n",
              " 'black',\n",
              " 'red',\n",
              " 'orange',\n",
              " 'magenta',\n",
              " ['purple', 'yellow', 'beige'],\n",
              " ['purple', 'yellow', 'beige'],\n",
              " ['purple', 'yellow', 'beige']]"
            ]
          },
          "metadata": {},
          "execution_count": 26
        }
      ]
    },
    {
      "cell_type": "code",
      "metadata": {
        "colab": {
          "base_uri": "https://localhost:8080/",
          "height": 35
        },
        "id": "-8LKVZdUYjFY",
        "outputId": "57ee3b44-4a84-4f73-864a-99ec0bde70a1"
      },
      "source": [
        "new_list = colors[-1]\n",
        "first_ele = new_list[0]\n",
        "first_ele"
      ],
      "execution_count": null,
      "outputs": [
        {
          "output_type": "execute_result",
          "data": {
            "text/plain": [
              "'purple'"
            ],
            "application/vnd.google.colaboratory.intrinsic+json": {
              "type": "string"
            }
          },
          "metadata": {},
          "execution_count": 27
        }
      ]
    },
    {
      "cell_type": "code",
      "metadata": {
        "id": "Z0-8-mJaYst6",
        "colab": {
          "base_uri": "https://localhost:8080/",
          "height": 35
        },
        "outputId": "f81a08be-47b3-4b01-8a34-9d4de05a61f5"
      },
      "source": [
        "colors[-1][0]"
      ],
      "execution_count": null,
      "outputs": [
        {
          "output_type": "execute_result",
          "data": {
            "text/plain": [
              "'purple'"
            ],
            "application/vnd.google.colaboratory.intrinsic+json": {
              "type": "string"
            }
          },
          "metadata": {},
          "execution_count": 29
        }
      ]
    },
    {
      "cell_type": "code",
      "metadata": {
        "colab": {
          "base_uri": "https://localhost:8080/"
        },
        "id": "sosqFIFYYJ9v",
        "outputId": "515a0f10-7b37-4765-b45f-c97e958dc9ed"
      },
      "source": [
        "len(colors[-1][0])"
      ],
      "execution_count": null,
      "outputs": [
        {
          "output_type": "execute_result",
          "data": {
            "text/plain": [
              "6"
            ]
          },
          "metadata": {},
          "execution_count": 30
        }
      ]
    },
    {
      "cell_type": "code",
      "metadata": {
        "id": "V7Pnb59apGIC"
      },
      "source": [
        "# for easy comparison, let's get back the orginal list\n"
      ],
      "execution_count": null,
      "outputs": []
    },
    {
      "cell_type": "code",
      "metadata": {
        "id": "ZvOImKTco5bV",
        "colab": {
          "base_uri": "https://localhost:8080/"
        },
        "outputId": "2e68c0c4-6e7f-4ac1-d325-d57f7425ffaa"
      },
      "source": [
        "colors.extend(['purple','yellow','beige'])\n",
        "colors"
      ],
      "execution_count": null,
      "outputs": [
        {
          "output_type": "execute_result",
          "data": {
            "text/plain": [
              "['pink',\n",
              " 'blue',\n",
              " 'green',\n",
              " 'black',\n",
              " 'red',\n",
              " 'orange',\n",
              " 'magenta',\n",
              " ['purple', 'yellow', 'beige'],\n",
              " ['purple', 'yellow', 'beige'],\n",
              " ['purple', 'yellow', 'beige'],\n",
              " 'purple',\n",
              " 'yellow',\n",
              " 'beige']"
            ]
          },
          "metadata": {},
          "execution_count": 31
        }
      ]
    },
    {
      "cell_type": "code",
      "metadata": {
        "colab": {
          "base_uri": "https://localhost:8080/"
        },
        "id": "ISgkla2bZIMd",
        "outputId": "ce22dcd5-e6e6-4e3b-f53d-6d2203402b8d"
      },
      "source": [
        "len(colors)"
      ],
      "execution_count": null,
      "outputs": [
        {
          "output_type": "execute_result",
          "data": {
            "text/plain": [
              "8"
            ]
          },
          "metadata": {
            "tags": []
          },
          "execution_count": 73
        }
      ]
    },
    {
      "cell_type": "code",
      "metadata": {
        "id": "7kWbtY63cQjI",
        "colab": {
          "base_uri": "https://localhost:8080/"
        },
        "outputId": "7396851e-ff9c-4aa4-d404-696995ad3819"
      },
      "source": [
        "# What do you think is the result for the code below?\n",
        "# Pop-up quiz\n",
        "colors.append(['white','maroon','coral'])\n",
        "colors"
      ],
      "execution_count": null,
      "outputs": [
        {
          "output_type": "execute_result",
          "data": {
            "text/plain": [
              "['pink',\n",
              " 'blue',\n",
              " 'green',\n",
              " 'black',\n",
              " 'red',\n",
              " 'purple',\n",
              " 'yellow',\n",
              " 'beige',\n",
              " ['white', 'maroon', 'coral']]"
            ]
          },
          "metadata": {
            "tags": []
          },
          "execution_count": 74
        }
      ]
    },
    {
      "cell_type": "code",
      "metadata": {
        "id": "5FoQBGZfdjKi",
        "colab": {
          "base_uri": "https://localhost:8080/"
        },
        "outputId": "8905b4db-499a-4234-9682-4d2c7b4fed30"
      },
      "source": [
        "# Another way of adding something to your list is insert\n",
        "colors.insert(3, 'mustard')\n",
        "colors\n",
        "# What do you think the difference between insert and the previous methods?"
      ],
      "execution_count": null,
      "outputs": [
        {
          "output_type": "execute_result",
          "data": {
            "text/plain": [
              "['pink',\n",
              " 'blue',\n",
              " 'green',\n",
              " 'mustard',\n",
              " 'black',\n",
              " 'red',\n",
              " 'purple',\n",
              " 'yellow',\n",
              " 'beige',\n",
              " ['white', 'maroon', 'coral']]"
            ]
          },
          "metadata": {
            "tags": []
          },
          "execution_count": 75
        }
      ]
    },
    {
      "cell_type": "code",
      "metadata": {
        "id": "1spn3fhOpX-b",
        "colab": {
          "base_uri": "https://localhost:8080/"
        },
        "outputId": "2cde6bda-fdb9-4b4d-fb64-34399e65b813"
      },
      "source": [
        "colors"
      ],
      "execution_count": null,
      "outputs": [
        {
          "output_type": "execute_result",
          "data": {
            "text/plain": [
              "['pink',\n",
              " 'blue',\n",
              " 'green',\n",
              " 'mustard',\n",
              " 'black',\n",
              " 'red',\n",
              " 'purple',\n",
              " 'yellow',\n",
              " 'beige',\n",
              " ['white', 'maroon', 'coral']]"
            ]
          },
          "metadata": {
            "tags": []
          },
          "execution_count": 76
        }
      ]
    },
    {
      "cell_type": "code",
      "metadata": {
        "id": "Mf-3GYoaeU04",
        "colab": {
          "base_uri": "https://localhost:8080/"
        },
        "outputId": "81be9571-6778-440d-8dd6-349a0b62e3b4"
      },
      "source": [
        "# Concatenate the two lists\n",
        "my_colors = ['pink', 'blue', 'green']\n",
        "other_colors = ['black', 'red']\n",
        "all_colors = my_colors + other_colors\n",
        "print(my_colors)\n",
        "print(other_colors)\n",
        "print(all_colors)"
      ],
      "execution_count": null,
      "outputs": [
        {
          "output_type": "stream",
          "text": [
            "['pink', 'blue', 'green']\n",
            "['black', 'red']\n",
            "['pink', 'blue', 'green', 'black', 'red']\n"
          ],
          "name": "stdout"
        }
      ]
    },
    {
      "cell_type": "code",
      "metadata": {
        "id": "QjUJYrp8p7sP",
        "colab": {
          "base_uri": "https://localhost:8080/"
        },
        "outputId": "28aa6916-74f8-4c8a-bdd1-19c2b2444a2c"
      },
      "source": [
        "# what is the difference between this method and list concatentate +\n",
        "my_colors.extend(other_colors)\n",
        "my_colors"
      ],
      "execution_count": null,
      "outputs": [
        {
          "output_type": "execute_result",
          "data": {
            "text/plain": [
              "['pink', 'blue', 'green', 'black', 'red']"
            ]
          },
          "metadata": {
            "tags": []
          },
          "execution_count": 80
        }
      ]
    },
    {
      "cell_type": "code",
      "metadata": {
        "colab": {
          "base_uri": "https://localhost:8080/"
        },
        "id": "L8ncxAIAa4dB",
        "outputId": "90322d74-6445-4786-b873-0dba74101dec"
      },
      "source": [
        "my_colors"
      ],
      "execution_count": null,
      "outputs": [
        {
          "output_type": "execute_result",
          "data": {
            "text/plain": [
              "['pink', 'blue', 'green', 'black', 'red']"
            ]
          },
          "metadata": {
            "tags": []
          },
          "execution_count": 81
        }
      ]
    },
    {
      "cell_type": "code",
      "metadata": {
        "id": "bg12uCYqkRMt",
        "colab": {
          "base_uri": "https://localhost:8080/"
        },
        "outputId": "a7ca2cae-571e-4092-e9ae-8a5899f7de5e"
      },
      "source": [
        "# Adding to it is fun but what if I add something by mistake?\n",
        "# Let's remove the ['black'] from our colors list\n",
        "my_colors.remove('black')\n",
        "my_colors"
      ],
      "execution_count": null,
      "outputs": [
        {
          "output_type": "execute_result",
          "data": {
            "text/plain": [
              "['pink', 'blue', 'green', 'red']"
            ]
          },
          "metadata": {
            "tags": []
          },
          "execution_count": 82
        }
      ]
    },
    {
      "cell_type": "code",
      "metadata": {
        "id": "oOEixa6DkhIA",
        "colab": {
          "base_uri": "https://localhost:8080/"
        },
        "outputId": "7ca0a89f-aaea-4038-fe16-cea75b423964"
      },
      "source": [
        "# Or if we knew the index of the element that we want to delete\n",
        "# Let's remove the color at index 2 from our colors list\n",
        "del my_colors[2]\n",
        "my_colors"
      ],
      "execution_count": null,
      "outputs": [
        {
          "output_type": "execute_result",
          "data": {
            "text/plain": [
              "['pink', 'blue', 'red']"
            ]
          },
          "metadata": {
            "tags": []
          },
          "execution_count": 83
        }
      ]
    },
    {
      "cell_type": "markdown",
      "metadata": {
        "id": "uh7wIqSgstb6"
      },
      "source": [
        "## 🧐 Membership List"
      ]
    },
    {
      "cell_type": "markdown",
      "metadata": {
        "id": "0FV7_H1stNWI"
      },
      "source": [
        "So we have a list of stuffs, how can we quickly know if a specific item is inside the list?\n"
      ]
    },
    {
      "cell_type": "code",
      "metadata": {
        "id": "ErqN_x0wtdpT",
        "colab": {
          "base_uri": "https://localhost:8080/"
        },
        "outputId": "2b283d35-1d97-44cd-e4aa-eec18f9a9ac4"
      },
      "source": [
        "my_cars = [\"Honda\", \"Toyota\", \"Suyuki\", \"Audi\", \"BMW\"]\n",
        "my_cars"
      ],
      "execution_count": null,
      "outputs": [
        {
          "output_type": "execute_result",
          "data": {
            "text/plain": [
              "['Honda', 'Toyota', 'Suyuki', 'Audi', 'BMW']"
            ]
          },
          "metadata": {},
          "execution_count": 33
        }
      ]
    },
    {
      "cell_type": "code",
      "metadata": {
        "id": "bhM4g4z1t0_D",
        "colab": {
          "base_uri": "https://localhost:8080/"
        },
        "outputId": "fab82607-ef7e-44d8-da43-b552892c90b2"
      },
      "source": [
        "# let's see if I'm rich by owning a \"BMW\" car\n",
        "\"BMW\" in my_cars"
      ],
      "execution_count": null,
      "outputs": [
        {
          "output_type": "execute_result",
          "data": {
            "text/plain": [
              "True"
            ]
          },
          "metadata": {},
          "execution_count": 34
        }
      ]
    },
    {
      "cell_type": "code",
      "metadata": {
        "id": "bvcYGhpEuTgb",
        "colab": {
          "base_uri": "https://localhost:8080/"
        },
        "outputId": "3d0444d4-2666-4fd7-d291-8cfe26826fdb"
      },
      "source": [
        "# Let's combine with conditionals that we've have learnt\n",
        "if \"BMW\" in my_cars:\n",
        "  print(\"I'm rich! Yayyy!\")\n",
        "else:\n",
        "  print(\"Oh no! I'm not a rich kid!\")"
      ],
      "execution_count": null,
      "outputs": [
        {
          "output_type": "stream",
          "name": "stdout",
          "text": [
            "I'm rich! Yayyy!\n"
          ]
        }
      ]
    },
    {
      "cell_type": "code",
      "metadata": {
        "id": "4b2D-oGo-sbP",
        "colab": {
          "base_uri": "https://localhost:8080/"
        },
        "outputId": "58deec98-2d62-4140-9846-8d49f5291361"
      },
      "source": [
        "# What about the opposite to find out if someone is not in the list\n",
        "if \"BMW\" not in my_cars:\n",
        "  print(\"I'm poor! oh noo!\")\n",
        "else:\n",
        "  print(\"I'm a rich kid!\")"
      ],
      "execution_count": null,
      "outputs": [
        {
          "output_type": "stream",
          "text": [
            "I'm a rich kid!\n"
          ],
          "name": "stdout"
        }
      ]
    },
    {
      "cell_type": "markdown",
      "metadata": {
        "id": "vlqt6ifqojGZ"
      },
      "source": [
        "## 🙋‍♀️ Small challenge\n",
        "\n",
        "**Statement**:\n",
        "\n",
        "Write a script that let user `input` a month (as in number). Print out the number of days in that month.\n",
        "\n",
        "2: 28 days\n",
        "\n",
        "1, 3, 5, 7, 8, 10, 12: 31 days\n",
        "\n",
        "4, 6, 9, 11: 30 days  \n",
        "\n",
        "\n",
        "**Example**\n",
        "\n",
        "**Input:**\n",
        "\n",
        "Can you enter which month of the year: 1\n",
        "\n",
        "**Output:**\n",
        "\n",
        "The number of days in that month is: 31"
      ]
    },
    {
      "cell_type": "code",
      "metadata": {
        "id": "u7CsFkd-oilT",
        "colab": {
          "base_uri": "https://localhost:8080/"
        },
        "outputId": "857796e1-b1db-4718-b8f6-ef52a8dc3384"
      },
      "source": [
        "# Your code here\n",
        "month = int(input())\n",
        "month_b = [4,6,9,11]\n",
        "month_a = [2]\n",
        "\n",
        "if month in month_a:\n",
        "  print(28)\n",
        "elif month in month_b:\n",
        "  print (30)\n",
        "else:\n",
        "  print(31)"
      ],
      "execution_count": null,
      "outputs": [
        {
          "output_type": "stream",
          "text": [
            "34\n",
            "31\n"
          ],
          "name": "stdout"
        }
      ]
    },
    {
      "cell_type": "markdown",
      "metadata": {
        "id": "u6gnzy3DmllI"
      },
      "source": [
        "# Part 2. For Loop"
      ]
    },
    {
      "cell_type": "markdown",
      "metadata": {
        "id": "O0fcwD5o88yQ"
      },
      "source": [
        "##👩‍💻 What can for loop do and how would we use it?"
      ]
    },
    {
      "cell_type": "markdown",
      "metadata": {
        "id": "J9RtUdXMH4ev"
      },
      "source": [
        "![](https://media.geeksforgeeks.org/wp-content/uploads/20191101172216/for-loop-python.jpg)\n"
      ]
    },
    {
      "cell_type": "markdown",
      "metadata": {
        "id": "wcTm2qoyvXB7"
      },
      "source": [
        "**for loop:** is used for iterating over a sequence\n",
        "\n",
        "```\n",
        "for <variable> in <list> :\n",
        "    a set of of expression to apply to the variable\n",
        "```\n"
      ]
    },
    {
      "cell_type": "code",
      "metadata": {
        "id": "usTRp7vWmnJa",
        "colab": {
          "base_uri": "https://localhost:8080/"
        },
        "outputId": "62924c44-6675-4740-c8a0-cc6d299612df"
      },
      "source": [
        "# Create a list called fruits contains these values: 'papaya', 'watermelon', 'dragonfruit', 'banana'\n",
        "# Pop-up quiz\n",
        "fruits = ['papaya', 'watermelon', 'wragonfruit', 'banana']\n",
        "fruits"
      ],
      "execution_count": null,
      "outputs": [
        {
          "output_type": "execute_result",
          "data": {
            "text/plain": [
              "['papaya', 'watermelon', 'wragonfruit', 'banana']"
            ]
          },
          "metadata": {},
          "execution_count": 1
        }
      ]
    },
    {
      "cell_type": "code",
      "metadata": {
        "id": "PmEEIR_5zNCr",
        "colab": {
          "base_uri": "https://localhost:8080/"
        },
        "outputId": "d28821a0-a147-40de-fc06-62fee3894016"
      },
      "source": [
        "# Let's try printing all the values inside that list\n",
        "print(fruits)"
      ],
      "execution_count": null,
      "outputs": [
        {
          "output_type": "stream",
          "text": [
            "['papaya', 'watermelon', 'dragonfruit', 'banana']\n"
          ],
          "name": "stdout"
        }
      ]
    },
    {
      "cell_type": "code",
      "metadata": {
        "id": "qTe4_s-Kz0fh",
        "colab": {
          "base_uri": "https://localhost:8080/"
        },
        "outputId": "24d545ae-6d56-4235-a1e6-c2d3a7acc235"
      },
      "source": [
        "# Let's try to visualize our for loop\n",
        "for a_fruit in fruits:\n",
        "  print(\"Start of the loop!\")\n",
        "  print(a_fruit)\n",
        "  print(\"End of the loop! Go back to the loop!\")\n",
        "\n",
        "print(\"Finishing the loop\")"
      ],
      "execution_count": null,
      "outputs": [
        {
          "output_type": "stream",
          "text": [
            "Start of the loop!\n",
            "papaya\n",
            "End of the loop! Go back to the loop!\n",
            "Start of the loop!\n",
            "watermelon\n",
            "End of the loop! Go back to the loop!\n",
            "Start of the loop!\n",
            "dragonfruit\n",
            "End of the loop! Go back to the loop!\n",
            "Start of the loop!\n",
            "banana\n",
            "End of the loop! Go back to the loop!\n",
            "Finishing the loop\n"
          ],
          "name": "stdout"
        }
      ]
    },
    {
      "cell_type": "code",
      "metadata": {
        "id": "fVQe5dnN8vpm",
        "colab": {
          "base_uri": "https://localhost:8080/"
        },
        "outputId": "633737dd-8be6-4872-97fe-b26c8fa532cd"
      },
      "source": [
        "# What if we want to print out only some specific fruits?\n",
        "# Let's incorporate if-else with our for loop.\n",
        "# Loop through our list and print out the fruit if it starts with a w.\n",
        "for i in fruits:\n",
        "  if i.startswith('w'):\n",
        "    print(i, 'starts with W')\n",
        "  else:\n",
        "    print(i, 'doesn\"t with w')"
      ],
      "execution_count": null,
      "outputs": [
        {
          "output_type": "stream",
          "name": "stdout",
          "text": [
            "papaya doesn\"t with w\n",
            "watermelon starts with W\n",
            "wragonfruit starts with W\n",
            "banana doesn\"t with w\n"
          ]
        }
      ]
    },
    {
      "cell_type": "code",
      "metadata": {
        "id": "INQB7EYP9yjv",
        "colab": {
          "base_uri": "https://localhost:8080/"
        },
        "outputId": "49414dfe-e737-4dc3-f39d-789a42a2896d"
      },
      "source": [
        "# Now if we want to print out all the fruits that doesn't start with a w.\n",
        "for i in fruits:\n",
        "  if i.startswith('w'):\n",
        "    continue  # what does it do ?\n",
        "  else:\n",
        "    print(i)"
      ],
      "execution_count": null,
      "outputs": [
        {
          "output_type": "stream",
          "name": "stdout",
          "text": [
            "papaya\n",
            "banana\n"
          ]
        }
      ]
    },
    {
      "cell_type": "code",
      "metadata": {
        "colab": {
          "base_uri": "https://localhost:8080/"
        },
        "id": "8x5EHHjHjrb4",
        "outputId": "5a272b15-70f1-4906-ecf8-dc44edfd97d7"
      },
      "source": [
        "fruits"
      ],
      "execution_count": null,
      "outputs": [
        {
          "output_type": "execute_result",
          "data": {
            "text/plain": [
              "['papaya', 'watermelon', 'wragonfruit', 'banana']"
            ]
          },
          "metadata": {},
          "execution_count": 4
        }
      ]
    },
    {
      "cell_type": "code",
      "metadata": {
        "id": "d6URz1eZ_l5k",
        "colab": {
          "base_uri": "https://localhost:8080/"
        },
        "outputId": "de890167-499f-4a99-853c-8303be60221f"
      },
      "source": [
        "# Similar question above but now if it starts with w then print it and break out of the loop.\n",
        "for i in fruits:\n",
        "  if i.startswith('w'):\n",
        "    print(i, \"starts with W\")\n",
        "    break    # what does it do ?\n",
        "  else:\n",
        "    print(i, \"does not start with W\")\n"
      ],
      "execution_count": null,
      "outputs": [
        {
          "output_type": "stream",
          "name": "stdout",
          "text": [
            "papaya does not start with W\n",
            "watermelon starts with W\n"
          ]
        }
      ]
    },
    {
      "cell_type": "code",
      "metadata": {
        "id": "6_eSMxbWBXoa"
      },
      "source": [
        "# Let's try to add another fruit 'wintermelon'\n",
        "# Do you remember how to add another value to the end of the list?\n",
        "# Pop-up quiz\n",
        "fruits.append('wintermelon')"
      ],
      "execution_count": null,
      "outputs": []
    },
    {
      "cell_type": "code",
      "metadata": {
        "id": "wlliE29TwJWb",
        "colab": {
          "base_uri": "https://localhost:8080/"
        },
        "outputId": "fe5903aa-6e60-4c45-feac-c0bc447a1562"
      },
      "source": [
        "fruits"
      ],
      "execution_count": null,
      "outputs": [
        {
          "output_type": "execute_result",
          "data": {
            "text/plain": [
              "['papaya', 'watermelon', 'wragonfruit', 'banana', 'wintermelon']"
            ]
          },
          "metadata": {},
          "execution_count": 7
        }
      ]
    },
    {
      "cell_type": "code",
      "metadata": {
        "id": "o-0Jj-b_BmUw",
        "colab": {
          "base_uri": "https://localhost:8080/"
        },
        "outputId": "265d444e-f856-411b-cc83-e74f885326d5"
      },
      "source": [
        "# Now remember our question from above that if the word starts with w then print it and break out of the loop.\n",
        "for i in fruits:\n",
        "  if i.startswith('w'):\n",
        "    print(i, \"starts with W\")\n",
        "    break    # what does it do ?\n",
        "  else:\n",
        "    print(i, \"does not start with W\")\n",
        "\n",
        "# What do you think the answer will be now?\n",
        "# Pop-up quiz"
      ],
      "execution_count": null,
      "outputs": [
        {
          "output_type": "stream",
          "name": "stdout",
          "text": [
            "papaya does not start with W\n",
            "watermelon starts with W\n"
          ]
        }
      ]
    },
    {
      "cell_type": "markdown",
      "metadata": {
        "id": "nL6Nd5j0CX1G"
      },
      "source": [
        "💁‍♀️ `range(num1, num2)` is used to create a list of of numbers from num1 to num2 - 1"
      ]
    },
    {
      "cell_type": "code",
      "metadata": {
        "id": "5Q36U60MwcUm",
        "colab": {
          "base_uri": "https://localhost:8080/"
        },
        "outputId": "c5a91d7a-9a84-4dc3-a82b-dd5758a9e6af"
      },
      "source": [
        "range(0,10)"
      ],
      "execution_count": null,
      "outputs": [
        {
          "output_type": "execute_result",
          "data": {
            "text/plain": [
              "range(0, 10)"
            ]
          },
          "metadata": {},
          "execution_count": 9
        }
      ]
    },
    {
      "cell_type": "code",
      "metadata": {
        "colab": {
          "base_uri": "https://localhost:8080/"
        },
        "id": "aXjho-E-lFgT",
        "outputId": "f3645499-dc87-4f2a-9621-a1a0ac04b0ed"
      },
      "source": [
        "list(range(0,10))"
      ],
      "execution_count": null,
      "outputs": [
        {
          "output_type": "execute_result",
          "data": {
            "text/plain": [
              "[0, 1, 2, 3, 4, 5, 6, 7, 8, 9]"
            ]
          },
          "metadata": {},
          "execution_count": 10
        }
      ]
    },
    {
      "cell_type": "code",
      "metadata": {
        "id": "8jZ2LO7NCj86",
        "colab": {
          "base_uri": "https://localhost:8080/"
        },
        "outputId": "8ac83a56-a6b7-4947-ed6e-2943f6668b2e"
      },
      "source": [
        "# Let's print out all the numbers between 0 and 10 (including 10)\n",
        "for i in range(0,11):\n",
        "  print(i)"
      ],
      "execution_count": null,
      "outputs": [
        {
          "output_type": "stream",
          "name": "stdout",
          "text": [
            "0\n",
            "1\n",
            "2\n",
            "3\n",
            "4\n",
            "5\n",
            "6\n",
            "7\n",
            "8\n",
            "9\n",
            "10\n"
          ]
        }
      ]
    },
    {
      "cell_type": "code",
      "metadata": {
        "id": "4zj50YS2D0D_",
        "colab": {
          "base_uri": "https://localhost:8080/"
        },
        "outputId": "98958ff0-1636-4601-88b4-0bc56f591bd9"
      },
      "source": [
        "# Ok, we'll be taking it up a notch.\n",
        "# Let's calculate the sum of all the numbers between 0 and 10 (including 10)\n",
        "total = 0\n",
        "for i in range(0,11):\n",
        "  total += i\n",
        "print(\"Total:\", total)\n",
        "\n",
        "total = 0\n"
      ],
      "execution_count": null,
      "outputs": [
        {
          "output_type": "stream",
          "name": "stdout",
          "text": [
            "Total: 55\n"
          ]
        }
      ]
    },
    {
      "cell_type": "code",
      "metadata": {
        "colab": {
          "base_uri": "https://localhost:8080/"
        },
        "id": "xCjbMf1jl5-K",
        "outputId": "4eb301d1-ed5e-43ea-cddd-f2db5ddba91c"
      },
      "source": [
        "nums = []\n",
        "for i in range(0,11):\n",
        "  nums.append(i)\n",
        "print(nums)\n",
        "print(\"Total:\", sum(nums))\n",
        "\n",
        "\n",
        "\n"
      ],
      "execution_count": null,
      "outputs": [
        {
          "output_type": "stream",
          "text": [
            "[0, 1, 2, 3, 4, 5, 6, 7, 8, 9, 10]\n",
            "Total: 55\n"
          ],
          "name": "stdout"
        }
      ]
    },
    {
      "cell_type": "markdown",
      "metadata": {
        "id": "ZLKWNWF03Pcx"
      },
      "source": [
        "Let's up our game: How about printing out fruits with their index like this:\n",
        "\n",
        "**For examples:**\n",
        "```txt\n",
        "papaya is 0\n",
        "watermelon is 1\n",
        "dragonfruit is 2\n",
        "banana is 3\n",
        "wintermelon is 4\n",
        "```"
      ]
    },
    {
      "cell_type": "code",
      "metadata": {
        "colab": {
          "base_uri": "https://localhost:8080/"
        },
        "id": "lA-2D5lclwxI",
        "outputId": "4673f9b2-3835-4057-b286-f660eac951d3"
      },
      "source": [
        "fruits"
      ],
      "execution_count": null,
      "outputs": [
        {
          "output_type": "execute_result",
          "data": {
            "text/plain": [
              "['papaya', 'watermelon', 'wragonfruit', 'banana', 'wintermelon']"
            ]
          },
          "metadata": {},
          "execution_count": 13
        }
      ]
    },
    {
      "cell_type": "code",
      "metadata": {
        "colab": {
          "base_uri": "https://localhost:8080/"
        },
        "id": "trrySFtwmXEb",
        "outputId": "e9b8375b-49b6-4720-f697-50892dfa229b"
      },
      "source": [
        "list(range(len(fruits)))\n",
        "\n"
      ],
      "execution_count": null,
      "outputs": [
        {
          "output_type": "execute_result",
          "data": {
            "text/plain": [
              "[0, 1, 2, 3, 4]"
            ]
          },
          "metadata": {},
          "execution_count": 15
        }
      ]
    },
    {
      "cell_type": "code",
      "metadata": {
        "colab": {
          "base_uri": "https://localhost:8080/"
        },
        "id": "lJW_1_SOmiCo",
        "outputId": "624d141a-8059-4efa-9e6c-b88d6db0f5b6"
      },
      "source": [
        "fruits = ['papaya', 'watermelon', 'dragonfruit', 'banana', 'wintermelon']\n",
        "\n",
        "for i in range(len(fruits)):\n",
        "  print(fruits[i], \"is\", i)"
      ],
      "execution_count": null,
      "outputs": [
        {
          "output_type": "stream",
          "name": "stdout",
          "text": [
            "papaya is 0\n",
            "watermelon is 1\n",
            "dragonfruit is 2\n",
            "banana is 3\n",
            "wintermelon is 4\n"
          ]
        }
      ]
    },
    {
      "cell_type": "code",
      "metadata": {
        "id": "6EpdNZwgwneH",
        "colab": {
          "base_uri": "https://localhost:8080/"
        },
        "outputId": "50edeec4-a02f-4ccb-fcdc-4be8297cb8e4"
      },
      "source": [
        "# Let's try\n",
        "fruits = ['papaya', 'watermelon', 'dragonfruit', 'banana', 'wintermelon']\n",
        "index = 0\n",
        "\n",
        "for fruit in fruits:\n",
        "  print(f'{fruit} is {index}')\n",
        "  index = index + 1"
      ],
      "execution_count": null,
      "outputs": [
        {
          "output_type": "stream",
          "name": "stdout",
          "text": [
            "papaya is 0\n",
            "watermelon is 1\n",
            "dragonfruit is 2\n",
            "banana is 3\n",
            "wintermelon is 4\n"
          ]
        }
      ]
    },
    {
      "cell_type": "code",
      "metadata": {
        "id": "IVvv5I1fmR51"
      },
      "source": [],
      "execution_count": null,
      "outputs": []
    },
    {
      "cell_type": "markdown",
      "metadata": {
        "id": "a-2UAs3SEkae"
      },
      "source": [
        "## 🙋‍♀️ Small challenge"
      ]
    },
    {
      "cell_type": "markdown",
      "metadata": {
        "id": "3obiWipcEp3g"
      },
      "source": [
        "***CHALLENGE 1***: Write a function to return the sum of numbers which are from 0 to n (0, 1, 2, 3..., n). Make sure that your user can input their own n number.\n",
        "\n",
        "***Example input 1***\n",
        "```\n",
        "Enter your N: 3\n",
        "```\n",
        "***Example output 1***\n",
        "```\n",
        "6\n",
        "```\n",
        "***Example input 2***\n",
        "```\n",
        "Enter your N: 10\n",
        "```\n",
        "***Example output 2***\n",
        "```\n",
        "55\n",
        "```"
      ]
    },
    {
      "cell_type": "code",
      "source": [
        "number = int(input('Pls input your number : ',))\n",
        "\n",
        "total = 0\n",
        "\n",
        "for i in range(number+1):\n",
        "  total += i\n",
        "\n",
        "print(total)\n"
      ],
      "metadata": {
        "colab": {
          "base_uri": "https://localhost:8080/"
        },
        "id": "Xv5od8tqLZVE",
        "outputId": "3a5e10a1-e2ec-4f51-ae75-984e59da3c6e"
      },
      "execution_count": null,
      "outputs": [
        {
          "output_type": "stream",
          "name": "stdout",
          "text": [
            "Pls input your number : 10\n",
            "55\n"
          ]
        }
      ]
    },
    {
      "cell_type": "markdown",
      "metadata": {
        "id": "HyXxJiFxyUiF"
      },
      "source": [
        "***CHALLENGE 2***: Write a function to print out words having the even index and starts with character \"p\":\n",
        "\n",
        "***Example list***\n",
        "\n",
        "```python\n",
        "fruits=['papaya', 'pineapple', 'watermelon', 'dragonfruit', 'pear', 'banana', 'wintermelon', 'passion fruit', 'plum']\n",
        "```\n",
        "\n",
        "***Example output***\n",
        "```\n",
        "papaya\n",
        "pear\n",
        "plum\n",
        "```"
      ]
    },
    {
      "cell_type": "code",
      "source": [
        "fruits=['papaya', 'pineapple', 'watermelon', 'dragonfruit', 'pear', 'banana', 'wintermelon', 'passion fruit', 'plum']\n",
        "\n",
        "for i in fruits:\n",
        "\n",
        "  if i.startswith('p') and len(i)%2==0 :\n",
        "    print(i)"
      ],
      "metadata": {
        "colab": {
          "base_uri": "https://localhost:8080/"
        },
        "id": "9dmzw6-LLYVf",
        "outputId": "46dc9de1-5e9c-4dcd-fb1f-b5d84394e042"
      },
      "execution_count": null,
      "outputs": [
        {
          "output_type": "stream",
          "name": "stdout",
          "text": [
            "papaya\n",
            "pear\n",
            "plum\n"
          ]
        }
      ]
    },
    {
      "cell_type": "markdown",
      "metadata": {
        "id": "yCA4yfIh2Gkc"
      },
      "source": [
        "***CHALLENGE 3***: Write a function to print out how much you love fruits having its name longer than 9:\n",
        "\n",
        "***Example list***\n",
        "\n",
        "```python\n",
        "fruits=['papaya', 'pineapple', 'watermelon', 'dragonfruit', 'pear', 'banana', 'wintermelon', 'passion fruit', 'plum']\n",
        "```\n",
        "\n",
        "***Example output***\n",
        "```\n",
        "I love watermelon dragonfruit wintermelon passion fruit\n",
        "```"
      ]
    },
    {
      "cell_type": "code",
      "source": [
        "fruits=['papaya', 'pineapple', 'watermelon', 'dragonfruit', 'pear', 'banana', 'wintermelon', 'passion fruit', 'plum']\n",
        "\n",
        "love='I love '\n",
        "\n",
        "for i in fruits:\n",
        "  if len(i)>9:\n",
        "    love += i + ' '\n",
        "\n",
        "print(love)"
      ],
      "metadata": {
        "colab": {
          "base_uri": "https://localhost:8080/"
        },
        "id": "G0krdGXULVNT",
        "outputId": "6e6717fa-2d93-4b79-fbbc-2de166f0fb8d"
      },
      "execution_count": null,
      "outputs": [
        {
          "output_type": "stream",
          "name": "stdout",
          "text": [
            "I love watermelon dragonfruit wintermelon passion fruit \n"
          ]
        }
      ]
    },
    {
      "cell_type": "markdown",
      "metadata": {
        "id": "q3KTIAkRIVAu"
      },
      "source": [
        "***CHALLENGE 4*** GUESS THE PRICE\n",
        "\n",
        "- To start one round, machine will generate a random product price from 10.000 to 100.000 VND (always rounded to thousand: 10K, 40K, 60K)\n",
        "- User is going to input one price.\n",
        "- If their price is lower, message them to raise their guess price.\n",
        "- If their price is higher, message them to lower their guess price.\n",
        "- If they guess it right, say \"Bingo\" and stop the game.\n",
        "- If after 5 rounds, they still can't get it. Say \"GAME OVER\".\n",
        "\n"
      ]
    },
    {
      "cell_type": "code",
      "metadata": {
        "id": "_7Lg_U7QH-my",
        "colab": {
          "base_uri": "https://localhost:8080/"
        },
        "outputId": "d74f124b-92f0-4596-86dd-3630612ed148"
      },
      "source": [
        "import random\n",
        "\n",
        "price = random.randint(1, 10) * 10000\n",
        "\n",
        "max_times = 5\n",
        "\n",
        "flag = False\n",
        "\n",
        "#to limit number of rounds of a loop\n",
        "for _ in range(max_times):\n",
        "  u_guess=int(input('Pls insert your guess price : '),)\n",
        "\n",
        "  if price > u_guess:\n",
        "    print('Pls raise your guess price')\n",
        "  elif price < u_guess:\n",
        "    print('Pls lower your guess price')\n",
        "  else :\n",
        "    print('Price is ',price)\n",
        "    print('Bingo !')\n",
        "    flag= True\n",
        "    break\n",
        "\n",
        "if flag == False:\n",
        "  print('Price is ',price)\n",
        "  print('GAME OVER !')\n",
        "\n"
      ],
      "execution_count": null,
      "outputs": [
        {
          "output_type": "stream",
          "name": "stdout",
          "text": [
            "Pls insert your guess price : 70000\n",
            "Pls raise your guess price\n",
            "Pls insert your guess price : 90000\n",
            "Price is  90000\n",
            "Bingo !\n"
          ]
        }
      ]
    }
  ]
}