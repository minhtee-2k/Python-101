{
  "nbformat": 4,
  "nbformat_minor": 0,
  "metadata": {
    "colab": {
      "provenance": []
    },
    "kernelspec": {
      "name": "python3",
      "display_name": "Python 3"
    },
    "language_info": {
      "name": "python"
    }
  },
  "cells": [
    {
      "cell_type": "code",
      "metadata": {
        "id": "rcA5f7OezRSP"
      },
      "source": [
        "# Let's import our REGEX library\n",
        "import re"
      ],
      "execution_count": 1,
      "outputs": []
    },
    {
      "cell_type": "markdown",
      "metadata": {
        "id": "UJNo5TIA-D6c"
      },
      "source": [
        "# HINTS\n",
        "The following table lists a few of these characters that are commonly useful:\n",
        "\n",
        "|Character classes||Quantifiers & Alternation||\n",
        "|--- |--- |--- |--- |\n",
        "|.|any character except newline|a* a+ a?|0 or more a, 1 or more a, 0 or 1 a|\n",
        "|\\w \\d \\s|word, digit, whitespace|a{5} a{2,}|exactly five, two or more|\n",
        "|\\W \\D \\S|not word, digit, whitespace|a{1,3}|between one & three|\n",
        "|[abc]|any of a, b, or c|a+? a{2,}?|match as few as possible (non-greedy)|\n",
        "|[^abc]|not a, b, or c|(cat\\|dog)|match 'cat' or 'dog'|\n",
        "|[a-g]|character between a & g|||\n",
        "|**Anchors**||**Escaped characters**||\n",
        "|^abc$|start / end of the string|\\. \\* \\\\|\\ is used to escape special chars. \\* matches *|\n",
        "|\\b|word boundary|\\t \\n \\r|tab, linefeed, carriage return|\n",
        "\n",
        "\n",
        "- \\w (word character) matches any single letter, number or underscore (same as [a-zA-Z0-9_] )\n",
        "\n",
        "\n",
        "| Character | Description | Example |\n",
        "|------------|-----------|------------|\n",
        "| ? | Match zero or one repetitions of preceding |  \"ab?\" matches \"a\" or \"ab\" |\n",
        "| * | Match zero or more repetitions of preceding | \"ab*\" matches \"a\", \"ab\", \"abb\", \"abbb\"... |\n",
        "| + | Match one or more repetitions of preceding |  \"ab+\" matches \"ab\", \"abb\", \"abbb\"... but not \"a\" |\n",
        "| {n} | Match n repetitions of preceding | \"ab{2}\" matches \"abb\" |\n",
        "| {m,n} | Match between m and n repetitions of preceding |  \"ab{2,3}\" matches \"abb\" or \"abbb\" |"
      ]
    },
    {
      "cell_type": "markdown",
      "metadata": {
        "id": "rrteZHsyjgHi"
      },
      "source": [
        "# Challenge 1: Phone number verification\n",
        "\n",
        "Situation: Your Vietnamese clients ask you to create a program that will help verify if the phone number format that was input by the customers is correct or not. The phone number has to follow these formats:\n",
        "- 0123456789\n",
        "- 0123 456 789\n",
        "- 0123-456-789\n",
        "- 0123.456.789\n",
        "- +84123456789\n",
        "- +84 123456789\n",
        "- +84 123 456 789\n"
      ]
    },
    {
      "cell_type": "code",
      "metadata": {
        "id": "47icnImKkuMq"
      },
      "source": [
        "def check_phone_number(phone_number):\n",
        "    \"\"\"\n",
        "    Function to check whether an input phone number is valid\n",
        "    phone_number: phone number input, type: str\n",
        "    \"\"\"\n",
        "    return True\n",
        "    # Your code here\n",
        "\n"
      ],
      "execution_count": null,
      "outputs": []
    },
    {
      "cell_type": "markdown",
      "metadata": {
        "id": "ecf2LVGnvckW"
      },
      "source": [
        "Your function should return True if a phone number is valid, otherwise False"
      ]
    },
    {
      "cell_type": "code",
      "metadata": {
        "id": "5KteIg2Bvlm3"
      },
      "source": [
        "# example\n",
        "check_phone_number('0123456789') # return True\n",
        "check_phone_number('012a456789') # return False\n",
        "check_phone_number('01234567890') # return False"
      ],
      "execution_count": null,
      "outputs": []
    },
    {
      "cell_type": "markdown",
      "metadata": {
        "id": "RIGKSGbGz7eb"
      },
      "source": [
        "# Challenge 2: Email Verification\n",
        "\n",
        "Situation: When you're creating a new account using your email or when you have to fill in the form that requires an email account name, have you ever seen a message that tell you that the name of email address is not valid? It's time for us to apply what we learn about REGEX today to recreate that.\n",
        "\n",
        "Check for the email to see if it's valid or not using these requirements:\n",
        "\n",
        "It must the follow the rule: ``<Part 1>``@``<Part 2>``.``<Part 3>``\n",
        "- Part 1 (the recipient name): There should only be numbers, letters, period, hyphen (``-``) and underscore (``_``). The first character must be a letter. An underscore, period, or hyphen must be followed by one or more letter or number.\n",
        "- Part 2: There should only be letters and numbers.\n",
        "- Part 3: Must contain at least two letters\n",
        "\n",
        "Example of valid email address:\n",
        "- abc123@def.xyz\n",
        "- a_b_c@def.xyz\n",
        "- a-b.c@123.xy\n",
        "- ...\n",
        "\n",
        "Example of invalid email address (non-exhaustive)\n",
        "- 123@def.xyz\n",
        "- a--b@def.xyz\n",
        "- abcdef_@def.xyz\n",
        "- abc@def.ghi.xyz\n",
        "- ..."
      ]
    },
    {
      "cell_type": "code",
      "metadata": {
        "id": "nlo0UAus24fs"
      },
      "source": [
        "def check_email(email):\n",
        "    \"\"\"\n",
        "    Function to check whether an input phone number is valid\n",
        "    email: email input, type: str\n",
        "    \"\"\"\n",
        "    # Your code here\n",
        "    return True\n",
        "\n"
      ],
      "execution_count": null,
      "outputs": []
    },
    {
      "cell_type": "markdown",
      "metadata": {
        "id": "QVw51pk5wwDB"
      },
      "source": [
        "# 🥶 Challenge 3: Password pattern matching (Bonus)\n",
        "\n",
        "Situation: Have you ever seen one of those messages when trying to create an account on your favorite site, saying: “Your password must have at least 8 characters, at least an upper case letter, an lowercase letter, a number and probably a symbol so you make sure you’ll never remember it in the future”. Let's try to create something similar to that. :D\n",
        "\n",
        "The password has to follow these rules:\n",
        "1. Have a length of at least 6 characters\n",
        "2. Must contain at least 1 uppercase letter, 1 lower case letter and 1 number.\n",
        "3. Can contain only these special characters: ``_``, ``!``, ``-``\n",
        "\n"
      ]
    },
    {
      "cell_type": "code",
      "metadata": {
        "id": "gkjZ2IsbsnMh"
      },
      "source": [
        "# Your code here\n",
        "def check_password(password):\n",
        "    \"\"\"\n",
        "    Function to check whether an input phone number is valid\n",
        "    password: password input, type: str\n",
        "    \"\"\"\n",
        "    # Your code here\n",
        "    return True"
      ],
      "execution_count": null,
      "outputs": []
    }
  ]
}