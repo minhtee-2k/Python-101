{
  "nbformat": 4,
  "nbformat_minor": 0,
  "metadata": {
    "colab": {
      "provenance": [],
      "collapsed_sections": [
        "-_ZD-SrMeW5n"
      ]
    },
    "kernelspec": {
      "name": "python3",
      "display_name": "Python 3"
    },
    "accelerator": "GPU"
  },
  "cells": [
    {
      "cell_type": "markdown",
      "metadata": {
        "id": "FEmuZe4W528q"
      },
      "source": [
        "# Intermediate Python\n"
      ]
    },
    {
      "cell_type": "markdown",
      "metadata": {
        "id": "hHosW21M6YPu"
      },
      "source": [
        "## Randomness"
      ]
    },
    {
      "cell_type": "markdown",
      "metadata": {
        "id": "fKjt_PhJDzAu"
      },
      "source": [
        "### ``random.random``\n",
        "- Return the next random floating point number in the range [0.0, 1.0)."
      ]
    },
    {
      "cell_type": "code",
      "metadata": {
        "id": "DvQrHFLvFGB8"
      },
      "source": [
        "import random"
      ],
      "execution_count": null,
      "outputs": []
    },
    {
      "cell_type": "code",
      "metadata": {
        "id": "HCiZm7cUikUW"
      },
      "source": [
        "print(random.random())"
      ],
      "execution_count": null,
      "outputs": []
    },
    {
      "cell_type": "code",
      "metadata": {
        "id": "p8CkgjVRvktT"
      },
      "source": [
        "import random\n",
        "for _ in range(5):\n",
        "    print(random.random())"
      ],
      "execution_count": null,
      "outputs": []
    },
    {
      "cell_type": "markdown",
      "metadata": {
        "id": "mVwCNwHNGbyr"
      },
      "source": [
        "If you want to get reproducible results:"
      ]
    },
    {
      "cell_type": "code",
      "metadata": {
        "id": "g20DK4p-GV7L"
      },
      "source": [
        "random.seed(42)         # set the seed to 10. This ensures we get the same results every time\n",
        "print(random.random())\n"
      ],
      "execution_count": null,
      "outputs": []
    },
    {
      "cell_type": "code",
      "metadata": {
        "id": "gs1PBVC7MLQG"
      },
      "source": [
        "random.seed(10)         # reset the seed to 10\n",
        "print(random.random())  # same result again"
      ],
      "execution_count": null,
      "outputs": []
    },
    {
      "cell_type": "markdown",
      "metadata": {
        "id": "SDA1FczQD3tm"
      },
      "source": [
        "### ``random.randrange``\n",
        "```\n",
        "random.randrange(stop)\n",
        "random.randrange(start, stop[, step])\n",
        "```\n",
        "- Return a randomly selected element from ``range(start, stop, step)``."
      ]
    },
    {
      "cell_type": "code",
      "metadata": {
        "id": "R-39-gnWGqrc"
      },
      "source": [
        "print(random.randrange(10))    # choose randomly from range(10) = [0, 1, ..., 9]"
      ],
      "execution_count": null,
      "outputs": []
    },
    {
      "cell_type": "code",
      "metadata": {
        "id": "zHByK0x-Eqjt"
      },
      "source": [
        "print(random.randrange(3, 6))  # choose randomly from range(3, 6) = [3, 4, 5]"
      ],
      "execution_count": null,
      "outputs": []
    },
    {
      "cell_type": "markdown",
      "metadata": {
        "id": "8qUUnrHxFfYZ"
      },
      "source": [
        "### ``random.shuffle``"
      ]
    },
    {
      "cell_type": "markdown",
      "metadata": {
        "id": "7hYaytEWFPTe"
      },
      "source": [
        "``random.shuffle(x[, random])``\n",
        "Shuffle the sequence x in place.\n",
        "- The optional argument random is a 0-argument function returning a random float in [0.0, 1.0); by default, this is the function random()."
      ]
    },
    {
      "cell_type": "code",
      "metadata": {
        "id": "BXZJDq6kGtOS"
      },
      "source": [
        "seq_shuffle = [1, 2, 3, 4, 5, 6, 7, 8, 9, 10]\n",
        "random.shuffle(seq_shuffle)\n",
        "print(seq_shuffle)"
      ],
      "execution_count": null,
      "outputs": []
    },
    {
      "cell_type": "markdown",
      "metadata": {
        "id": "6lB0tjhTGj08"
      },
      "source": [
        "###  ``random.choice(seq)``\n",
        "- Return a random element from the non-empty sequence seq."
      ]
    },
    {
      "cell_type": "code",
      "metadata": {
        "id": "2PbeoqYfGv2o"
      },
      "source": [
        "my_instructor = random.choice([\"Chinh\", \"Quan\", \"Nhan\",\"Ai\"])\n",
        "my_instructor"
      ],
      "execution_count": null,
      "outputs": []
    },
    {
      "cell_type": "markdown",
      "metadata": {
        "id": "d2n4Pn-7GxLg"
      },
      "source": [
        "### ``random.sample(population, k, *, counts=None)``\n",
        "- Return a k length list of unique elements chosen from the population sequence or set. Used for random sampling without replacement."
      ]
    },
    {
      "cell_type": "code",
      "metadata": {
        "id": "CVnv54dOG4RD"
      },
      "source": [
        "lottery_numbers = range(10)"
      ],
      "execution_count": null,
      "outputs": []
    },
    {
      "cell_type": "code",
      "metadata": {
        "id": "4VqVGZuWHMs-"
      },
      "source": [
        "winning_numbers = random.sample(lottery_numbers, 5)\n",
        "winning_numbers"
      ],
      "execution_count": null,
      "outputs": []
    },
    {
      "cell_type": "code",
      "metadata": {
        "id": "lbAZ5pt2HWvq"
      },
      "source": [
        "# Question: What should happen if we do this?\n",
        "winning_numbers = random.sample(range(10), 11)\n",
        "winning_numbers"
      ],
      "execution_count": null,
      "outputs": []
    },
    {
      "cell_type": "markdown",
      "metadata": {
        "id": "7DtgABsl6kVP"
      },
      "source": [
        "## Zip\n",
        "\n",
        "The zip function transforms multiple iterables into a single iterable of tuples of corresponding function:"
      ]
    },
    {
      "cell_type": "markdown",
      "metadata": {
        "id": "ALLCsO-qKSX7"
      },
      "source": [
        "<img src=\"https://miro.medium.com/max/1200/1*rzvEG0LqZBSfa1rJgNOJrQ.png\" width=400>"
      ]
    },
    {
      "cell_type": "code",
      "metadata": {
        "id": "8x7tBnXbeykP"
      },
      "source": [
        "# these two list lengths are the same\n",
        "list1 = ['a', 'b', 'c','d','e']\n",
        "list2 = [1, 2, 3, 4, 5 ]\n",
        "# This is what we want\n",
        "# [(a,1),(b,2),(c,3),(d,4),(e,5)]\n",
        "\n",
        "# Question: can you write a for loop to do this\n",
        "\n"
      ],
      "execution_count": null,
      "outputs": []
    },
    {
      "cell_type": "code",
      "metadata": {
        "id": "nfEt3jGP6rDe"
      },
      "source": [
        "list1 = ['a', 'b', 'c','d','e']\n",
        "list2 = [1, 2, 3, 4, 5 ]"
      ],
      "execution_count": null,
      "outputs": []
    },
    {
      "cell_type": "code",
      "metadata": {
        "id": "scbcRoEDRSAW"
      },
      "source": [
        "tmp = zip(list1,list2)\n",
        "tmp"
      ],
      "execution_count": null,
      "outputs": []
    },
    {
      "cell_type": "markdown",
      "metadata": {
        "id": "zDMLJSmKR_dp"
      },
      "source": [
        "In a sense, zip is a generator, and it only generates value upon request"
      ]
    },
    {
      "cell_type": "code",
      "metadata": {
        "id": "HusnegdaRTXL"
      },
      "source": [
        "next(tmp)"
      ],
      "execution_count": null,
      "outputs": []
    },
    {
      "cell_type": "code",
      "metadata": {
        "id": "AmMBpBxvRRQ0"
      },
      "source": [
        "for pair in zip(list1, list2):\n",
        "    print(pair)"
      ],
      "execution_count": null,
      "outputs": []
    },
    {
      "cell_type": "code",
      "metadata": {
        "id": "W68TdJSKQtUM"
      },
      "source": [
        "list(zip(list1,list2))"
      ],
      "execution_count": null,
      "outputs": []
    },
    {
      "cell_type": "code",
      "metadata": {
        "id": "wDj0WkVxPdGp"
      },
      "source": [
        "X=[1, 2, 5, 0.5] # years of experience\n",
        "y=[500, 1000, 2000, 100] # salary\n",
        "\n",
        "for pair in zip(X,y):\n",
        "  years = pair[0]\n",
        "  salary = pair[1]\n",
        "  print(f'This guy has {years} years of experience and he/she is paid {salary} dollars')"
      ],
      "execution_count": null,
      "outputs": []
    },
    {
      "cell_type": "markdown",
      "metadata": {
        "id": "929-FeDVHHjR"
      },
      "source": [
        "If the lists are different lengths, zip stops as soon as the first list ends."
      ]
    },
    {
      "cell_type": "code",
      "metadata": {
        "id": "STXs59iNQWuK"
      },
      "source": [
        "X=[1, 2, 5, 0.5] # years of experience\n",
        "y=[500, 1000, 2000, 100,10000000] # salary\n",
        "\n",
        "for pair in zip(X,y):\n",
        "  years = pair[0]\n",
        "  salary = pair[1]\n",
        "  print(f'This guy has {years} years of experience and he/she is paid {salary} dollars')"
      ],
      "execution_count": null,
      "outputs": []
    },
    {
      "cell_type": "markdown",
      "metadata": {
        "id": "1vuhVcJrQizj"
      },
      "source": [
        "Zip will be convenient when you counter situation like this"
      ]
    },
    {
      "cell_type": "code",
      "metadata": {
        "id": "MOvZ3eHhxkJi"
      },
      "source": [
        "list1 = ['a', 1, True]\n",
        "list2 = ['b', 2, False]\n",
        "list3 = ['c', 3, True]\n",
        "\n",
        "tmp = [pack for pack in zip(list1, list2,list3)]\n",
        "print(tmp)"
      ],
      "execution_count": null,
      "outputs": []
    },
    {
      "cell_type": "code",
      "metadata": {
        "id": "T9e52eOWSM0p"
      },
      "source": [
        "list_of_word,list_of_number,list_of_bool = zip(list1,list2,list3)"
      ],
      "execution_count": null,
      "outputs": []
    },
    {
      "cell_type": "code",
      "metadata": {
        "id": "duj3W8cJSorY"
      },
      "source": [
        "list_of_word"
      ],
      "execution_count": null,
      "outputs": []
    },
    {
      "cell_type": "code",
      "metadata": {
        "id": "q_mqGnlJSpRj"
      },
      "source": [
        "list_of_number"
      ],
      "execution_count": null,
      "outputs": []
    },
    {
      "cell_type": "code",
      "metadata": {
        "id": "dS8ms1S9S5UC"
      },
      "source": [
        "list_of_bool"
      ],
      "execution_count": null,
      "outputs": []
    },
    {
      "cell_type": "code",
      "metadata": {
        "id": "Zz31O8M_Vtlb"
      },
      "source": [
        "# Question: what should be the output of this\n",
        "for i in zip(list_of_word,list_of_number,list_of_bool):\n",
        "    print(i)"
      ],
      "execution_count": null,
      "outputs": []
    },
    {
      "cell_type": "markdown",
      "metadata": {
        "id": "2VG0MuFzIU2Q"
      },
      "source": [
        "## Unpack + Arguments and Keyword arguments"
      ]
    },
    {
      "cell_type": "markdown",
      "metadata": {
        "id": "Vpw5GXMfeSoI"
      },
      "source": [
        "### Unpack"
      ]
    },
    {
      "cell_type": "markdown",
      "metadata": {
        "id": "GIcHRQyQKGbv"
      },
      "source": [
        "The asterisk (*) performs argument unpacking, which uses the elements of a list as individual arguments to zip"
      ]
    },
    {
      "cell_type": "code",
      "metadata": {
        "id": "QPKLu_x_ZLEQ"
      },
      "source": [
        "list_of_obj = [['a', 1, True], ['b', 2, False], ['c', 3, True],['d',4,True]]"
      ],
      "execution_count": null,
      "outputs": []
    },
    {
      "cell_type": "markdown",
      "metadata": {
        "id": "Ba78JZwaZVNH"
      },
      "source": [
        "How can we use zip on this list_of_obj to extract each pair"
      ]
    },
    {
      "cell_type": "code",
      "metadata": {
        "id": "Ps2ZDiwoZYYg"
      },
      "source": [
        "for i in zip(list_of_obj[0],list_of_obj[1],list_of_obj[2],list_of_obj[3]):\n",
        "    print(i)"
      ],
      "execution_count": null,
      "outputs": []
    },
    {
      "cell_type": "code",
      "metadata": {
        "id": "NHceFmEnUNvK"
      },
      "source": [
        "zip(<first list>,<second list>,<...>)"
      ],
      "execution_count": null,
      "outputs": []
    },
    {
      "cell_type": "code",
      "metadata": {
        "id": "bSa-Cq6tZbQB"
      },
      "source": [
        "# unpacking with *\n",
        "for i in zip(*list_of_obj):\n",
        "    print(i)"
      ],
      "execution_count": null,
      "outputs": []
    },
    {
      "cell_type": "code",
      "metadata": {
        "id": "thcGbXa9qRTI"
      },
      "source": [
        "list_of_word,list_of_number,list_of_bool = zip(*list_of_obj)"
      ],
      "execution_count": null,
      "outputs": []
    },
    {
      "cell_type": "code",
      "metadata": {
        "id": "2cib0CDNUlqD"
      },
      "source": [
        "list_of_word,list_of_number,list_of_bool"
      ],
      "execution_count": null,
      "outputs": []
    },
    {
      "cell_type": "markdown",
      "metadata": {
        "id": "-_ZD-SrMeW5n"
      },
      "source": [
        "### Arguments/ Keyword Arguments (TODO: remove)"
      ]
    },
    {
      "cell_type": "markdown",
      "metadata": {
        "id": "qaSlIMn1I6df"
      },
      "source": [
        "So far, to define a function, we usually know how many inputs user will enter in advance, like 3 inputs x y z in this case!"
      ]
    },
    {
      "cell_type": "code",
      "metadata": {
        "id": "X6u2JfuQmI8u"
      },
      "source": [
        "def func1(x,y,z):\n",
        "    return x+y+z"
      ],
      "execution_count": null,
      "outputs": []
    },
    {
      "cell_type": "code",
      "metadata": {
        "id": "vxP1Zkgfed6P"
      },
      "source": [
        "func1(3,1,2)"
      ],
      "execution_count": null,
      "outputs": []
    },
    {
      "cell_type": "markdown",
      "metadata": {
        "id": "r3bAidj0IvpI"
      },
      "source": [
        "**What if we do not know how many function input in advance**, but we still want to let user to call our function as many inputs as they want!"
      ]
    },
    {
      "cell_type": "code",
      "metadata": {
        "id": "WIYuJKsQzF5c"
      },
      "source": [
        "def sum_all(*args):\n",
        "    print(args)\n",
        "    print(type(args))\n",
        "    return sum(args)\n",
        "\n",
        "tmp = sum_all(1, 2, 3,4,5,6,7,8,1,2.5,6)\n",
        "tmp"
      ],
      "execution_count": null,
      "outputs": []
    },
    {
      "cell_type": "code",
      "metadata": {
        "id": "wE4KH4nLXL-q"
      },
      "source": [
        "def sum_all(a,b): # a and b: arguments\n",
        "    return a + b"
      ],
      "execution_count": null,
      "outputs": []
    },
    {
      "cell_type": "code",
      "metadata": {
        "id": "j6T9JqAYWkvx"
      },
      "source": [
        "def sum_all(a=2,b=3): # a and b: keyword arguments (default)\n",
        "    return a+b"
      ],
      "execution_count": null,
      "outputs": []
    },
    {
      "cell_type": "code",
      "metadata": {
        "id": "XKzWw4NTWxfv"
      },
      "source": [
        "sum_all(a=4,b=5) # sum_all(4,5)"
      ],
      "execution_count": null,
      "outputs": []
    },
    {
      "cell_type": "code",
      "metadata": {
        "id": "mWoZrby6Xk5O"
      },
      "source": [
        "sum_all(a=4,b=5,c=6,d=1,e=6)"
      ],
      "execution_count": null,
      "outputs": []
    },
    {
      "cell_type": "code",
      "metadata": {
        "id": "TcM0s6p2zaHk"
      },
      "source": [
        "def big_function(*args, **kwargs):\n",
        "    print('args = ', args) # this is a tuple\n",
        "    print('kargs = ', kwargs) # this is a dictionary\n",
        "    print(\"----------------\")\n",
        "    for name in args:\n",
        "        print(f'Hi {name}')\n",
        "    for key in kwargs:\n",
        "        print(f'{key}: {kwargs[key]}')\n"
      ],
      "execution_count": null,
      "outputs": []
    },
    {
      "cell_type": "code",
      "metadata": {
        "id": "-WI5KAw3owzG"
      },
      "source": [
        "big_function('Tom','Quan','Nhan','Ai', year='1992', school='coderschool')"
      ],
      "execution_count": null,
      "outputs": []
    },
    {
      "cell_type": "markdown",
      "metadata": {
        "id": "sN0Y0ITDnHe4"
      },
      "source": [
        "```python\n",
        "'Tom','Quan','Nhan','Ai' => args = ('Tom','Quan','Nhan','Ai')\n",
        "year='1992', school='cool' => {\"year\":1992, \"school\":cool}\n",
        "```"
      ]
    },
    {
      "cell_type": "code",
      "metadata": {
        "id": "mcGfefyE1t63"
      },
      "source": [
        "big_function('Minh', 'Tom', coder=True, school=True, test=False, hihi=6)"
      ],
      "execution_count": null,
      "outputs": []
    },
    {
      "cell_type": "code",
      "metadata": {
        "id": "Rv3lQRAfgTSr"
      },
      "source": [
        "big_function(1,2,'whatever I want',coder=True, school=True, test=False, hihi=6)"
      ],
      "execution_count": null,
      "outputs": []
    },
    {
      "cell_type": "markdown",
      "metadata": {
        "id": "kqHMDBGnOTzo"
      },
      "source": [
        "## Mutable/immutable function arguments"
      ]
    },
    {
      "cell_type": "markdown",
      "metadata": {
        "id": "yDUEav9LjZHi"
      },
      "source": [
        "Question: show some examples of mutable types and immutable types in Python"
      ]
    },
    {
      "cell_type": "markdown",
      "metadata": {
        "id": "jt1QPnhc3ohE"
      },
      "source": [
        "Numbers are passed in a function which are their value!"
      ]
    },
    {
      "cell_type": "code",
      "metadata": {
        "id": "zMxnwayeKczB"
      },
      "source": [
        "original_value = 2\n",
        "\n",
        "def add_two(b):\n",
        "  b = b + 2\n",
        "  return b\n",
        "\n",
        "new_value = add_two(original_value)\n",
        "\n",
        "print(original_value)\n",
        "print(new_value)"
      ],
      "execution_count": null,
      "outputs": []
    },
    {
      "cell_type": "markdown",
      "metadata": {
        "id": "xx0xebdP5GCz"
      },
      "source": [
        "Mutable object are passed by their address value"
      ]
    },
    {
      "cell_type": "code",
      "metadata": {
        "id": "lSsffHsaKxuw"
      },
      "source": [
        "original_list = [2]\n",
        "\n",
        "def add_two(b):\n",
        "    b[0] = b[0] + 2\n",
        "    return b\n",
        "\n",
        "new_list = add_two(original_list)\n",
        "print(original_list)\n",
        "print(new_list)\n",
        "# Question: what should be the output?"
      ],
      "execution_count": null,
      "outputs": []
    },
    {
      "cell_type": "code",
      "metadata": {
        "id": "PVIwpyZM2wEI"
      },
      "source": [
        "hex(id(new_list)), hex(id(original_list))"
      ],
      "execution_count": null,
      "outputs": []
    },
    {
      "cell_type": "code",
      "metadata": {
        "id": "r-V-pDgK81Nl"
      },
      "source": [
        "original_set = {2}\n",
        "\n",
        "def add_two(b):\n",
        "    b.add(3)\n",
        "    return b\n",
        "\n",
        "new_set = add_two(original_set)\n",
        "print(original_set)\n",
        "print(new_set)"
      ],
      "execution_count": null,
      "outputs": []
    },
    {
      "cell_type": "markdown",
      "metadata": {
        "id": "cVD2W44fqbUT"
      },
      "source": [
        "To make it return a literal new object, use ``copy``, which create a new clone/copy of variable value in a memory"
      ]
    },
    {
      "cell_type": "code",
      "metadata": {
        "id": "deucIfDYqZ8w"
      },
      "source": [
        "original_list = [2]\n",
        "\n",
        "def add_two(b):\n",
        "    c=b.copy()\n",
        "    c[0] = c[0] + 2\n",
        "    return c\n",
        "\n",
        "new_list = add_two(original_list)\n",
        "print(original_list)\n",
        "print(new_list)"
      ],
      "execution_count": null,
      "outputs": []
    },
    {
      "cell_type": "code",
      "metadata": {
        "id": "hFroO4jQ3m6V"
      },
      "source": [
        "hex(id(new_list)), hex(id(original_list))"
      ],
      "execution_count": null,
      "outputs": []
    },
    {
      "cell_type": "markdown",
      "metadata": {
        "id": "KoNhFQKu_Rfj"
      },
      "source": [
        "## Map"
      ]
    },
    {
      "cell_type": "markdown",
      "metadata": {
        "id": "b71RePC3AEuB"
      },
      "source": [
        "More often than not, you want to apply a function (that is designed to work with 1 single input) on a list of values."
      ]
    },
    {
      "cell_type": "code",
      "metadata": {
        "id": "DMb-23ke_SS-"
      },
      "source": [
        "my_list = [1,2,3,4,5]\n",
        "def add_2(n):\n",
        "    return n+2\n"
      ],
      "execution_count": null,
      "outputs": []
    },
    {
      "cell_type": "code",
      "metadata": {
        "id": "cwCQ41-XeIvl"
      },
      "source": [
        "result=[]\n",
        "for i in my_list:\n",
        "  result.append(add_2(i))\n",
        "result"
      ],
      "execution_count": null,
      "outputs": []
    },
    {
      "cell_type": "code",
      "metadata": {
        "id": "xlutbyboC1fY"
      },
      "source": [
        "print(results)"
      ],
      "execution_count": null,
      "outputs": []
    },
    {
      "cell_type": "markdown",
      "metadata": {
        "id": "g-wlUdmzCzL6"
      },
      "source": [
        "How can you do that quickly without writing additional code?"
      ]
    },
    {
      "cell_type": "markdown",
      "metadata": {
        "id": "-x58wfvEAurJ"
      },
      "source": [
        "``map()`` function returns a map object(which is an iterator) of the results after applying the given function to each item of a given iterable (list, tuple etc.)\n",
        "\n",
        "- Syntax :\n",
        "\n",
        "``map(fun, iter)``\n",
        "\n",
        "- Parameters :\n",
        "\n",
        "    - fun : It is a function to which map passes each element of given iterable.\n",
        "    - iter : It is a iterable which is to be mapped."
      ]
    },
    {
      "cell_type": "code",
      "metadata": {
        "id": "zCWHJ7ehB9ho"
      },
      "source": [
        "def add_2(n):\n",
        "    return n+2\n",
        "\n",
        "# We double all numbers using map()\n",
        "numbers = [1, 2, 3, 4]\n",
        "result = map(add_2, numbers)"
      ],
      "execution_count": null,
      "outputs": []
    },
    {
      "cell_type": "code",
      "metadata": {
        "id": "2P_Azp4UDMs-"
      },
      "source": [
        "result # this is a lazy object (a sort of generator); it only generates value upon request"
      ],
      "execution_count": null,
      "outputs": []
    },
    {
      "cell_type": "code",
      "metadata": {
        "id": "wq_Qqb7MDZcd"
      },
      "source": [
        "# next(result)"
      ],
      "execution_count": null,
      "outputs": []
    },
    {
      "cell_type": "code",
      "metadata": {
        "id": "TMxfUviKfqHi"
      },
      "source": [
        "for i in range(2):\n",
        "    print(next(result))"
      ],
      "execution_count": null,
      "outputs": []
    },
    {
      "cell_type": "code",
      "metadata": {
        "id": "VhEs7Gt9DUEH"
      },
      "source": [
        "list(result)"
      ],
      "execution_count": null,
      "outputs": []
    },
    {
      "cell_type": "markdown",
      "metadata": {
        "id": "d0gjqMZrDnsq"
      },
      "source": [
        "Question: Using map() function and len() function create a list that's consisted of lengths of each element in the first list."
      ]
    },
    {
      "cell_type": "code",
      "metadata": {
        "id": "JIl8IUh5DpBd"
      },
      "source": [
        "list_of_string=[\"Alpine\", \"Avalanche\", \"Powder\", \"Snowflake\", \"Summit\"]"
      ],
      "execution_count": null,
      "outputs": []
    },
    {
      "cell_type": "code",
      "metadata": {
        "id": "KzdadZ4UgsQj"
      },
      "source": [],
      "execution_count": null,
      "outputs": []
    },
    {
      "cell_type": "markdown",
      "metadata": {
        "id": "bleXbTThDsNq"
      },
      "source": [
        "# Lambda"
      ]
    },
    {
      "cell_type": "markdown",
      "metadata": {
        "id": "5QzZgKjjpaG-"
      },
      "source": [
        "In a nutshell, lambda function python is just like a normal function, except that it is shorter to define (its definition is just 1 line of code) and **it returns value without the *return* clause**"
      ]
    },
    {
      "cell_type": "code",
      "metadata": {
        "id": "vkB_Gu2tpmIn"
      },
      "source": [
        "# consider this function\n",
        "\n",
        "def add_2(n):\n",
        "    return n+2"
      ],
      "execution_count": null,
      "outputs": []
    },
    {
      "cell_type": "code",
      "metadata": {
        "colab": {
          "base_uri": "https://localhost:8080/"
        },
        "id": "o14EuTI7prxf",
        "outputId": "db2eaf9e-7b6c-44c0-a56b-18913107c867"
      },
      "source": [
        "lambda x: x+2"
      ],
      "execution_count": null,
      "outputs": [
        {
          "output_type": "execute_result",
          "data": {
            "text/plain": [
              "<function __main__.<lambda>>"
            ]
          },
          "metadata": {
            "tags": []
          },
          "execution_count": 3
        }
      ]
    },
    {
      "cell_type": "code",
      "metadata": {
        "id": "Jamfzqohp8VL"
      },
      "source": [
        "lambda_add2 = lambda x: x+2\n",
        "# In this case, x is the input argument of this lambda function"
      ],
      "execution_count": null,
      "outputs": []
    },
    {
      "cell_type": "code",
      "metadata": {
        "colab": {
          "base_uri": "https://localhost:8080/"
        },
        "id": "7yJCPOlsp9ww",
        "outputId": "48452aaa-c365-4d5d-cbc7-525dfaf24caf"
      },
      "source": [
        "lambda_add2(2)"
      ],
      "execution_count": null,
      "outputs": [
        {
          "output_type": "execute_result",
          "data": {
            "text/plain": [
              "4"
            ]
          },
          "metadata": {
            "tags": []
          },
          "execution_count": 7
        }
      ]
    },
    {
      "cell_type": "markdown",
      "metadata": {
        "id": "7MFFuX4zqFdU"
      },
      "source": [
        "You can create a lambda function with more input arguments"
      ]
    },
    {
      "cell_type": "code",
      "metadata": {
        "id": "okd6dEimqH8l"
      },
      "source": [
        "get_name = lambda fname,lname: fname + ' ' + lname"
      ],
      "execution_count": 1,
      "outputs": []
    },
    {
      "cell_type": "code",
      "metadata": {
        "colab": {
          "base_uri": "https://localhost:8080/",
          "height": 35
        },
        "id": "GKHZpT3kqX8P",
        "outputId": "2a4fcf7d-88af-4e24-99aa-52d3e5e29586"
      },
      "source": [
        "get_name('Tri','Nguyen')"
      ],
      "execution_count": 2,
      "outputs": [
        {
          "output_type": "execute_result",
          "data": {
            "text/plain": [
              "'Tri Nguyen'"
            ],
            "application/vnd.google.colaboratory.intrinsic+json": {
              "type": "string"
            }
          },
          "metadata": {},
          "execution_count": 2
        }
      ]
    },
    {
      "cell_type": "markdown",
      "metadata": {
        "id": "ETzGpsBEq2IV"
      },
      "source": [
        "Of course, you can set default parameters in lambda function"
      ]
    },
    {
      "cell_type": "code",
      "metadata": {
        "id": "fdaNL4yvq5FS"
      },
      "source": [
        "get_name = lambda fname,lname='Nguyen': fname + ' ' + lname"
      ],
      "execution_count": 3,
      "outputs": []
    },
    {
      "cell_type": "code",
      "metadata": {
        "colab": {
          "base_uri": "https://localhost:8080/",
          "height": 35
        },
        "id": "sX9wA_Uvq6ul",
        "outputId": "0ade74cd-77ce-47a1-dc17-89a797ff5ddf"
      },
      "source": [
        "get_name('Tri')"
      ],
      "execution_count": 4,
      "outputs": [
        {
          "output_type": "execute_result",
          "data": {
            "text/plain": [
              "'Tri Nguyen'"
            ],
            "application/vnd.google.colaboratory.intrinsic+json": {
              "type": "string"
            }
          },
          "metadata": {},
          "execution_count": 4
        }
      ]
    },
    {
      "cell_type": "markdown",
      "metadata": {
        "id": "QJLy8KIHrFJN"
      },
      "source": [
        "Or no arguments"
      ]
    },
    {
      "cell_type": "code",
      "metadata": {
        "id": "jhTyKOYbrJJr"
      },
      "source": [
        "get_hello = lambda : 'hello'"
      ],
      "execution_count": null,
      "outputs": []
    },
    {
      "cell_type": "code",
      "metadata": {
        "colab": {
          "base_uri": "https://localhost:8080/",
          "height": 35
        },
        "id": "RTrcLIXNrMwJ",
        "outputId": "9529dc4d-9de8-468c-dfde-7222a7b6ec1a"
      },
      "source": [
        "get_hello()"
      ],
      "execution_count": null,
      "outputs": [
        {
          "output_type": "execute_result",
          "data": {
            "application/vnd.google.colaboratory.intrinsic+json": {
              "type": "string"
            },
            "text/plain": [
              "'hello'"
            ]
          },
          "metadata": {
            "tags": []
          },
          "execution_count": 14
        }
      ]
    },
    {
      "cell_type": "markdown",
      "metadata": {
        "id": "NwcGIJnarlNv"
      },
      "source": [
        "The most used case of **lambda** is when you want to **quickly define a function for a specific task** and there's very little chance that you are going to use it again. You will see lambda again when you learn **pandas**"
      ]
    },
    {
      "cell_type": "code",
      "metadata": {
        "id": "FSZEYEZXr4ob"
      },
      "source": [
        "numbers = [1, 2, 3, 4]\n",
        "result = map(lambda x: x+2, numbers)"
      ],
      "execution_count": null,
      "outputs": []
    },
    {
      "cell_type": "code",
      "metadata": {
        "colab": {
          "base_uri": "https://localhost:8080/"
        },
        "id": "LezO0EqUr7Iv",
        "outputId": "da499f5a-fa0a-49bb-e233-f38cc3122384"
      },
      "source": [
        "list(result)"
      ],
      "execution_count": null,
      "outputs": [
        {
          "output_type": "execute_result",
          "data": {
            "text/plain": [
              "[3, 4, 5, 6]"
            ]
          },
          "metadata": {
            "tags": []
          },
          "execution_count": 16
        }
      ]
    }
  ]
}