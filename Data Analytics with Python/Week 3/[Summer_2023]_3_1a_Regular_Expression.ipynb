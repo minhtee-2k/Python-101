{
  "nbformat": 4,
  "nbformat_minor": 0,
  "metadata": {
    "colab": {
      "provenance": []
    },
    "kernelspec": {
      "display_name": "Python 3",
      "name": "python3"
    }
  },
  "cells": [
    {
      "cell_type": "markdown",
      "metadata": {
        "id": "lIYdn1woOS1n"
      },
      "source": [
        "# Regular Expression"
      ]
    },
    {
      "cell_type": "markdown",
      "metadata": {
        "id": "d7xZPEnLsnYz"
      },
      "source": [
        "Regular Expressions, often shortened as regex, are a sequence of characters used to extract or check whether a **pattern exists in a given text (string) or not**.\n",
        "\n",
        "They are used at the server side to validate the format of email addresses or passwords during registration, used for parsing text data files to find, replace, or delete certain string, etc."
      ]
    },
    {
      "cell_type": "markdown",
      "metadata": {
        "id": "k0Zg2e7Osuy_"
      },
      "source": [
        "Very common use case of regular expression\n",
        "- Password validation\n",
        "- Email validation\n",
        "- Valid date format\n",
        "- Empty string validation\n",
        "- Phone number/Credit card number validation\n",
        "- ...\n",
        "\n",
        "\n",
        "![](https://imgs.xkcd.com/comics/regular_expressions.png)\n"
      ]
    },
    {
      "cell_type": "markdown",
      "metadata": {
        "id": "ju1R24vIuW0B"
      },
      "source": [
        "\n",
        "In conclusion: Regular expression helps in manipulating textual data, which is often a prerequisite for **data science projects involving text mining**."
      ]
    },
    {
      "cell_type": "markdown",
      "metadata": {
        "id": "6Zl7Qyd3y3pe"
      },
      "source": [
        "# Python ``re`` module"
      ]
    },
    {
      "cell_type": "markdown",
      "metadata": {
        "id": "3IU-rZfvwhEB"
      },
      "source": [
        "The **re library** in Python provides several functions that make it a skill worth mastering. You will see some of them closely in this tutorial."
      ]
    },
    {
      "cell_type": "markdown",
      "metadata": {
        "id": "r4shUmu2GjEb"
      },
      "source": [
        "### re.search"
      ]
    },
    {
      "cell_type": "markdown",
      "metadata": {
        "id": "-sOrMDk33OnP"
      },
      "source": [
        "* **`re.search(pattern, string)`**\n",
        "Scan through string looking for the first location where the regular expression\n",
        "pattern produces a match, and return a corresponding **match object**. Return None if\n",
        "no position in the string matches the pattern\n"
      ]
    },
    {
      "cell_type": "code",
      "metadata": {
        "id": "lNmuU_NkzHOi"
      },
      "source": [
        "import re"
      ],
      "execution_count": 2,
      "outputs": []
    },
    {
      "cell_type": "code",
      "metadata": {
        "colab": {
          "base_uri": "https://localhost:8080/"
        },
        "id": "bzK8N0uS31KQ",
        "outputId": "6ede029a-0794-4409-de7f-0fd9b8f1f3af"
      },
      "source": [
        "pattern = r'Cookie'\n",
        "\n",
        "sequence = 'In this store we sell cookie'\n",
        "\n",
        "match_obj = re.search(pattern, sequence)\n",
        "print(match_obj)\n"
      ],
      "execution_count": 9,
      "outputs": [
        {
          "output_type": "stream",
          "name": "stdout",
          "text": [
            "None\n"
          ]
        }
      ]
    },
    {
      "cell_type": "code",
      "metadata": {
        "colab": {
          "base_uri": "https://localhost:8080/"
        },
        "id": "A7lqtsQ80PY9",
        "outputId": "693d58a2-e8d8-42c3-e20e-01932dc1f642"
      },
      "source": [
        "pattern = r'cookie'\n",
        "sequence = 'In this Cookie store we sell cookie'\n",
        "match_obj = re.search(pattern, sequence)\n",
        "print(match_obj)"
      ],
      "execution_count": 11,
      "outputs": [
        {
          "output_type": "stream",
          "name": "stdout",
          "text": [
            "<re.Match object; span=(29, 35), match='cookie'>\n"
          ]
        }
      ]
    },
    {
      "cell_type": "markdown",
      "metadata": {
        "id": "o8HbCMFMo6N0"
      },
      "source": [
        "Call **.group()** from the **match object** returns the **part of the string** where there was a match"
      ]
    },
    {
      "cell_type": "code",
      "metadata": {
        "colab": {
          "base_uri": "https://localhost:8080/",
          "height": 35
        },
        "id": "0ekc_oXa0i1b",
        "outputId": "e7ec4e58-cd0d-455a-cd23-1d60a5ff561d"
      },
      "source": [
        "match_obj.group()"
      ],
      "execution_count": 12,
      "outputs": [
        {
          "output_type": "execute_result",
          "data": {
            "text/plain": [
              "'cookie'"
            ],
            "application/vnd.google.colaboratory.intrinsic+json": {
              "type": "string"
            }
          },
          "metadata": {},
          "execution_count": 12
        }
      ]
    },
    {
      "cell_type": "markdown",
      "metadata": {
        "id": "KlAT_gQyoHS5"
      },
      "source": [
        "**.span()** returns a tuple containing the start and end positions of the match."
      ]
    },
    {
      "cell_type": "code",
      "metadata": {
        "colab": {
          "base_uri": "https://localhost:8080/"
        },
        "id": "9K8eH8zRo0_Q",
        "outputId": "9974f37e-bc40-40df-9dab-1defa8340ed9"
      },
      "source": [
        "match_obj.span()"
      ],
      "execution_count": 13,
      "outputs": [
        {
          "output_type": "execute_result",
          "data": {
            "text/plain": [
              "(29, 35)"
            ]
          },
          "metadata": {},
          "execution_count": 13
        }
      ]
    },
    {
      "cell_type": "markdown",
      "metadata": {
        "id": "zEz2cJyk1NoW"
      },
      "source": [
        "What is ``r`` at the start of the pattern Cookie?\n",
        "This is called a **raw string literal**. It changes how the string literal is interpreted. To prevent [special characters](https://www.w3schools.com/python/gloss_python_escape_characters.asp) from being interpreted as special characters, you should use the ``r`` prefix."
      ]
    },
    {
      "cell_type": "code",
      "metadata": {
        "colab": {
          "base_uri": "https://localhost:8080/"
        },
        "id": "2XnkM0SW1U9P",
        "outputId": "5ee9c71f-c483-470d-83c6-de077a3f0577"
      },
      "source": [
        "pattern='A word\\tAnother word\\nA new line'\n",
        "print(pattern)"
      ],
      "execution_count": 16,
      "outputs": [
        {
          "output_type": "stream",
          "name": "stdout",
          "text": [
            "A word\tAnother word\n",
            "A new line\n"
          ]
        }
      ]
    },
    {
      "cell_type": "code",
      "metadata": {
        "colab": {
          "base_uri": "https://localhost:8080/"
        },
        "id": "MwY6EmXL_pRz",
        "outputId": "a94c3b3f-3e77-40eb-9ecd-8796561e2259"
      },
      "source": [
        "pattern=r'A word\\tAnother word\\nA new line'\n",
        "print(pattern)"
      ],
      "execution_count": 17,
      "outputs": [
        {
          "output_type": "stream",
          "name": "stdout",
          "text": [
            "A word\\tAnother word\\nA new line\n"
          ]
        }
      ]
    },
    {
      "cell_type": "markdown",
      "metadata": {
        "id": "QaQ1fUGF2NJ-"
      },
      "source": [
        "# Wild card characters"
      ]
    },
    {
      "cell_type": "markdown",
      "metadata": {
        "id": "QAqhntKb2SHF"
      },
      "source": [
        "The following table lists a few of these characters that are commonly useful:\n",
        "\n",
        "|Character classes||Quantifiers & Alternation||\n",
        "|--- |--- |--- |--- |\n",
        "|.|any character except newline|a* a+ a?|0 or more a / 1 or more a / 0 or 1 a|\n",
        "|\\w \\d \\s|word / digit / whitespace|a{5} a{2,}|exactly five, two or more|\n",
        "|\\W \\D \\S|not word / not digit / not whitespace|a{1,3}|between one & three|\n",
        "|[abc]|any of a, b, or c|a+? a{2,}?|match as few as possible (non-greedy)|\n",
        "|[^abc]|not a, b, or c|(cat\\|dog)|match 'cat' or 'dog'|\n",
        "|[a-g]|character between a & g|||\n",
        "|**Anchors**||**Escaped characters**||\n",
        "|^abc$|start / end of the string|\\. \\* \\\\|\\ is used to escape special chars. \\* matches *|\n",
        "|\\b|word boundary|\\t \\n \\r|tab, linefeed, carriage return|\n",
        "\n",
        "\n",
        "\n",
        "| Character | Description | Example |\n",
        "|------------|-----------|------------|\n",
        "| ? | Match zero or one repetitions of preceding |  \"ab?\" matches \"a\" or \"ab\" |\n",
        "| * | Match zero or more repetitions of preceding | \"ab*\" matches \"a\", \"ab\", \"abb\", \"abbb\"... |\n",
        "| + | Match one or more repetitions of preceding |  \"ab+\" matches \"ab\", \"abb\", \"abbb\"... but not \"a\" |\n",
        "| {n} | Match n repetitions of preceding | \"ab{2}\" matches \"abb\" |\n",
        "| {m,n} | Match between m and n repetitions of preceding |  \"ab{2,3}\" matches \"abb\" or \"abbb\" |\n",
        "\n",
        "\n",
        "**Note**: \\w (word character) matches any single letter, number or underscore (same as [a-zA-Z0-9_] )\n"
      ]
    },
    {
      "cell_type": "markdown",
      "metadata": {
        "id": "vnV7mvzQ4nhz"
      },
      "source": [
        "# Use case: Phone number validation (US)\n"
      ]
    },
    {
      "cell_type": "markdown",
      "metadata": {
        "id": "iS0e_o3daZ8l"
      },
      "source": [
        "## Read a text file in Python"
      ]
    },
    {
      "cell_type": "code",
      "metadata": {
        "id": "IH4f_o0ZdS-j"
      },
      "source": [
        "!wget -q -c https://raw.githubusercontent.com/anhquan0412/dataset/main/sample_text.txt"
      ],
      "execution_count": 18,
      "outputs": []
    },
    {
      "cell_type": "markdown",
      "source": [
        "The '**!**' is commonly used in Jupyter Notebook or JupyterLab environments to indicate that the command should be executed in the system shell or command-line interface, rather than being interpreted as Python code.\n",
        "\n",
        "**wget**: retrieve files from the web using HTTP, HTTPS, or FTP protocols.\n",
        "\n",
        "**-q**: This option stands for \"quiet\" and tells wget to operate in silent mode, suppressing any unnecessary output or progress indicators.\n",
        "\n",
        "**-c**: This option stands for \"continue\" and instructs wget to resume interrupted downloads, allowing it to pick up from where it left off if the file is partially downloaded or if the file already exists locally.\n"
      ],
      "metadata": {
        "id": "GVvq7I40BSea"
      }
    },
    {
      "cell_type": "markdown",
      "metadata": {
        "id": "5xtku9bre1ki"
      },
      "source": [
        "How can you read a text file line by line?"
      ]
    },
    {
      "cell_type": "markdown",
      "metadata": {
        "id": "IAJzxNzbfA8B"
      },
      "source": [
        "1. Using file readlines"
      ]
    },
    {
      "cell_type": "code",
      "metadata": {
        "colab": {
          "base_uri": "https://localhost:8080/"
        },
        "id": "zj9kaOk3dW2N",
        "outputId": "b1a1455f-b705-4132-f7d9-b008dc1af77e"
      },
      "source": [
        "with open('sample_text.txt') as f:\n",
        "    sequences = f.readlines()\n",
        "\n",
        "print(sequences)"
      ],
      "execution_count": 19,
      "outputs": [
        {
          "output_type": "stream",
          "name": "stdout",
          "text": [
            "['This is my phone number 2816837760.\\n', 'I am at 123 Main street, NY 10010, phone number is 2816837760, but I have an alternative: 2811234567.\\n', 'This is another phone format: 281-683-7760.\\n']\n"
          ]
        }
      ]
    },
    {
      "cell_type": "code",
      "metadata": {
        "colab": {
          "base_uri": "https://localhost:8080/"
        },
        "id": "UkQ1q7sgeZRZ",
        "outputId": "c994445f-6c3e-4d63-d3b1-481c7abe23a1"
      },
      "source": [
        "# but you have to strip the new line character\n",
        "for i in range(len(sequences)):\n",
        "    sequences[i]= sequences[i].strip()\n",
        "print(sequences)"
      ],
      "execution_count": 20,
      "outputs": [
        {
          "output_type": "stream",
          "name": "stdout",
          "text": [
            "['This is my phone number 2816837760.', 'I am at 123 Main street, NY 10010, phone number is 2816837760, but I have an alternative: 2811234567.', 'This is another phone format: 281-683-7760.']\n"
          ]
        }
      ]
    },
    {
      "cell_type": "markdown",
      "metadata": {
        "id": "r7Jf0vv-fYNA"
      },
      "source": [
        "2. Without using readlines"
      ]
    },
    {
      "cell_type": "code",
      "metadata": {
        "id": "Dayhzh7jexFn"
      },
      "source": [
        "with open('sample_text.txt') as f:\n",
        "    sequences = []\n",
        "    for line in f:\n",
        "        sequences.append(line.strip())"
      ],
      "execution_count": 21,
      "outputs": []
    },
    {
      "cell_type": "code",
      "metadata": {
        "colab": {
          "base_uri": "https://localhost:8080/"
        },
        "id": "qZw8hAkBf6VB",
        "outputId": "1bb366cb-3b18-49eb-dafe-a96f315b47ab"
      },
      "source": [
        "sequences"
      ],
      "execution_count": 22,
      "outputs": [
        {
          "output_type": "execute_result",
          "data": {
            "text/plain": [
              "['This is my phone number 2816837760.',\n",
              " 'I am at 123 Main street, NY 10010, phone number is 2816837760, but I have an alternative: 2811234567.',\n",
              " 'This is another phone format: 281-683-7760.']"
            ]
          },
          "metadata": {},
          "execution_count": 22
        }
      ]
    },
    {
      "cell_type": "markdown",
      "metadata": {
        "id": "r_V4MQVAgblL"
      },
      "source": [
        "## Design a regex pattern"
      ]
    },
    {
      "cell_type": "code",
      "metadata": {
        "id": "KoRZd4kj6TsY"
      },
      "source": [
        "pattern=r'\\d\\d\\d\\d\\d\\d\\d\\d\\d\\d'"
      ],
      "execution_count": 23,
      "outputs": []
    },
    {
      "cell_type": "code",
      "metadata": {
        "colab": {
          "base_uri": "https://localhost:8080/",
          "height": 35
        },
        "id": "2uxrYpLlCVDY",
        "outputId": "cdfffb19-1979-4c04-d839-610eb7aa08ba"
      },
      "source": [
        "sequences[0]"
      ],
      "execution_count": 24,
      "outputs": [
        {
          "output_type": "execute_result",
          "data": {
            "text/plain": [
              "'This is my phone number 2816837760.'"
            ],
            "application/vnd.google.colaboratory.intrinsic+json": {
              "type": "string"
            }
          },
          "metadata": {},
          "execution_count": 24
        }
      ]
    },
    {
      "cell_type": "code",
      "metadata": {
        "colab": {
          "base_uri": "https://localhost:8080/",
          "height": 35
        },
        "id": "j2JVgdgz6ZPM",
        "outputId": "fd3674a5-7b5d-4bcd-b099-dd9126116bec"
      },
      "source": [
        "match_obj = re.search(pattern,sequences[0])\n",
        "match_obj.group()"
      ],
      "execution_count": 25,
      "outputs": [
        {
          "output_type": "execute_result",
          "data": {
            "text/plain": [
              "'2816837760'"
            ],
            "application/vnd.google.colaboratory.intrinsic+json": {
              "type": "string"
            }
          },
          "metadata": {},
          "execution_count": 25
        }
      ]
    },
    {
      "cell_type": "code",
      "metadata": {
        "colab": {
          "base_uri": "https://localhost:8080/",
          "height": 35
        },
        "id": "O-ZhehuSCchi",
        "outputId": "77af25cc-e9ce-4143-ac6a-554d298811da"
      },
      "source": [
        "sequences[1]"
      ],
      "execution_count": 26,
      "outputs": [
        {
          "output_type": "execute_result",
          "data": {
            "text/plain": [
              "'I am at 123 Main street, NY 10010, phone number is 2816837760, but I have an alternative: 2811234567.'"
            ],
            "application/vnd.google.colaboratory.intrinsic+json": {
              "type": "string"
            }
          },
          "metadata": {},
          "execution_count": 26
        }
      ]
    },
    {
      "cell_type": "code",
      "metadata": {
        "colab": {
          "base_uri": "https://localhost:8080/",
          "height": 35
        },
        "id": "rbjZZh2i95MJ",
        "outputId": "00dea707-48be-44d6-9a25-cd6ce5be3d32"
      },
      "source": [
        "match_obj = re.search(pattern,sequences[1])\n",
        "match_obj.group()"
      ],
      "execution_count": 27,
      "outputs": [
        {
          "output_type": "execute_result",
          "data": {
            "text/plain": [
              "'2816837760'"
            ],
            "application/vnd.google.colaboratory.intrinsic+json": {
              "type": "string"
            }
          },
          "metadata": {},
          "execution_count": 27
        }
      ]
    },
    {
      "cell_type": "markdown",
      "metadata": {
        "id": "us8wp35kXMXx"
      },
      "source": [
        "Note that ```re.search``` scans through string looking for the **first matched location**"
      ]
    },
    {
      "cell_type": "markdown",
      "metadata": {
        "id": "gs8dSOrqGqZ0"
      },
      "source": [
        "## re.findfall"
      ]
    },
    {
      "cell_type": "markdown",
      "metadata": {
        "id": "vhAmXYTf-xkZ"
      },
      "source": [
        "You can use findall to return multiple matches\n",
        "\n",
        "\n",
        "**`re.findall(pattern, string)`**\n",
        "Return all **non-overlapping matches** of pattern in string, as a list of strings. The\n",
        "string is scanned **left-to-right**, and matches are returned in the order found. If one\n",
        "or more groups are present in the pattern, return a list of groups; this will be a list\n",
        "of tuples if the pattern has more than one group. Empty matches are included in the result.\n"
      ]
    },
    {
      "cell_type": "code",
      "metadata": {
        "colab": {
          "base_uri": "https://localhost:8080/"
        },
        "id": "rcVkT4QX-RGI",
        "outputId": "94aa08d4-f566-4fb8-ceab-011cbeda88b7"
      },
      "source": [
        "match_list = re.findall(pattern,sequences[1])\n",
        "match_list"
      ],
      "execution_count": 28,
      "outputs": [
        {
          "output_type": "execute_result",
          "data": {
            "text/plain": [
              "['2816837760', '2811234567']"
            ]
          },
          "metadata": {},
          "execution_count": 28
        }
      ]
    },
    {
      "cell_type": "markdown",
      "metadata": {
        "id": "rsjuVJ0B-wm5"
      },
      "source": [
        "The pattern is good but repetitive. We can write better matching pattern."
      ]
    },
    {
      "cell_type": "code",
      "metadata": {
        "id": "5FjyZKiy_WpO"
      },
      "source": [
        "pattern=r'\\d{10}'"
      ],
      "execution_count": 30,
      "outputs": []
    },
    {
      "cell_type": "code",
      "metadata": {
        "colab": {
          "base_uri": "https://localhost:8080/"
        },
        "id": "Jp2j8w3gDMar",
        "outputId": "96de5633-6ea2-4f34-fbc9-9a8e0ece9844"
      },
      "source": [
        "match_list = re.findall(pattern,sequences[0])\n",
        "match_list"
      ],
      "execution_count": 31,
      "outputs": [
        {
          "output_type": "execute_result",
          "data": {
            "text/plain": [
              "['2816837760']"
            ]
          },
          "metadata": {},
          "execution_count": 31
        }
      ]
    },
    {
      "cell_type": "code",
      "metadata": {
        "colab": {
          "base_uri": "https://localhost:8080/"
        },
        "id": "3gbeulptDNVF",
        "outputId": "baead20b-97d2-4a95-a68d-5b42a03c7678"
      },
      "source": [
        "match_list = re.findall(pattern,sequences[1])\n",
        "match_list"
      ],
      "execution_count": 32,
      "outputs": [
        {
          "output_type": "execute_result",
          "data": {
            "text/plain": [
              "['2816837760', '2811234567']"
            ]
          },
          "metadata": {},
          "execution_count": 32
        }
      ]
    },
    {
      "cell_type": "code",
      "metadata": {
        "colab": {
          "base_uri": "https://localhost:8080/",
          "height": 35
        },
        "id": "_c_j5FUnDUsw",
        "outputId": "0220b658-b038-4536-a495-4029b4cd4bc1"
      },
      "source": [
        "sequences[2]"
      ],
      "execution_count": 33,
      "outputs": [
        {
          "output_type": "execute_result",
          "data": {
            "text/plain": [
              "'This is another phone format: 281-683-7760.'"
            ],
            "application/vnd.google.colaboratory.intrinsic+json": {
              "type": "string"
            }
          },
          "metadata": {},
          "execution_count": 33
        }
      ]
    },
    {
      "cell_type": "code",
      "metadata": {
        "colab": {
          "base_uri": "https://localhost:8080/"
        },
        "id": "S9af2rN6DUJT",
        "outputId": "fcb517a7-1874-455b-c513-db4eb7fb9094"
      },
      "source": [
        "match_list = re.findall(pattern,sequences[2])\n",
        "match_list"
      ],
      "execution_count": 34,
      "outputs": [
        {
          "output_type": "execute_result",
          "data": {
            "text/plain": [
              "[]"
            ]
          },
          "metadata": {},
          "execution_count": 34
        }
      ]
    },
    {
      "cell_type": "code",
      "metadata": {
        "colab": {
          "base_uri": "https://localhost:8080/"
        },
        "id": "kG5abq_bJkLY",
        "outputId": "cf23eb84-90a4-48ec-d981-677a78bf9582"
      },
      "source": [
        "for line in sequences:\n",
        "    match_list = re.findall(pattern,line)\n",
        "    if len(match_list):\n",
        "        print(match_list)"
      ],
      "execution_count": 35,
      "outputs": [
        {
          "output_type": "stream",
          "name": "stdout",
          "text": [
            "['2816837760']\n",
            "['2816837760', '2811234567']\n"
          ]
        }
      ]
    },
    {
      "cell_type": "markdown",
      "metadata": {
        "id": "C86aZ5P6FnYK"
      },
      "source": [
        "## Group regex with parenthesis"
      ]
    },
    {
      "cell_type": "markdown",
      "metadata": {
        "id": "Gx0IVEM3GBal"
      },
      "source": [
        "You can use parenthesis to extract a sub-match (group) of a whole match. To extract this sub-match, use **.group(index)** or **.groups** syntax from **match object**"
      ]
    },
    {
      "cell_type": "code",
      "metadata": {
        "id": "2LFDmh6kGKIs"
      },
      "source": [
        "pattern=r'(\\d\\d\\d)(\\d\\d\\d)(\\d\\d\\d\\d)'"
      ],
      "execution_count": 36,
      "outputs": []
    },
    {
      "cell_type": "code",
      "metadata": {
        "colab": {
          "base_uri": "https://localhost:8080/",
          "height": 35
        },
        "id": "IXgLq_duNFgc",
        "outputId": "f624e33e-658d-4f94-c876-68854ff14a17"
      },
      "source": [
        "sequences[0]"
      ],
      "execution_count": 37,
      "outputs": [
        {
          "output_type": "execute_result",
          "data": {
            "text/plain": [
              "'This is my phone number 2816837760.'"
            ],
            "application/vnd.google.colaboratory.intrinsic+json": {
              "type": "string"
            }
          },
          "metadata": {},
          "execution_count": 37
        }
      ]
    },
    {
      "cell_type": "code",
      "metadata": {
        "colab": {
          "base_uri": "https://localhost:8080/",
          "height": 35
        },
        "id": "Xttwm3e4GPTa",
        "outputId": "a7ee9e0a-bcc0-46cb-d4ec-13e71217b505"
      },
      "source": [
        "match_obj = re.search(pattern,sequences[0])\n",
        "match_obj.group()"
      ],
      "execution_count": 38,
      "outputs": [
        {
          "output_type": "execute_result",
          "data": {
            "text/plain": [
              "'2816837760'"
            ],
            "application/vnd.google.colaboratory.intrinsic+json": {
              "type": "string"
            }
          },
          "metadata": {},
          "execution_count": 38
        }
      ]
    },
    {
      "cell_type": "code",
      "metadata": {
        "colab": {
          "base_uri": "https://localhost:8080/"
        },
        "id": "PwZ-SQnpHN4l",
        "outputId": "2205d25f-471c-4c63-f58a-9a322deaa26b"
      },
      "source": [
        "match_obj.groups()"
      ],
      "execution_count": 39,
      "outputs": [
        {
          "output_type": "execute_result",
          "data": {
            "text/plain": [
              "('281', '683', '7760')"
            ]
          },
          "metadata": {},
          "execution_count": 39
        }
      ]
    },
    {
      "cell_type": "code",
      "metadata": {
        "colab": {
          "base_uri": "https://localhost:8080/"
        },
        "id": "PXw0WPIwHtV2",
        "outputId": "51ef3363-1bd9-4610-cd18-3026050481ca"
      },
      "source": [
        "# alternative\n",
        "\n",
        "print(match_obj.group(1))\n",
        "print(match_obj.group(2))\n",
        "print(match_obj.group(3))"
      ],
      "execution_count": 42,
      "outputs": [
        {
          "output_type": "stream",
          "name": "stdout",
          "text": [
            "281\n",
            "683\n",
            "7760\n"
          ]
        }
      ]
    },
    {
      "cell_type": "markdown",
      "metadata": {
        "id": "xhCUQs6qZNkI"
      },
      "source": [
        "## Replace phone numbers"
      ]
    },
    {
      "cell_type": "markdown",
      "metadata": {
        "id": "Tx2MESyJcMGg"
      },
      "source": [
        "**`re.sub(pattern, repl, string)`**\n",
        "Return the string obtained by replacing the leftmost non-overlapping occurrences of pattern\n",
        "in string by the replacement repl. If the pattern isn’t found, string is returned unchanged."
      ]
    },
    {
      "cell_type": "code",
      "metadata": {
        "colab": {
          "base_uri": "https://localhost:8080/",
          "height": 35
        },
        "id": "fb_MAxUwKVbT",
        "outputId": "34a18556-c256-4b22-e2d5-14b6c7b7e9ec"
      },
      "source": [
        "sequences[1]"
      ],
      "execution_count": 43,
      "outputs": [
        {
          "output_type": "execute_result",
          "data": {
            "text/plain": [
              "'I am at 123 Main street, NY 10010, phone number is 2816837760, but I have an alternative: 2811234567.'"
            ],
            "application/vnd.google.colaboratory.intrinsic+json": {
              "type": "string"
            }
          },
          "metadata": {},
          "execution_count": 43
        }
      ]
    },
    {
      "cell_type": "code",
      "metadata": {
        "colab": {
          "base_uri": "https://localhost:8080/"
        },
        "id": "TxkIeU-nahix",
        "outputId": "4f53d9ff-b042-46a4-cf2c-fb43303919d6"
      },
      "source": [
        "pattern=r'\\d{10}'\n",
        "\n",
        "result = re.sub(pattern,r'REDACTED',sequences[1])\n",
        "print(result)\n"
      ],
      "execution_count": 44,
      "outputs": [
        {
          "output_type": "stream",
          "name": "stdout",
          "text": [
            "I am at 123 Main street, NY 10010, phone number is REDACTED, but I have an alternative: REDACTED.\n"
          ]
        }
      ]
    },
    {
      "cell_type": "markdown",
      "metadata": {
        "id": "vicuil5ZNmvF"
      },
      "source": [
        "You can also replace the sub-match using literal string: **\\position**\n",
        "- \\1: use group 1 to substitute\n",
        "- \\2: use group 2 to substitute\n",
        "- ...\n"
      ]
    },
    {
      "cell_type": "code",
      "metadata": {
        "colab": {
          "base_uri": "https://localhost:8080/"
        },
        "id": "z08V6jMuLhdA",
        "outputId": "118b17a3-a8a5-4fda-eb20-8b0db915d9bd"
      },
      "source": [
        "pattern=r'(\\d\\d\\d)(\\d\\d\\d)(\\d\\d\\d\\d)'\n",
        "\n",
        "result = re.sub(pattern,r'\\1',sequences[1])\n",
        "print(result)"
      ],
      "execution_count": 47,
      "outputs": [
        {
          "output_type": "stream",
          "name": "stdout",
          "text": [
            "I am at 123 Main street, NY 10010, phone number is 281, but I have an alternative: 281.\n"
          ]
        }
      ]
    },
    {
      "cell_type": "markdown",
      "metadata": {
        "id": "8L1FqU25hGaZ"
      },
      "source": [
        "# Practice time!!!"
      ]
    },
    {
      "cell_type": "markdown",
      "metadata": {
        "id": "_uXiBwtnhIyK"
      },
      "source": [
        "Regular Expression might be overwhelming as you have to remember those wildcard characters and know how to apply them to your application. That's why there are a lot of resources for you to write and test your regular expression patterns. No matter what you do, to use regular expression well, you need to **practice**!\n",
        "\n",
        "You will learn and practice regular expression using this website: [https://regexone.com/lesson/introduction_abcs](https://regexone.com/lesson/introduction_abcs)\n",
        "\n",
        "\n",
        "And here is a tool to check your regular expression pattern [https://regex101.com/](https://regex101.com/)"
      ]
    },
    {
      "cell_type": "markdown",
      "metadata": {
        "id": "_eFNDY0WppXr"
      },
      "source": [
        "If you want to read more about regex tutorial, here is a good resource: https://medium.com/factory-mind/regex-tutorial-a-simple-cheatsheet-by-examples-649dc1c3f285"
      ]
    }
  ]
}