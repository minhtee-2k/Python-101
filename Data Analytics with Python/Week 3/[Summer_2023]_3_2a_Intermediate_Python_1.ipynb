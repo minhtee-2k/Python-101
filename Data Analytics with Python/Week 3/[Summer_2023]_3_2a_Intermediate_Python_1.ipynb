{
  "nbformat": 4,
  "nbformat_minor": 0,
  "metadata": {
    "colab": {
      "provenance": []
    },
    "kernelspec": {
      "name": "python3",
      "display_name": "Python 3"
    },
    "accelerator": "GPU"
  },
  "cells": [
    {
      "cell_type": "markdown",
      "metadata": {
        "id": "FEmuZe4W528q"
      },
      "source": [
        "# Intermediate Python\n"
      ]
    },
    {
      "cell_type": "markdown",
      "metadata": {
        "id": "jYbCQvkJ6ENc"
      },
      "source": [
        "## List comprehension"
      ]
    },
    {
      "cell_type": "markdown",
      "metadata": {
        "id": "qBoCOovpljMr"
      },
      "source": [
        "What it is: a shorter way to **create a list involving for loop**"
      ]
    },
    {
      "cell_type": "code",
      "metadata": {
        "id": "Vst0wg05Jz4E",
        "colab": {
          "base_uri": "https://localhost:8080/"
        },
        "outputId": "fa422b03-4adc-4a30-aa74-c5e78b73d159"
      },
      "source": [
        "even_numbers = []\n",
        "for x in range(5): #[0,1,2,3,4]\n",
        "    if x%2 == 0:\n",
        "        even_numbers.append(x)\n",
        "print(even_numbers)"
      ],
      "execution_count": null,
      "outputs": [
        {
          "output_type": "stream",
          "name": "stdout",
          "text": [
            "[0, 2, 4]\n"
          ]
        }
      ]
    },
    {
      "cell_type": "markdown",
      "metadata": {
        "id": "7Ve_SIJWfolf"
      },
      "source": [
        "Instead of this, you can write more compact code using list comprehension. And using list comprehension is faster when it comes to constructing a list"
      ]
    },
    {
      "cell_type": "code",
      "metadata": {
        "id": "S02KleSK6HkR"
      },
      "source": [
        "even_numbers = [i for i in range(5) if i % 2 == 0]  # [0, 1, 2,3,4]"
      ],
      "execution_count": null,
      "outputs": []
    },
    {
      "cell_type": "code",
      "metadata": {
        "id": "BQsYp2JVgmnH",
        "colab": {
          "base_uri": "https://localhost:8080/"
        },
        "outputId": "c49ce5c7-3ff5-47f7-cc5f-5a56a92bf7c9"
      },
      "source": [
        "print(even_numbers)"
      ],
      "execution_count": null,
      "outputs": [
        {
          "output_type": "stream",
          "name": "stdout",
          "text": [
            "[0, 2, 4]\n"
          ]
        }
      ]
    },
    {
      "cell_type": "code",
      "metadata": {
        "id": "2GJv4ujjfG2g"
      },
      "source": [
        "squares      = [x**2 for x in range(5)]            # [0, 1, 4, 9, 16]\n",
        "even_squares = [x*x for x in even_numbers]        # [0, 4, 16]"
      ],
      "execution_count": null,
      "outputs": []
    },
    {
      "cell_type": "code",
      "metadata": {
        "id": "O7QmPKfegpis",
        "colab": {
          "base_uri": "https://localhost:8080/"
        },
        "outputId": "b42e2f5a-accb-4cbf-c356-bbb0c52ca2ad"
      },
      "source": [
        "print(squares)\n",
        "print(even_squares)"
      ],
      "execution_count": null,
      "outputs": [
        {
          "output_type": "stream",
          "name": "stdout",
          "text": [
            "[0, 1, 4, 9, 16]\n",
            "[0, 4, 16]\n"
          ]
        }
      ]
    },
    {
      "cell_type": "markdown",
      "metadata": {
        "id": "AnUWswdeD_Tg"
      },
      "source": [
        "You can use it to create dictionaries or sets too:"
      ]
    },
    {
      "cell_type": "code",
      "metadata": {
        "id": "uLenlgj7AgbV",
        "colab": {
          "base_uri": "https://localhost:8080/"
        },
        "outputId": "c64bc60c-eb59-4a2d-bdf4-ac0780ca6d17"
      },
      "source": [
        "# Create a dictionary with key is a number and value is the square of that number\n",
        "a={}\n",
        "for x in range(5):\n",
        "  a[x] = x*x\n",
        "print(a)"
      ],
      "execution_count": null,
      "outputs": [
        {
          "output_type": "stream",
          "name": "stdout",
          "text": [
            "{0: 0, 1: 1, 2: 4, 3: 9, 4: 16}\n"
          ]
        }
      ]
    },
    {
      "cell_type": "code",
      "metadata": {
        "id": "CGD6sVs8EEl8"
      },
      "source": [
        "square_dict = {x: x * x for x in range(5)}  # {0: 0, 1: 1, 2: 4, 3: 9, 4: 16}\n",
        "square_set  = {x * x for x in [-1, 1]}      # {1}"
      ],
      "execution_count": null,
      "outputs": []
    },
    {
      "cell_type": "code",
      "metadata": {
        "id": "DYYlda_uDol1",
        "colab": {
          "base_uri": "https://localhost:8080/"
        },
        "outputId": "3d79f87d-611a-453d-bba8-6362b1264fe4"
      },
      "source": [
        "square_dict"
      ],
      "execution_count": null,
      "outputs": [
        {
          "output_type": "execute_result",
          "data": {
            "text/plain": [
              "{0: 0, 1: 1, 2: 4, 3: 9, 4: 16}"
            ]
          },
          "metadata": {},
          "execution_count": 8
        }
      ]
    },
    {
      "cell_type": "code",
      "metadata": {
        "id": "of2SfJKiDqXv",
        "colab": {
          "base_uri": "https://localhost:8080/"
        },
        "outputId": "88fab6ec-0fd5-44c2-9435-244e6019d2ff"
      },
      "source": [
        "square_set"
      ],
      "execution_count": null,
      "outputs": [
        {
          "output_type": "execute_result",
          "data": {
            "text/plain": [
              "{1}"
            ]
          },
          "metadata": {},
          "execution_count": 9
        }
      ]
    },
    {
      "cell_type": "code",
      "metadata": {
        "id": "g4hUAHwxLNTD",
        "colab": {
          "base_uri": "https://localhost:8080/"
        },
        "outputId": "e931eb72-6fa8-4450-8bd3-7a3906d0263c"
      },
      "source": [
        "# Question: why does this only return a set of 2 values, but we use a for loop on a list of 4 values?\n",
        "square_set  = {x * x for x in [-5, -3, 3, 5]}\n",
        "print(square_set)"
      ],
      "execution_count": null,
      "outputs": [
        {
          "output_type": "stream",
          "name": "stdout",
          "text": [
            "{25, 9}\n"
          ]
        }
      ]
    },
    {
      "cell_type": "markdown",
      "metadata": {
        "id": "tmwDRzoAEQij"
      },
      "source": [
        "A list comprehension can include multiple fors:"
      ]
    },
    {
      "cell_type": "code",
      "metadata": {
        "id": "ajiqmjANL4JP",
        "scrolled": true,
        "colab": {
          "base_uri": "https://localhost:8080/"
        },
        "outputId": "c71f9a82-1c86-430a-fc40-ae0f15817715"
      },
      "source": [
        "pairs=[]\n",
        "for x in range(3):  #[0 1 2]\n",
        "    for y in range(3): #[0 1 2]\n",
        "        pairs.append( (x,y) )\n",
        "print(pairs)\n"
      ],
      "execution_count": null,
      "outputs": [
        {
          "output_type": "stream",
          "name": "stdout",
          "text": [
            "[(0, 0), (0, 1), (0, 2), (1, 0), (1, 1), (1, 2), (2, 0), (2, 1), (2, 2)]\n"
          ]
        }
      ]
    },
    {
      "cell_type": "code",
      "metadata": {
        "id": "AQUl4KmuEfsA",
        "colab": {
          "base_uri": "https://localhost:8080/"
        },
        "outputId": "1d7ded01-336e-453e-86a2-c7ac1e56a4df"
      },
      "source": [
        "pairs = [(x, y) for x in range(2) for y in range(3)]\n",
        "pairs"
      ],
      "execution_count": null,
      "outputs": [
        {
          "output_type": "execute_result",
          "data": {
            "text/plain": [
              "[(0, 0), (0, 1), (0, 2), (1, 0), (1, 1), (1, 2)]"
            ]
          },
          "metadata": {},
          "execution_count": 13
        }
      ]
    },
    {
      "cell_type": "code",
      "metadata": {
        "id": "dSQ3NwzD-MZB",
        "colab": {
          "base_uri": "https://localhost:8080/"
        },
        "outputId": "18dfcad5-2547-4433-fc41-e04de57f9c2c"
      },
      "source": [
        "# Sometimes you will see people try to write list comprehension like this so it's easier to read\n",
        "# However, we don't want to overuse list comprehensions, especially for long line of code\n",
        "\n",
        "pairs = [(x, y, z)\n",
        "            for x in range(2)\n",
        "                for y in range(3)\n",
        "                    for z in range(4)]\n",
        "print(pairs)"
      ],
      "execution_count": null,
      "outputs": [
        {
          "output_type": "stream",
          "name": "stdout",
          "text": [
            "[(0, 0, 0), (0, 0, 1), (0, 0, 2), (0, 0, 3), (0, 1, 0), (0, 1, 1), (0, 1, 2), (0, 1, 3), (0, 2, 0), (0, 2, 1), (0, 2, 2), (0, 2, 3), (1, 0, 0), (1, 0, 1), (1, 0, 2), (1, 0, 3), (1, 1, 0), (1, 1, 1), (1, 1, 2), (1, 1, 3), (1, 2, 0), (1, 2, 1), (1, 2, 2), (1, 2, 3)]\n"
          ]
        }
      ]
    },
    {
      "cell_type": "markdown",
      "metadata": {
        "id": "KpLx9SsWkEne"
      },
      "source": [
        "To recap about list comprehension\n",
        "- List comprehension is an elegant way to define and create lists based on existing lists.\n",
        "- List comprehension is generally more compact and faster than normal functions and loops for creating list.\n",
        "- However, we should avoid writing very long list comprehensions in one line to ensure that code is user-friendly.\n",
        "- Remember, every list comprehension can be rewritten in for loop, but every for loop can’t be rewritten in the form of list comprehension."
      ]
    },
    {
      "cell_type": "markdown",
      "metadata": {
        "id": "brMkuB3B6H9d"
      },
      "source": [
        "## Generators\n",
        "\n",
        "![alt text](https://files.realpython.com/media/Python-Generators-and-the-Yield-Keyword_Watermarked.5380262149de.jpg)\n",
        "\n",
        "A list of a billion numbers takes up a lot of memory. If you only want the elements one at a time, there’s no good reason to keep them all around.\n",
        "\n",
        "Often all we need is to iterate over the collection using for and in. In this case we can create generators, which can be iterated over just like lists but generate their values lazily on demand.\n",
        "\n",
        "\n"
      ]
    },
    {
      "cell_type": "markdown",
      "metadata": {
        "id": "v6d81CXNwb62"
      },
      "source": [
        "Imagine you are running a sandwich shop, and you tend to serve as many sandwiches as possible. You really don't know how many customers you will have"
      ]
    },
    {
      "cell_type": "code",
      "metadata": {
        "id": "u1YHxQC-nHaT",
        "colab": {
          "base_uri": "https://localhost:8080/",
          "height": 35
        },
        "outputId": "43fc6d94-f470-4d61-9172-42cf7141a72c"
      },
      "source": [
        "# normal list\n",
        "tmp = ['Sandwich 1', 'Sandwich 2', 'Sandwich 3', 'Sandwich 4', 'Sandwich 5']\n",
        "tmp[4]"
      ],
      "execution_count": null,
      "outputs": [
        {
          "output_type": "execute_result",
          "data": {
            "text/plain": [
              "'Sandwich 5'"
            ],
            "application/vnd.google.colaboratory.intrinsic+json": {
              "type": "string"
            }
          },
          "metadata": {},
          "execution_count": 16
        }
      ]
    },
    {
      "cell_type": "markdown",
      "metadata": {
        "id": "5QIHrfGEnHaf"
      },
      "source": [
        "One way to create generators is with functions and the yield operator:"
      ]
    },
    {
      "cell_type": "markdown",
      "metadata": {
        "id": "RFLGLGgJvahv"
      },
      "source": [
        "![](https://miro.medium.com/max/1400/1*7X8rtWOiz5RKENZ_vugmKg.png)"
      ]
    },
    {
      "cell_type": "code",
      "metadata": {
        "id": "_qgge7H86Tdx"
      },
      "source": [
        "def generate_sandwich():\n",
        "    i = 1\n",
        "    # An Infinite loop to generate squares\n",
        "    while True:\n",
        "        sandwich_name = 'Sandwich ' + str(i) # define the number/object that you want to create\n",
        "        yield sandwich_name   # every 'yield' produces a value, then return it\n",
        "        i += 1 # Next execution resumes from this point"
      ],
      "execution_count": null,
      "outputs": []
    },
    {
      "cell_type": "code",
      "metadata": {
        "id": "vY-qSOTSNQaQ"
      },
      "source": [
        "my_store = generate_sandwich()"
      ],
      "execution_count": null,
      "outputs": []
    },
    {
      "cell_type": "code",
      "metadata": {
        "id": "SEB8ULS6Hfr9",
        "colab": {
          "base_uri": "https://localhost:8080/"
        },
        "outputId": "761501a7-5be8-4b20-e939-22ee5a3fa9e3"
      },
      "source": [
        "type(my_store)"
      ],
      "execution_count": null,
      "outputs": [
        {
          "output_type": "execute_result",
          "data": {
            "text/plain": [
              "generator"
            ]
          },
          "metadata": {},
          "execution_count": 19
        }
      ]
    },
    {
      "cell_type": "code",
      "metadata": {
        "id": "0IzCivJznHa5",
        "colab": {
          "base_uri": "https://localhost:8080/",
          "height": 35
        },
        "outputId": "2878095a-7665-4cfa-d8dd-2b0ad129c948"
      },
      "source": [
        "next(my_store)"
      ],
      "execution_count": null,
      "outputs": [
        {
          "output_type": "execute_result",
          "data": {
            "text/plain": [
              "'Sandwich 1'"
            ],
            "application/vnd.google.colaboratory.intrinsic+json": {
              "type": "string"
            }
          },
          "metadata": {},
          "execution_count": 20
        }
      ]
    },
    {
      "cell_type": "code",
      "metadata": {
        "id": "QhOk2CUdUY0a",
        "colab": {
          "base_uri": "https://localhost:8080/",
          "height": 35
        },
        "outputId": "6d30d3f2-839f-4ac5-b90d-5bcd82f508e5"
      },
      "source": [
        "next(my_store)"
      ],
      "execution_count": null,
      "outputs": [
        {
          "output_type": "execute_result",
          "data": {
            "text/plain": [
              "'Sandwich 2'"
            ],
            "application/vnd.google.colaboratory.intrinsic+json": {
              "type": "string"
            }
          },
          "metadata": {},
          "execution_count": 21
        }
      ]
    },
    {
      "cell_type": "code",
      "metadata": {
        "id": "1Wx4GXeQH7Za",
        "colab": {
          "base_uri": "https://localhost:8080/",
          "height": 35
        },
        "outputId": "589932c6-c8c6-4bc7-9ac1-805a18b0bdf6"
      },
      "source": [
        "next(my_store)"
      ],
      "execution_count": null,
      "outputs": [
        {
          "output_type": "execute_result",
          "data": {
            "text/plain": [
              "'Sandwich 3'"
            ],
            "application/vnd.google.colaboratory.intrinsic+json": {
              "type": "string"
            }
          },
          "metadata": {},
          "execution_count": 22
        }
      ]
    },
    {
      "cell_type": "code",
      "metadata": {
        "id": "QcGr1t3YIkve",
        "colab": {
          "base_uri": "https://localhost:8080/"
        },
        "outputId": "463a12bb-fa4d-4fdf-97ac-f5194d4b1ca3"
      },
      "source": [
        "my_store"
      ],
      "execution_count": null,
      "outputs": [
        {
          "output_type": "execute_result",
          "data": {
            "text/plain": [
              "<generator object generate_sandwich at 0x7f31650b5bd0>"
            ]
          },
          "metadata": {},
          "execution_count": 23
        }
      ]
    },
    {
      "cell_type": "code",
      "metadata": {
        "id": "miTEn1QMnHbG",
        "colab": {
          "base_uri": "https://localhost:8080/",
          "height": 168
        },
        "outputId": "edb5c021-5553-4679-c547-29467c8e2dbe"
      },
      "source": [
        "my_store[3] # Question: what will this return?"
      ],
      "execution_count": null,
      "outputs": [
        {
          "output_type": "error",
          "ename": "TypeError",
          "evalue": "ignored",
          "traceback": [
            "\u001b[0;31m---------------------------------------------------------------------------\u001b[0m",
            "\u001b[0;31mTypeError\u001b[0m                                 Traceback (most recent call last)",
            "\u001b[0;32m<ipython-input-24-0a4e8262a42d>\u001b[0m in \u001b[0;36m<cell line: 1>\u001b[0;34m()\u001b[0m\n\u001b[0;32m----> 1\u001b[0;31m \u001b[0mmy_store\u001b[0m\u001b[0;34m[\u001b[0m\u001b[0;36m3\u001b[0m\u001b[0;34m]\u001b[0m \u001b[0;31m# Question: what will this return?\u001b[0m\u001b[0;34m\u001b[0m\u001b[0;34m\u001b[0m\u001b[0m\n\u001b[0m",
            "\u001b[0;31mTypeError\u001b[0m: 'generator' object is not subscriptable"
          ]
        }
      ]
    },
    {
      "cell_type": "code",
      "metadata": {
        "id": "5-7UL_oaxQnZ",
        "colab": {
          "base_uri": "https://localhost:8080/",
          "height": 35
        },
        "outputId": "ac50a2ab-db90-4b70-a70c-61f50ee23590"
      },
      "source": [
        "next(my_store)"
      ],
      "execution_count": null,
      "outputs": [
        {
          "output_type": "execute_result",
          "data": {
            "text/plain": [
              "'Sandwich 4'"
            ],
            "application/vnd.google.colaboratory.intrinsic+json": {
              "type": "string"
            }
          },
          "metadata": {},
          "execution_count": 25
        }
      ]
    },
    {
      "cell_type": "code",
      "metadata": {
        "id": "P0JKb2zsJb7j",
        "colab": {
          "base_uri": "https://localhost:8080/",
          "height": 35
        },
        "outputId": "94f7a2c9-75de-42d0-d6a7-4edd539f75b0"
      },
      "source": [
        "next(my_store)"
      ],
      "execution_count": null,
      "outputs": [
        {
          "output_type": "execute_result",
          "data": {
            "text/plain": [
              "'Sandwich 8'"
            ],
            "application/vnd.google.colaboratory.intrinsic+json": {
              "type": "string"
            }
          },
          "metadata": {},
          "execution_count": 29
        }
      ]
    },
    {
      "cell_type": "code",
      "metadata": {
        "id": "nYOxbaO4xVgt",
        "colab": {
          "base_uri": "https://localhost:8080/"
        },
        "outputId": "d3d69497-1313-4b9a-a2aa-fc956fa8c5d4"
      },
      "source": [
        "# Let's say we want to serve 20 sandwiches\n",
        "my_store = generate_sandwich()\n",
        "\n",
        "num_sandwich = 0\n",
        "for s in my_store:\n",
        "    num_sandwich+=1\n",
        "    print(f'Served {s}. Number of sandwich served so far: {num_sandwich}')\n",
        "    if num_sandwich >= 20:\n",
        "        break"
      ],
      "execution_count": null,
      "outputs": [
        {
          "output_type": "stream",
          "name": "stdout",
          "text": [
            "Served Sandwich 1. Number of sandwich served so far: 1\n",
            "Served Sandwich 2. Number of sandwich served so far: 2\n",
            "Served Sandwich 3. Number of sandwich served so far: 3\n",
            "Served Sandwich 4. Number of sandwich served so far: 4\n",
            "Served Sandwich 5. Number of sandwich served so far: 5\n",
            "Served Sandwich 6. Number of sandwich served so far: 6\n",
            "Served Sandwich 7. Number of sandwich served so far: 7\n",
            "Served Sandwich 8. Number of sandwich served so far: 8\n",
            "Served Sandwich 9. Number of sandwich served so far: 9\n",
            "Served Sandwich 10. Number of sandwich served so far: 10\n",
            "Served Sandwich 11. Number of sandwich served so far: 11\n",
            "Served Sandwich 12. Number of sandwich served so far: 12\n",
            "Served Sandwich 13. Number of sandwich served so far: 13\n",
            "Served Sandwich 14. Number of sandwich served so far: 14\n",
            "Served Sandwich 15. Number of sandwich served so far: 15\n",
            "Served Sandwich 16. Number of sandwich served so far: 16\n",
            "Served Sandwich 17. Number of sandwich served so far: 17\n",
            "Served Sandwich 18. Number of sandwich served so far: 18\n",
            "Served Sandwich 19. Number of sandwich served so far: 19\n",
            "Served Sandwich 20. Number of sandwich served so far: 20\n"
          ]
        }
      ]
    },
    {
      "cell_type": "markdown",
      "metadata": {
        "id": "VEoWSs0qHPP5"
      },
      "source": [
        "After the generator finishes generating all elements based on its definition, it cannot generate more item."
      ]
    },
    {
      "cell_type": "code",
      "metadata": {
        "id": "Ec6Op23nGa4G",
        "colab": {
          "base_uri": "https://localhost:8080/"
        },
        "outputId": "c75db1c0-3943-4f26-da8a-3f63bcd94950"
      },
      "source": [
        "# range is actually a python generator\n",
        "range(6) # only prepare to produce 6 numbers, but doesn't make a list out of it yet (lazy)"
      ],
      "execution_count": null,
      "outputs": [
        {
          "output_type": "execute_result",
          "data": {
            "text/plain": [
              "range(0, 6)"
            ]
          },
          "metadata": {},
          "execution_count": 68
        }
      ]
    },
    {
      "cell_type": "code",
      "metadata": {
        "id": "tudezJy8KvGe",
        "colab": {
          "base_uri": "https://localhost:8080/"
        },
        "outputId": "bac13c98-0de5-4b29-a9ca-8a015675ae53"
      },
      "source": [
        "a = iter(range(6))\n",
        "a"
      ],
      "execution_count": null,
      "outputs": [
        {
          "output_type": "execute_result",
          "data": {
            "text/plain": [
              "<range_iterator at 0x7f317514d830>"
            ]
          },
          "metadata": {},
          "execution_count": 37
        }
      ]
    },
    {
      "cell_type": "code",
      "metadata": {
        "id": "efP4qFsSK1Ka",
        "colab": {
          "base_uri": "https://localhost:8080/",
          "height": 168
        },
        "outputId": "9291c74f-717c-4d6b-80b0-32c6d91ead8b"
      },
      "source": [
        "next(a)"
      ],
      "execution_count": null,
      "outputs": [
        {
          "output_type": "error",
          "ename": "StopIteration",
          "evalue": "ignored",
          "traceback": [
            "\u001b[0;31m---------------------------------------------------------------------------\u001b[0m",
            "\u001b[0;31mStopIteration\u001b[0m                             Traceback (most recent call last)",
            "\u001b[0;32m<ipython-input-44-15841f3f11d4>\u001b[0m in \u001b[0;36m<cell line: 1>\u001b[0;34m()\u001b[0m\n\u001b[0;32m----> 1\u001b[0;31m \u001b[0mnext\u001b[0m\u001b[0;34m(\u001b[0m\u001b[0ma\u001b[0m\u001b[0;34m)\u001b[0m\u001b[0;34m\u001b[0m\u001b[0;34m\u001b[0m\u001b[0m\n\u001b[0m",
            "\u001b[0;31mStopIteration\u001b[0m: "
          ]
        }
      ]
    },
    {
      "cell_type": "code",
      "metadata": {
        "id": "faqtFimeNBLZ",
        "colab": {
          "base_uri": "https://localhost:8080/"
        },
        "outputId": "578adb3a-ec35-40bb-fde4-78bae639fba4"
      },
      "source": [
        "for i in range(6):\n",
        "    print(i)"
      ],
      "execution_count": null,
      "outputs": [
        {
          "output_type": "stream",
          "name": "stdout",
          "text": [
            "0\n",
            "1\n",
            "2\n",
            "3\n",
            "4\n",
            "5\n"
          ]
        }
      ]
    },
    {
      "cell_type": "markdown",
      "metadata": {
        "id": "-12aO7T4FM99"
      },
      "source": [
        "A second way to create generators is by using for comprehensions wrapped in parentheses:"
      ]
    },
    {
      "cell_type": "code",
      "metadata": {
        "id": "d08a_mz6Emdw",
        "colab": {
          "base_uri": "https://localhost:8080/"
        },
        "outputId": "a2918cf9-71e9-417c-aafe-595495281f1d"
      },
      "source": [
        "evens_below_20 = [i for i in range(20) if i % 2 == 0]\n",
        "print(evens_below_20)"
      ],
      "execution_count": null,
      "outputs": [
        {
          "output_type": "stream",
          "name": "stdout",
          "text": [
            "[0, 2, 4, 6, 8, 10, 12, 14, 16, 18]\n"
          ]
        }
      ]
    },
    {
      "cell_type": "code",
      "source": [
        "type(evens_below_20)"
      ],
      "metadata": {
        "colab": {
          "base_uri": "https://localhost:8080/"
        },
        "id": "oXVhPoLb1CWZ",
        "outputId": "fdbaaee6-54fc-4008-b09e-721fb53824c0"
      },
      "execution_count": null,
      "outputs": [
        {
          "output_type": "execute_result",
          "data": {
            "text/plain": [
              "list"
            ]
          },
          "metadata": {},
          "execution_count": 67
        }
      ]
    },
    {
      "cell_type": "code",
      "metadata": {
        "id": "6bdHj8kYLdng"
      },
      "source": [
        "evens_below_20 = {i for i in range(20) if i % 2 == 0}\n",
        "print(evens_below_20) # return a set"
      ],
      "execution_count": null,
      "outputs": []
    },
    {
      "cell_type": "code",
      "metadata": {
        "id": "y8Qorf2tLlXq",
        "colab": {
          "base_uri": "https://localhost:8080/"
        },
        "outputId": "d45e3892-2a57-42e4-cc7d-3fb40ac8da91"
      },
      "source": [
        "evens_below_20 = {i:i for i in range(20) if i % 2 == 0}\n",
        "print(evens_below_20) # return a dictionary"
      ],
      "execution_count": null,
      "outputs": [
        {
          "output_type": "stream",
          "name": "stdout",
          "text": [
            "{0: 0, 2: 2, 4: 4, 6: 6, 8: 8, 10: 10, 12: 12, 14: 14, 16: 16, 18: 18}\n"
          ]
        }
      ]
    },
    {
      "cell_type": "code",
      "metadata": {
        "id": "4k9INWeFFNhj",
        "colab": {
          "base_uri": "https://localhost:8080/"
        },
        "outputId": "e415f8af-d1cd-43ef-e2f5-64ed4681c199"
      },
      "source": [
        "evens_below_20 = (i for i in range(20) if i % 2 == 0)\n",
        "print(evens_below_20)"
      ],
      "execution_count": null,
      "outputs": [
        {
          "output_type": "stream",
          "name": "stdout",
          "text": [
            "<generator object <genexpr> at 0x7f316490f530>\n"
          ]
        }
      ]
    },
    {
      "cell_type": "code",
      "metadata": {
        "id": "PT8dhG2pLtn7",
        "colab": {
          "base_uri": "https://localhost:8080/",
          "height": 168
        },
        "outputId": "140c4717-990e-42ff-85f8-53c62c17da65"
      },
      "source": [
        "next(evens_below_20)"
      ],
      "execution_count": null,
      "outputs": [
        {
          "output_type": "error",
          "ename": "StopIteration",
          "evalue": "ignored",
          "traceback": [
            "\u001b[0;31m---------------------------------------------------------------------------\u001b[0m",
            "\u001b[0;31mStopIteration\u001b[0m                             Traceback (most recent call last)",
            "\u001b[0;32m<ipython-input-58-9fbb791cb74e>\u001b[0m in \u001b[0;36m<cell line: 1>\u001b[0;34m()\u001b[0m\n\u001b[0;32m----> 1\u001b[0;31m \u001b[0mnext\u001b[0m\u001b[0;34m(\u001b[0m\u001b[0mevens_below_20\u001b[0m\u001b[0;34m)\u001b[0m\u001b[0;34m\u001b[0m\u001b[0;34m\u001b[0m\u001b[0m\n\u001b[0m",
            "\u001b[0;31mStopIteration\u001b[0m: "
          ]
        }
      ]
    },
    {
      "cell_type": "markdown",
      "metadata": {
        "id": "qvesb3z3Fcfi"
      },
      "source": [
        "Such a “generator comprehension” doesn’t do any work until you iterate over it."
      ]
    },
    {
      "cell_type": "code",
      "metadata": {
        "id": "s2rOVoAbsaXE",
        "colab": {
          "base_uri": "https://localhost:8080/"
        },
        "outputId": "aceee9df-4a1b-4b4b-e4ba-39a8d33668ac"
      },
      "source": [
        "for i in evens_below_20: # loop in a generator\n",
        "    print(i, end=' ')"
      ],
      "execution_count": null,
      "outputs": [
        {
          "output_type": "stream",
          "name": "stdout",
          "text": [
            "0 2 4 6 8 10 12 14 16 18 "
          ]
        }
      ]
    },
    {
      "cell_type": "markdown",
      "metadata": {
        "id": "4ho7E81Qsqcj"
      },
      "source": [
        "After you consume all numbers in a generator, it won't produce anymore result\n"
      ]
    },
    {
      "cell_type": "code",
      "metadata": {
        "id": "cFYrRCTssxQL",
        "colab": {
          "base_uri": "https://localhost:8080/"
        },
        "outputId": "9ad6f0e7-0442-46b3-fc3d-999deb78daa3"
      },
      "source": [
        "for i in evens_below_20: # loop in an empty generator\n",
        "    print(i)   #nothing will print out here after we loop through everything in that evens_below_20"
      ],
      "execution_count": null,
      "outputs": [
        {
          "output_type": "stream",
          "name": "stdout",
          "text": [
            "0\n",
            "2\n",
            "4\n",
            "6\n",
            "8\n",
            "10\n",
            "12\n",
            "14\n",
            "16\n",
            "18\n"
          ]
        }
      ]
    },
    {
      "cell_type": "code",
      "metadata": {
        "id": "tcxrdCCHMTRG",
        "colab": {
          "base_uri": "https://localhost:8080/"
        },
        "outputId": "b3e604d7-a353-4f61-9cb3-82b65994b8e5"
      },
      "source": [
        "sandwich_generator = (f'Sandwich {i}' for i in range(20))\n",
        "sandwich_generator"
      ],
      "execution_count": null,
      "outputs": [
        {
          "output_type": "execute_result",
          "data": {
            "text/plain": [
              "<generator object <genexpr> at 0x7f316490f680>"
            ]
          },
          "metadata": {},
          "execution_count": 72
        }
      ]
    },
    {
      "cell_type": "code",
      "metadata": {
        "id": "6XM8em-zMf6V",
        "colab": {
          "base_uri": "https://localhost:8080/",
          "height": 35
        },
        "outputId": "15732861-58d9-4887-cbdb-bf3b84cc7484"
      },
      "source": [
        "next(sandwich_generator)"
      ],
      "execution_count": null,
      "outputs": [
        {
          "output_type": "execute_result",
          "data": {
            "text/plain": [
              "'Sandwich 4'"
            ],
            "application/vnd.google.colaboratory.intrinsic+json": {
              "type": "string"
            }
          },
          "metadata": {},
          "execution_count": 77
        }
      ]
    },
    {
      "cell_type": "code",
      "metadata": {
        "id": "qXZpJPdVMi1c",
        "colab": {
          "base_uri": "https://localhost:8080/"
        },
        "outputId": "85279b54-ab3d-4a75-c1d8-6c0394528b31"
      },
      "source": [
        "for i in sandwich_generator:\n",
        "    print(i)"
      ],
      "execution_count": null,
      "outputs": [
        {
          "output_type": "stream",
          "name": "stdout",
          "text": [
            "Sandwich 1\n",
            "Sandwich 2\n",
            "Sandwich 3\n",
            "Sandwich 4\n",
            "Sandwich 5\n",
            "Sandwich 6\n",
            "Sandwich 7\n",
            "Sandwich 8\n",
            "Sandwich 9\n",
            "Sandwich 10\n",
            "Sandwich 11\n",
            "Sandwich 12\n",
            "Sandwich 13\n",
            "Sandwich 14\n",
            "Sandwich 15\n",
            "Sandwich 16\n",
            "Sandwich 17\n",
            "Sandwich 18\n",
            "Sandwich 19\n"
          ]
        }
      ]
    },
    {
      "cell_type": "markdown",
      "metadata": {
        "id": "75qhQCdDXZHQ"
      },
      "source": [
        "## So what are Iterators?"
      ]
    },
    {
      "cell_type": "markdown",
      "metadata": {
        "id": "0adLvNugXaYb"
      },
      "source": [
        "An iterator is an object that can be iterated upon, meaning that you can traverse through all the values. Right now, you can just identify something as an iterator when you can loop through it"
      ]
    },
    {
      "cell_type": "markdown",
      "metadata": {
        "id": "YpCe_htoY1Tu"
      },
      "source": [
        "Question: Let's list all the iterators that you can think of, as of now."
      ]
    },
    {
      "cell_type": "markdown",
      "metadata": {
        "id": "EL3115DUNc2W"
      },
      "source": [
        "Generators (range), lists, tuples, dictionaries (keys and values), sets, strings, ...."
      ]
    },
    {
      "cell_type": "markdown",
      "metadata": {
        "id": "l_wZC7yRA3_1"
      },
      "source": [
        "## Enumerate"
      ]
    },
    {
      "cell_type": "markdown",
      "metadata": {
        "id": "CjDN4KJHA-SM"
      },
      "source": [
        "A python built-in function to keep count of iterations. This can be applied on any Python iterator"
      ]
    },
    {
      "cell_type": "code",
      "metadata": {
        "id": "Ki3wKsgcBFzq",
        "colab": {
          "base_uri": "https://localhost:8080/"
        },
        "outputId": "db233f0a-c397-4a64-8d6b-adad2c37c48d"
      },
      "source": [
        "# the long way to keep count\n",
        "tmp = [2,1,3,5,4]\n",
        "for i in range(len(tmp)):\n",
        "    value = tmp[i]\n",
        "    print(f'Index {i} has value {value}')"
      ],
      "execution_count": null,
      "outputs": [
        {
          "output_type": "stream",
          "name": "stdout",
          "text": [
            "Index 0 has value 2\n",
            "Index 1 has value 1\n",
            "Index 2 has value 3\n",
            "Index 3 has value 5\n",
            "Index 4 has value 4\n"
          ]
        }
      ]
    },
    {
      "cell_type": "code",
      "metadata": {
        "id": "nKaj3z8jBfNS",
        "colab": {
          "base_uri": "https://localhost:8080/"
        },
        "outputId": "a0dbe777-b488-4001-e450-6cab1f5e5771"
      },
      "source": [
        "# the short way:\n",
        "tmp = [2,1,3,5,4]\n",
        "for i,value in enumerate(tmp):\n",
        "    print(f'Index {i} has value {value}')"
      ],
      "execution_count": null,
      "outputs": [
        {
          "output_type": "stream",
          "name": "stdout",
          "text": [
            "Index 0 has value 2\n",
            "Index 1 has value 1\n",
            "Index 2 has value 3\n",
            "Index 3 has value 5\n",
            "Index 4 has value 4\n"
          ]
        }
      ]
    },
    {
      "cell_type": "markdown",
      "metadata": {
        "id": "gOrYWxVNCeOQ"
      },
      "source": [
        "You can use enumerate on a generator as well, because generator can be iterated (generator is an iterator in Python)"
      ]
    },
    {
      "cell_type": "code",
      "metadata": {
        "id": "rAPYOLuABn8G",
        "colab": {
          "base_uri": "https://localhost:8080/"
        },
        "outputId": "2bd89b6f-999d-4499-c16e-b3425a97a072"
      },
      "source": [
        "tmp = [i for i in range(1,10,2)]\n",
        "for i,value in enumerate(tmp):\n",
        "    print(f'Index {i} has value {value}')"
      ],
      "execution_count": null,
      "outputs": [
        {
          "output_type": "stream",
          "name": "stdout",
          "text": [
            "Index 0 has value 1\n",
            "Index 1 has value 3\n",
            "Index 2 has value 5\n",
            "Index 3 has value 7\n",
            "Index 4 has value 9\n"
          ]
        }
      ]
    }
  ]
}