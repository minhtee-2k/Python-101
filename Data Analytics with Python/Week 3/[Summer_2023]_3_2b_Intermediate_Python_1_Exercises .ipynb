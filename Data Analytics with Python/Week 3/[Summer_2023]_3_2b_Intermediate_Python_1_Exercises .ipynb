{
  "nbformat": 4,
  "nbformat_minor": 0,
  "metadata": {
    "colab": {
      "provenance": []
    },
    "kernelspec": {
      "name": "python3",
      "display_name": "Python 3"
    },
    "language_info": {
      "name": "python"
    }
  },
  "cells": [
    {
      "cell_type": "markdown",
      "metadata": {
        "id": "mEsgoxEHFXkS"
      },
      "source": [
        "# 🥳 Exercise 1: List Comprehensions\n",
        "\n",
        "**STATEMENT**\n",
        "\n",
        "Make a list with all the numbers from 1 - 1000 that are divisible by 7.\n"
      ]
    },
    {
      "cell_type": "code",
      "metadata": {
        "id": "Z8s8Ht5GDyPD",
        "colab": {
          "base_uri": "https://localhost:8080/"
        },
        "outputId": "32360736-9cca-48c8-d4f8-1dfedf28bca7"
      },
      "source": [
        "# Your code here\n",
        "\n",
        "numbers = [i for i in range(1001) if i % 7  == 0]\n",
        "\n",
        "print(numbers)"
      ],
      "execution_count": null,
      "outputs": [
        {
          "output_type": "stream",
          "name": "stdout",
          "text": [
            "[0, 7, 14, 21, 28, 35, 42, 49, 56, 63, 70, 77, 84, 91, 98, 105, 112, 119, 126, 133, 140, 147, 154, 161, 168, 175, 182, 189, 196, 203, 210, 217, 224, 231, 238, 245, 252, 259, 266, 273, 280, 287, 294, 301, 308, 315, 322, 329, 336, 343, 350, 357, 364, 371, 378, 385, 392, 399, 406, 413, 420, 427, 434, 441, 448, 455, 462, 469, 476, 483, 490, 497, 504, 511, 518, 525, 532, 539, 546, 553, 560, 567, 574, 581, 588, 595, 602, 609, 616, 623, 630, 637, 644, 651, 658, 665, 672, 679, 686, 693, 700, 707, 714, 721, 728, 735, 742, 749, 756, 763, 770, 777, 784, 791, 798, 805, 812, 819, 826, 833, 840, 847, 854, 861, 868, 875, 882, 889, 896, 903, 910, 917, 924, 931, 938, 945, 952, 959, 966, 973, 980, 987, 994]\n"
          ]
        }
      ]
    },
    {
      "cell_type": "markdown",
      "metadata": {
        "id": "1FupSBijImBb"
      },
      "source": [
        "# 🥳 Exercise 2: List Comprehensions\n",
        "\n",
        "**STATEMENT**\n",
        "\n",
        "Count a number of spaces in a string.\n",
        "\n",
        "_Example input_\n",
        "\n",
        "Hello how are you doing\n",
        "\n",
        "_Example output_\n",
        "\n",
        "4"
      ]
    },
    {
      "cell_type": "code",
      "metadata": {
        "id": "22hK4pV6I5Qp",
        "colab": {
          "base_uri": "https://localhost:8080/"
        },
        "outputId": "1b0dc983-fc7a-4d7e-ce1e-191cf5a90b19"
      },
      "source": [
        "# Your code here\n",
        "\n",
        "line = list(input('Enter your string : '))\n",
        "\n",
        "space = [i for i in line if i == ' ']\n",
        "\n",
        "print(len(space))"
      ],
      "execution_count": null,
      "outputs": [
        {
          "output_type": "stream",
          "name": "stdout",
          "text": [
            "Enter your string : Hello how are you doing\n",
            "4\n"
          ]
        }
      ]
    },
    {
      "cell_type": "markdown",
      "metadata": {
        "id": "0YfVrGMQI855"
      },
      "source": [
        "# 🥳 Exercise 3: List Comprehensions\n",
        "\n",
        "**STATEMENT**\n",
        "\n",
        "Remove all the vowels in the string."
      ]
    },
    {
      "cell_type": "code",
      "metadata": {
        "id": "pC-9gL1hI8eE",
        "colab": {
          "base_uri": "https://localhost:8080/"
        },
        "outputId": "e1d46ca5-127a-46b1-c05f-11a48106483e"
      },
      "source": [
        "# Your code here\n",
        "\n",
        "vowels = ['u','e','o','a','i']\n",
        "\n",
        "result = ' '.join([i for i in input('Enter your string here : ') if i not in vowels])\n",
        "\n",
        "print(result)"
      ],
      "execution_count": null,
      "outputs": [
        {
          "output_type": "stream",
          "name": "stdout",
          "text": [
            "Enter your string here : Remove all the vowels in the string\n",
            "R m v   l l   t h   v w l s   n   t h   s t r n g\n"
          ]
        }
      ]
    },
    {
      "cell_type": "markdown",
      "metadata": {
        "id": "iQpvF8P2oZBh"
      },
      "source": [
        "# 🥳 Exercise 4: Generators\n",
        "\n",
        "**STATEMENT**\n",
        "\n",
        "Create a generator function that generates all the even numbers"
      ]
    },
    {
      "cell_type": "code",
      "metadata": {
        "id": "BC2_OYLOpBwv",
        "colab": {
          "base_uri": "https://localhost:8080/"
        },
        "outputId": "1e2e5879-f0f3-4218-ef81-3a54923b87a3"
      },
      "source": [
        "# Your code here\n",
        "\n",
        "\n",
        "def even_numbers():\n",
        "  i= 0\n",
        "  while True :\n",
        "    i += 2\n",
        "    yield i\n",
        "\n",
        "result = even_numbers()\n",
        "\n",
        "next(result)\n"
      ],
      "execution_count": null,
      "outputs": [
        {
          "output_type": "execute_result",
          "data": {
            "text/plain": [
              "2"
            ]
          },
          "metadata": {},
          "execution_count": 25
        }
      ]
    },
    {
      "cell_type": "markdown",
      "metadata": {
        "id": "kTsH7Zte6ToV"
      },
      "source": [
        "# 🥳 Exercise 5: Generators\n",
        "\n",
        "**STATEMENT**\n",
        "\n",
        "Given a positive integer n, write a generator to generate all the square numbers less than n"
      ]
    },
    {
      "cell_type": "code",
      "source": [
        "# Your code here\n",
        "\n",
        "number1 = int(input('Enter your number : '))\n",
        "\n",
        "squares = [x**2 for x in range(number1 + 1)]\n",
        "\n",
        "result = []\n",
        "\n",
        "for i in squares :\n",
        "  result.append(i)\n",
        "  if i > number1:\n",
        "    result.remove(i)\n",
        "    break\n",
        "\n",
        "print(result)"
      ],
      "metadata": {
        "colab": {
          "base_uri": "https://localhost:8080/"
        },
        "id": "kwKoWc_H6V_t",
        "outputId": "60d5e4fb-c16e-4909-e6e2-c1c1fe9781bc"
      },
      "execution_count": null,
      "outputs": [
        {
          "output_type": "stream",
          "name": "stdout",
          "text": [
            "Enter your number : 20\n",
            "[0, 1, 4, 9, 16]\n"
          ]
        }
      ]
    },
    {
      "cell_type": "markdown",
      "metadata": {
        "id": "4pGFFewoLIso"
      },
      "source": [
        "# 🥶 Intermediate Exercise 1: Dictionary Comprehensions\n",
        "\n",
        "**STATEMENT**\n",
        "\n",
        "Count the length of each word in a sentence.\n",
        "\n",
        "_Example input_\n",
        "\n",
        "I have too many things to do.\n",
        "\n",
        "_Example output_\n",
        "\n",
        "``{'I':1, 'have': 4, 'too': 3, 'many': 4, 'things': 6, 'to': 2, 'do': 2}``"
      ]
    },
    {
      "cell_type": "code",
      "metadata": {
        "id": "0Jd_6Gu1Lms-",
        "colab": {
          "base_uri": "https://localhost:8080/"
        },
        "outputId": "3b235ae7-f1b6-4530-ed55-a4cb79a39a56"
      },
      "source": [
        "# Your code here\n",
        "\n",
        "line = list(input('Enter your sentence : ').strip('.').split(' '))\n",
        "\n",
        "word = []\n",
        "leng = []\n",
        "\n",
        "for i in line :\n",
        "  word.append(i)\n",
        "  leng.append(len(i))\n",
        "\n",
        "print(dict(zip(word,leng)))"
      ],
      "execution_count": null,
      "outputs": [
        {
          "output_type": "stream",
          "name": "stdout",
          "text": [
            "Enter your sentence : I have too many things to do.\n",
            "{'I': 1, 'have': 4, 'too': 3, 'many': 4, 'things': 6, 'to': 2, 'do': 2}\n"
          ]
        }
      ]
    }
  ]
}